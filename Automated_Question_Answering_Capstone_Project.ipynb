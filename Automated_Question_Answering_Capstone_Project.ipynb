{
  "nbformat": 4,
  "nbformat_minor": 0,
  "metadata": {
    "kernelspec": {
      "display_name": "Python 3",
      "language": "python",
      "name": "python3"
    },
    "language_info": {
      "codemirror_mode": {
        "name": "ipython",
        "version": 3
      },
      "file_extension": ".py",
      "mimetype": "text/x-python",
      "name": "python",
      "nbconvert_exporter": "python",
      "pygments_lexer": "ipython3",
      "version": "3.6.6"
    },
    "colab": {
      "name": "Automated Question-Answering - Capstone Project.ipynb",
      "provenance": [],
      "collapsed_sections": [
        "3ZDd7c1HfmU8",
        "zCASSXmAkfv7",
        "lUqQZ84FgEDT"
      ],
      "include_colab_link": true
    }
  },
  "cells": [
    {
      "cell_type": "markdown",
      "metadata": {
        "id": "view-in-github",
        "colab_type": "text"
      },
      "source": [
        "<a href=\"https://colab.research.google.com/github/prabirdeb/Automated-Question-Answering-System/blob/main/Automated_Question_Answering_Capstone_Project.ipynb\" target=\"_parent\"><img src=\"https://colab.research.google.com/assets/colab-badge.svg\" alt=\"Open In Colab\"/></a>"
      ]
    },
    {
      "cell_type": "markdown",
      "source": [
        "**Project: Automated Question-Answering**"
      ],
      "metadata": {
        "id": "Bp63SZWFbQec"
      }
    },
    {
      "cell_type": "markdown",
      "source": [
        "## <b> Problem Description </b>\n",
        "\n",
        "### In this project, at first our task is to create a dataset of datascience documents and then extract the topics of the documents and finally build a automated question answering model which will  retrieve the relevant document and generate the answer for the question"
      ],
      "metadata": {
        "id": "R42TYXgJbc8Q"
      }
    },
    {
      "cell_type": "markdown",
      "source": [
        "# **Exploration and Pre-processing of Data**\n",
        "\n",
        "This involves following steps to transform raw data into quality data for the deep learning model "
      ],
      "metadata": {
        "id": "b1ZCkRmTb0g7"
      }
    },
    {
      "cell_type": "markdown",
      "source": [
        "## **1. Connection with the Data**\n",
        "\n",
        "Here, the dataset is the gist of my learning experiences in Almabetter stored in an excel file.\n",
        "\n",
        "At first, we import the libraries or functions for **making our journey easy** and then **get connected** to the set of experiences."
      ],
      "metadata": {
        "id": "aI1H31mBem8_"
      }
    },
    {
      "cell_type": "code",
      "source": [
        "# Importing libraries\n",
        "import numpy as np\n",
        "import pandas as pd\n",
        "import re, nltk, spacy, gensim\n",
        "\n",
        "# Sklearn\n",
        "from sklearn.decomposition import LatentDirichletAllocation, TruncatedSVD\n",
        "from sklearn.feature_extraction.text import CountVectorizer, TfidfVectorizer\n",
        "from sklearn.model_selection import GridSearchCV\n",
        "from sklearn.model_selection import RandomizedSearchCV\n",
        "from pprint import pprint\n",
        "from sklearn.metrics.pairwise import cosine_similarity\n",
        "\n",
        "from gensim.models import Word2Vec \n",
        "import gensim.downloader as api\n",
        "\n",
        "# Plotting tools\n",
        "import matplotlib.pyplot as plt\n",
        "%matplotlib inline\n",
        "\n",
        "# Text processing\n",
        "import nltk\n",
        "nltk.download('stopwords')\n",
        "import string\n",
        "from nltk.corpus import stopwords"
      ],
      "metadata": {
        "id": "WpBTrM4bPF07",
        "colab": {
          "base_uri": "https://localhost:8080/"
        },
        "outputId": "028c1a50-221e-468e-8c13-62bf3ac25572"
      },
      "execution_count": 1,
      "outputs": [
        {
          "output_type": "stream",
          "name": "stdout",
          "text": [
            "[nltk_data] Downloading package stopwords to /root/nltk_data...\n",
            "[nltk_data]   Package stopwords is already up-to-date!\n"
          ]
        }
      ]
    },
    {
      "cell_type": "code",
      "source": [
        "# !pip install streamlit"
      ],
      "metadata": {
        "id": "EpjkmN-HXEZb"
      },
      "execution_count": 2,
      "outputs": []
    },
    {
      "cell_type": "code",
      "source": [
        "!pip install transformers"
      ],
      "metadata": {
        "colab": {
          "base_uri": "https://localhost:8080/"
        },
        "id": "zBeno8S8XatE",
        "outputId": "0d2f0505-3904-4b98-be49-71e6f2fa53f7"
      },
      "execution_count": 3,
      "outputs": [
        {
          "output_type": "stream",
          "name": "stdout",
          "text": [
            "Requirement already satisfied: transformers in /usr/local/lib/python3.7/dist-packages (4.17.0)\n",
            "Requirement already satisfied: sacremoses in /usr/local/lib/python3.7/dist-packages (from transformers) (0.0.47)\n",
            "Requirement already satisfied: regex!=2019.12.17 in /usr/local/lib/python3.7/dist-packages (from transformers) (2019.12.20)\n",
            "Requirement already satisfied: pyyaml>=5.1 in /usr/local/lib/python3.7/dist-packages (from transformers) (6.0)\n",
            "Requirement already satisfied: tqdm>=4.27 in /usr/local/lib/python3.7/dist-packages (from transformers) (4.63.0)\n",
            "Requirement already satisfied: importlib-metadata in /usr/local/lib/python3.7/dist-packages (from transformers) (4.11.2)\n",
            "Requirement already satisfied: filelock in /usr/local/lib/python3.7/dist-packages (from transformers) (3.6.0)\n",
            "Requirement already satisfied: numpy>=1.17 in /usr/local/lib/python3.7/dist-packages (from transformers) (1.21.5)\n",
            "Requirement already satisfied: tokenizers!=0.11.3,>=0.11.1 in /usr/local/lib/python3.7/dist-packages (from transformers) (0.11.6)\n",
            "Requirement already satisfied: huggingface-hub<1.0,>=0.1.0 in /usr/local/lib/python3.7/dist-packages (from transformers) (0.4.0)\n",
            "Requirement already satisfied: requests in /usr/local/lib/python3.7/dist-packages (from transformers) (2.23.0)\n",
            "Requirement already satisfied: packaging>=20.0 in /usr/local/lib/python3.7/dist-packages (from transformers) (21.3)\n",
            "Requirement already satisfied: typing-extensions>=3.7.4.3 in /usr/local/lib/python3.7/dist-packages (from huggingface-hub<1.0,>=0.1.0->transformers) (3.10.0.2)\n",
            "Requirement already satisfied: pyparsing!=3.0.5,>=2.0.2 in /usr/local/lib/python3.7/dist-packages (from packaging>=20.0->transformers) (3.0.7)\n",
            "Requirement already satisfied: zipp>=0.5 in /usr/local/lib/python3.7/dist-packages (from importlib-metadata->transformers) (3.7.0)\n",
            "Requirement already satisfied: chardet<4,>=3.0.2 in /usr/local/lib/python3.7/dist-packages (from requests->transformers) (3.0.4)\n",
            "Requirement already satisfied: certifi>=2017.4.17 in /usr/local/lib/python3.7/dist-packages (from requests->transformers) (2021.10.8)\n",
            "Requirement already satisfied: idna<3,>=2.5 in /usr/local/lib/python3.7/dist-packages (from requests->transformers) (2.10)\n",
            "Requirement already satisfied: urllib3!=1.25.0,!=1.25.1,<1.26,>=1.21.1 in /usr/local/lib/python3.7/dist-packages (from requests->transformers) (1.24.3)\n",
            "Requirement already satisfied: six in /usr/local/lib/python3.7/dist-packages (from sacremoses->transformers) (1.15.0)\n",
            "Requirement already satisfied: click in /usr/local/lib/python3.7/dist-packages (from sacremoses->transformers) (7.1.2)\n",
            "Requirement already satisfied: joblib in /usr/local/lib/python3.7/dist-packages (from sacremoses->transformers) (1.1.0)\n"
          ]
        }
      ]
    },
    {
      "cell_type": "code",
      "source": [
        "from transformers import pipeline"
      ],
      "metadata": {
        "id": "s1jJUWLEZndu"
      },
      "execution_count": 4,
      "outputs": []
    },
    {
      "cell_type": "code",
      "source": [
        "!pip install pyLDAvis"
      ],
      "metadata": {
        "colab": {
          "base_uri": "https://localhost:8080/"
        },
        "id": "R5qPSDlIrXr9",
        "outputId": "a78e1a32-cd30-439c-9e3d-bea55bd32b07"
      },
      "execution_count": 5,
      "outputs": [
        {
          "output_type": "stream",
          "name": "stdout",
          "text": [
            "Requirement already satisfied: pyLDAvis in /usr/local/lib/python3.7/dist-packages (3.3.1)\n",
            "Requirement already satisfied: jinja2 in /usr/local/lib/python3.7/dist-packages (from pyLDAvis) (2.11.3)\n",
            "Requirement already satisfied: setuptools in /usr/local/lib/python3.7/dist-packages (from pyLDAvis) (57.4.0)\n",
            "Requirement already satisfied: scipy in /usr/local/lib/python3.7/dist-packages (from pyLDAvis) (1.4.1)\n",
            "Requirement already satisfied: funcy in /usr/local/lib/python3.7/dist-packages (from pyLDAvis) (1.17)\n",
            "Requirement already satisfied: future in /usr/local/lib/python3.7/dist-packages (from pyLDAvis) (0.16.0)\n",
            "Requirement already satisfied: sklearn in /usr/local/lib/python3.7/dist-packages (from pyLDAvis) (0.0)\n",
            "Requirement already satisfied: pandas>=1.2.0 in /usr/local/lib/python3.7/dist-packages (from pyLDAvis) (1.3.5)\n",
            "Requirement already satisfied: numexpr in /usr/local/lib/python3.7/dist-packages (from pyLDAvis) (2.8.1)\n",
            "Requirement already satisfied: gensim in /usr/local/lib/python3.7/dist-packages (from pyLDAvis) (3.6.0)\n",
            "Requirement already satisfied: joblib in /usr/local/lib/python3.7/dist-packages (from pyLDAvis) (1.1.0)\n",
            "Requirement already satisfied: numpy>=1.20.0 in /usr/local/lib/python3.7/dist-packages (from pyLDAvis) (1.21.5)\n",
            "Requirement already satisfied: scikit-learn in /usr/local/lib/python3.7/dist-packages (from pyLDAvis) (1.0.2)\n",
            "Requirement already satisfied: python-dateutil>=2.7.3 in /usr/local/lib/python3.7/dist-packages (from pandas>=1.2.0->pyLDAvis) (2.8.2)\n",
            "Requirement already satisfied: pytz>=2017.3 in /usr/local/lib/python3.7/dist-packages (from pandas>=1.2.0->pyLDAvis) (2018.9)\n",
            "Requirement already satisfied: six>=1.5 in /usr/local/lib/python3.7/dist-packages (from python-dateutil>=2.7.3->pandas>=1.2.0->pyLDAvis) (1.15.0)\n",
            "Requirement already satisfied: smart-open>=1.2.1 in /usr/local/lib/python3.7/dist-packages (from gensim->pyLDAvis) (5.2.1)\n",
            "Requirement already satisfied: MarkupSafe>=0.23 in /usr/local/lib/python3.7/dist-packages (from jinja2->pyLDAvis) (2.0.1)\n",
            "Requirement already satisfied: packaging in /usr/local/lib/python3.7/dist-packages (from numexpr->pyLDAvis) (21.3)\n",
            "Requirement already satisfied: pyparsing!=3.0.5,>=2.0.2 in /usr/local/lib/python3.7/dist-packages (from packaging->numexpr->pyLDAvis) (3.0.7)\n",
            "Requirement already satisfied: threadpoolctl>=2.0.0 in /usr/local/lib/python3.7/dist-packages (from scikit-learn->pyLDAvis) (3.1.0)\n"
          ]
        }
      ]
    },
    {
      "cell_type": "code",
      "source": [
        "import pyLDAvis\n",
        "import pyLDAvis.sklearn\n",
        "\n",
        "pyLDAvis.enable_notebook()"
      ],
      "metadata": {
        "id": "q5dF5n8qw6hz",
        "colab": {
          "base_uri": "https://localhost:8080/"
        },
        "outputId": "f339dfe8-a437-4c60-f294-2abb4a3f874e"
      },
      "execution_count": 6,
      "outputs": [
        {
          "output_type": "stream",
          "name": "stderr",
          "text": [
            "/usr/local/lib/python3.7/dist-packages/past/types/oldstr.py:5: DeprecationWarning: Using or importing the ABCs from 'collections' instead of from 'collections.abc' is deprecated since Python 3.3,and in 3.9 it will stop working\n",
            "  from collections import Iterable\n"
          ]
        }
      ]
    },
    {
      "cell_type": "code",
      "source": [
        "from google.colab import drive\n",
        "drive.mount('/content/drive')"
      ],
      "metadata": {
        "colab": {
          "base_uri": "https://localhost:8080/"
        },
        "id": "Ml-27Ww0PEGb",
        "outputId": "ec0cfa1c-9c55-44b0-c433-cf7484774c7c"
      },
      "execution_count": 7,
      "outputs": [
        {
          "output_type": "stream",
          "name": "stdout",
          "text": [
            "Drive already mounted at /content/drive; to attempt to forcibly remount, call drive.mount(\"/content/drive\", force_remount=True).\n"
          ]
        }
      ]
    },
    {
      "cell_type": "code",
      "source": [
        "xls = pd.ExcelFile('/content/drive/MyDrive/Almabetter Assignments/Capstone projects/Automated Question Answering System-Prabir Debnath/data.xlsx')"
      ],
      "metadata": {
        "id": "XZD-Of2KPRU6"
      },
      "execution_count": 8,
      "outputs": []
    },
    {
      "cell_type": "code",
      "source": [
        "xls.sheet_names"
      ],
      "metadata": {
        "colab": {
          "base_uri": "https://localhost:8080/"
        },
        "id": "htkdBjgpPR9x",
        "outputId": "08908092-bd6a-4847-a3c4-69848941cf9f"
      },
      "execution_count": 9,
      "outputs": [
        {
          "output_type": "execute_result",
          "data": {
            "text/plain": [
              "['Concepts']"
            ]
          },
          "metadata": {},
          "execution_count": 9
        }
      ]
    },
    {
      "cell_type": "code",
      "source": [
        "# Reading the data as pandas dataframe\n",
        "data_science_df = pd.read_excel(xls, 'Concepts')"
      ],
      "metadata": {
        "id": "mDu-JenYPcNP"
      },
      "execution_count": 10,
      "outputs": []
    },
    {
      "cell_type": "markdown",
      "source": [
        "## **2. First Feelings of the Data**\n",
        "\n",
        "As there is a huge no. of experiences, we cannot see the whole lot of experiences and therefore we find the features on the **data head**."
      ],
      "metadata": {
        "id": "3ZDd7c1HfmU8"
      }
    },
    {
      "cell_type": "code",
      "source": [
        "data_science_df.head(2)"
      ],
      "metadata": {
        "colab": {
          "base_uri": "https://localhost:8080/",
          "height": 0
        },
        "id": "Ui0zEG09P2ID",
        "outputId": "0ee5f84a-68b3-4911-aacb-e827beb75bc1"
      },
      "execution_count": 11,
      "outputs": [
        {
          "output_type": "execute_result",
          "data": {
            "text/html": [
              "\n",
              "  <div id=\"df-5467e2e6-85c8-42eb-9a8b-9080225b29c9\">\n",
              "    <div class=\"colab-df-container\">\n",
              "      <div>\n",
              "<style scoped>\n",
              "    .dataframe tbody tr th:only-of-type {\n",
              "        vertical-align: middle;\n",
              "    }\n",
              "\n",
              "    .dataframe tbody tr th {\n",
              "        vertical-align: top;\n",
              "    }\n",
              "\n",
              "    .dataframe thead th {\n",
              "        text-align: right;\n",
              "    }\n",
              "</style>\n",
              "<table border=\"1\" class=\"dataframe\">\n",
              "  <thead>\n",
              "    <tr style=\"text-align: right;\">\n",
              "      <th></th>\n",
              "      <th>Concept-1</th>\n",
              "      <th>Concept-2</th>\n",
              "      <th>Concept-3</th>\n",
              "      <th>Concept-4</th>\n",
              "      <th>Concept-5</th>\n",
              "      <th>Concept-6</th>\n",
              "      <th>Concept-7</th>\n",
              "      <th>Concept-8</th>\n",
              "      <th>Concept-9</th>\n",
              "      <th>Concept-10</th>\n",
              "      <th>...</th>\n",
              "      <th>Concept-12</th>\n",
              "      <th>Concept-13</th>\n",
              "      <th>Concept-14</th>\n",
              "      <th>Concept-15</th>\n",
              "      <th>Concept-16</th>\n",
              "      <th>Concept-17</th>\n",
              "      <th>Concept-18</th>\n",
              "      <th>Concept-19</th>\n",
              "      <th>Concept-20</th>\n",
              "      <th>Unnamed: 20</th>\n",
              "    </tr>\n",
              "  </thead>\n",
              "  <tbody>\n",
              "    <tr>\n",
              "      <th>0</th>\n",
              "      <td>Python language was created in 1991\\n\\nLike an...</td>\n",
              "      <td>There are 32 keywords in C++ and 35 keywords i...</td>\n",
              "      <td>data types (Numeric, Boolean, String, Datetime)</td>\n",
              "      <td>Integers or whole numbers (1,2,-5,1000), Float...</td>\n",
              "      <td>Arithmatic Operation (addition[+], subtraction...</td>\n",
              "      <td>In mathematics and computer science, the floor...</td>\n",
              "      <td>Variable is the storing place in computer memo...</td>\n",
              "      <td>Variable name (must start with letter or under...</td>\n",
              "      <td>Boolean Variable (true or false)\\n\\nComparison...</td>\n",
              "      <td>Perfect number, a positive integer that is equ...</td>\n",
              "      <td>...</td>\n",
              "      <td>To get the absolute value\\n\\nabs(5.8-7.8) retu...</td>\n",
              "      <td>The del keyword in python is primarily used to...</td>\n",
              "      <td>What is the order of precedence in python?\\n\\n...</td>\n",
              "      <td>int(True) gives result 1 and int(False) gives 0</td>\n",
              "      <td>An application or app or software or model is ...</td>\n",
              "      <td>a += 2 means first add 2 with \"a\" and then sav...</td>\n",
              "      <td>Four basic answers of any question\\n\\nyes, no,...</td>\n",
              "      <td>\\nlogical resoning\\n\\nStatement: Is buying thi...</td>\n",
              "      <td>NaN</td>\n",
              "      <td>NaN</td>\n",
              "    </tr>\n",
              "    <tr>\n",
              "      <th>1</th>\n",
              "      <td>a word, a phrase, a sentence, a paragraph or a...</td>\n",
              "      <td>sequence, indexing</td>\n",
              "      <td>string' or \"string\" \\n\\ndouble quotes are used...</td>\n",
              "      <td>print('Use \\n to print a new line')</td>\n",
              "      <td>string indexing begins from 0</td>\n",
              "      <td>Grabbing the element by index \\n\\nprint(string...</td>\n",
              "      <td>String Slicing, \\n\\n[starting index:ending ind...</td>\n",
              "      <td>string[:]  If you do not specify the starting ...</td>\n",
              "      <td>slicing with step size, string[3:14:2] means f...</td>\n",
              "      <td>str' object does not support item assignment m...</td>\n",
              "      <td>...</td>\n",
              "      <td>String functions, print(), type(), len()\\n\\nor...</td>\n",
              "      <td>String methods \\n\\nstring.lower(), string.uppe...</td>\n",
              "      <td>first_name = 'Rahul'\\nlast_name = 'Modi'\\n\\nfu...</td>\n",
              "      <td>my_string = 'Albert Einstein'   \\n\\n'Albert' i...</td>\n",
              "      <td>String duplication occurs when we multiply str...</td>\n",
              "      <td>Taking user's input\\n\\ninputted_number = int(i...</td>\n",
              "      <td>\\n\\nA string can be called a safe bridge if it...</td>\n",
              "      <td>for color print\\n\\nfrom termcolor import color...</td>\n",
              "      <td>String matching\\n\\nimport re\\n pattern = re.co...</td>\n",
              "      <td>NaN</td>\n",
              "    </tr>\n",
              "  </tbody>\n",
              "</table>\n",
              "<p>2 rows × 21 columns</p>\n",
              "</div>\n",
              "      <button class=\"colab-df-convert\" onclick=\"convertToInteractive('df-5467e2e6-85c8-42eb-9a8b-9080225b29c9')\"\n",
              "              title=\"Convert this dataframe to an interactive table.\"\n",
              "              style=\"display:none;\">\n",
              "        \n",
              "  <svg xmlns=\"http://www.w3.org/2000/svg\" height=\"24px\"viewBox=\"0 0 24 24\"\n",
              "       width=\"24px\">\n",
              "    <path d=\"M0 0h24v24H0V0z\" fill=\"none\"/>\n",
              "    <path d=\"M18.56 5.44l.94 2.06.94-2.06 2.06-.94-2.06-.94-.94-2.06-.94 2.06-2.06.94zm-11 1L8.5 8.5l.94-2.06 2.06-.94-2.06-.94L8.5 2.5l-.94 2.06-2.06.94zm10 10l.94 2.06.94-2.06 2.06-.94-2.06-.94-.94-2.06-.94 2.06-2.06.94z\"/><path d=\"M17.41 7.96l-1.37-1.37c-.4-.4-.92-.59-1.43-.59-.52 0-1.04.2-1.43.59L10.3 9.45l-7.72 7.72c-.78.78-.78 2.05 0 2.83L4 21.41c.39.39.9.59 1.41.59.51 0 1.02-.2 1.41-.59l7.78-7.78 2.81-2.81c.8-.78.8-2.07 0-2.86zM5.41 20L4 18.59l7.72-7.72 1.47 1.35L5.41 20z\"/>\n",
              "  </svg>\n",
              "      </button>\n",
              "      \n",
              "  <style>\n",
              "    .colab-df-container {\n",
              "      display:flex;\n",
              "      flex-wrap:wrap;\n",
              "      gap: 12px;\n",
              "    }\n",
              "\n",
              "    .colab-df-convert {\n",
              "      background-color: #E8F0FE;\n",
              "      border: none;\n",
              "      border-radius: 50%;\n",
              "      cursor: pointer;\n",
              "      display: none;\n",
              "      fill: #1967D2;\n",
              "      height: 32px;\n",
              "      padding: 0 0 0 0;\n",
              "      width: 32px;\n",
              "    }\n",
              "\n",
              "    .colab-df-convert:hover {\n",
              "      background-color: #E2EBFA;\n",
              "      box-shadow: 0px 1px 2px rgba(60, 64, 67, 0.3), 0px 1px 3px 1px rgba(60, 64, 67, 0.15);\n",
              "      fill: #174EA6;\n",
              "    }\n",
              "\n",
              "    [theme=dark] .colab-df-convert {\n",
              "      background-color: #3B4455;\n",
              "      fill: #D2E3FC;\n",
              "    }\n",
              "\n",
              "    [theme=dark] .colab-df-convert:hover {\n",
              "      background-color: #434B5C;\n",
              "      box-shadow: 0px 1px 3px 1px rgba(0, 0, 0, 0.15);\n",
              "      filter: drop-shadow(0px 1px 2px rgba(0, 0, 0, 0.3));\n",
              "      fill: #FFFFFF;\n",
              "    }\n",
              "  </style>\n",
              "\n",
              "      <script>\n",
              "        const buttonEl =\n",
              "          document.querySelector('#df-5467e2e6-85c8-42eb-9a8b-9080225b29c9 button.colab-df-convert');\n",
              "        buttonEl.style.display =\n",
              "          google.colab.kernel.accessAllowed ? 'block' : 'none';\n",
              "\n",
              "        async function convertToInteractive(key) {\n",
              "          const element = document.querySelector('#df-5467e2e6-85c8-42eb-9a8b-9080225b29c9');\n",
              "          const dataTable =\n",
              "            await google.colab.kernel.invokeFunction('convertToInteractive',\n",
              "                                                     [key], {});\n",
              "          if (!dataTable) return;\n",
              "\n",
              "          const docLinkHtml = 'Like what you see? Visit the ' +\n",
              "            '<a target=\"_blank\" href=https://colab.research.google.com/notebooks/data_table.ipynb>data table notebook</a>'\n",
              "            + ' to learn more about interactive tables.';\n",
              "          element.innerHTML = '';\n",
              "          dataTable['output_type'] = 'display_data';\n",
              "          await google.colab.output.renderOutput(dataTable, element);\n",
              "          const docLink = document.createElement('div');\n",
              "          docLink.innerHTML = docLinkHtml;\n",
              "          element.appendChild(docLink);\n",
              "        }\n",
              "      </script>\n",
              "    </div>\n",
              "  </div>\n",
              "  "
            ],
            "text/plain": [
              "                                           Concept-1  \\\n",
              "0  Python language was created in 1991\\n\\nLike an...   \n",
              "1  a word, a phrase, a sentence, a paragraph or a...   \n",
              "\n",
              "                                           Concept-2  \\\n",
              "0  There are 32 keywords in C++ and 35 keywords i...   \n",
              "1                                 sequence, indexing   \n",
              "\n",
              "                                           Concept-3  \\\n",
              "0    data types (Numeric, Boolean, String, Datetime)   \n",
              "1  string' or \"string\" \\n\\ndouble quotes are used...   \n",
              "\n",
              "                                           Concept-4  \\\n",
              "0  Integers or whole numbers (1,2,-5,1000), Float...   \n",
              "1                print('Use \\n to print a new line')   \n",
              "\n",
              "                                           Concept-5  \\\n",
              "0  Arithmatic Operation (addition[+], subtraction...   \n",
              "1                      string indexing begins from 0   \n",
              "\n",
              "                                           Concept-6  \\\n",
              "0  In mathematics and computer science, the floor...   \n",
              "1  Grabbing the element by index \\n\\nprint(string...   \n",
              "\n",
              "                                           Concept-7  \\\n",
              "0  Variable is the storing place in computer memo...   \n",
              "1  String Slicing, \\n\\n[starting index:ending ind...   \n",
              "\n",
              "                                           Concept-8  \\\n",
              "0  Variable name (must start with letter or under...   \n",
              "1  string[:]  If you do not specify the starting ...   \n",
              "\n",
              "                                           Concept-9  \\\n",
              "0  Boolean Variable (true or false)\\n\\nComparison...   \n",
              "1  slicing with step size, string[3:14:2] means f...   \n",
              "\n",
              "                                          Concept-10  ...  \\\n",
              "0  Perfect number, a positive integer that is equ...  ...   \n",
              "1  str' object does not support item assignment m...  ...   \n",
              "\n",
              "                                          Concept-12  \\\n",
              "0  To get the absolute value\\n\\nabs(5.8-7.8) retu...   \n",
              "1  String functions, print(), type(), len()\\n\\nor...   \n",
              "\n",
              "                                          Concept-13  \\\n",
              "0  The del keyword in python is primarily used to...   \n",
              "1  String methods \\n\\nstring.lower(), string.uppe...   \n",
              "\n",
              "                                          Concept-14  \\\n",
              "0  What is the order of precedence in python?\\n\\n...   \n",
              "1  first_name = 'Rahul'\\nlast_name = 'Modi'\\n\\nfu...   \n",
              "\n",
              "                                          Concept-15  \\\n",
              "0    int(True) gives result 1 and int(False) gives 0   \n",
              "1  my_string = 'Albert Einstein'   \\n\\n'Albert' i...   \n",
              "\n",
              "                                          Concept-16  \\\n",
              "0  An application or app or software or model is ...   \n",
              "1  String duplication occurs when we multiply str...   \n",
              "\n",
              "                                          Concept-17  \\\n",
              "0  a += 2 means first add 2 with \"a\" and then sav...   \n",
              "1  Taking user's input\\n\\ninputted_number = int(i...   \n",
              "\n",
              "                                          Concept-18  \\\n",
              "0  Four basic answers of any question\\n\\nyes, no,...   \n",
              "1  \\n\\nA string can be called a safe bridge if it...   \n",
              "\n",
              "                                          Concept-19  \\\n",
              "0  \\nlogical resoning\\n\\nStatement: Is buying thi...   \n",
              "1  for color print\\n\\nfrom termcolor import color...   \n",
              "\n",
              "                                          Concept-20 Unnamed: 20  \n",
              "0                                                NaN         NaN  \n",
              "1  String matching\\n\\nimport re\\n pattern = re.co...         NaN  \n",
              "\n",
              "[2 rows x 21 columns]"
            ]
          },
          "metadata": {},
          "execution_count": 11
        }
      ]
    },
    {
      "cell_type": "markdown",
      "source": [
        "## **3. Deeper Understanding of the Data**\n",
        "\n",
        "As there is a huge no. of experiences, we take the help of **statistics to measure** each and every features in different dimensions."
      ],
      "metadata": {
        "id": "zCASSXmAkfv7"
      }
    },
    {
      "cell_type": "code",
      "source": [
        "data_science_df.info()"
      ],
      "metadata": {
        "colab": {
          "base_uri": "https://localhost:8080/"
        },
        "id": "fRH0IK9EXWn7",
        "outputId": "87a4c1a3-e208-47a1-bf60-0ce9cfe0b5d3"
      },
      "execution_count": 12,
      "outputs": [
        {
          "output_type": "stream",
          "name": "stdout",
          "text": [
            "<class 'pandas.core.frame.DataFrame'>\n",
            "RangeIndex: 99 entries, 0 to 98\n",
            "Data columns (total 21 columns):\n",
            " #   Column       Non-Null Count  Dtype \n",
            "---  ------       --------------  ----- \n",
            " 0   Concept-1    99 non-null     object\n",
            " 1   Concept-2    94 non-null     object\n",
            " 2   Concept-3    94 non-null     object\n",
            " 3   Concept-4    92 non-null     object\n",
            " 4   Concept-5    92 non-null     object\n",
            " 5   Concept-6    88 non-null     object\n",
            " 6   Concept-7    87 non-null     object\n",
            " 7   Concept-8    86 non-null     object\n",
            " 8   Concept-9    83 non-null     object\n",
            " 9   Concept-10   79 non-null     object\n",
            " 10  Concept-11   76 non-null     object\n",
            " 11  Concept-12   71 non-null     object\n",
            " 12  Concept-13   65 non-null     object\n",
            " 13  Concept-14   59 non-null     object\n",
            " 14  Concept-15   54 non-null     object\n",
            " 15  Concept-16   44 non-null     object\n",
            " 16  Concept-17   40 non-null     object\n",
            " 17  Concept-18   37 non-null     object\n",
            " 18  Concept-19   30 non-null     object\n",
            " 19  Concept-20   22 non-null     object\n",
            " 20  Unnamed: 20  1 non-null      object\n",
            "dtypes: object(21)\n",
            "memory usage: 16.4+ KB\n"
          ]
        }
      ]
    },
    {
      "cell_type": "markdown",
      "source": [
        "## **4. Cleaning and Preparation of Text Documents**\n",
        "\n",
        "In this step, we treat null, missing, \"?\" or duplicate values.\n",
        "\n",
        "We check the statistics further on clean data."
      ],
      "metadata": {
        "id": "lUqQZ84FgEDT"
      }
    },
    {
      "cell_type": "markdown",
      "source": [
        "Creating Dataset with Relevant Features"
      ],
      "metadata": {
        "id": "eF73vTrYmpss"
      }
    },
    {
      "cell_type": "code",
      "source": [
        "relavant_features=['Concept-1', 'Concept-2', 'Concept-3', 'Concept-4', 'Concept-5',\n",
        "       'Concept-6', 'Concept-7', 'Concept-8', 'Concept-9', 'Concept-10',\n",
        "       'Concept-11', 'Concept-12', 'Concept-13', 'Concept-14', 'Concept-15',\n",
        "       'Concept-16', 'Concept-17', 'Concept-18', 'Concept-19', 'Concept-20']"
      ],
      "metadata": {
        "id": "XfXrE3Pem53Y"
      },
      "execution_count": 13,
      "outputs": []
    },
    {
      "cell_type": "code",
      "source": [
        "data_science_df_clean=data_science_df[relavant_features]"
      ],
      "metadata": {
        "id": "7dU4cS_Gm7XY"
      },
      "execution_count": 14,
      "outputs": []
    },
    {
      "cell_type": "code",
      "source": [
        "# Imputation of null values with null string\n",
        "data_science_df_clean=data_science_df_clean.fillna(\"\")"
      ],
      "metadata": {
        "id": "Szhjh3OTXw18"
      },
      "execution_count": 15,
      "outputs": []
    },
    {
      "cell_type": "code",
      "source": [
        "data_science_df_clean.info()"
      ],
      "metadata": {
        "colab": {
          "base_uri": "https://localhost:8080/"
        },
        "id": "wrqwrwHoXy-4",
        "outputId": "f12e0dc5-09d1-4fbe-89e6-2ecf34cc3edb"
      },
      "execution_count": 16,
      "outputs": [
        {
          "output_type": "stream",
          "name": "stdout",
          "text": [
            "<class 'pandas.core.frame.DataFrame'>\n",
            "RangeIndex: 99 entries, 0 to 98\n",
            "Data columns (total 20 columns):\n",
            " #   Column      Non-Null Count  Dtype \n",
            "---  ------      --------------  ----- \n",
            " 0   Concept-1   99 non-null     object\n",
            " 1   Concept-2   99 non-null     object\n",
            " 2   Concept-3   99 non-null     object\n",
            " 3   Concept-4   99 non-null     object\n",
            " 4   Concept-5   99 non-null     object\n",
            " 5   Concept-6   99 non-null     object\n",
            " 6   Concept-7   99 non-null     object\n",
            " 7   Concept-8   99 non-null     object\n",
            " 8   Concept-9   99 non-null     object\n",
            " 9   Concept-10  99 non-null     object\n",
            " 10  Concept-11  99 non-null     object\n",
            " 11  Concept-12  99 non-null     object\n",
            " 12  Concept-13  99 non-null     object\n",
            " 13  Concept-14  99 non-null     object\n",
            " 14  Concept-15  99 non-null     object\n",
            " 15  Concept-16  99 non-null     object\n",
            " 16  Concept-17  99 non-null     object\n",
            " 17  Concept-18  99 non-null     object\n",
            " 18  Concept-19  99 non-null     object\n",
            " 19  Concept-20  99 non-null     object\n",
            "dtypes: object(20)\n",
            "memory usage: 15.6+ KB\n"
          ]
        }
      ]
    },
    {
      "cell_type": "code",
      "source": [
        "# Checking no data in any row\n",
        "data_science_df_clean[(data_science_df_clean['Concept-1']=='No data')]"
      ],
      "metadata": {
        "colab": {
          "base_uri": "https://localhost:8080/",
          "height": 287
        },
        "id": "_loGo3XhcrrK",
        "outputId": "16feeaba-918b-4da1-9664-edf631a02a46"
      },
      "execution_count": 17,
      "outputs": [
        {
          "output_type": "execute_result",
          "data": {
            "text/html": [
              "\n",
              "  <div id=\"df-f738d602-1ea0-4558-872b-21b041dfd05b\">\n",
              "    <div class=\"colab-df-container\">\n",
              "      <div>\n",
              "<style scoped>\n",
              "    .dataframe tbody tr th:only-of-type {\n",
              "        vertical-align: middle;\n",
              "    }\n",
              "\n",
              "    .dataframe tbody tr th {\n",
              "        vertical-align: top;\n",
              "    }\n",
              "\n",
              "    .dataframe thead th {\n",
              "        text-align: right;\n",
              "    }\n",
              "</style>\n",
              "<table border=\"1\" class=\"dataframe\">\n",
              "  <thead>\n",
              "    <tr style=\"text-align: right;\">\n",
              "      <th></th>\n",
              "      <th>Concept-1</th>\n",
              "      <th>Concept-2</th>\n",
              "      <th>Concept-3</th>\n",
              "      <th>Concept-4</th>\n",
              "      <th>Concept-5</th>\n",
              "      <th>Concept-6</th>\n",
              "      <th>Concept-7</th>\n",
              "      <th>Concept-8</th>\n",
              "      <th>Concept-9</th>\n",
              "      <th>Concept-10</th>\n",
              "      <th>Concept-11</th>\n",
              "      <th>Concept-12</th>\n",
              "      <th>Concept-13</th>\n",
              "      <th>Concept-14</th>\n",
              "      <th>Concept-15</th>\n",
              "      <th>Concept-16</th>\n",
              "      <th>Concept-17</th>\n",
              "      <th>Concept-18</th>\n",
              "      <th>Concept-19</th>\n",
              "      <th>Concept-20</th>\n",
              "    </tr>\n",
              "  </thead>\n",
              "  <tbody>\n",
              "    <tr>\n",
              "      <th>24</th>\n",
              "      <td>No data</td>\n",
              "      <td></td>\n",
              "      <td></td>\n",
              "      <td></td>\n",
              "      <td></td>\n",
              "      <td></td>\n",
              "      <td></td>\n",
              "      <td></td>\n",
              "      <td></td>\n",
              "      <td></td>\n",
              "      <td></td>\n",
              "      <td></td>\n",
              "      <td></td>\n",
              "      <td></td>\n",
              "      <td></td>\n",
              "      <td></td>\n",
              "      <td></td>\n",
              "      <td></td>\n",
              "      <td></td>\n",
              "      <td></td>\n",
              "    </tr>\n",
              "    <tr>\n",
              "      <th>38</th>\n",
              "      <td>No data</td>\n",
              "      <td></td>\n",
              "      <td></td>\n",
              "      <td></td>\n",
              "      <td></td>\n",
              "      <td></td>\n",
              "      <td></td>\n",
              "      <td></td>\n",
              "      <td></td>\n",
              "      <td></td>\n",
              "      <td></td>\n",
              "      <td></td>\n",
              "      <td></td>\n",
              "      <td></td>\n",
              "      <td></td>\n",
              "      <td></td>\n",
              "      <td></td>\n",
              "      <td></td>\n",
              "      <td></td>\n",
              "      <td></td>\n",
              "    </tr>\n",
              "    <tr>\n",
              "      <th>65</th>\n",
              "      <td>No data</td>\n",
              "      <td></td>\n",
              "      <td></td>\n",
              "      <td></td>\n",
              "      <td></td>\n",
              "      <td></td>\n",
              "      <td></td>\n",
              "      <td></td>\n",
              "      <td></td>\n",
              "      <td></td>\n",
              "      <td></td>\n",
              "      <td></td>\n",
              "      <td></td>\n",
              "      <td></td>\n",
              "      <td></td>\n",
              "      <td></td>\n",
              "      <td></td>\n",
              "      <td></td>\n",
              "      <td></td>\n",
              "      <td></td>\n",
              "    </tr>\n",
              "    <tr>\n",
              "      <th>66</th>\n",
              "      <td>No data</td>\n",
              "      <td></td>\n",
              "      <td></td>\n",
              "      <td></td>\n",
              "      <td></td>\n",
              "      <td></td>\n",
              "      <td></td>\n",
              "      <td></td>\n",
              "      <td></td>\n",
              "      <td></td>\n",
              "      <td></td>\n",
              "      <td></td>\n",
              "      <td></td>\n",
              "      <td></td>\n",
              "      <td></td>\n",
              "      <td></td>\n",
              "      <td></td>\n",
              "      <td></td>\n",
              "      <td></td>\n",
              "      <td></td>\n",
              "    </tr>\n",
              "    <tr>\n",
              "      <th>71</th>\n",
              "      <td>No data</td>\n",
              "      <td></td>\n",
              "      <td></td>\n",
              "      <td></td>\n",
              "      <td></td>\n",
              "      <td></td>\n",
              "      <td></td>\n",
              "      <td></td>\n",
              "      <td></td>\n",
              "      <td></td>\n",
              "      <td></td>\n",
              "      <td></td>\n",
              "      <td></td>\n",
              "      <td></td>\n",
              "      <td></td>\n",
              "      <td></td>\n",
              "      <td></td>\n",
              "      <td></td>\n",
              "      <td></td>\n",
              "      <td></td>\n",
              "    </tr>\n",
              "  </tbody>\n",
              "</table>\n",
              "</div>\n",
              "      <button class=\"colab-df-convert\" onclick=\"convertToInteractive('df-f738d602-1ea0-4558-872b-21b041dfd05b')\"\n",
              "              title=\"Convert this dataframe to an interactive table.\"\n",
              "              style=\"display:none;\">\n",
              "        \n",
              "  <svg xmlns=\"http://www.w3.org/2000/svg\" height=\"24px\"viewBox=\"0 0 24 24\"\n",
              "       width=\"24px\">\n",
              "    <path d=\"M0 0h24v24H0V0z\" fill=\"none\"/>\n",
              "    <path d=\"M18.56 5.44l.94 2.06.94-2.06 2.06-.94-2.06-.94-.94-2.06-.94 2.06-2.06.94zm-11 1L8.5 8.5l.94-2.06 2.06-.94-2.06-.94L8.5 2.5l-.94 2.06-2.06.94zm10 10l.94 2.06.94-2.06 2.06-.94-2.06-.94-.94-2.06-.94 2.06-2.06.94z\"/><path d=\"M17.41 7.96l-1.37-1.37c-.4-.4-.92-.59-1.43-.59-.52 0-1.04.2-1.43.59L10.3 9.45l-7.72 7.72c-.78.78-.78 2.05 0 2.83L4 21.41c.39.39.9.59 1.41.59.51 0 1.02-.2 1.41-.59l7.78-7.78 2.81-2.81c.8-.78.8-2.07 0-2.86zM5.41 20L4 18.59l7.72-7.72 1.47 1.35L5.41 20z\"/>\n",
              "  </svg>\n",
              "      </button>\n",
              "      \n",
              "  <style>\n",
              "    .colab-df-container {\n",
              "      display:flex;\n",
              "      flex-wrap:wrap;\n",
              "      gap: 12px;\n",
              "    }\n",
              "\n",
              "    .colab-df-convert {\n",
              "      background-color: #E8F0FE;\n",
              "      border: none;\n",
              "      border-radius: 50%;\n",
              "      cursor: pointer;\n",
              "      display: none;\n",
              "      fill: #1967D2;\n",
              "      height: 32px;\n",
              "      padding: 0 0 0 0;\n",
              "      width: 32px;\n",
              "    }\n",
              "\n",
              "    .colab-df-convert:hover {\n",
              "      background-color: #E2EBFA;\n",
              "      box-shadow: 0px 1px 2px rgba(60, 64, 67, 0.3), 0px 1px 3px 1px rgba(60, 64, 67, 0.15);\n",
              "      fill: #174EA6;\n",
              "    }\n",
              "\n",
              "    [theme=dark] .colab-df-convert {\n",
              "      background-color: #3B4455;\n",
              "      fill: #D2E3FC;\n",
              "    }\n",
              "\n",
              "    [theme=dark] .colab-df-convert:hover {\n",
              "      background-color: #434B5C;\n",
              "      box-shadow: 0px 1px 3px 1px rgba(0, 0, 0, 0.15);\n",
              "      filter: drop-shadow(0px 1px 2px rgba(0, 0, 0, 0.3));\n",
              "      fill: #FFFFFF;\n",
              "    }\n",
              "  </style>\n",
              "\n",
              "      <script>\n",
              "        const buttonEl =\n",
              "          document.querySelector('#df-f738d602-1ea0-4558-872b-21b041dfd05b button.colab-df-convert');\n",
              "        buttonEl.style.display =\n",
              "          google.colab.kernel.accessAllowed ? 'block' : 'none';\n",
              "\n",
              "        async function convertToInteractive(key) {\n",
              "          const element = document.querySelector('#df-f738d602-1ea0-4558-872b-21b041dfd05b');\n",
              "          const dataTable =\n",
              "            await google.colab.kernel.invokeFunction('convertToInteractive',\n",
              "                                                     [key], {});\n",
              "          if (!dataTable) return;\n",
              "\n",
              "          const docLinkHtml = 'Like what you see? Visit the ' +\n",
              "            '<a target=\"_blank\" href=https://colab.research.google.com/notebooks/data_table.ipynb>data table notebook</a>'\n",
              "            + ' to learn more about interactive tables.';\n",
              "          element.innerHTML = '';\n",
              "          dataTable['output_type'] = 'display_data';\n",
              "          await google.colab.output.renderOutput(dataTable, element);\n",
              "          const docLink = document.createElement('div');\n",
              "          docLink.innerHTML = docLinkHtml;\n",
              "          element.appendChild(docLink);\n",
              "        }\n",
              "      </script>\n",
              "    </div>\n",
              "  </div>\n",
              "  "
            ],
            "text/plain": [
              "   Concept-1 Concept-2 Concept-3 Concept-4 Concept-5 Concept-6 Concept-7  \\\n",
              "24   No data                                                               \n",
              "38   No data                                                               \n",
              "65   No data                                                               \n",
              "66   No data                                                               \n",
              "71   No data                                                               \n",
              "\n",
              "   Concept-8 Concept-9 Concept-10 Concept-11 Concept-12 Concept-13 Concept-14  \\\n",
              "24                                                                              \n",
              "38                                                                              \n",
              "65                                                                              \n",
              "66                                                                              \n",
              "71                                                                              \n",
              "\n",
              "   Concept-15 Concept-16 Concept-17 Concept-18 Concept-19 Concept-20  \n",
              "24                                                                    \n",
              "38                                                                    \n",
              "65                                                                    \n",
              "66                                                                    \n",
              "71                                                                    "
            ]
          },
          "metadata": {},
          "execution_count": 17
        }
      ]
    },
    {
      "cell_type": "code",
      "source": [
        "# Removing all the rows with no data and reseting index \n",
        "data_science_df_clean=data_science_df_clean[(data_science_df_clean['Concept-1']!='No data')].reset_index()"
      ],
      "metadata": {
        "id": "mCAvxBdudQTj"
      },
      "execution_count": 18,
      "outputs": []
    },
    {
      "cell_type": "code",
      "source": [
        "data_science_df_clean.drop('index',axis=1, inplace=True)"
      ],
      "metadata": {
        "id": "fJGATT1cfPvD"
      },
      "execution_count": 19,
      "outputs": []
    },
    {
      "cell_type": "code",
      "source": [
        "# Creating documents combining all the concepts columns\n",
        "data_science_df_clean['documents']=['' for k in range(len(data_science_df_clean['Concept-1']))]\n",
        "for k in data_science_df_clean.index:\n",
        "  data_science_df_clean['documents'][k]=' '.join(list(data_science_df_clean.iloc[k].values))"
      ],
      "metadata": {
        "id": "KQdILUJWRe6_"
      },
      "execution_count": 20,
      "outputs": []
    },
    {
      "cell_type": "code",
      "source": [
        "data_science_df_clean['documents']"
      ],
      "metadata": {
        "colab": {
          "base_uri": "https://localhost:8080/"
        },
        "id": "D1ANxC5TdX5B",
        "outputId": "62c6b987-e94f-4670-f667-2ce15dc18cab"
      },
      "execution_count": 21,
      "outputs": [
        {
          "output_type": "execute_result",
          "data": {
            "text/plain": [
              "0     Python language was created in 1991\\n\\nLike an...\n",
              "1     a word, a phrase, a sentence, a paragraph or a...\n",
              "2     List is a data structure to store multiple ite...\n",
              "3     These are data structures to store multiple it...\n",
              "4     Instructions that a Python interpreter can exe...\n",
              "                            ...                        \n",
              "89    Difference between image classification and ob...\n",
              "90    Face Verification \\n\\n> Input image, name/ID\\n...\n",
              "91    Examples of Models with sequence data\\n\\n1. Sp...\n",
              "92    NLP and Word Embedding\\n\\n> Embedding and enco...\n",
              "93    Sequence to sequence model\\n\\n1. Machine trans...\n",
              "Name: documents, Length: 94, dtype: object"
            ]
          },
          "metadata": {},
          "execution_count": 21
        }
      ]
    },
    {
      "cell_type": "markdown",
      "source": [
        "Let's develop a list of the top words used across the documents, which gives us a glimpse into the core vocabulary of the source data. Stop words are omitted here to avoid any trivial conjunctions, prepositions, etc."
      ],
      "metadata": {
        "id": "L3TeiFJDrcD7"
      }
    },
    {
      "cell_type": "code",
      "source": [
        "# Define helper functions\n",
        "def get_top_n_words(n_top_words, count_vectorizer, text_data):\n",
        "    '''\n",
        "    returns a tuple of the top n words in a sample and their \n",
        "    accompanying counts, given a CountVectorizer object and text sample\n",
        "    '''\n",
        "    vectorized_documents = count_vectorizer.fit_transform(text_data.values)\n",
        "    vectorized_total = np.sum(vectorized_documents, axis=0)\n",
        "    word_indices = np.flip(np.argsort(vectorized_total)[0,:], 1)\n",
        "    word_values = np.flip(np.sort(vectorized_total)[0,:],1)\n",
        "    \n",
        "    word_vectors = np.zeros((n_top_words, vectorized_documents.shape[1]))\n",
        "    for i in range(n_top_words):\n",
        "        word_vectors[i,word_indices[0,i]] = 1\n",
        "\n",
        "    words = [word[0].encode('ascii').decode('utf-8') for \n",
        "             word in count_vectorizer.inverse_transform(word_vectors)]\n",
        "\n",
        "    return (words, word_values[0,:n_top_words].tolist()[0])"
      ],
      "metadata": {
        "id": "qkAfpbeFrJsy"
      },
      "execution_count": 22,
      "outputs": []
    },
    {
      "cell_type": "code",
      "source": [
        "count_vectorizer = CountVectorizer(stop_words='english')\n",
        "words, word_values = get_top_n_words(n_top_words=10,\n",
        "                                     count_vectorizer=count_vectorizer, \n",
        "                                     text_data=data_science_df_clean['documents'])\n",
        "\n",
        "fig, ax = plt.subplots(figsize=(16,8))\n",
        "ax.bar(range(len(words)), word_values)\n",
        "ax.set_xticks(range(len(words)))\n",
        "ax.set_xticklabels(words, rotation='vertical')\n",
        "ax.set_title('Top words in the dataset (excluding stop words)')\n",
        "ax.set_xlabel('Word')\n",
        "ax.set_ylabel('Number of occurences')\n",
        "plt.show()"
      ],
      "metadata": {
        "colab": {
          "base_uri": "https://localhost:8080/",
          "height": 414
        },
        "id": "VrFmrz2kr78S",
        "outputId": "fd738ff3-c09b-4ce8-954a-aa61e3267664"
      },
      "execution_count": 23,
      "outputs": [
        {
          "output_type": "display_data",
          "data": {
            "image/png": "[encoded data removed]",
            "text/plain": [
              "<Figure size 1152x576 with 1 Axes>"
            ]
          },
          "metadata": {
            "needs_background": "light"
          }
        }
      ]
    },
    {
      "cell_type": "markdown",
      "source": [
        "## **5. Preparation of Input Data**"
      ],
      "metadata": {
        "id": "8Q9wdD2ogsaT"
      }
    },
    {
      "cell_type": "markdown",
      "source": [
        "Text Pre-processing"
      ],
      "metadata": {
        "id": "bpCQ3-7auCnv"
      }
    },
    {
      "cell_type": "code",
      "source": [
        "# writing text processing function\n",
        "def text_process(text):\n",
        "    text = text.lower()\n",
        "    nopunc =[char for char in text if char not in string.punctuation]\n",
        "    nopunc=''.join(nopunc)\n",
        "    return ' '.join([word for word in nopunc.split() if word.lower() not in stopwords.words('english')])"
      ],
      "metadata": {
        "id": "EHKkL-PQqCBD"
      },
      "execution_count": 24,
      "outputs": []
    },
    {
      "cell_type": "code",
      "source": [
        "# Finding top words in the documents\n",
        "text_data=data_science_df_clean['documents'].apply(text_process)  # basic preprocessing\n",
        "\n",
        "count_vectorizer = CountVectorizer(stop_words='english')\n",
        "data_science_df_clean['top_5_words']=[[] for k in range(len(data_science_df_clean['documents']))]\n",
        "for k in data_science_df_clean.index:\n",
        "  words, word_values = get_top_n_words(n_top_words=5,\n",
        "                                     count_vectorizer=count_vectorizer, \n",
        "                                     text_data=text_data[k:(k+1)])\n",
        "  data_science_df_clean['top_5_words'][k]=words"
      ],
      "metadata": {
        "id": "-3TjYcIXZtjx"
      },
      "execution_count": 25,
      "outputs": []
    },
    {
      "cell_type": "code",
      "source": [
        "# Joining the top words for vectorization\n",
        "data_science_df_clean['top_5_words_joined']=[' '.join(k) for k in data_science_df_clean['top_5_words']]"
      ],
      "metadata": {
        "id": "TvbBFmlwkZez"
      },
      "execution_count": 26,
      "outputs": []
    },
    {
      "cell_type": "code",
      "source": [
        "# Tokenization\n",
        "data_science_df_clean['data_tokens'] = [k.split() for k in data_science_df_clean['documents'].apply(text_process)]"
      ],
      "metadata": {
        "id": "ZoX2Dl5JuLiJ"
      },
      "execution_count": 27,
      "outputs": []
    },
    {
      "cell_type": "code",
      "source": [
        "data_science_df_clean.head(2)"
      ],
      "metadata": {
        "colab": {
          "base_uri": "https://localhost:8080/",
          "height": 414
        },
        "id": "L6gIXJjTboio",
        "outputId": "ae067c68-7d6a-4ad0-e916-b63b382d7964"
      },
      "execution_count": 28,
      "outputs": [
        {
          "output_type": "execute_result",
          "data": {
            "text/html": [
              "\n",
              "  <div id=\"df-d7b605d6-84b2-4e84-a33f-2b540380c0cb\">\n",
              "    <div class=\"colab-df-container\">\n",
              "      <div>\n",
              "<style scoped>\n",
              "    .dataframe tbody tr th:only-of-type {\n",
              "        vertical-align: middle;\n",
              "    }\n",
              "\n",
              "    .dataframe tbody tr th {\n",
              "        vertical-align: top;\n",
              "    }\n",
              "\n",
              "    .dataframe thead th {\n",
              "        text-align: right;\n",
              "    }\n",
              "</style>\n",
              "<table border=\"1\" class=\"dataframe\">\n",
              "  <thead>\n",
              "    <tr style=\"text-align: right;\">\n",
              "      <th></th>\n",
              "      <th>Concept-1</th>\n",
              "      <th>Concept-2</th>\n",
              "      <th>Concept-3</th>\n",
              "      <th>Concept-4</th>\n",
              "      <th>Concept-5</th>\n",
              "      <th>Concept-6</th>\n",
              "      <th>Concept-7</th>\n",
              "      <th>Concept-8</th>\n",
              "      <th>Concept-9</th>\n",
              "      <th>Concept-10</th>\n",
              "      <th>...</th>\n",
              "      <th>Concept-15</th>\n",
              "      <th>Concept-16</th>\n",
              "      <th>Concept-17</th>\n",
              "      <th>Concept-18</th>\n",
              "      <th>Concept-19</th>\n",
              "      <th>Concept-20</th>\n",
              "      <th>documents</th>\n",
              "      <th>top_5_words</th>\n",
              "      <th>top_5_words_joined</th>\n",
              "      <th>data_tokens</th>\n",
              "    </tr>\n",
              "  </thead>\n",
              "  <tbody>\n",
              "    <tr>\n",
              "      <th>0</th>\n",
              "      <td>Python language was created in 1991\\n\\nLike an...</td>\n",
              "      <td>There are 32 keywords in C++ and 35 keywords i...</td>\n",
              "      <td>data types (Numeric, Boolean, String, Datetime)</td>\n",
              "      <td>Integers or whole numbers (1,2,-5,1000), Float...</td>\n",
              "      <td>Arithmatic Operation (addition[+], subtraction...</td>\n",
              "      <td>In mathematics and computer science, the floor...</td>\n",
              "      <td>Variable is the storing place in computer memo...</td>\n",
              "      <td>Variable name (must start with letter or under...</td>\n",
              "      <td>Boolean Variable (true or false)\\n\\nComparison...</td>\n",
              "      <td>Perfect number, a positive integer that is equ...</td>\n",
              "      <td>...</td>\n",
              "      <td>int(True) gives result 1 and int(False) gives 0</td>\n",
              "      <td>An application or app or software or model is ...</td>\n",
              "      <td>a += 2 means first add 2 with \"a\" and then sav...</td>\n",
              "      <td>Four basic answers of any question\\n\\nyes, no,...</td>\n",
              "      <td>\\nlogical resoning\\n\\nStatement: Is buying thi...</td>\n",
              "      <td></td>\n",
              "      <td>Python language was created in 1991\\n\\nLike an...</td>\n",
              "      <td>[python, variable, strong, data, ii]</td>\n",
              "      <td>python variable strong data ii</td>\n",
              "      <td>[python, language, created, 1991, like, comput...</td>\n",
              "    </tr>\n",
              "    <tr>\n",
              "      <th>1</th>\n",
              "      <td>a word, a phrase, a sentence, a paragraph or a...</td>\n",
              "      <td>sequence, indexing</td>\n",
              "      <td>string' or \"string\" \\n\\ndouble quotes are used...</td>\n",
              "      <td>print('Use \\n to print a new line')</td>\n",
              "      <td>string indexing begins from 0</td>\n",
              "      <td>Grabbing the element by index \\n\\nprint(string...</td>\n",
              "      <td>String Slicing, \\n\\n[starting index:ending ind...</td>\n",
              "      <td>string[:]  If you do not specify the starting ...</td>\n",
              "      <td>slicing with step size, string[3:14:2] means f...</td>\n",
              "      <td>str' object does not support item assignment m...</td>\n",
              "      <td>...</td>\n",
              "      <td>my_string = 'Albert Einstein'   \\n\\n'Albert' i...</td>\n",
              "      <td>String duplication occurs when we multiply str...</td>\n",
              "      <td>Taking user's input\\n\\ninputted_number = int(i...</td>\n",
              "      <td>\\n\\nA string can be called a safe bridge if it...</td>\n",
              "      <td>for color print\\n\\nfrom termcolor import color...</td>\n",
              "      <td>String matching\\n\\nimport re\\n pattern = re.co...</td>\n",
              "      <td>a word, a phrase, a sentence, a paragraph or a...</td>\n",
              "      <td>[string, index, slicing, means, print]</td>\n",
              "      <td>string index slicing means print</td>\n",
              "      <td>[word, phrase, sentence, paragraph, entire, en...</td>\n",
              "    </tr>\n",
              "  </tbody>\n",
              "</table>\n",
              "<p>2 rows × 24 columns</p>\n",
              "</div>\n",
              "      <button class=\"colab-df-convert\" onclick=\"convertToInteractive('df-d7b605d6-84b2-4e84-a33f-2b540380c0cb')\"\n",
              "              title=\"Convert this dataframe to an interactive table.\"\n",
              "              style=\"display:none;\">\n",
              "        \n",
              "  <svg xmlns=\"http://www.w3.org/2000/svg\" height=\"24px\"viewBox=\"0 0 24 24\"\n",
              "       width=\"24px\">\n",
              "    <path d=\"M0 0h24v24H0V0z\" fill=\"none\"/>\n",
              "    <path d=\"M18.56 5.44l.94 2.06.94-2.06 2.06-.94-2.06-.94-.94-2.06-.94 2.06-2.06.94zm-11 1L8.5 8.5l.94-2.06 2.06-.94-2.06-.94L8.5 2.5l-.94 2.06-2.06.94zm10 10l.94 2.06.94-2.06 2.06-.94-2.06-.94-.94-2.06-.94 2.06-2.06.94z\"/><path d=\"M17.41 7.96l-1.37-1.37c-.4-.4-.92-.59-1.43-.59-.52 0-1.04.2-1.43.59L10.3 9.45l-7.72 7.72c-.78.78-.78 2.05 0 2.83L4 21.41c.39.39.9.59 1.41.59.51 0 1.02-.2 1.41-.59l7.78-7.78 2.81-2.81c.8-.78.8-2.07 0-2.86zM5.41 20L4 18.59l7.72-7.72 1.47 1.35L5.41 20z\"/>\n",
              "  </svg>\n",
              "      </button>\n",
              "      \n",
              "  <style>\n",
              "    .colab-df-container {\n",
              "      display:flex;\n",
              "      flex-wrap:wrap;\n",
              "      gap: 12px;\n",
              "    }\n",
              "\n",
              "    .colab-df-convert {\n",
              "      background-color: #E8F0FE;\n",
              "      border: none;\n",
              "      border-radius: 50%;\n",
              "      cursor: pointer;\n",
              "      display: none;\n",
              "      fill: #1967D2;\n",
              "      height: 32px;\n",
              "      padding: 0 0 0 0;\n",
              "      width: 32px;\n",
              "    }\n",
              "\n",
              "    .colab-df-convert:hover {\n",
              "      background-color: #E2EBFA;\n",
              "      box-shadow: 0px 1px 2px rgba(60, 64, 67, 0.3), 0px 1px 3px 1px rgba(60, 64, 67, 0.15);\n",
              "      fill: #174EA6;\n",
              "    }\n",
              "\n",
              "    [theme=dark] .colab-df-convert {\n",
              "      background-color: #3B4455;\n",
              "      fill: #D2E3FC;\n",
              "    }\n",
              "\n",
              "    [theme=dark] .colab-df-convert:hover {\n",
              "      background-color: #434B5C;\n",
              "      box-shadow: 0px 1px 3px 1px rgba(0, 0, 0, 0.15);\n",
              "      filter: drop-shadow(0px 1px 2px rgba(0, 0, 0, 0.3));\n",
              "      fill: #FFFFFF;\n",
              "    }\n",
              "  </style>\n",
              "\n",
              "      <script>\n",
              "        const buttonEl =\n",
              "          document.querySelector('#df-d7b605d6-84b2-4e84-a33f-2b540380c0cb button.colab-df-convert');\n",
              "        buttonEl.style.display =\n",
              "          google.colab.kernel.accessAllowed ? 'block' : 'none';\n",
              "\n",
              "        async function convertToInteractive(key) {\n",
              "          const element = document.querySelector('#df-d7b605d6-84b2-4e84-a33f-2b540380c0cb');\n",
              "          const dataTable =\n",
              "            await google.colab.kernel.invokeFunction('convertToInteractive',\n",
              "                                                     [key], {});\n",
              "          if (!dataTable) return;\n",
              "\n",
              "          const docLinkHtml = 'Like what you see? Visit the ' +\n",
              "            '<a target=\"_blank\" href=https://colab.research.google.com/notebooks/data_table.ipynb>data table notebook</a>'\n",
              "            + ' to learn more about interactive tables.';\n",
              "          element.innerHTML = '';\n",
              "          dataTable['output_type'] = 'display_data';\n",
              "          await google.colab.output.renderOutput(dataTable, element);\n",
              "          const docLink = document.createElement('div');\n",
              "          docLink.innerHTML = docLinkHtml;\n",
              "          element.appendChild(docLink);\n",
              "        }\n",
              "      </script>\n",
              "    </div>\n",
              "  </div>\n",
              "  "
            ],
            "text/plain": [
              "                                           Concept-1  \\\n",
              "0  Python language was created in 1991\\n\\nLike an...   \n",
              "1  a word, a phrase, a sentence, a paragraph or a...   \n",
              "\n",
              "                                           Concept-2  \\\n",
              "0  There are 32 keywords in C++ and 35 keywords i...   \n",
              "1                                 sequence, indexing   \n",
              "\n",
              "                                           Concept-3  \\\n",
              "0    data types (Numeric, Boolean, String, Datetime)   \n",
              "1  string' or \"string\" \\n\\ndouble quotes are used...   \n",
              "\n",
              "                                           Concept-4  \\\n",
              "0  Integers or whole numbers (1,2,-5,1000), Float...   \n",
              "1                print('Use \\n to print a new line')   \n",
              "\n",
              "                                           Concept-5  \\\n",
              "0  Arithmatic Operation (addition[+], subtraction...   \n",
              "1                      string indexing begins from 0   \n",
              "\n",
              "                                           Concept-6  \\\n",
              "0  In mathematics and computer science, the floor...   \n",
              "1  Grabbing the element by index \\n\\nprint(string...   \n",
              "\n",
              "                                           Concept-7  \\\n",
              "0  Variable is the storing place in computer memo...   \n",
              "1  String Slicing, \\n\\n[starting index:ending ind...   \n",
              "\n",
              "                                           Concept-8  \\\n",
              "0  Variable name (must start with letter or under...   \n",
              "1  string[:]  If you do not specify the starting ...   \n",
              "\n",
              "                                           Concept-9  \\\n",
              "0  Boolean Variable (true or false)\\n\\nComparison...   \n",
              "1  slicing with step size, string[3:14:2] means f...   \n",
              "\n",
              "                                          Concept-10  ...  \\\n",
              "0  Perfect number, a positive integer that is equ...  ...   \n",
              "1  str' object does not support item assignment m...  ...   \n",
              "\n",
              "                                          Concept-15  \\\n",
              "0    int(True) gives result 1 and int(False) gives 0   \n",
              "1  my_string = 'Albert Einstein'   \\n\\n'Albert' i...   \n",
              "\n",
              "                                          Concept-16  \\\n",
              "0  An application or app or software or model is ...   \n",
              "1  String duplication occurs when we multiply str...   \n",
              "\n",
              "                                          Concept-17  \\\n",
              "0  a += 2 means first add 2 with \"a\" and then sav...   \n",
              "1  Taking user's input\\n\\ninputted_number = int(i...   \n",
              "\n",
              "                                          Concept-18  \\\n",
              "0  Four basic answers of any question\\n\\nyes, no,...   \n",
              "1  \\n\\nA string can be called a safe bridge if it...   \n",
              "\n",
              "                                          Concept-19  \\\n",
              "0  \\nlogical resoning\\n\\nStatement: Is buying thi...   \n",
              "1  for color print\\n\\nfrom termcolor import color...   \n",
              "\n",
              "                                          Concept-20  \\\n",
              "0                                                      \n",
              "1  String matching\\n\\nimport re\\n pattern = re.co...   \n",
              "\n",
              "                                           documents  \\\n",
              "0  Python language was created in 1991\\n\\nLike an...   \n",
              "1  a word, a phrase, a sentence, a paragraph or a...   \n",
              "\n",
              "                              top_5_words                top_5_words_joined  \\\n",
              "0    [python, variable, strong, data, ii]    python variable strong data ii   \n",
              "1  [string, index, slicing, means, print]  string index slicing means print   \n",
              "\n",
              "                                         data_tokens  \n",
              "0  [python, language, created, 1991, like, comput...  \n",
              "1  [word, phrase, sentence, paragraph, entire, en...  \n",
              "\n",
              "[2 rows x 24 columns]"
            ]
          },
          "metadata": {},
          "execution_count": 28
        }
      ]
    },
    {
      "cell_type": "code",
      "source": [
        "# vectorization of documents\n",
        "count_vectorizer = CountVectorizer(stop_words='english', max_features=4000)\n",
        "\n",
        "text_sample = data_science_df_clean['documents'].apply(text_process).values\n",
        "\n",
        "print('Document before vectorization: {}'.format(text_sample[0]))\n",
        "\n",
        "document_term_matrix = count_vectorizer.fit_transform(text_sample)\n",
        "\n",
        "print('Document after vectorization: \\n{}'.format(document_term_matrix[0]))"
      ],
      "metadata": {
        "id": "yvKcSewstiRL",
        "colab": {
          "base_uri": "https://localhost:8080/"
        },
        "outputId": "c11910f7-84ca-4c6a-87ad-4ffd4166fcaa"
      },
      "execution_count": 29,
      "outputs": [
        {
          "output_type": "stream",
          "name": "stdout",
          "text": [
            "Document before vectorization: python language created 1991 like computer programming language python tokens smallest meaningful part statementexpression command 1 keywords basic words language 2 identifiers programmer defined words program 3 literals data data structure 4 punctuations etc 5 operators 32 keywords c 35 keywords python python keywords false await else import pass none break except raise true class finally return continue lambda try def nonlocal assert del global async elif yield data types numeric boolean string datetime integers whole numbers 1251000 floats real numbers 12052e2 2e2 complex numbers 2e2 called scientific notation means 2102 arithmatic operation addition subtraction multiplication division floor division exponentiation remainder modulus 124 0 134 12 1 45 4 130o7 6 mathematics computer science floor function function takes input real number x gives output greatest integer less equal x denoted floor ⌊x⌋ similarly ceiling function maps x least integer greater equal x denoted ceil ⌈x⌉ variable storing place computer memory data integers floats booleans string datetime data structure list tuple set dictionarynparray pddataframe etc datadata structure changed varied variable name must start letter underscore variable name dataxyz etc variable name data structureageofstudents studentsage etc casesensitive best naming practice casesensitive casesensitive different variable boolean variable true false comparison operators returns boolean value perfect number positive integer equal sum proper divisors smallest perfect number 6 sum 1 2 3 show float upto two decimal places printfbananas bag percentagebananas2f roundanyfloat2 numpy nparoundmyarray2 get absolute value abs5878 returns 2 commenting multiple lines colab ctrl del keyword python primarily used delete objects python del variable1 variable2 order precedence python parentheses ii exponential iii multiplication iv division v addition vi subtraction inttrue gives result 1 intfalse gives 0 application app software model nothing soft machine machinery products every machine minimum one function takes inputs gives outputs products mainly two types machinery products nonmachinery products 2 means first add 2 save instruction a2 2 means first divide 2 save instruction a2 four basic answers question yes may dont know logical resoning statement buying things installments profitable customer arguments yes pay less ii paying instalments upsets family budget 1 strong 2 ii strong 3 bother ii strong 4 either ii strong strong opposite 5 neither ii strong\n",
            "Document after vectorization: \n",
            "  (0, 2597)\t7\n",
            "  (0, 1849)\t3\n",
            "  (0, 1011)\t1\n",
            "  (0, 1899)\t1\n",
            "  (0, 908)\t3\n",
            "  (0, 2517)\t1\n",
            "  (0, 3677)\t1\n",
            "  (0, 3352)\t2\n",
            "  (0, 2031)\t1\n",
            "  (0, 852)\t1\n",
            "  (0, 1821)\t4\n",
            "  (0, 408)\t2\n",
            "  (0, 3931)\t2\n",
            "  (0, 1648)\t1\n",
            "  (0, 1096)\t1\n",
            "  (0, 2515)\t1\n",
            "  (0, 1923)\t1\n",
            "  (0, 1053)\t6\n",
            "  (0, 3545)\t3\n",
            "  (0, 2560)\t1\n",
            "  (0, 2279)\t2\n",
            "  (0, 84)\t1\n",
            "  (0, 1412)\t2\n",
            "  (0, 355)\t1\n",
            "  (0, 1666)\t1\n",
            "  :\t:\n",
            "  (0, 1725)\t1\n",
            "  (0, 2310)\t1\n",
            "  (0, 1980)\t1\n",
            "  (0, 142)\t1\n",
            "  (0, 3039)\t2\n",
            "  (0, 1739)\t2\n",
            "  (0, 105)\t2\n",
            "  (0, 1208)\t1\n",
            "  (0, 204)\t1\n",
            "  (0, 2637)\t1\n",
            "  (0, 3975)\t2\n",
            "  (0, 1223)\t1\n",
            "  (0, 1829)\t1\n",
            "  (0, 1942)\t1\n",
            "  (0, 2896)\t1\n",
            "  (0, 3495)\t1\n",
            "  (0, 558)\t1\n",
            "  (0, 3667)\t1\n",
            "  (0, 1039)\t1\n",
            "  (0, 250)\t1\n",
            "  (0, 2359)\t1\n",
            "  (0, 546)\t1\n",
            "  (0, 3543)\t6\n",
            "  (0, 507)\t1\n",
            "  (0, 2281)\t1\n"
          ]
        }
      ]
    },
    {
      "cell_type": "markdown",
      "source": [
        "Lemmatization"
      ],
      "metadata": {
        "id": "q_TMQfaguUUI"
      }
    },
    {
      "cell_type": "code",
      "source": [
        "# def lemmatization(texts, allowed_postags=['NOUN', 'ADJ', 'VERB', 'ADV']):\n",
        "#     \"\"\"https://spacy.io/api/annotation\"\"\"\n",
        "#     texts_out = []\n",
        "#     for sent in texts:\n",
        "#         doc = nlp(\" \".join(sent)) \n",
        "#         texts_out.append(\" \".join([token.lemma_ if token.lemma_ not in ['-PRON-'] else '' for token in doc if token.pos_ in allowed_postags]))\n",
        "#     return texts_out\n",
        "\n",
        "# # Initialize spacy 'en' model, keeping only tagger component (for efficiency)\n",
        "# # Run in terminal: python3 -m spacy download en\n",
        "# nlp = spacy.load('en', disable=['parser', 'ner'])\n",
        "\n",
        "# # Do lemmatization keeping only Noun, Adj, Verb, Adverb\n",
        "# data_lemmatized = lemmatization(data_words, allowed_postags=['NOUN', 'ADJ', 'VERB', 'ADV'])\n",
        "\n",
        "# print(data_lemmatized[:1])"
      ],
      "metadata": {
        "id": "vbogGYSwuVmh"
      },
      "execution_count": 30,
      "outputs": []
    },
    {
      "cell_type": "markdown",
      "source": [
        "Create the Document-Word matrix"
      ],
      "metadata": {
        "id": "nbFaIf2xuZGH"
      }
    },
    {
      "cell_type": "code",
      "source": [
        "# vectorizer = CountVectorizer(analyzer='word',       \n",
        "#                              min_df=10,                        # minimum reqd occurences of a word \n",
        "#                              stop_words='english',             # remove stop words\n",
        "#                              lowercase=True,                   # convert all words to lowercase\n",
        "#                              token_pattern='[a-zA-Z0-9]{3,}',  # num chars > 3\n",
        "#                              # max_features=50000,             # max number of uniq words\n",
        "#                             )\n",
        "\n",
        "# data_vectorized = vectorizer.fit_transform(data_lemmatized)"
      ],
      "metadata": {
        "id": "lKpSohYAubbY"
      },
      "execution_count": 31,
      "outputs": []
    },
    {
      "cell_type": "markdown",
      "source": [
        "Check the Sparsicity"
      ],
      "metadata": {
        "id": "TzXBMSAruiG9"
      }
    },
    {
      "cell_type": "code",
      "source": [
        "# # Materialize the sparse data\n",
        "# data_dense = data_vectorized.todense()\n",
        "\n",
        "# # Compute Sparsicity = Percentage of Non-Zero cells\n",
        "# print(\"Sparsicity: \", ((data_dense > 0).sum()/data_dense.size)*100, \"%\")"
      ],
      "metadata": {
        "id": "6T57bwe-ugsx"
      },
      "execution_count": 32,
      "outputs": []
    },
    {
      "cell_type": "markdown",
      "source": [
        "# **Building of Topic Model**"
      ],
      "metadata": {
        "id": "Yx-a7-CHqXNY"
      }
    },
    {
      "cell_type": "markdown",
      "source": [
        "Building LDA model with sklearn and hyperparameter tuning"
      ],
      "metadata": {
        "id": "y1RAu9SHn7U8"
      }
    },
    {
      "cell_type": "code",
      "source": [
        "lda = LatentDirichletAllocation()\n",
        "\n",
        "grid_params={'n_components': list(range(5,10)), 'learning_decay': [.5, .7, .9]}\n",
        "\n",
        "lda_model = GridSearchCV(lda,param_grid=grid_params)\n",
        "\n",
        "lda_model.fit(document_term_matrix)"
      ],
      "metadata": {
        "id": "R3j1MXHru5UQ",
        "colab": {
          "base_uri": "https://localhost:8080/"
        },
        "outputId": "3067f0ec-51b2-475a-8013-112661d24665"
      },
      "execution_count": 33,
      "outputs": [
        {
          "output_type": "execute_result",
          "data": {
            "text/plain": [
              "GridSearchCV(estimator=LatentDirichletAllocation(),\n",
              "             param_grid={'learning_decay': [0.5, 0.7, 0.9],\n",
              "                         'n_components': [5, 6, 7, 8, 9]})"
            ]
          },
          "metadata": {},
          "execution_count": 33
        }
      ]
    },
    {
      "cell_type": "markdown",
      "source": [
        "Let's see the best topic model and its parameters"
      ],
      "metadata": {
        "id": "r9UbNYRHu79f"
      }
    },
    {
      "cell_type": "code",
      "source": [
        "# Best Model\n",
        "best_lda_model = lda_model.best_estimator_\n",
        "\n",
        "# Model Parameters\n",
        "print(\"Best Model's Params: \", lda_model.best_params_)\n",
        "\n",
        "# Perplexity\n",
        "print(\"Model Perplexity: \", round(best_lda_model.perplexity(document_term_matrix),2))"
      ],
      "metadata": {
        "id": "jUbulJBPvBNx",
        "colab": {
          "base_uri": "https://localhost:8080/"
        },
        "outputId": "63549394-8ec2-48c4-cd19-7bcceb86dbc8"
      },
      "execution_count": 34,
      "outputs": [
        {
          "output_type": "stream",
          "name": "stdout",
          "text": [
            "Best Model's Params:  {'learning_decay': 0.5, 'n_components': 5}\n",
            "Model Perplexity:  1815.87\n"
          ]
        }
      ]
    },
    {
      "cell_type": "markdown",
      "source": [
        "Let's visualize the LDA model with pyLDAvis"
      ],
      "metadata": {
        "id": "EcBuRdBKyE0N"
      }
    },
    {
      "cell_type": "code",
      "source": [
        "lda_panel = pyLDAvis.sklearn.prepare(best_lda_model, document_term_matrix,count_vectorizer,mds='tsne')\n",
        "lda_panel"
      ],
      "metadata": {
        "id": "Q7RRXop8wXzx",
        "colab": {
          "base_uri": "https://localhost:8080/",
          "height": 1000
        },
        "outputId": "77f5d52e-62ae-422b-e24f-9c008e6d982b"
      },
      "execution_count": 35,
      "outputs": [
        {
          "output_type": "stream",
          "name": "stderr",
          "text": [
            "/usr/local/lib/python3.7/dist-packages/sklearn/utils/deprecation.py:87: FutureWarning: Function get_feature_names is deprecated; get_feature_names is deprecated in 1.0 and will be removed in 1.2. Please use get_feature_names_out instead.\n",
            "  warnings.warn(msg, category=FutureWarning)\n",
            "/usr/local/lib/python3.7/dist-packages/pyLDAvis/_prepare.py:247: FutureWarning: In a future version of pandas all arguments of DataFrame.drop except for the argument 'labels' will be keyword-only\n",
            "  by='saliency', ascending=False).head(R).drop('saliency', 1)\n",
            "/usr/local/lib/python3.7/dist-packages/sklearn/manifold/_t_sne.py:783: FutureWarning: The default initialization in TSNE will change from 'random' to 'pca' in 1.2.\n",
            "  FutureWarning,\n",
            "/usr/local/lib/python3.7/dist-packages/sklearn/manifold/_t_sne.py:793: FutureWarning: The default learning rate in TSNE will change from 200.0 to 'auto' in 1.2.\n",
            "  FutureWarning,\n",
            "/usr/local/lib/python3.7/dist-packages/sklearn/manifold/_t_sne.py:827: FutureWarning: 'square_distances' has been introduced in 0.24 to help phase out legacy squaring behavior. The 'legacy' setting will be removed in 1.1 (renaming of 0.26), and the default setting will be changed to True. In 1.3, 'square_distances' will be removed altogether, and distances will be squared by default. Set 'square_distances'=True to silence this warning.\n",
            "  FutureWarning,\n"
          ]
        },
        {
          "output_type": "execute_result",
          "data": {
            "text/html": [
              "\n",
              "<link rel=\"stylesheet\" type=\"text/css\" href=\"https://cdn.jsdelivr.net/gh/bmabey/pyLDAvis@3.3.1/pyLDAvis/js/ldavis.v1.0.0.css\">\n",
              "\n",
              "\n",
              "<div id=\"ldavis_el20251398454392269606616149535\"></div>\n",
              "<script type=\"text/javascript\">\n",
              "\n",
              "var ldavis_el20251398454392269606616149535_data = {\"mdsDat\": {\"x\": [150.22215270996094, 51.16336441040039, -73.1445541381836, -66.4101333618164, 54.41732406616211], \"y\": [-72.2695541381836, -159.968017578125, 21.523815155029297, -110.60643768310547, 12.44344425201416], \"topics\": [1, 2, 3, 4, 5], \"cluster\": [1, 1, 1, 1, 1], \"Freq\": [30.36288025710054, 24.898817834051986, 19.35105670518999, 14.100668967769286, 11.286576235888193]}, \"tinfo\": {\"Term\": [\"layer\", \"regression\", \"vector\", \"docker\", \"matrix\", \"model\", \"word\", \"hypothesis\", \"linear\", \"table\", \"test\", \"network\", \"error\", \"words\", \"random\", \"data\", \"tableau\", \"time\", \"decision\", \"file\", \"mean\", \"performance\", \"clusters\", \"indicators\", \"activation\", \"list\", \"classification\", \"plot\", \"import\", \"series\", \"directory\", \"web\", \"spark\", \"virtual\", \"bash\", \"flask\", \"package\", \"pxx\", \"services\", \"modules\", \"fx\", \"permission\", \"houses\", \"fastapi\", \"gate\", \"median\", \"cloud\", \"tar\", \"relational\", \"price\", \"script\", \"os\", \"interface\", \"spread\", \"anomalies\", \"failure\", \"ec2\", \"linux\", \"link\", \"varx\", \"azure\", \"folder\", \"filename\", \"random\", \"user\", \"app\", \"api\", \"files\", \"mean\", \"file\", \"command\", \"distribution\", \"population\", \"application\", \"commands\", \"python\", \"sample\", \"users\", \"probability\", \"local\", \"install\", \"pip\", \"sql\", \"run\", \"data\", \"standard\", \"used\", \"variables\", \"table\", \"code\", \"database\", \"function\", \"import\", \"number\", \"variable\", \"values\", \"means\", \"use\", \"called\", \"different\", \"like\", \"value\", \"clusters\", \"activation\", \"convolution\", \"layer\", \"multiplication\", \"propagation\", \"intensity\", \"tensorflow\", \"addition\", \"padding\", \"sigmoid\", \"boosting\", \"magnitude\", \"xyz\", \"neurons\", \"na\", \"relu\", \"resultant\", \"stride\", \"keras\", \"vector\", \"nn\", \"heuristic\", \"streamlit\", \"projection\", \"tensor\", \"xy\", \"comprehension\", \"pooling\", \"scheduler\", \"layers\", \"inputs\", \"volume\", \"matrix\", \"airflow\", \"network\", \"list\", \"pa\", \"elements\", \"neural\", \"hidden\", \"input\", \"classification\", \"dimension\", \"tuple\", \"weights\", \"function\", \"size\", \"linear\", \"means\", \"output\", \"learning\", \"space\", \"element\", \"feature\", \"data\", \"deep\", \"model\", \"set\", \"multiple\", \"number\", \"used\", \"import\", \"use\", \"method\", \"like\", \"training\", \"machine\", \"values\", \"dev\", \"mlops\", \"versioning\", \"varchar255\", \"drift\", \"multitask\", \"95\", \"labeled\", \"columnnames\", \"mlflow\", \"lifecycle\", \"person\", \"confident\", \"assumming\", \"repo\", \"fraud\", \"gradients\", \"insert\", \"figure\", \"16\", \"transfer\", \"round235415\", \"slicer\", \"table1\", \"table2\", \"utc\", \"incorrectly\", \"histogram\", \"77\", \"saving\", \"alter\", \"minibatch\", \"matplotlib\", \"devops\", \"csv\", \"face\", \"place\", \"seaborn\", \"plot\", \"bias\", \"validation\", \"pivot\", \"table\", \"testing\", \"pandas\", \"model\", \"dataframe\", \"data\", \"images\", \"tab\", \"ml\", \"learning\", \"git\", \"analysis\", \"different\", \"error\", \"training\", \"column\", \"set\", \"image\", \"performance\", \"values\", \"function\", \"human\", \"variance\", \"excel\", \"time\", \"create\", \"gradient\", \"import\", \"used\", \"dataset\", \"file\", \"multiple\", \"number\", \"value\", \"means\", \"embedding\", \"demand\", \"lda\", \"knn\", \"vocabulary\", \"generative\", \"seasonal\", \"embeddings\", \"naive\", \"lag\", \"boxes\", \"corpus\", \"tfidf\", \"na\\u00efve\", \"subnodes\", \"prophet\", \"yolo\", \"countvectorizer\", \"glove\", \"discriminative\", \"bounding\", \"adi\", \"cv\\u00b2\", \"neighbors\", \"jupyter\", \"autoregressive\", \"smoothing\", \"stationarity\", \"stationary\", \"variations\", \"word\", \"nonparametric\", \"target\", \"tree\", \"words\", \"decision\", \"nlp\", \"series\", \"classes\", \"parametric\", \"topic\", \"text\", \"documents\", \"node\", \"time\", \"rnn\", \"import\", \"class\", \"document\", \"object\", \"average\", \"model\", \"classification\", \"algorithm\", \"cell\", \"used\", \"data\", \"called\", \"multiple\", \"value\", \"values\", \"feature\", \"matrix\", \"process\", \"image\", \"single\", \"training\", \"number\", \"probability\", \"learning\", \"hypothesis\", \"container\", \"pvalue\", \"beam\", \"indicators\", \"significance\", \"kpis\", \"docker\", \"tableau\", \"ha\", \"lasso\", \"predicted\", \"ridge\", \"critical\", \"freedom\", \"sse\", \"claim\", \"ho\", \"reject\", \"vif\", \"sklearnlinearmodel\", \"cdfteststatistic\", \"pane\", \"pills\", \"mse\", \"ypred\", \"actual\", \"kpi\", \"005\", \"twotailed\", \"workbook\", \"regression\", \"assumption\", \"test\", \"regularized\", \"statistic\", \"characters\", \"search\", \"measures\", \"null\", \"linear\", \"error\", \"independent\", \"dimensions\", \"performance\", \"alternative\", \"dependent\", \"line\", \"model\", \"chart\", \"data\", \"value\", \"fit\", \"variables\", \"level\", \"variable\", \"values\", \"like\", \"called\", \"probability\", \"true\", \"used\", \"mean\", \"multiple\"], \"Freq\": [87.0, 68.0, 79.0, 39.0, 137.0, 264.0, 48.0, 30.0, 66.0, 83.0, 46.0, 77.0, 61.0, 40.0, 89.0, 422.0, 23.0, 88.0, 35.0, 100.0, 65.0, 46.0, 29.0, 18.0, 28.0, 75.0, 57.0, 44.0, 154.0, 28.0, 31.184293582183564, 28.448389725913312, 21.154110525625722, 18.41659422441075, 14.771392018785226, 13.860003602981816, 13.85912739121261, 12.036318649704674, 12.0359951119185, 10.21033166004395, 22.06934951602302, 9.300791774376272, 9.300791714800608, 9.300791635292342, 9.285059951263218, 18.419164639503055, 20.99305064805576, 8.388949407034849, 8.388949359596838, 8.38894928131557, 8.386040407458083, 8.384718969437246, 7.4771069353839685, 7.47710684411894, 7.4771067642353986, 7.476166576615052, 7.473693112627155, 6.5652647665924055, 6.565264678582806, 6.565264389353072, 13.859021372367014, 18.418841269377605, 12.947621054365692, 75.2808336495616, 25.713230596452508, 13.667098350597165, 24.311627539579167, 27.53633926735115, 50.631592160297544, 74.13699197452257, 22.97723012068391, 76.15785800076212, 34.67404054775989, 30.0188646139684, 14.770161259450521, 59.30022519181993, 46.29722858246966, 20.15418679379054, 69.66327118728799, 24.46581190623391, 21.027675223061088, 19.280765008508396, 24.80222391270037, 25.19772071859752, 121.19609211079486, 27.002518383475525, 57.74533480004842, 35.93522587349424, 38.429713296684746, 32.47452189784564, 24.801221371198263, 49.944333591675104, 43.62057795705476, 36.430361173250255, 29.80939710035283, 33.915208376448476, 33.19328706711317, 29.11074827368626, 28.871213381260493, 27.53415802196711, 27.24710370851823, 26.536125708208967, 29.04774405747631, 28.143796677861808, 20.92917092196401, 82.94013867927796, 11.905838255882061, 12.753209079485776, 11.00519599144881, 11.005126994609743, 10.995455652138254, 10.103893586821426, 10.095495554750256, 10.086214516711742, 9.201760130971248, 9.201760130971248, 9.201760051418216, 9.2017600066935, 9.20099886791251, 9.198665436373124, 8.299626834588622, 8.298408463984229, 73.78058222539032, 7.393126969716116, 7.392631328405785, 7.391277803623817, 7.367585173561129, 6.495359928577149, 6.49535987349846, 6.495357460309997, 6.494811310335181, 6.491585549788317, 22.49902808979245, 17.30708867072123, 21.83007475707664, 97.85297445487805, 13.725709799619752, 55.77857824675396, 54.29232845840874, 20.930702862290342, 22.535576327774294, 42.765347967617096, 20.56818138084519, 47.55675000521879, 34.1194763964842, 23.643564892518384, 13.711830361093648, 22.637191437861137, 70.09208355400969, 33.405397399808145, 35.82026712849254, 51.49809103448509, 35.27144365209735, 51.585744306149834, 20.287974110630284, 16.416294759306965, 33.16001774832992, 89.51459630778467, 20.05353086635136, 63.30855457447417, 38.422784322080545, 34.19274063744371, 33.3965748404603, 36.33432009787768, 34.753077786605054, 29.73747982064084, 25.886154209097644, 26.69616029594692, 25.386355509532827, 25.076721091507554, 24.604711414830202, 12.33681702270822, 8.862976828602758, 7.125138153556236, 5.387299640700499, 5.38729911366369, 5.382896502640469, 11.466769816139163, 5.360103833849181, 4.518380267558234, 4.518380136355445, 4.518380048410603, 4.517439113718909, 4.515216497051289, 4.515216442823517, 4.5129393820807255, 4.511453287375001, 4.49634738288926, 9.729862813117801, 4.471228210620315, 4.437051985049044, 10.319313498383893, 3.649460971870737, 3.649460971870737, 3.649460962530876, 3.649460962530876, 3.649460962530876, 3.6494609412316357, 3.6494609269391676, 3.6494609034986034, 3.649460893524356, 7.994250059849657, 10.00474385576773, 10.601354092300252, 7.12550813480528, 14.93936427460283, 6.255314806465679, 6.256156975628719, 6.25650482139727, 27.62645274027769, 19.706850688213777, 14.077211891945465, 10.599579353230641, 42.66520194932774, 11.727071004503978, 21.37494814543197, 99.42970694251441, 11.65055639491625, 137.9344346110326, 13.59801384462638, 11.806378651979916, 27.667081690947033, 52.57686118668211, 19.290043051564393, 23.090965074421472, 35.16919433693913, 26.74720103420062, 31.55605414212199, 27.268885441858554, 39.66323161783283, 24.246369200635655, 18.665090350941657, 28.72881220671323, 30.633736243788825, 13.999993980858662, 17.79960224766263, 13.871795325627277, 20.789736828877214, 17.51223814982562, 15.694075634063562, 23.06455876645396, 21.661096974162678, 18.060345281295103, 18.90199201504514, 17.529120723509596, 16.822697450013063, 16.733936046704233, 16.5757927201401, 16.84472259403312, 11.832227951760188, 10.174149623596245, 10.16741597121966, 10.166228800557839, 9.337741993696007, 8.506256237985372, 7.671289820119412, 6.837916553730276, 6.004416064675691, 6.004416045560967, 6.003833268703482, 6.001727726630085, 5.9747005213476605, 5.170469460271908, 5.170469334459785, 5.170469332114615, 5.170108895043521, 5.169432151153726, 5.16544608859861, 10.174363832924062, 4.336522620221889, 4.336522620221889, 4.336266611769863, 4.334445844027633, 3.502575965218429, 3.502575965218429, 3.50257595005169, 3.50257595005169, 3.50257595005169, 39.40114485822127, 7.5776484919534495, 10.134150753977867, 17.449770726752327, 29.790083520966135, 25.93954901951512, 9.245908885454996, 20.139589199014345, 14.125616501229556, 10.490347094770359, 10.15526035168769, 22.537616931259375, 8.301067107014342, 17.68125819085697, 36.42262228146155, 11.727977003903463, 44.92084664806545, 14.394210876424095, 9.341048910321343, 14.345537786288574, 13.409482888748506, 37.135153542365664, 17.112960420567482, 17.020015023649083, 10.884647949920494, 21.92764355755546, 31.26636031243975, 17.36717588485439, 17.758340328828197, 17.243830106358594, 17.069430673196173, 15.179702879751446, 16.920717754903933, 13.133330831209943, 13.510768408862937, 13.09995361120607, 13.391669935112008, 13.58477328371774, 13.651003704350734, 13.448089555314501, 29.8868071806744, 13.014396038803108, 9.801587213151171, 9.801587153158204, 17.032677196869663, 7.391360816221725, 7.391360724323625, 35.80296328367306, 21.04974092274008, 5.784543217740033, 5.784543137459262, 5.783346664560369, 4.9811343373224135, 9.801788580453128, 4.177725652153276, 4.177725652153276, 4.177725618227509, 4.177725618227509, 4.177725618227509, 4.177725536560024, 4.174453562909598, 3.3743168175866174, 3.3743168151813956, 3.3743168151813956, 3.3724135739292493, 3.366218335237334, 7.384898973051847, 5.784670173074728, 2.5709080155404713, 2.5709080155404713, 4.981328194817956, 46.21614946217665, 7.3864418662433255, 24.80471771118412, 4.981401058059039, 9.61254512318136, 4.877117827583149, 10.606757543005225, 8.99934577356802, 16.230134535163035, 24.294173871486038, 22.800182570573664, 15.140377512347149, 11.375802072025278, 17.986289055723013, 6.588092484158396, 11.873081815127218, 16.95804034661099, 41.031353242661716, 9.802632235760399, 43.084061436686085, 20.583147510677755, 9.579602334133698, 15.200903570327613, 12.213637856083146, 14.558775800602708, 16.068965115875816, 13.491807502247944, 13.091557255757609, 13.27028695743308, 10.510111269853077, 12.1902895861237, 10.895057151838731, 10.53714432798983], \"Total\": [87.0, 68.0, 79.0, 39.0, 137.0, 264.0, 48.0, 30.0, 66.0, 83.0, 46.0, 77.0, 61.0, 40.0, 89.0, 422.0, 23.0, 88.0, 35.0, 100.0, 65.0, 46.0, 29.0, 18.0, 28.0, 75.0, 57.0, 44.0, 154.0, 28.0, 31.866605570212815, 29.13115185718433, 21.83641780427376, 19.100585747411724, 15.453523143159561, 14.541685606801941, 14.541676268476527, 12.718000854369789, 12.717997401164027, 10.894291597350007, 23.650429481645766, 9.982473768191873, 9.982473763539582, 9.982473757719095, 9.981657217545248, 19.904317546296237, 22.691530641055767, 9.070631400373617, 9.070631396803693, 9.070631390572228, 9.070382895618295, 9.070170296252515, 8.158789024640702, 8.158789017420316, 8.158789011991376, 8.1587789553814, 8.158383064880075, 7.2469466718157936, 7.246946665144649, 7.246946643071964, 15.410548410788543, 20.838742144755724, 14.498707090352362, 89.47475433622262, 29.871204249249136, 15.44157841959148, 29.086563726322392, 33.43277877168772, 65.75899122920819, 100.82433557909683, 28.037736262015198, 108.66716433797824, 44.74156377974069, 38.87793023847605, 17.191183546676342, 89.25199601635877, 68.46727664794126, 25.194655593785367, 119.737586716993, 32.49466198763921, 27.00412883664396, 24.31812409888302, 34.79956359306808, 35.97651553679256, 422.995544778738, 41.79579817602694, 149.85868501576795, 68.7639671797571, 83.4444171879712, 62.31384453692586, 37.64865547407925, 165.6483428536938, 154.57761910227794, 102.1447114748296, 71.69840989323626, 120.38712778706389, 122.97778327835162, 94.26945540789437, 89.83961206918421, 90.71717446692625, 92.79046430011263, 97.64475011875541, 29.732251593336944, 28.8300909647344, 21.61311576385335, 87.32726835527173, 12.591620068578564, 13.494455722532186, 11.689644635220642, 11.689654984634123, 11.689300318576732, 10.787517233330187, 10.787117254198051, 10.787636539399173, 9.88538385255787, 9.88538385255787, 9.88538384722316, 9.885383844733848, 9.885379227241948, 9.885165137858467, 8.983250482336489, 8.983256456804815, 79.98188119443186, 8.080833084849235, 8.080797799556036, 8.081183891017343, 8.081321551722386, 7.178983721138041, 7.178983717621009, 7.178983562489359, 7.1789803897214535, 7.179024295299162, 25.146592857714342, 19.610836636191284, 26.6545833946629, 137.5912954166034, 16.219592453342926, 77.09003258278013, 75.37101850741253, 26.016540436910425, 28.634004145858523, 60.639272241291444, 26.003164538318295, 75.53019918623174, 57.77968178510726, 35.637056252808165, 16.968126812600318, 34.31521330807352, 165.6483428536938, 59.94107409155424, 66.94141784303339, 122.97778327835162, 71.22665060239713, 139.7823087187674, 31.496802622179512, 22.48765024674291, 74.08989687628932, 422.995544778738, 32.17880826811247, 264.42425449113244, 115.4240381424697, 96.89970356426845, 102.1447114748296, 149.85868501576795, 154.57761910227794, 94.26945540789437, 56.40870207011468, 92.79046430011263, 79.14359952712043, 81.57316842837639, 120.38712778706389, 13.02880747696463, 9.553243468501762, 7.815404796386654, 6.077566128162882, 6.077566115174406, 6.077750707085639, 12.963566207158015, 6.0786160592398435, 5.208646791350405, 5.208646788102536, 5.208646785909276, 5.208682736245855, 5.208803032546847, 5.208803035225591, 5.2088748084032455, 5.208911530426621, 5.209501851939619, 11.333902273057708, 5.21003915537687, 5.212565858737296, 12.21450899123475, 4.339727455814731, 4.339727455814731, 4.339727455972298, 4.339727455972298, 4.339727455972298, 4.3397274554920005, 4.339727454713885, 4.3397274540742155, 4.339727454073528, 9.596156964015272, 12.21600004656585, 13.091347299254988, 8.717571832356308, 19.282591949710515, 7.780473643624744, 7.848593096233724, 7.858262184243445, 44.845324941913134, 31.157473972362716, 20.838029839599887, 14.829978667250987, 83.4444171879712, 17.1858549891956, 36.59861775835928, 264.42425449113244, 17.454321458923825, 422.995544778738, 21.572057721963745, 18.23499189412804, 57.76709166376783, 139.7823087187674, 36.393436413171294, 47.390989294700816, 90.71717446692625, 61.826293320585634, 79.14359952712043, 63.8635561195718, 115.4240381424697, 66.45381101203782, 46.623761078372624, 120.38712778706389, 165.6483428536938, 26.89968608283992, 52.07405161329021, 27.660241152587744, 88.65402316110979, 57.085717673157745, 42.74472207771614, 154.57761910227794, 149.85868501576795, 78.18852717363055, 100.82433557909683, 96.89970356426845, 102.1447114748296, 97.64475011875541, 122.97778327835162, 17.543057834580974, 12.539715680096009, 10.871410662779738, 10.871909402044025, 10.872119557206245, 10.03755536270472, 9.203517238443677, 8.369645401634855, 7.5356654958187015, 6.701677105161848, 6.70167710597453, 6.701719873067899, 6.701928126448903, 6.704018160066104, 5.867730390745631, 5.867730394231486, 5.8677303945689685, 5.867764060384583, 5.867806556487373, 5.868069149849369, 11.67495446550391, 5.033783682845651, 5.033783682845651, 5.033804615693013, 5.033977660273654, 4.199836969772959, 4.199836969772959, 4.19983697020448, 4.19983697020448, 4.19983697020448, 48.56584260380817, 9.279349124997884, 12.610894799717652, 22.702984497025014, 40.659006402448654, 35.67848614719385, 11.826578761709017, 28.695862145801517, 19.53919985657436, 14.09721351995374, 13.565624751578238, 40.21704603997232, 11.04636785043019, 31.474315717418285, 88.65402316110979, 18.77678918648497, 154.57761910227794, 27.68536089784412, 14.387277275613819, 31.268038881567236, 29.374207109851913, 264.42425449113244, 57.77968178510726, 58.21804976285358, 21.2731407202807, 149.85868501576795, 422.995544778738, 89.83961206918421, 96.89970356426845, 97.64475011875541, 120.38712778706389, 74.08989687628932, 137.5912954166034, 39.85795466372249, 66.45381101203782, 64.15073300261857, 79.14359952712043, 102.1447114748296, 119.737586716993, 139.7823087187674, 30.59017567741171, 13.718702430945132, 10.504955712250789, 10.504955717066215, 18.604520740223514, 8.094729316501454, 8.09472932434393, 39.82194273375697, 23.490482460119267, 6.487911719379985, 6.487911726115718, 6.488018764814765, 5.684502927630398, 11.3738586293177, 4.881094119516933, 4.881094119516933, 4.88109412234577, 4.88109412234577, 4.88109412234577, 4.881094129197852, 4.881386873809644, 4.0776853239035455, 4.077685324099583, 4.077685324099583, 4.077855612689291, 4.078683899405612, 8.997635829026658, 7.356820704432564, 3.2742765255802686, 3.2742765255802686, 6.518489865452395, 68.74612499762176, 10.597366394444805, 46.69234931643381, 6.58660350620568, 15.008714617357466, 6.609486331295102, 18.483690503998282, 14.896428614190429, 35.45287394350757, 66.94141784303339, 61.826293320585634, 34.09185496472225, 22.764823808652682, 46.623761078372624, 10.026828646736686, 26.0363498747493, 49.871465197643474, 264.42425449113244, 20.135691158028234, 422.995544778738, 97.64475011875541, 21.10034660218439, 68.7639671797571, 39.25821918838295, 71.69840989323626, 120.38712778706389, 92.79046430011263, 89.83961206918421, 119.737586716993, 32.37926077153868, 149.85868501576795, 65.75899122920819, 96.89970356426845], \"Category\": [\"Default\", \"Default\", \"Default\", \"Default\", \"Default\", \"Default\", \"Default\", \"Default\", \"Default\", \"Default\", \"Default\", \"Default\", \"Default\", \"Default\", \"Default\", \"Default\", \"Default\", \"Default\", \"Default\", \"Default\", \"Default\", \"Default\", \"Default\", \"Default\", \"Default\", \"Default\", \"Default\", \"Default\", \"Default\", \"Default\", \"Topic1\", \"Topic1\", \"Topic1\", \"Topic1\", \"Topic1\", \"Topic1\", \"Topic1\", \"Topic1\", \"Topic1\", \"Topic1\", \"Topic1\", \"Topic1\", \"Topic1\", \"Topic1\", \"Topic1\", \"Topic1\", \"Topic1\", \"Topic1\", \"Topic1\", \"Topic1\", \"Topic1\", \"Topic1\", \"Topic1\", \"Topic1\", \"Topic1\", \"Topic1\", \"Topic1\", \"Topic1\", \"Topic1\", \"Topic1\", \"Topic1\", \"Topic1\", \"Topic1\", \"Topic1\", \"Topic1\", \"Topic1\", \"Topic1\", \"Topic1\", \"Topic1\", \"Topic1\", \"Topic1\", \"Topic1\", \"Topic1\", \"Topic1\", \"Topic1\", \"Topic1\", \"Topic1\", \"Topic1\", \"Topic1\", \"Topic1\", \"Topic1\", \"Topic1\", \"Topic1\", \"Topic1\", \"Topic1\", \"Topic1\", \"Topic1\", \"Topic1\", \"Topic1\", \"Topic1\", \"Topic1\", \"Topic1\", \"Topic1\", \"Topic1\", \"Topic1\", \"Topic1\", \"Topic1\", \"Topic1\", \"Topic1\", \"Topic1\", \"Topic1\", \"Topic1\", \"Topic2\", \"Topic2\", \"Topic2\", \"Topic2\", \"Topic2\", \"Topic2\", \"Topic2\", \"Topic2\", \"Topic2\", \"Topic2\", \"Topic2\", \"Topic2\", \"Topic2\", \"Topic2\", \"Topic2\", \"Topic2\", \"Topic2\", \"Topic2\", \"Topic2\", \"Topic2\", \"Topic2\", \"Topic2\", \"Topic2\", \"Topic2\", \"Topic2\", \"Topic2\", \"Topic2\", \"Topic2\", \"Topic2\", \"Topic2\", \"Topic2\", \"Topic2\", \"Topic2\", \"Topic2\", \"Topic2\", \"Topic2\", \"Topic2\", \"Topic2\", \"Topic2\", \"Topic2\", \"Topic2\", \"Topic2\", \"Topic2\", \"Topic2\", \"Topic2\", \"Topic2\", \"Topic2\", \"Topic2\", \"Topic2\", \"Topic2\", \"Topic2\", \"Topic2\", \"Topic2\", \"Topic2\", \"Topic2\", \"Topic2\", \"Topic2\", \"Topic2\", \"Topic2\", \"Topic2\", \"Topic2\", \"Topic2\", \"Topic2\", \"Topic2\", \"Topic2\", \"Topic2\", \"Topic2\", \"Topic2\", \"Topic2\", \"Topic3\", \"Topic3\", \"Topic3\", \"Topic3\", \"Topic3\", \"Topic3\", \"Topic3\", \"Topic3\", \"Topic3\", \"Topic3\", \"Topic3\", \"Topic3\", \"Topic3\", \"Topic3\", \"Topic3\", \"Topic3\", \"Topic3\", \"Topic3\", \"Topic3\", \"Topic3\", \"Topic3\", \"Topic3\", \"Topic3\", \"Topic3\", \"Topic3\", \"Topic3\", \"Topic3\", \"Topic3\", \"Topic3\", \"Topic3\", \"Topic3\", \"Topic3\", \"Topic3\", \"Topic3\", \"Topic3\", \"Topic3\", \"Topic3\", \"Topic3\", \"Topic3\", \"Topic3\", \"Topic3\", \"Topic3\", \"Topic3\", \"Topic3\", \"Topic3\", \"Topic3\", \"Topic3\", \"Topic3\", \"Topic3\", \"Topic3\", \"Topic3\", \"Topic3\", \"Topic3\", \"Topic3\", \"Topic3\", \"Topic3\", \"Topic3\", \"Topic3\", \"Topic3\", \"Topic3\", \"Topic3\", \"Topic3\", \"Topic3\", \"Topic3\", \"Topic3\", \"Topic3\", \"Topic3\", \"Topic3\", \"Topic3\", \"Topic3\", \"Topic3\", \"Topic3\", \"Topic3\", \"Topic3\", \"Topic3\", \"Topic3\", \"Topic3\", \"Topic4\", \"Topic4\", \"Topic4\", \"Topic4\", \"Topic4\", \"Topic4\", \"Topic4\", \"Topic4\", \"Topic4\", \"Topic4\", \"Topic4\", \"Topic4\", \"Topic4\", \"Topic4\", \"Topic4\", \"Topic4\", \"Topic4\", \"Topic4\", \"Topic4\", \"Topic4\", \"Topic4\", \"Topic4\", \"Topic4\", \"Topic4\", \"Topic4\", \"Topic4\", \"Topic4\", \"Topic4\", \"Topic4\", \"Topic4\", \"Topic4\", \"Topic4\", \"Topic4\", \"Topic4\", \"Topic4\", \"Topic4\", \"Topic4\", \"Topic4\", \"Topic4\", \"Topic4\", \"Topic4\", \"Topic4\", \"Topic4\", \"Topic4\", \"Topic4\", \"Topic4\", \"Topic4\", \"Topic4\", \"Topic4\", \"Topic4\", \"Topic4\", \"Topic4\", \"Topic4\", \"Topic4\", \"Topic4\", \"Topic4\", \"Topic4\", \"Topic4\", \"Topic4\", \"Topic4\", \"Topic4\", \"Topic4\", \"Topic4\", \"Topic4\", \"Topic4\", \"Topic4\", \"Topic4\", \"Topic4\", \"Topic4\", \"Topic4\", \"Topic5\", \"Topic5\", \"Topic5\", \"Topic5\", \"Topic5\", \"Topic5\", \"Topic5\", \"Topic5\", \"Topic5\", \"Topic5\", \"Topic5\", \"Topic5\", \"Topic5\", \"Topic5\", \"Topic5\", \"Topic5\", \"Topic5\", \"Topic5\", \"Topic5\", \"Topic5\", \"Topic5\", \"Topic5\", \"Topic5\", \"Topic5\", \"Topic5\", \"Topic5\", \"Topic5\", \"Topic5\", \"Topic5\", \"Topic5\", \"Topic5\", \"Topic5\", \"Topic5\", \"Topic5\", \"Topic5\", \"Topic5\", \"Topic5\", \"Topic5\", \"Topic5\", \"Topic5\", \"Topic5\", \"Topic5\", \"Topic5\", \"Topic5\", \"Topic5\", \"Topic5\", \"Topic5\", \"Topic5\", \"Topic5\", \"Topic5\", \"Topic5\", \"Topic5\", \"Topic5\", \"Topic5\", \"Topic5\", \"Topic5\", \"Topic5\", \"Topic5\", \"Topic5\", \"Topic5\", \"Topic5\", \"Topic5\", \"Topic5\", \"Topic5\"], \"logprob\": [30.0, 29.0, 28.0, 27.0, 26.0, 25.0, 24.0, 23.0, 22.0, 21.0, 20.0, 19.0, 18.0, 17.0, 16.0, 15.0, 14.0, 13.0, 12.0, 11.0, 10.0, 9.0, 8.0, 7.0, 6.0, 5.0, 4.0, 3.0, 2.0, 1.0, -5.6194, -5.7112, -6.0075, -6.1461, -6.3666, -6.4303, -6.4304, -6.5714, -6.5714, -6.7359, -5.9651, -6.8292, -6.8292, -6.8292, -6.8309, -6.1459, -6.0151, -6.9324, -6.9324, -6.9324, -6.9327, -6.9329, -7.0475, -7.0475, -7.0475, -7.0476, -7.0479, -7.1775, -7.1775, -7.1775, -6.4304, -6.1459, -6.4984, -4.7381, -5.8123, -6.4443, -5.8683, -5.7438, -5.1347, -4.7534, -5.9248, -4.7265, -5.5133, -5.6575, -6.3667, -4.9767, -5.2242, -6.0559, -4.8156, -5.862, -6.0135, -6.1002, -5.8484, -5.8326, -4.2619, -5.7634, -5.0033, -5.4776, -5.4105, -5.5788, -5.8484, -5.1484, -5.2838, -5.4639, -5.6645, -5.5354, -5.557, -5.6882, -5.6965, -5.7439, -5.7544, -5.7808, -5.492, -5.5236, -5.8198, -4.4428, -6.3839, -6.3151, -6.4625, -6.4625, -6.4634, -6.548, -6.5488, -6.5497, -6.6415, -6.6415, -6.6415, -6.6415, -6.6416, -6.6418, -6.7447, -6.7448, -4.5598, -6.8604, -6.8604, -6.8606, -6.8638, -6.9898, -6.9898, -6.9898, -6.9899, -6.9904, -5.7474, -6.0098, -5.7776, -4.2774, -6.2416, -4.8395, -4.8665, -5.8197, -5.7458, -5.1052, -5.8372, -4.999, -5.331, -5.6978, -6.2426, -5.7413, -4.6111, -5.3522, -5.2824, -4.9194, -5.2978, -4.9177, -5.8509, -6.0626, -5.3596, -4.3665, -5.8625, -4.7129, -5.2123, -5.3289, -5.3524, -5.2681, -5.3126, -5.4685, -5.6072, -5.5764, -5.6267, -5.639, -5.658, -6.0962, -6.4269, -6.6452, -6.9248, -6.9248, -6.9256, -6.1694, -6.9298, -7.1007, -7.1007, -7.1007, -7.1009, -7.1014, -7.1014, -7.1019, -7.1022, -7.1056, -6.3336, -7.1112, -7.1188, -6.2748, -7.3143, -7.3143, -7.3143, -7.3143, -7.3143, -7.3143, -7.3143, -7.3143, -7.3143, -6.5301, -6.3058, -6.2478, -6.6451, -5.9048, -6.7754, -6.7753, -6.7752, -5.2901, -5.6279, -5.9643, -6.248, -4.8554, -6.1469, -5.5466, -4.0094, -6.1535, -3.6821, -5.9989, -6.1402, -5.2886, -4.6466, -5.6492, -5.4694, -5.0487, -5.3224, -5.1571, -5.3031, -4.9284, -5.4206, -5.6822, -5.2509, -5.1867, -5.9698, -5.7297, -5.979, -5.5744, -5.7459, -5.8555, -5.4705, -5.5333, -5.7151, -5.6696, -5.745, -5.7861, -5.7914, -5.8009, -5.4683, -5.8215, -5.9725, -5.9731, -5.9732, -6.0582, -6.1515, -6.2548, -6.3698, -6.4998, -6.4998, -6.4999, -6.5003, -6.5048, -6.6493, -6.6493, -6.6493, -6.6494, -6.6495, -6.6503, -5.9724, -6.8252, -6.8252, -6.8253, -6.8257, -7.0388, -7.0388, -7.0388, -7.0388, -7.0388, -4.6185, -6.2671, -5.9764, -5.433, -4.8981, -5.0365, -6.0681, -5.2896, -5.6443, -5.9418, -5.9743, -5.1771, -6.1759, -5.4198, -4.6971, -5.8303, -4.4874, -5.6255, -6.0579, -5.6289, -5.6963, -4.6777, -5.4525, -5.4579, -5.905, -5.2046, -4.8498, -5.4377, -5.4154, -5.4449, -5.455, -5.5723, -5.4638, -5.7172, -5.6888, -5.7197, -5.6977, -5.6834, -5.6785, -5.6935, -4.6723, -5.5036, -5.7872, -5.7872, -5.2346, -6.0694, -6.0694, -4.4917, -5.0228, -6.3145, -6.3145, -6.3147, -6.464, -5.7871, -6.6399, -6.6399, -6.6399, -6.6399, -6.6399, -6.6399, -6.6407, -6.8535, -6.8535, -6.8535, -6.8541, -6.8559, -6.0703, -6.3145, -7.1254, -7.1254, -6.464, -4.2364, -6.0701, -4.8587, -6.464, -5.8066, -6.4851, -5.7082, -5.8725, -5.2828, -4.8795, -4.9429, -5.3523, -5.6382, -5.1801, -6.1844, -5.5954, -5.239, -4.3554, -5.787, -4.3065, -5.0452, -5.8101, -5.3483, -5.5671, -5.3915, -5.2928, -5.4676, -5.4977, -5.4842, -5.7174, -5.5691, -5.6814, -5.7148], \"loglift\": [30.0, 29.0, 28.0, 27.0, 26.0, 25.0, 24.0, 23.0, 22.0, 21.0, 20.0, 19.0, 18.0, 17.0, 16.0, 15.0, 14.0, 13.0, 12.0, 11.0, 10.0, 9.0, 8.0, 7.0, 6.0, 5.0, 4.0, 3.0, 2.0, 1.0, 1.1703, 1.1682, 1.1602, 1.1555, 1.1468, 1.1439, 1.1439, 1.1369, 1.1368, 1.1271, 1.1228, 1.1212, 1.1212, 1.1212, 1.1196, 1.1144, 1.1141, 1.1138, 1.1138, 1.1138, 1.1135, 1.1134, 1.1047, 1.1047, 1.1047, 1.1046, 1.1043, 1.0932, 1.0932, 1.0932, 1.0858, 1.0685, 1.0788, 1.0192, 1.0421, 1.0699, 1.0126, 0.9979, 0.9305, 0.8845, 0.9929, 0.8365, 0.937, 0.9333, 1.0402, 0.7831, 0.8007, 0.9687, 0.6503, 0.9082, 0.9418, 0.9598, 0.8533, 0.8358, -0.058, 0.7551, 0.2383, 0.543, 0.4166, 0.5402, 0.7745, -0.007, -0.0732, 0.161, 0.3143, -0.0749, -0.1177, 0.0169, 0.0568, -0.0004, -0.0334, -0.1109, 1.3671, 1.3663, 1.3582, 1.3388, 1.3343, 1.3339, 1.33, 1.33, 1.3292, 1.3249, 1.3241, 1.3231, 1.3187, 1.3187, 1.3187, 1.3187, 1.3186, 1.3184, 1.3112, 1.3111, 1.3096, 1.3014, 1.3013, 1.3011, 1.2979, 1.2903, 1.2903, 1.2903, 1.2902, 1.2897, 1.2791, 1.2654, 1.1907, 1.0495, 1.2234, 1.0668, 1.0623, 1.1728, 1.1509, 1.0411, 1.1559, 0.9277, 0.8636, 0.9801, 1.1773, 0.9744, 0.5303, 0.8057, 0.765, 0.5199, 0.6876, 0.3935, 0.9505, 1.0757, 0.5864, -0.1626, 0.9174, -0.0392, 0.2904, 0.3487, 0.2724, -0.0266, -0.1021, 0.2366, 0.6114, 0.1445, 0.2533, 0.2108, -0.1974, 1.5878, 1.5674, 1.55, 1.5219, 1.5219, 1.521, 1.5197, 1.5166, 1.5003, 1.5003, 1.5003, 1.5, 1.4995, 1.4995, 1.499, 1.4987, 1.4952, 1.4898, 1.4895, 1.4813, 1.4738, 1.4692, 1.4692, 1.4692, 1.4692, 1.4692, 1.4692, 1.4692, 1.4692, 1.4692, 1.4598, 1.4427, 1.4315, 1.4408, 1.3872, 1.4242, 1.4157, 1.4145, 1.158, 1.1843, 1.2502, 1.3066, 0.9716, 1.2602, 1.1046, 0.6643, 1.2382, 0.5218, 1.1809, 1.2077, 0.9062, 0.6646, 1.0076, 0.9234, 0.6948, 0.8045, 0.7229, 0.7914, 0.5742, 0.6342, 0.727, 0.2096, -0.0453, 0.9894, 0.5689, 0.9523, 0.1921, 0.4608, 0.6405, -0.26, -0.2918, 0.177, -0.0317, -0.0674, -0.1612, -0.1215, -0.3616, 1.9183, 1.9009, 1.8927, 1.892, 1.8918, 1.8867, 1.8802, 1.8718, 1.8618, 1.8491, 1.8491, 1.849, 1.8486, 1.8438, 1.8324, 1.8324, 1.8324, 1.8324, 1.8322, 1.8314, 1.8214, 1.8098, 1.8098, 1.8098, 1.8093, 1.7774, 1.7774, 1.7774, 1.7774, 1.7774, 1.7498, 1.7564, 1.7403, 1.6958, 1.6479, 1.6402, 1.7128, 1.6049, 1.6345, 1.6634, 1.6694, 1.3798, 1.6732, 1.3823, 1.0694, 1.4883, 0.7232, 1.3049, 1.527, 1.1798, 1.1748, -0.004, 0.7421, 0.7291, 1.2889, 0.037, -0.6459, 0.3155, 0.2621, 0.2251, 0.0055, 0.3736, -0.1368, 0.8488, 0.3659, 0.3703, 0.1823, -0.0585, -0.2125, -0.3823, 2.1583, 2.1289, 2.1123, 2.1123, 2.0933, 2.0907, 2.0907, 2.0752, 2.0718, 2.0668, 2.0668, 2.0666, 2.0495, 2.0328, 2.026, 2.026, 2.026, 2.026, 2.026, 2.026, 2.0251, 1.9922, 1.9922, 1.9922, 1.9916, 1.9896, 1.984, 1.9411, 1.9397, 1.9397, 1.9126, 1.7845, 1.8206, 1.549, 1.9022, 1.736, 1.8776, 1.6262, 1.6776, 1.4002, 1.168, 1.184, 1.3699, 1.4878, 1.2291, 1.7616, 1.3963, 1.1028, 0.3183, 1.4617, -0.1027, 0.6247, 1.3919, 0.6722, 1.0139, 0.5873, 0.1677, 0.2533, 0.2555, -0.0182, 1.0564, -0.3275, 0.3839, -0.0372]}, \"token.table\": {\"Topic\": [5, 3, 3, 3, 5, 2, 2, 5, 2, 4, 1, 2, 1, 2, 3, 4, 5, 1, 3, 1, 5, 1, 2, 3, 4, 5, 1, 1, 2, 1, 2, 1, 2, 3, 4, 3, 4, 5, 4, 1, 2, 3, 4, 5, 1, 3, 1, 5, 2, 3, 4, 5, 2, 4, 5, 4, 1, 2, 3, 4, 5, 5, 2, 3, 4, 5, 1, 5, 1, 3, 5, 5, 1, 2, 3, 4, 1, 2, 3, 4, 1, 2, 3, 4, 5, 1, 3, 2, 1, 2, 3, 4, 1, 2, 3, 4, 5, 3, 1, 2, 3, 1, 3, 2, 3, 5, 2, 4, 4, 1, 2, 3, 4, 5, 3, 5, 1, 3, 4, 1, 2, 3, 4, 5, 1, 3, 1, 2, 3, 4, 1, 2, 3, 4, 5, 1, 2, 4, 5, 1, 2, 3, 4, 1, 2, 3, 4, 5, 3, 2, 3, 1, 2, 3, 4, 5, 2, 4, 5, 2, 3, 4, 5, 1, 4, 1, 2, 3, 4, 5, 1, 5, 1, 3, 4, 5, 1, 4, 3, 1, 1, 2, 3, 1, 2, 3, 4, 4, 4, 1, 2, 3, 4, 5, 1, 2, 3, 4, 5, 3, 4, 1, 1, 1, 2, 3, 4, 5, 3, 1, 2, 3, 5, 1, 3, 1, 3, 2, 3, 4, 5, 1, 1, 3, 3, 5, 1, 2, 3, 4, 5, 1, 2, 1, 4, 1, 3, 4, 1, 2, 3, 4, 5, 3, 5, 2, 1, 2, 3, 4, 3, 5, 1, 1, 2, 3, 4, 5, 5, 1, 2, 3, 4, 5, 1, 2, 3, 4, 5, 1, 2, 3, 4, 5, 3, 1, 2, 3, 5, 3, 5, 1, 2, 3, 4, 5, 2, 5, 1, 3, 1, 3, 4, 2, 1, 4, 2, 4, 3, 5, 5, 3, 4, 5, 2, 3, 2, 3, 4, 1, 2, 3, 4, 5, 1, 2, 3, 4, 5, 3, 1, 2, 3, 4, 5, 1, 2, 3, 4, 5, 2, 3, 4, 5, 1, 1, 1, 2, 3, 4, 5, 1, 2, 3, 1, 2, 3, 4, 5, 2, 1, 3, 1, 2, 4, 5, 1, 2, 3, 4, 5, 1, 2, 3, 4, 5, 1, 3, 4, 5, 1, 5, 1, 2, 3, 4, 5, 2, 3, 1, 2, 3, 4, 5, 3, 3, 1, 2, 3, 4, 5, 1, 5, 1, 2, 3, 4, 5, 2, 3, 2, 4, 4, 4, 1, 2, 3, 1, 2, 3, 4, 2, 1, 3, 4, 2, 1, 2, 4, 5, 2, 4, 1, 3, 4, 5, 1, 2, 3, 4, 5, 1, 2, 3, 4, 1, 1, 2, 3, 4, 5, 1, 2, 4, 1, 2, 1, 2, 3, 4, 5, 4, 5, 1, 2, 3, 4, 5, 1, 3, 5, 1, 3, 4, 1, 3, 5, 2, 3, 1, 3, 4, 5, 2, 1, 3, 4, 5, 5, 1, 1, 2, 3, 4, 5, 1, 2, 3, 4, 5, 2, 2, 4, 5, 1, 1, 2, 3, 4, 1, 2, 4, 5, 2, 3, 4, 5, 2, 5, 5, 1, 2, 3, 2, 5, 1, 3, 4, 5, 3, 1, 2, 3, 4, 1, 2, 3, 4, 5, 3, 2, 1, 1, 3, 1, 2, 4, 5, 4, 2, 3, 4, 5, 1, 1, 2, 3, 4, 5, 2, 5, 1, 2, 3, 4, 5, 1, 2, 3, 4, 5, 5, 3, 4, 1, 2, 3, 5, 1, 1, 1, 3, 5, 5, 1, 2, 3, 4, 5, 4, 4, 1, 4, 5, 2, 2, 4, 1, 2, 3, 4, 1, 2, 3, 5, 3, 3, 3, 5, 1, 3, 4, 2, 2, 1, 2, 3, 4, 5, 2, 3, 4, 5, 1, 2, 3, 4, 5, 4, 1, 2, 3, 4, 5, 1, 3, 4, 1, 2, 3, 4, 5, 1, 3, 1, 2, 4, 5, 1, 2, 3, 4, 5, 2, 3, 4, 5, 1, 2, 3, 4, 5, 1, 2, 3, 4, 5, 1, 3, 1, 2, 3, 4, 5, 3, 1, 3, 4, 1, 2, 3, 4, 5, 1, 2, 3, 4, 5, 3, 1, 2, 3, 4, 5, 1, 2, 3, 4, 5, 1, 2, 3, 4, 5, 4, 1, 1, 2, 4, 3, 5, 1, 4, 2, 4, 5, 1, 2, 3, 4, 5, 1, 2, 3, 4, 5, 1, 2, 3, 4, 5, 4, 5, 2, 2, 4, 5], \"Freq\": [0.9162329377383112, 0.7673763955030334, 0.9217168687044452, 0.8485319413053327, 0.07713926739139389, 0.9712074802070592, 0.11114030607617707, 0.7779821425332395, 0.941031516019715, 0.7946308884172706, 0.12330766051941038, 0.8631536236358727, 0.20612164180835685, 0.326359266196565, 0.06870721393611895, 0.2920056592285055, 0.12023762438820816, 0.10420838297559225, 0.833667063804738, 0.29919729414907026, 0.6981270196811639, 0.16880846167299882, 0.06330317312737456, 0.48532432730987163, 0.08440423083649941, 0.18990951938212366, 0.8579704646990814, 0.8251232502339485, 0.13752054170565808, 0.9066430658563713, 0.06476021898974081, 0.771646016544114, 0.12860766942401902, 0.0257215338848038, 0.0514430677696076, 0.9599134323541286, 0.28308920238641705, 0.6605414722349731, 0.9524179221214479, 0.1702173604652986, 0.27234777674447774, 0.03404347209305972, 0.44256513720977636, 0.06808694418611944, 0.9084686428290214, 0.0648906173449301, 0.9706524435264258, 0.9519316662852876, 0.1925701680862228, 0.6419005602874093, 0.06419005602874094, 0.0962850840431114, 0.9269871082027537, 0.8565343898810986, 0.08565343898810986, 0.8952982820749471, 0.3227974757690128, 0.2337498962465265, 0.10017852696279707, 0.18922610648528335, 0.14470231672404021, 0.7357115033898979, 0.09401526677691294, 0.3290534337191953, 0.5170839672730212, 0.04700763338845647, 0.15129768788008888, 0.7564884394004443, 0.09932611621342766, 0.3973044648537106, 0.49663058106713825, 0.8194883974246472, 0.28896137671887695, 0.10836051626957885, 0.07224034417971924, 0.5056824092580346, 0.0511791684071203, 0.2047166736284812, 0.0511791684071203, 0.7165083576996842, 0.017307121969262047, 0.5884421469549096, 0.05192136590778614, 0.2942210734774548, 0.034614243938524095, 0.9254554191247336, 0.04406930567260636, 0.975371808252119, 0.5135295412729266, 0.1444301834830106, 0.19257357797734748, 0.12838238531823165, 0.2661925052869102, 0.09395029598361536, 0.4227763319262691, 0.18790059196723072, 0.01565838266393589, 0.9599422268953064, 0.8203230027225774, 0.03566621750967728, 0.14266487003870912, 0.8725402738719537, 0.11633870318292716, 0.8357729123869816, 0.9599134328477857, 0.9476114862493145, 0.9716322361591775, 0.895292568719876, 0.8521133345760824, 0.3503503295607019, 0.17517516478035094, 0.3153152966046317, 0.05255254943410528, 0.12262261534624566, 0.08792090992078634, 0.8792090992078635, 0.207440991876616, 0.77790371953731, 0.7946308884172706, 0.28605502231304375, 0.21276819841466063, 0.32624457090247966, 0.0732868238983831, 0.10165591702033787, 0.6640343376196334, 0.31873648205742405, 0.17187720571435894, 0.057292401904786315, 0.6875088228574358, 0.11458480380957263, 0.2685816034539956, 0.29416080378294757, 0.23021280296056768, 0.11510640148028384, 0.08952720115133186, 0.11211238009084093, 0.14014047511355116, 0.728730470590466, 0.028028095022710232, 0.12430541139597742, 0.6215270569798871, 0.24861082279195484, 0.9569594962226546, 0.11522352458896225, 0.07681568305930817, 0.2304470491779245, 0.15363136611861633, 0.460894098355849, 0.9210359444804449, 0.11471084141668678, 0.8029758899168075, 0.30865158846198704, 0.1763723362639926, 0.3858144855774838, 0.07716289711549676, 0.05511635508249769, 0.6734562986837282, 0.056121358223644016, 0.28060679111822007, 0.30749194717419115, 0.13178226307465335, 0.04392742102488445, 0.483201631273729, 0.9728052123937897, 0.852069031962302, 0.6993833000337035, 0.009202411842548731, 0.1472385894807797, 0.07361929474038985, 0.07361929474038985, 0.07533535016253506, 0.9040242019504208, 0.06950585443258137, 0.20851756329774412, 0.6255526898932323, 0.06950585443258137, 0.18105498812644663, 0.7242199525057865, 0.8226977551944766, 0.8580131558339492, 0.17787540966310414, 0.7115016386524166, 0.08893770483155207, 0.0698470248803561, 0.8032407861240952, 0.03492351244017805, 0.0698470248803561, 0.9690442886467321, 0.9558349985098948, 0.06469739305345293, 0.08087174131681615, 0.43670740311080725, 0.048523044790089696, 0.37201001005735435, 0.07230594950228374, 0.18076487375570935, 0.5061416465159861, 0.14461189900456747, 0.10845892425342561, 0.7711612781975491, 0.1285268796995915, 0.8579715222438906, 0.9015801311814736, 0.12147405219132155, 0.4454048580348457, 0.10797693528117472, 0.2024567536522026, 0.12147405219132155, 0.7677485486595462, 0.7339497907422053, 0.04959120207717604, 0.18844656789326894, 0.019836480830870414, 0.8966316733614391, 0.06897166718164917, 0.8375014290978282, 0.14955382662461217, 0.23696293213886735, 0.23696293213886735, 0.04739258642777347, 0.4739258642777347, 0.9627494623767299, 0.8637757439946959, 0.09597508266607732, 0.9598934385415621, 0.8194883978995815, 0.30184425113242264, 0.4225819515853917, 0.18714343570210204, 0.048295080181187625, 0.042258195158539166, 0.9302156655156473, 0.042282530250711235, 0.9016538841045613, 0.8966326635108949, 0.4671171968208933, 0.5220721611527631, 0.8521071633610796, 0.02339470117929072, 0.421104621227233, 0.37431521886865154, 0.04678940235858144, 0.14036820707574435, 0.7678277335693252, 0.9247968004986029, 0.866251102135557, 0.07691371552307788, 0.8075940129923177, 0.07691371552307788, 0.03845685776153894, 0.9217168685685855, 0.8194883974246472, 0.9015801306557888, 0.03717515501557948, 0.22305093009347687, 0.5204521702181127, 0.11152546504673844, 0.11152546504673844, 0.9807070190235126, 0.015048045924993743, 0.2859128725748811, 0.3611531021998498, 0.2106726429499124, 0.12038436739994994, 0.04635626387100952, 0.09271252774201905, 0.6489876941941334, 0.04635626387100952, 0.13906879161302857, 0.28464664066851053, 0.2264234641681334, 0.1487925621676305, 0.2911158825018858, 0.05175393466700192, 0.9217168684033211, 0.23466015587237132, 0.14666259742023208, 0.14666259742023208, 0.43998779226069623, 0.053750376801589464, 0.9137564056270209, 0.13239737360341666, 0.6355073932963999, 0.13239737360341666, 0.05295894944136666, 0.05295894944136666, 0.8668676566621817, 0.10198443019555078, 0.08823086487847541, 0.8823086487847541, 0.7776588582818306, 0.18515687101948347, 0.03703137420389669, 0.9410037980844381, 0.8579704633688903, 0.7946002684053538, 0.8905456544035322, 0.9198016309922434, 0.1359282820903178, 0.8155696925419068, 0.8647602309503218, 0.8225556526801383, 0.8952982821835158, 0.9247967995384813, 0.9504476844773481, 0.045804707685655324, 0.8748700121913714, 0.07953363747194285, 0.9198438280173545, 0.11446369820798226, 0.37200701917594237, 0.37916100031394123, 0.09300175479398559, 0.04292388682799335, 0.1273618646838563, 0.1783066105573988, 0.28019610230448383, 0.1273618646838563, 0.30566847524125507, 0.9599422278980946, 0.2909781754370123, 0.2909781754370123, 0.1508775724488212, 0.11854666406693094, 0.1401006029881911, 0.1804639178803447, 0.2606701036049423, 0.2205670107426435, 0.02005154643114941, 0.34087628932953995, 0.537783649644441, 0.029876869424691165, 0.05975373884938233, 0.358522433096294, 0.9659240399363805, 0.9659240390472035, 0.14594469091482665, 0.716455755400058, 0.09287389421852604, 0.0265353983481503, 0.01326769917407515, 0.738582848134548, 0.06154857067787899, 0.1538714266946975, 0.28195545720643017, 0.3064733230504676, 0.15936612798624314, 0.15936612798624314, 0.09807146337614962, 0.910435055859892, 0.15277266382764268, 0.8402496510520346, 0.1526259341945689, 0.7122543595746549, 0.12355432768131767, 0.007267901628312805, 0.7755593424819345, 0.015207045931018322, 0.015207045931018322, 0.030414091862036644, 0.16727750524120155, 0.26834115171280004, 0.41470905264705465, 0.13823635088235156, 0.10571015067473942, 0.07318395046712729, 0.134260368830606, 0.067130184415303, 0.20139055324590902, 0.604171659737727, 0.9043264084856509, 0.050240356026980605, 0.2481886568245859, 0.4609217912456595, 0.05318328360526841, 0.12409432841229295, 0.12409432841229295, 0.16371971122922827, 0.8185985561461414, 0.19041983390864256, 0.17310893991694778, 0.4847050317674538, 0.13848715193355823, 0.03462178798338956, 0.9599422274938816, 0.9420884152774003, 0.09076323216335228, 0.23825348442879973, 0.37439833267382816, 0.1399266495851681, 0.1550538549457268, 0.9179119092454309, 0.7356807805221776, 0.17543913319326926, 0.3508782663865385, 0.18575908220463802, 0.18575908220463802, 0.11351943912505658, 0.9530147776571732, 0.8226727684257991, 0.9104350565804775, 0.9289159668623925, 0.8949856424525017, 0.7946275839808917, 0.0908029192033785, 0.726423353627028, 0.181605838406757, 0.04947288925339696, 0.709111412632023, 0.19789155701358785, 0.04947288925339696, 0.9104350563512141, 0.08455530717283224, 0.08455530717283224, 0.7609977645554903, 0.8662473196141508, 0.09531581327881775, 0.1906316265576355, 0.5718948796729065, 0.12708775103842365, 0.10776617912845564, 0.8621294330276451, 0.19744520602629168, 0.2820645800375595, 0.05641291600751191, 0.45130332806009527, 0.3524411541254496, 0.3230710579483288, 0.16643054500368454, 0.13706044882656374, 0.019580064118080533, 0.22387077189310256, 0.22387077189310256, 0.06396307768374358, 0.4477415437862051, 0.882012105473403, 0.18251595280773297, 0.4913891037131273, 0.07019844338758961, 0.15443657545269712, 0.09827782074262545, 0.11531125774677606, 0.8071788042274325, 0.07687417183118404, 0.9627500806319851, 0.9269973603474769, 0.1639406176379318, 0.0819703088189659, 0.5737921617327614, 0.1639406176379318, 0.735711503354528, 0.7093600438019623, 0.21280801314058867, 0.12868974662756716, 0.04289658220918905, 0.407517530987296, 0.04289658220918905, 0.3860692398827015, 0.901580130235611, 0.9599356023753018, 0.735711503354528, 0.7813102656578971, 0.164486371717452, 0.041121592929363, 0.2022929410293013, 0.7417407837741047, 0.06743098034310042, 0.12741137013203888, 0.7644682207922332, 0.17839094733647645, 0.6243683156776676, 0.022298868417059556, 0.17839094733647645, 0.8357732817588601, 0.782270377770038, 0.11175291111000545, 0.02235058222200109, 0.08940232888800435, 0.9247815423313287, 0.8819672694797175, 0.5846117490696486, 0.1837351211361753, 0.008351596415280695, 0.11692234981392972, 0.10857075339864904, 0.20071275777934885, 0.20071275777934885, 0.22580185250176746, 0.3261582313914419, 0.07526728416725582, 0.8661949602176241, 0.9633586020289373, 0.8521182235835948, 0.951931666721649, 0.9435445190960896, 0.6610496418386659, 0.20167616191688112, 0.06722538730562704, 0.05602115608802253, 0.838225268752007, 0.08941069533354741, 0.033529010750080274, 0.033529010750080274, 0.2327403908300797, 0.01454627442687998, 0.0727313721343999, 0.6691286236364791, 0.15182331820305156, 0.7591165910152577, 0.8194883974246472, 0.8819672688738116, 0.9104354818475718, 0.959900205690051, 0.9104551997347583, 0.8795843829540017, 0.2662862084854671, 0.053257241697093415, 0.639086900365121, 0.053257241697093415, 0.9217168683347763, 0.6948977583566405, 0.1389795516713281, 0.08338773100279687, 0.08338773100279687, 0.6718538001231158, 0.08763310436388466, 0.014605517393980777, 0.16066069133378855, 0.07302758696990388, 0.9217168687045912, 0.8357681703248742, 0.8819914321218597, 0.1272545986064316, 0.7635275916385895, 0.16230524955776865, 0.2164069994103582, 0.05410174985258955, 0.5951192483784851, 0.9778870150214342, 0.06969645971388315, 0.20908937914164946, 0.6969645971388315, 0.034848229856941575, 0.9435447752884183, 0.1819378384083164, 0.329220850453144, 0.3465482636348884, 0.11262818568133873, 0.034654826363488836, 0.9270317327929548, 0.864760231788134, 0.23382429627714021, 0.3429423012064723, 0.17147115060323614, 0.2026477234401882, 0.046764859255428046, 0.1000983063939691, 0.5505406851668301, 0.16683051065661517, 0.08341525532830758, 0.1000983063939691, 0.8194392502387806, 0.9217168683347763, 0.9524179221214479, 0.2857432898176894, 0.6349850884837542, 0.03174925442418771, 0.03174925442418771, 0.9616961989017238, 0.8579704641281792, 0.7183998136396139, 0.20115194781909188, 0.08620797763675367, 0.8194883978995815, 0.6459979514277238, 0.14355510031727195, 0.02392585005287866, 0.07177755015863597, 0.1196292502643933, 0.9524179220235899, 0.9524179220235899, 0.2665118300919674, 0.06662795752299185, 0.6662795752299184, 0.8662097156062573, 0.8905462466765425, 0.8521182240898144, 0.10967923712891982, 0.05483961856445991, 0.6580754227735189, 0.16451885569337973, 0.45539295833775484, 0.0119840252194146, 0.5153130844348278, 0.0119840252194146, 0.9217168683013105, 0.9217168683013105, 0.08514086517360724, 0.8939790843228759, 0.8819672685266962, 0.15859302862829197, 0.7929651431414598, 0.8357728939171986, 0.9410029649685415, 0.06425035458526654, 0.021416784861755512, 0.29983498806457715, 0.06425035458526654, 0.5354196215438878, 0.05818738728033489, 0.6982486473640187, 0.11637477456066977, 0.11637477456066977, 0.17405554831258857, 0.049730156660739586, 0.17405554831258857, 0.5718968015985053, 0.024865078330369793, 0.8952647487103346, 0.22559607885650337, 0.05639901971412584, 0.23687588279932853, 0.40607294194170607, 0.067678823656951, 0.14743147010367644, 0.07371573505183822, 0.7371573505183822, 0.037905781616262964, 0.31588151346885807, 0.40432833724013834, 0.16425838700380618, 0.07581156323252593, 0.08186984844970925, 0.8186984844970925, 0.04404707231910586, 0.1321412169573176, 0.7488002294247996, 0.08809414463821172, 0.18530379808034378, 0.21618776442706772, 0.06176793269344792, 0.21618776442706772, 0.3397236298139636, 0.8250763419332637, 0.11786804884760911, 0.058934024423804555, 0.9162329377383112, 0.30762880590027747, 0.31823669575890773, 0.16972623773808412, 0.10607889858630258, 0.09547100872767232, 0.3870312888031635, 0.24022631718817047, 0.14680497161499306, 0.14680497161499306, 0.08007543906272349, 0.870403475636693, 0.1339082270210297, 0.7938191465071384, 0.03969095732535692, 0.07938191465071384, 0.03969095732535692, 0.03969095732535692, 0.9217168683013105, 0.14396754506507622, 0.6718485436370224, 0.19195672675343498, 0.27651256178302097, 0.17410050186338358, 0.17410050186338358, 0.17410050186338358, 0.21506532583123852, 0.28242222092164115, 0.20766339773650083, 0.24088954137434096, 0.14121111046082058, 0.13290457455136054, 0.8226977534362745, 0.4184193212188668, 0.1813150391948423, 0.12552579636566005, 0.08368386424377336, 0.2092096606094334, 0.5235300038156868, 0.0290850002119826, 0.08725500063594781, 0.14542500105991302, 0.21813750158986953, 0.46088213335554595, 0.057610266669443244, 0.34566160001665946, 0.038406844446295496, 0.09601711111573874, 0.9524179220235899, 0.9659240428783833, 0.02500566340941772, 0.9252095461484556, 0.05001132681883544, 0.8956669785340299, 0.8194883962742492, 0.9423794766314503, 0.919783851472808, 0.8253739956935551, 0.15006799921701, 0.0375169998042525, 0.9611703696877552, 0.6702566524506689, 0.11656637433924677, 0.17484956150887015, 0.058283187169623385, 0.02059060332089425, 0.06177180996268275, 0.02059060332089425, 0.8030335295148757, 0.082362413283577, 0.07378439035881919, 0.12297398393136531, 0.07378439035881919, 0.7378439035881919, 0.024594796786273063, 0.1534097652433181, 0.7670488262165904, 0.8357728943266494, 0.910435055859892, 0.8521182235345852, 0.7355313807076814], \"Term\": [\"005\", \"16\", \"77\", \"95\", \"95\", \"activation\", \"actual\", \"actual\", \"addition\", \"adi\", \"airflow\", \"airflow\", \"algorithm\", \"algorithm\", \"algorithm\", \"algorithm\", \"algorithm\", \"alter\", \"alter\", \"alternative\", \"alternative\", \"analysis\", \"analysis\", \"analysis\", \"analysis\", \"analysis\", \"anomalies\", \"api\", \"api\", \"app\", \"app\", \"application\", \"application\", \"application\", \"application\", \"assumming\", \"assumption\", \"assumption\", \"autoregressive\", \"average\", \"average\", \"average\", \"average\", \"average\", \"azure\", \"azure\", \"bash\", \"beam\", \"bias\", \"bias\", \"bias\", \"bias\", \"boosting\", \"bounding\", \"bounding\", \"boxes\", \"called\", \"called\", \"called\", \"called\", \"called\", \"cdfteststatistic\", \"cell\", \"cell\", \"cell\", \"cell\", \"characters\", \"characters\", \"chart\", \"chart\", \"chart\", \"claim\", \"class\", \"class\", \"class\", \"class\", \"classes\", \"classes\", \"classes\", \"classes\", \"classification\", \"classification\", \"classification\", \"classification\", \"classification\", \"cloud\", \"cloud\", \"clusters\", \"code\", \"code\", \"code\", \"code\", \"column\", \"column\", \"column\", \"column\", \"column\", \"columnnames\", \"command\", \"command\", \"command\", \"commands\", \"commands\", \"comprehension\", \"confident\", \"container\", \"convolution\", \"corpus\", \"countvectorizer\", \"create\", \"create\", \"create\", \"create\", \"create\", \"critical\", \"critical\", \"csv\", \"csv\", \"cv\\u00b2\", \"data\", \"data\", \"data\", \"data\", \"data\", \"database\", \"database\", \"dataframe\", \"dataframe\", \"dataframe\", \"dataframe\", \"dataset\", \"dataset\", \"dataset\", \"dataset\", \"dataset\", \"decision\", \"decision\", \"decision\", \"decision\", \"deep\", \"deep\", \"deep\", \"demand\", \"dependent\", \"dependent\", \"dependent\", \"dependent\", \"dependent\", \"dev\", \"devops\", \"devops\", \"different\", \"different\", \"different\", \"different\", \"different\", \"dimension\", \"dimension\", \"dimension\", \"dimensions\", \"dimensions\", \"dimensions\", \"dimensions\", \"directory\", \"discriminative\", \"distribution\", \"distribution\", \"distribution\", \"distribution\", \"distribution\", \"docker\", \"docker\", \"document\", \"document\", \"document\", \"document\", \"documents\", \"documents\", \"drift\", \"ec2\", \"element\", \"element\", \"element\", \"elements\", \"elements\", \"elements\", \"elements\", \"embedding\", \"embeddings\", \"error\", \"error\", \"error\", \"error\", \"error\", \"excel\", \"excel\", \"excel\", \"excel\", \"excel\", \"face\", \"face\", \"failure\", \"fastapi\", \"feature\", \"feature\", \"feature\", \"feature\", \"feature\", \"figure\", \"file\", \"file\", \"file\", \"file\", \"filename\", \"filename\", \"files\", \"files\", \"fit\", \"fit\", \"fit\", \"fit\", \"flask\", \"folder\", \"folder\", \"fraud\", \"freedom\", \"function\", \"function\", \"function\", \"function\", \"function\", \"fx\", \"fx\", \"gate\", \"generative\", \"git\", \"git\", \"glove\", \"gradient\", \"gradient\", \"gradient\", \"gradient\", \"gradient\", \"gradients\", \"ha\", \"heuristic\", \"hidden\", \"hidden\", \"hidden\", \"hidden\", \"histogram\", \"ho\", \"houses\", \"human\", \"human\", \"human\", \"human\", \"human\", \"hypothesis\", \"image\", \"image\", \"image\", \"image\", \"image\", \"images\", \"images\", \"images\", \"images\", \"images\", \"import\", \"import\", \"import\", \"import\", \"import\", \"incorrectly\", \"independent\", \"independent\", \"independent\", \"independent\", \"indicators\", \"indicators\", \"input\", \"input\", \"input\", \"input\", \"input\", \"inputs\", \"inputs\", \"insert\", \"insert\", \"install\", \"install\", \"install\", \"intensity\", \"interface\", \"jupyter\", \"keras\", \"knn\", \"kpi\", \"kpi\", \"kpis\", \"labeled\", \"lag\", \"lasso\", \"layer\", \"layer\", \"layers\", \"layers\", \"lda\", \"learning\", \"learning\", \"learning\", \"learning\", \"learning\", \"level\", \"level\", \"level\", \"level\", \"level\", \"lifecycle\", \"like\", \"like\", \"like\", \"like\", \"like\", \"line\", \"line\", \"line\", \"line\", \"line\", \"linear\", \"linear\", \"linear\", \"linear\", \"link\", \"linux\", \"list\", \"list\", \"list\", \"list\", \"list\", \"local\", \"local\", \"local\", \"machine\", \"machine\", \"machine\", \"machine\", \"machine\", \"magnitude\", \"matplotlib\", \"matplotlib\", \"matrix\", \"matrix\", \"matrix\", \"matrix\", \"mean\", \"mean\", \"mean\", \"mean\", \"mean\", \"means\", \"means\", \"means\", \"means\", \"means\", \"measures\", \"measures\", \"measures\", \"measures\", \"median\", \"median\", \"method\", \"method\", \"method\", \"method\", \"method\", \"minibatch\", \"minibatch\", \"ml\", \"ml\", \"ml\", \"ml\", \"ml\", \"mlflow\", \"mlops\", \"model\", \"model\", \"model\", \"model\", \"model\", \"modules\", \"mse\", \"multiple\", \"multiple\", \"multiple\", \"multiple\", \"multiple\", \"multiplication\", \"multitask\", \"na\", \"naive\", \"na\\u00efve\", \"neighbors\", \"network\", \"network\", \"network\", \"neural\", \"neural\", \"neural\", \"neural\", \"neurons\", \"nlp\", \"nlp\", \"nlp\", \"nn\", \"node\", \"node\", \"node\", \"node\", \"nonparametric\", \"nonparametric\", \"null\", \"null\", \"null\", \"null\", \"number\", \"number\", \"number\", \"number\", \"number\", \"object\", \"object\", \"object\", \"object\", \"os\", \"output\", \"output\", \"output\", \"output\", \"output\", \"pa\", \"pa\", \"pa\", \"package\", \"padding\", \"pandas\", \"pandas\", \"pandas\", \"pandas\", \"pane\", \"parametric\", \"parametric\", \"performance\", \"performance\", \"performance\", \"performance\", \"performance\", \"permission\", \"person\", \"pills\", \"pip\", \"pip\", \"pip\", \"pivot\", \"pivot\", \"pivot\", \"place\", \"place\", \"plot\", \"plot\", \"plot\", \"plot\", \"pooling\", \"population\", \"population\", \"population\", \"population\", \"predicted\", \"price\", \"probability\", \"probability\", \"probability\", \"probability\", \"probability\", \"process\", \"process\", \"process\", \"process\", \"process\", \"projection\", \"propagation\", \"prophet\", \"pvalue\", \"pxx\", \"python\", \"python\", \"python\", \"python\", \"random\", \"random\", \"random\", \"random\", \"regression\", \"regression\", \"regression\", \"regression\", \"regularized\", \"regularized\", \"reject\", \"relational\", \"relu\", \"repo\", \"resultant\", \"ridge\", \"rnn\", \"rnn\", \"rnn\", \"rnn\", \"round235415\", \"run\", \"run\", \"run\", \"run\", \"sample\", \"sample\", \"sample\", \"sample\", \"sample\", \"saving\", \"scheduler\", \"script\", \"seaborn\", \"seaborn\", \"search\", \"search\", \"search\", \"search\", \"seasonal\", \"series\", \"series\", \"series\", \"series\", \"services\", \"set\", \"set\", \"set\", \"set\", \"set\", \"sigmoid\", \"significance\", \"single\", \"single\", \"single\", \"single\", \"single\", \"size\", \"size\", \"size\", \"size\", \"size\", \"sklearnlinearmodel\", \"slicer\", \"smoothing\", \"space\", \"space\", \"space\", \"space\", \"spark\", \"spread\", \"sql\", \"sql\", \"sql\", \"sse\", \"standard\", \"standard\", \"standard\", \"standard\", \"standard\", \"stationarity\", \"stationary\", \"statistic\", \"statistic\", \"statistic\", \"streamlit\", \"stride\", \"subnodes\", \"tab\", \"tab\", \"tab\", \"tab\", \"table\", \"table\", \"table\", \"table\", \"table1\", \"table2\", \"tableau\", \"tableau\", \"tar\", \"target\", \"target\", \"tensor\", \"tensorflow\", \"test\", \"test\", \"test\", \"test\", \"test\", \"testing\", \"testing\", \"testing\", \"testing\", \"text\", \"text\", \"text\", \"text\", \"text\", \"tfidf\", \"time\", \"time\", \"time\", \"time\", \"time\", \"topic\", \"topic\", \"topic\", \"training\", \"training\", \"training\", \"training\", \"training\", \"transfer\", \"transfer\", \"tree\", \"tree\", \"tree\", \"tree\", \"true\", \"true\", \"true\", \"true\", \"true\", \"tuple\", \"tuple\", \"tuple\", \"twotailed\", \"use\", \"use\", \"use\", \"use\", \"use\", \"used\", \"used\", \"used\", \"used\", \"used\", \"user\", \"user\", \"users\", \"users\", \"users\", \"users\", \"users\", \"utc\", \"validation\", \"validation\", \"validation\", \"value\", \"value\", \"value\", \"value\", \"value\", \"values\", \"values\", \"values\", \"values\", \"values\", \"varchar255\", \"variable\", \"variable\", \"variable\", \"variable\", \"variable\", \"variables\", \"variables\", \"variables\", \"variables\", \"variables\", \"variance\", \"variance\", \"variance\", \"variance\", \"variance\", \"variations\", \"varx\", \"vector\", \"vector\", \"vector\", \"versioning\", \"vif\", \"virtual\", \"vocabulary\", \"volume\", \"volume\", \"volume\", \"web\", \"weights\", \"weights\", \"weights\", \"weights\", \"word\", \"word\", \"word\", \"word\", \"word\", \"words\", \"words\", \"words\", \"words\", \"words\", \"workbook\", \"workbook\", \"xy\", \"xyz\", \"yolo\", \"ypred\"]}, \"R\": 30, \"lambda.step\": 0.01, \"plot.opts\": {\"xlab\": \"PC1\", \"ylab\": \"PC2\"}, \"topic.order\": [4, 1, 3, 2, 5]};\n",
              "\n",
              "function LDAvis_load_lib(url, callback){\n",
              "  var s = document.createElement('script');\n",
              "  s.src = url;\n",
              "  s.async = true;\n",
              "  s.onreadystatechange = s.onload = callback;\n",
              "  s.onerror = function(){console.warn(\"failed to load library \" + url);};\n",
              "  document.getElementsByTagName(\"head\")[0].appendChild(s);\n",
              "}\n",
              "\n",
              "if(typeof(LDAvis) !== \"undefined\"){\n",
              "   // already loaded: just create the visualization\n",
              "   !function(LDAvis){\n",
              "       new LDAvis(\"#\" + \"ldavis_el20251398454392269606616149535\", ldavis_el20251398454392269606616149535_data);\n",
              "   }(LDAvis);\n",
              "}else if(typeof define === \"function\" && define.amd){\n",
              "   // require.js is available: use it to load d3/LDAvis\n",
              "   require.config({paths: {d3: \"https://d3js.org/d3.v5\"}});\n",
              "   require([\"d3\"], function(d3){\n",
              "      window.d3 = d3;\n",
              "      LDAvis_load_lib(\"https://cdn.jsdelivr.net/gh/bmabey/pyLDAvis@3.3.1/pyLDAvis/js/ldavis.v3.0.0.js\", function(){\n",
              "        new LDAvis(\"#\" + \"ldavis_el20251398454392269606616149535\", ldavis_el20251398454392269606616149535_data);\n",
              "      });\n",
              "    });\n",
              "}else{\n",
              "    // require.js not available: dynamically load d3 & LDAvis\n",
              "    LDAvis_load_lib(\"https://d3js.org/d3.v5.js\", function(){\n",
              "         LDAvis_load_lib(\"https://cdn.jsdelivr.net/gh/bmabey/pyLDAvis@3.3.1/pyLDAvis/js/ldavis.v3.0.0.js\", function(){\n",
              "                 new LDAvis(\"#\" + \"ldavis_el20251398454392269606616149535\", ldavis_el20251398454392269606616149535_data);\n",
              "            })\n",
              "         });\n",
              "}\n",
              "</script>"
            ],
            "text/plain": [
              "PreparedData(topic_coordinates=                x           y  topics  cluster       Freq\n",
              "topic                                                    \n",
              "3      150.222153  -72.269554       1        1  30.362880\n",
              "0       51.163364 -159.968018       2        1  24.898818\n",
              "2      -73.144554   21.523815       3        1  19.351057\n",
              "1      -66.410133 -110.606438       4        1  14.100669\n",
              "4       54.417324   12.443444       5        1  11.286576, topic_info=             Term        Freq       Total Category  logprob  loglift\n",
              "1861        layer   87.000000   87.000000  Default  30.0000  30.0000\n",
              "2792   regression   68.000000   68.000000  Default  29.0000  29.0000\n",
              "3836       vector   79.000000   79.000000  Default  28.0000  28.0000\n",
              "1216       docker   39.000000   39.000000  Default  27.0000  27.0000\n",
              "2021       matrix  137.000000  137.000000  Default  26.0000  26.0000\n",
              "...           ...         ...         ...      ...      ...      ...\n",
              "2496  probability   13.270287  119.737587   Topic5  -5.4842  -0.0182\n",
              "3725         true   10.510111   32.379261   Topic5  -5.7174   1.0564\n",
              "3786         used   12.190290  149.858685   Topic5  -5.5691  -0.3275\n",
              "2029         mean   10.895057   65.758991   Topic5  -5.6814   0.3839\n",
              "2122     multiple   10.537144   96.899704   Topic5  -5.7148  -0.0372\n",
              "\n",
              "[382 rows x 6 columns], token_table=      Topic      Freq      Term\n",
              "term                           \n",
              "1         5  0.916233       005\n",
              "17        3  0.767376        16\n",
              "98        3  0.921717        77\n",
              "102       3  0.848532        95\n",
              "102       5  0.077139        95\n",
              "...     ...       ...       ...\n",
              "3933      5  0.767049  workbook\n",
              "3970      2  0.835773        xy\n",
              "3971      2  0.910435       xyz\n",
              "3978      4  0.852118      yolo\n",
              "3979      5  0.735531     ypred\n",
              "\n",
              "[727 rows x 3 columns], R=30, lambda_step=0.01, plot_opts={'xlab': 'PC1', 'ylab': 'PC2'}, topic_order=[4, 1, 3, 2, 5])"
            ]
          },
          "metadata": {},
          "execution_count": 35
        }
      ]
    },
    {
      "cell_type": "markdown",
      "source": [
        "Let's see the dominant topic in each document"
      ],
      "metadata": {
        "id": "4NfuIOSJvMB4"
      }
    },
    {
      "cell_type": "code",
      "source": [
        "# Create Document - Topic Matrix\n",
        "lda_output = best_lda_model.transform(document_term_matrix)\n",
        "\n",
        "# column names\n",
        "topicnames = [\"Topic\" + str(i) for i in range(best_lda_model.n_components)]\n",
        "\n",
        "# index names\n",
        "docnames = [\"Doc\" + str(i) for i in range(len(data_science_df_clean['documents']))]\n",
        "\n",
        "# Make the pandas dataframe\n",
        "df_document_topic = pd.DataFrame(np.round(lda_output, 2), columns=topicnames, index=docnames)\n",
        "\n",
        "# Get dominant topic for each document\n",
        "dominant_topic = np.argmax(df_document_topic.values, axis=1)\n",
        "df_document_topic['dominant_topic'] = dominant_topic\n",
        "\n",
        "# Styling\n",
        "def color_green(val):\n",
        "    color = 'green' if val > .1 else 'black'\n",
        "    return 'color: {col}'.format(col=color)\n",
        "\n",
        "def make_bold(val):\n",
        "    weight = 700 if val > .1 else 400\n",
        "    return 'font-weight: {weight}'.format(weight=weight)\n",
        "\n",
        "# Apply Style\n",
        "df_document_topics = df_document_topic.head(15).style.applymap(color_green).applymap(make_bold)\n",
        "df_document_topics"
      ],
      "metadata": {
        "id": "8vdf_Ha4vPTa",
        "colab": {
          "base_uri": "https://localhost:8080/",
          "height": 520
        },
        "outputId": "1e9283df-0a91-4ef9-94cd-5fd711b6033d"
      },
      "execution_count": 36,
      "outputs": [
        {
          "output_type": "execute_result",
          "data": {
            "text/html": [
              "<style type=\"text/css\">\n",
              "#T_4e51b_row0_col0, #T_4e51b_row1_col0, #T_4e51b_row2_col0, #T_4e51b_row3_col0, #T_4e51b_row4_col0, #T_4e51b_row5_col0, #T_4e51b_row6_col0, #T_4e51b_row7_col0, #T_4e51b_row8_col1, #T_4e51b_row8_col5, #T_4e51b_row9_col1, #T_4e51b_row9_col3, #T_4e51b_row9_col5, #T_4e51b_row10_col0, #T_4e51b_row10_col3, #T_4e51b_row10_col5, #T_4e51b_row11_col2, #T_4e51b_row11_col5, #T_4e51b_row12_col1, #T_4e51b_row12_col5, #T_4e51b_row13_col2, #T_4e51b_row13_col5, #T_4e51b_row14_col2, #T_4e51b_row14_col5 {\n",
              "  color: green;\n",
              "  font-weight: 700;\n",
              "}\n",
              "#T_4e51b_row0_col1, #T_4e51b_row0_col2, #T_4e51b_row0_col3, #T_4e51b_row0_col4, #T_4e51b_row0_col5, #T_4e51b_row1_col1, #T_4e51b_row1_col2, #T_4e51b_row1_col3, #T_4e51b_row1_col4, #T_4e51b_row1_col5, #T_4e51b_row2_col1, #T_4e51b_row2_col2, #T_4e51b_row2_col3, #T_4e51b_row2_col4, #T_4e51b_row2_col5, #T_4e51b_row3_col1, #T_4e51b_row3_col2, #T_4e51b_row3_col3, #T_4e51b_row3_col4, #T_4e51b_row3_col5, #T_4e51b_row4_col1, #T_4e51b_row4_col2, #T_4e51b_row4_col3, #T_4e51b_row4_col4, #T_4e51b_row4_col5, #T_4e51b_row5_col1, #T_4e51b_row5_col2, #T_4e51b_row5_col3, #T_4e51b_row5_col4, #T_4e51b_row5_col5, #T_4e51b_row6_col1, #T_4e51b_row6_col2, #T_4e51b_row6_col3, #T_4e51b_row6_col4, #T_4e51b_row6_col5, #T_4e51b_row7_col1, #T_4e51b_row7_col2, #T_4e51b_row7_col3, #T_4e51b_row7_col4, #T_4e51b_row7_col5, #T_4e51b_row8_col0, #T_4e51b_row8_col2, #T_4e51b_row8_col3, #T_4e51b_row8_col4, #T_4e51b_row9_col0, #T_4e51b_row9_col2, #T_4e51b_row9_col4, #T_4e51b_row10_col1, #T_4e51b_row10_col2, #T_4e51b_row10_col4, #T_4e51b_row11_col0, #T_4e51b_row11_col1, #T_4e51b_row11_col3, #T_4e51b_row11_col4, #T_4e51b_row12_col0, #T_4e51b_row12_col2, #T_4e51b_row12_col3, #T_4e51b_row12_col4, #T_4e51b_row13_col0, #T_4e51b_row13_col1, #T_4e51b_row13_col3, #T_4e51b_row13_col4, #T_4e51b_row14_col0, #T_4e51b_row14_col1, #T_4e51b_row14_col3, #T_4e51b_row14_col4 {\n",
              "  color: black;\n",
              "  font-weight: 400;\n",
              "}\n",
              "</style>\n",
              "<table id=\"T_4e51b_\" class=\"dataframe\">\n",
              "  <thead>\n",
              "    <tr>\n",
              "      <th class=\"blank level0\" >&nbsp;</th>\n",
              "      <th class=\"col_heading level0 col0\" >Topic0</th>\n",
              "      <th class=\"col_heading level0 col1\" >Topic1</th>\n",
              "      <th class=\"col_heading level0 col2\" >Topic2</th>\n",
              "      <th class=\"col_heading level0 col3\" >Topic3</th>\n",
              "      <th class=\"col_heading level0 col4\" >Topic4</th>\n",
              "      <th class=\"col_heading level0 col5\" >dominant_topic</th>\n",
              "    </tr>\n",
              "  </thead>\n",
              "  <tbody>\n",
              "    <tr>\n",
              "      <th id=\"T_4e51b_level0_row0\" class=\"row_heading level0 row0\" >Doc0</th>\n",
              "      <td id=\"T_4e51b_row0_col0\" class=\"data row0 col0\" >1.000000</td>\n",
              "      <td id=\"T_4e51b_row0_col1\" class=\"data row0 col1\" >0.000000</td>\n",
              "      <td id=\"T_4e51b_row0_col2\" class=\"data row0 col2\" >0.000000</td>\n",
              "      <td id=\"T_4e51b_row0_col3\" class=\"data row0 col3\" >0.000000</td>\n",
              "      <td id=\"T_4e51b_row0_col4\" class=\"data row0 col4\" >0.000000</td>\n",
              "      <td id=\"T_4e51b_row0_col5\" class=\"data row0 col5\" >0</td>\n",
              "    </tr>\n",
              "    <tr>\n",
              "      <th id=\"T_4e51b_level0_row1\" class=\"row_heading level0 row1\" >Doc1</th>\n",
              "      <td id=\"T_4e51b_row1_col0\" class=\"data row1 col0\" >0.990000</td>\n",
              "      <td id=\"T_4e51b_row1_col1\" class=\"data row1 col1\" >0.000000</td>\n",
              "      <td id=\"T_4e51b_row1_col2\" class=\"data row1 col2\" >0.000000</td>\n",
              "      <td id=\"T_4e51b_row1_col3\" class=\"data row1 col3\" >0.000000</td>\n",
              "      <td id=\"T_4e51b_row1_col4\" class=\"data row1 col4\" >0.000000</td>\n",
              "      <td id=\"T_4e51b_row1_col5\" class=\"data row1 col5\" >0</td>\n",
              "    </tr>\n",
              "    <tr>\n",
              "      <th id=\"T_4e51b_level0_row2\" class=\"row_heading level0 row2\" >Doc2</th>\n",
              "      <td id=\"T_4e51b_row2_col0\" class=\"data row2 col0\" >0.990000</td>\n",
              "      <td id=\"T_4e51b_row2_col1\" class=\"data row2 col1\" >0.000000</td>\n",
              "      <td id=\"T_4e51b_row2_col2\" class=\"data row2 col2\" >0.000000</td>\n",
              "      <td id=\"T_4e51b_row2_col3\" class=\"data row2 col3\" >0.000000</td>\n",
              "      <td id=\"T_4e51b_row2_col4\" class=\"data row2 col4\" >0.000000</td>\n",
              "      <td id=\"T_4e51b_row2_col5\" class=\"data row2 col5\" >0</td>\n",
              "    </tr>\n",
              "    <tr>\n",
              "      <th id=\"T_4e51b_level0_row3\" class=\"row_heading level0 row3\" >Doc3</th>\n",
              "      <td id=\"T_4e51b_row3_col0\" class=\"data row3 col0\" >0.990000</td>\n",
              "      <td id=\"T_4e51b_row3_col1\" class=\"data row3 col1\" >0.000000</td>\n",
              "      <td id=\"T_4e51b_row3_col2\" class=\"data row3 col2\" >0.000000</td>\n",
              "      <td id=\"T_4e51b_row3_col3\" class=\"data row3 col3\" >0.000000</td>\n",
              "      <td id=\"T_4e51b_row3_col4\" class=\"data row3 col4\" >0.000000</td>\n",
              "      <td id=\"T_4e51b_row3_col5\" class=\"data row3 col5\" >0</td>\n",
              "    </tr>\n",
              "    <tr>\n",
              "      <th id=\"T_4e51b_level0_row4\" class=\"row_heading level0 row4\" >Doc4</th>\n",
              "      <td id=\"T_4e51b_row4_col0\" class=\"data row4 col0\" >0.990000</td>\n",
              "      <td id=\"T_4e51b_row4_col1\" class=\"data row4 col1\" >0.000000</td>\n",
              "      <td id=\"T_4e51b_row4_col2\" class=\"data row4 col2\" >0.000000</td>\n",
              "      <td id=\"T_4e51b_row4_col3\" class=\"data row4 col3\" >0.000000</td>\n",
              "      <td id=\"T_4e51b_row4_col4\" class=\"data row4 col4\" >0.000000</td>\n",
              "      <td id=\"T_4e51b_row4_col5\" class=\"data row4 col5\" >0</td>\n",
              "    </tr>\n",
              "    <tr>\n",
              "      <th id=\"T_4e51b_level0_row5\" class=\"row_heading level0 row5\" >Doc5</th>\n",
              "      <td id=\"T_4e51b_row5_col0\" class=\"data row5 col0\" >0.990000</td>\n",
              "      <td id=\"T_4e51b_row5_col1\" class=\"data row5 col1\" >0.000000</td>\n",
              "      <td id=\"T_4e51b_row5_col2\" class=\"data row5 col2\" >0.000000</td>\n",
              "      <td id=\"T_4e51b_row5_col3\" class=\"data row5 col3\" >0.000000</td>\n",
              "      <td id=\"T_4e51b_row5_col4\" class=\"data row5 col4\" >0.000000</td>\n",
              "      <td id=\"T_4e51b_row5_col5\" class=\"data row5 col5\" >0</td>\n",
              "    </tr>\n",
              "    <tr>\n",
              "      <th id=\"T_4e51b_level0_row6\" class=\"row_heading level0 row6\" >Doc6</th>\n",
              "      <td id=\"T_4e51b_row6_col0\" class=\"data row6 col0\" >0.980000</td>\n",
              "      <td id=\"T_4e51b_row6_col1\" class=\"data row6 col1\" >0.000000</td>\n",
              "      <td id=\"T_4e51b_row6_col2\" class=\"data row6 col2\" >0.000000</td>\n",
              "      <td id=\"T_4e51b_row6_col3\" class=\"data row6 col3\" >0.000000</td>\n",
              "      <td id=\"T_4e51b_row6_col4\" class=\"data row6 col4\" >0.000000</td>\n",
              "      <td id=\"T_4e51b_row6_col5\" class=\"data row6 col5\" >0</td>\n",
              "    </tr>\n",
              "    <tr>\n",
              "      <th id=\"T_4e51b_level0_row7\" class=\"row_heading level0 row7\" >Doc7</th>\n",
              "      <td id=\"T_4e51b_row7_col0\" class=\"data row7 col0\" >0.990000</td>\n",
              "      <td id=\"T_4e51b_row7_col1\" class=\"data row7 col1\" >0.000000</td>\n",
              "      <td id=\"T_4e51b_row7_col2\" class=\"data row7 col2\" >0.000000</td>\n",
              "      <td id=\"T_4e51b_row7_col3\" class=\"data row7 col3\" >0.000000</td>\n",
              "      <td id=\"T_4e51b_row7_col4\" class=\"data row7 col4\" >0.000000</td>\n",
              "      <td id=\"T_4e51b_row7_col5\" class=\"data row7 col5\" >0</td>\n",
              "    </tr>\n",
              "    <tr>\n",
              "      <th id=\"T_4e51b_level0_row8\" class=\"row_heading level0 row8\" >Doc8</th>\n",
              "      <td id=\"T_4e51b_row8_col0\" class=\"data row8 col0\" >0.000000</td>\n",
              "      <td id=\"T_4e51b_row8_col1\" class=\"data row8 col1\" >1.000000</td>\n",
              "      <td id=\"T_4e51b_row8_col2\" class=\"data row8 col2\" >0.000000</td>\n",
              "      <td id=\"T_4e51b_row8_col3\" class=\"data row8 col3\" >0.000000</td>\n",
              "      <td id=\"T_4e51b_row8_col4\" class=\"data row8 col4\" >0.000000</td>\n",
              "      <td id=\"T_4e51b_row8_col5\" class=\"data row8 col5\" >1</td>\n",
              "    </tr>\n",
              "    <tr>\n",
              "      <th id=\"T_4e51b_level0_row9\" class=\"row_heading level0 row9\" >Doc9</th>\n",
              "      <td id=\"T_4e51b_row9_col0\" class=\"data row9 col0\" >0.000000</td>\n",
              "      <td id=\"T_4e51b_row9_col1\" class=\"data row9 col1\" >0.500000</td>\n",
              "      <td id=\"T_4e51b_row9_col2\" class=\"data row9 col2\" >0.000000</td>\n",
              "      <td id=\"T_4e51b_row9_col3\" class=\"data row9 col3\" >0.500000</td>\n",
              "      <td id=\"T_4e51b_row9_col4\" class=\"data row9 col4\" >0.000000</td>\n",
              "      <td id=\"T_4e51b_row9_col5\" class=\"data row9 col5\" >1</td>\n",
              "    </tr>\n",
              "    <tr>\n",
              "      <th id=\"T_4e51b_level0_row10\" class=\"row_heading level0 row10\" >Doc10</th>\n",
              "      <td id=\"T_4e51b_row10_col0\" class=\"data row10 col0\" >0.360000</td>\n",
              "      <td id=\"T_4e51b_row10_col1\" class=\"data row10 col1\" >0.000000</td>\n",
              "      <td id=\"T_4e51b_row10_col2\" class=\"data row10 col2\" >0.000000</td>\n",
              "      <td id=\"T_4e51b_row10_col3\" class=\"data row10 col3\" >0.640000</td>\n",
              "      <td id=\"T_4e51b_row10_col4\" class=\"data row10 col4\" >0.000000</td>\n",
              "      <td id=\"T_4e51b_row10_col5\" class=\"data row10 col5\" >3</td>\n",
              "    </tr>\n",
              "    <tr>\n",
              "      <th id=\"T_4e51b_level0_row11\" class=\"row_heading level0 row11\" >Doc11</th>\n",
              "      <td id=\"T_4e51b_row11_col0\" class=\"data row11 col0\" >0.000000</td>\n",
              "      <td id=\"T_4e51b_row11_col1\" class=\"data row11 col1\" >0.000000</td>\n",
              "      <td id=\"T_4e51b_row11_col2\" class=\"data row11 col2\" >1.000000</td>\n",
              "      <td id=\"T_4e51b_row11_col3\" class=\"data row11 col3\" >0.000000</td>\n",
              "      <td id=\"T_4e51b_row11_col4\" class=\"data row11 col4\" >0.000000</td>\n",
              "      <td id=\"T_4e51b_row11_col5\" class=\"data row11 col5\" >2</td>\n",
              "    </tr>\n",
              "    <tr>\n",
              "      <th id=\"T_4e51b_level0_row12\" class=\"row_heading level0 row12\" >Doc12</th>\n",
              "      <td id=\"T_4e51b_row12_col0\" class=\"data row12 col0\" >0.000000</td>\n",
              "      <td id=\"T_4e51b_row12_col1\" class=\"data row12 col1\" >1.000000</td>\n",
              "      <td id=\"T_4e51b_row12_col2\" class=\"data row12 col2\" >0.000000</td>\n",
              "      <td id=\"T_4e51b_row12_col3\" class=\"data row12 col3\" >0.000000</td>\n",
              "      <td id=\"T_4e51b_row12_col4\" class=\"data row12 col4\" >0.000000</td>\n",
              "      <td id=\"T_4e51b_row12_col5\" class=\"data row12 col5\" >1</td>\n",
              "    </tr>\n",
              "    <tr>\n",
              "      <th id=\"T_4e51b_level0_row13\" class=\"row_heading level0 row13\" >Doc13</th>\n",
              "      <td id=\"T_4e51b_row13_col0\" class=\"data row13 col0\" >0.000000</td>\n",
              "      <td id=\"T_4e51b_row13_col1\" class=\"data row13 col1\" >0.000000</td>\n",
              "      <td id=\"T_4e51b_row13_col2\" class=\"data row13 col2\" >1.000000</td>\n",
              "      <td id=\"T_4e51b_row13_col3\" class=\"data row13 col3\" >0.000000</td>\n",
              "      <td id=\"T_4e51b_row13_col4\" class=\"data row13 col4\" >0.000000</td>\n",
              "      <td id=\"T_4e51b_row13_col5\" class=\"data row13 col5\" >2</td>\n",
              "    </tr>\n",
              "    <tr>\n",
              "      <th id=\"T_4e51b_level0_row14\" class=\"row_heading level0 row14\" >Doc14</th>\n",
              "      <td id=\"T_4e51b_row14_col0\" class=\"data row14 col0\" >0.000000</td>\n",
              "      <td id=\"T_4e51b_row14_col1\" class=\"data row14 col1\" >0.000000</td>\n",
              "      <td id=\"T_4e51b_row14_col2\" class=\"data row14 col2\" >1.000000</td>\n",
              "      <td id=\"T_4e51b_row14_col3\" class=\"data row14 col3\" >0.000000</td>\n",
              "      <td id=\"T_4e51b_row14_col4\" class=\"data row14 col4\" >0.000000</td>\n",
              "      <td id=\"T_4e51b_row14_col5\" class=\"data row14 col5\" >2</td>\n",
              "    </tr>\n",
              "  </tbody>\n",
              "</table>\n"
            ],
            "text/plain": [
              "<pandas.io.formats.style.Styler at 0x7f305023fcd0>"
            ]
          },
          "metadata": {},
          "execution_count": 36
        }
      ]
    },
    {
      "cell_type": "markdown",
      "source": [
        "Review topics distribution across documents"
      ],
      "metadata": {
        "id": "wxkxlUDjvTRX"
      }
    },
    {
      "cell_type": "code",
      "source": [
        "df_topic_distribution = df_document_topic['dominant_topic'].value_counts().reset_index(name=\"Num Documents\")\n",
        "df_topic_distribution.columns = ['Topic Num', 'Num Documents']\n",
        "df_topic_distribution"
      ],
      "metadata": {
        "id": "1NDRWS1mvWGA",
        "colab": {
          "base_uri": "https://localhost:8080/",
          "height": 206
        },
        "outputId": "4ea57acb-ee71-4a14-d9b1-b9d7492b6f22"
      },
      "execution_count": 37,
      "outputs": [
        {
          "output_type": "execute_result",
          "data": {
            "text/html": [
              "\n",
              "  <div id=\"df-246eb84d-c4b8-4cc2-93cf-04a2e3cf0991\">\n",
              "    <div class=\"colab-df-container\">\n",
              "      <div>\n",
              "<style scoped>\n",
              "    .dataframe tbody tr th:only-of-type {\n",
              "        vertical-align: middle;\n",
              "    }\n",
              "\n",
              "    .dataframe tbody tr th {\n",
              "        vertical-align: top;\n",
              "    }\n",
              "\n",
              "    .dataframe thead th {\n",
              "        text-align: right;\n",
              "    }\n",
              "</style>\n",
              "<table border=\"1\" class=\"dataframe\">\n",
              "  <thead>\n",
              "    <tr style=\"text-align: right;\">\n",
              "      <th></th>\n",
              "      <th>Topic Num</th>\n",
              "      <th>Num Documents</th>\n",
              "    </tr>\n",
              "  </thead>\n",
              "  <tbody>\n",
              "    <tr>\n",
              "      <th>0</th>\n",
              "      <td>0</td>\n",
              "      <td>25</td>\n",
              "    </tr>\n",
              "    <tr>\n",
              "      <th>1</th>\n",
              "      <td>3</td>\n",
              "      <td>25</td>\n",
              "    </tr>\n",
              "    <tr>\n",
              "      <th>2</th>\n",
              "      <td>2</td>\n",
              "      <td>19</td>\n",
              "    </tr>\n",
              "    <tr>\n",
              "      <th>3</th>\n",
              "      <td>1</td>\n",
              "      <td>13</td>\n",
              "    </tr>\n",
              "    <tr>\n",
              "      <th>4</th>\n",
              "      <td>4</td>\n",
              "      <td>12</td>\n",
              "    </tr>\n",
              "  </tbody>\n",
              "</table>\n",
              "</div>\n",
              "      <button class=\"colab-df-convert\" onclick=\"convertToInteractive('df-246eb84d-c4b8-4cc2-93cf-04a2e3cf0991')\"\n",
              "              title=\"Convert this dataframe to an interactive table.\"\n",
              "              style=\"display:none;\">\n",
              "        \n",
              "  <svg xmlns=\"http://www.w3.org/2000/svg\" height=\"24px\"viewBox=\"0 0 24 24\"\n",
              "       width=\"24px\">\n",
              "    <path d=\"M0 0h24v24H0V0z\" fill=\"none\"/>\n",
              "    <path d=\"M18.56 5.44l.94 2.06.94-2.06 2.06-.94-2.06-.94-.94-2.06-.94 2.06-2.06.94zm-11 1L8.5 8.5l.94-2.06 2.06-.94-2.06-.94L8.5 2.5l-.94 2.06-2.06.94zm10 10l.94 2.06.94-2.06 2.06-.94-2.06-.94-.94-2.06-.94 2.06-2.06.94z\"/><path d=\"M17.41 7.96l-1.37-1.37c-.4-.4-.92-.59-1.43-.59-.52 0-1.04.2-1.43.59L10.3 9.45l-7.72 7.72c-.78.78-.78 2.05 0 2.83L4 21.41c.39.39.9.59 1.41.59.51 0 1.02-.2 1.41-.59l7.78-7.78 2.81-2.81c.8-.78.8-2.07 0-2.86zM5.41 20L4 18.59l7.72-7.72 1.47 1.35L5.41 20z\"/>\n",
              "  </svg>\n",
              "      </button>\n",
              "      \n",
              "  <style>\n",
              "    .colab-df-container {\n",
              "      display:flex;\n",
              "      flex-wrap:wrap;\n",
              "      gap: 12px;\n",
              "    }\n",
              "\n",
              "    .colab-df-convert {\n",
              "      background-color: #E8F0FE;\n",
              "      border: none;\n",
              "      border-radius: 50%;\n",
              "      cursor: pointer;\n",
              "      display: none;\n",
              "      fill: #1967D2;\n",
              "      height: 32px;\n",
              "      padding: 0 0 0 0;\n",
              "      width: 32px;\n",
              "    }\n",
              "\n",
              "    .colab-df-convert:hover {\n",
              "      background-color: #E2EBFA;\n",
              "      box-shadow: 0px 1px 2px rgba(60, 64, 67, 0.3), 0px 1px 3px 1px rgba(60, 64, 67, 0.15);\n",
              "      fill: #174EA6;\n",
              "    }\n",
              "\n",
              "    [theme=dark] .colab-df-convert {\n",
              "      background-color: #3B4455;\n",
              "      fill: #D2E3FC;\n",
              "    }\n",
              "\n",
              "    [theme=dark] .colab-df-convert:hover {\n",
              "      background-color: #434B5C;\n",
              "      box-shadow: 0px 1px 3px 1px rgba(0, 0, 0, 0.15);\n",
              "      filter: drop-shadow(0px 1px 2px rgba(0, 0, 0, 0.3));\n",
              "      fill: #FFFFFF;\n",
              "    }\n",
              "  </style>\n",
              "\n",
              "      <script>\n",
              "        const buttonEl =\n",
              "          document.querySelector('#df-246eb84d-c4b8-4cc2-93cf-04a2e3cf0991 button.colab-df-convert');\n",
              "        buttonEl.style.display =\n",
              "          google.colab.kernel.accessAllowed ? 'block' : 'none';\n",
              "\n",
              "        async function convertToInteractive(key) {\n",
              "          const element = document.querySelector('#df-246eb84d-c4b8-4cc2-93cf-04a2e3cf0991');\n",
              "          const dataTable =\n",
              "            await google.colab.kernel.invokeFunction('convertToInteractive',\n",
              "                                                     [key], {});\n",
              "          if (!dataTable) return;\n",
              "\n",
              "          const docLinkHtml = 'Like what you see? Visit the ' +\n",
              "            '<a target=\"_blank\" href=https://colab.research.google.com/notebooks/data_table.ipynb>data table notebook</a>'\n",
              "            + ' to learn more about interactive tables.';\n",
              "          element.innerHTML = '';\n",
              "          dataTable['output_type'] = 'display_data';\n",
              "          await google.colab.output.renderOutput(dataTable, element);\n",
              "          const docLink = document.createElement('div');\n",
              "          docLink.innerHTML = docLinkHtml;\n",
              "          element.appendChild(docLink);\n",
              "        }\n",
              "      </script>\n",
              "    </div>\n",
              "  </div>\n",
              "  "
            ],
            "text/plain": [
              "   Topic Num  Num Documents\n",
              "0          0             25\n",
              "1          3             25\n",
              "2          2             19\n",
              "3          1             13\n",
              "4          4             12"
            ]
          },
          "metadata": {},
          "execution_count": 37
        }
      ]
    },
    {
      "cell_type": "markdown",
      "source": [
        "Let's see the Topic’s keywords"
      ],
      "metadata": {
        "id": "B-I-MI2NveKu"
      }
    },
    {
      "cell_type": "code",
      "source": [
        "# Topic-Keyword Matrix\n",
        "df_topic_keywords = pd.DataFrame(best_lda_model.components_)\n",
        "\n",
        "# Assign Column and Index\n",
        "df_topic_keywords.columns = count_vectorizer.get_feature_names()\n",
        "df_topic_keywords.index = topicnames\n",
        "\n",
        "# View\n",
        "df_topic_keywords.head()"
      ],
      "metadata": {
        "id": "joFtxhLrviab",
        "colab": {
          "base_uri": "https://localhost:8080/",
          "height": 334
        },
        "outputId": "d8719c5a-a391-417b-9e42-9c6225db2074"
      },
      "execution_count": 38,
      "outputs": [
        {
          "output_type": "stream",
          "name": "stderr",
          "text": [
            "/usr/local/lib/python3.7/dist-packages/sklearn/utils/deprecation.py:87: FutureWarning: Function get_feature_names is deprecated; get_feature_names is deprecated in 1.0 and will be removed in 1.2. Please use get_feature_names_out instead.\n",
            "  warnings.warn(msg, category=FutureWarning)\n"
          ]
        },
        {
          "output_type": "execute_result",
          "data": {
            "text/html": [
              "\n",
              "  <div id=\"df-b6667022-3474-4efd-a3e2-44f920c0b3a5\">\n",
              "    <div class=\"colab-df-container\">\n",
              "      <div>\n",
              "<style scoped>\n",
              "    .dataframe tbody tr th:only-of-type {\n",
              "        vertical-align: middle;\n",
              "    }\n",
              "\n",
              "    .dataframe tbody tr th {\n",
              "        vertical-align: top;\n",
              "    }\n",
              "\n",
              "    .dataframe thead th {\n",
              "        text-align: right;\n",
              "    }\n",
              "</style>\n",
              "<table border=\"1\" class=\"dataframe\">\n",
              "  <thead>\n",
              "    <tr style=\"text-align: right;\">\n",
              "      <th></th>\n",
              "      <th>00</th>\n",
              "      <th>005</th>\n",
              "      <th>02</th>\n",
              "      <th>049</th>\n",
              "      <th>05</th>\n",
              "      <th>09mindf</th>\n",
              "      <th>10</th>\n",
              "      <th>100</th>\n",
              "      <th>1000</th>\n",
              "      <th>10k</th>\n",
              "      <th>...</th>\n",
              "      <th>zscore</th>\n",
              "      <th>zwx</th>\n",
              "      <th>γu</th>\n",
              "      <th>θt</th>\n",
              "      <th>θx1</th>\n",
              "      <th>μ1</th>\n",
              "      <th>μ2</th>\n",
              "      <th>σ1</th>\n",
              "      <th>σ2</th>\n",
              "      <th>σz</th>\n",
              "    </tr>\n",
              "  </thead>\n",
              "  <tbody>\n",
              "    <tr>\n",
              "      <th>Topic0</th>\n",
              "      <td>2.200033</td>\n",
              "      <td>0.2</td>\n",
              "      <td>0.201405</td>\n",
              "      <td>0.2</td>\n",
              "      <td>0.200122</td>\n",
              "      <td>0.200000</td>\n",
              "      <td>1.412028</td>\n",
              "      <td>1.879623</td>\n",
              "      <td>0.992092</td>\n",
              "      <td>4.199767</td>\n",
              "      <td>...</td>\n",
              "      <td>0.200000</td>\n",
              "      <td>3.199046</td>\n",
              "      <td>0.208400</td>\n",
              "      <td>0.201035</td>\n",
              "      <td>0.200000</td>\n",
              "      <td>0.200000</td>\n",
              "      <td>0.200000</td>\n",
              "      <td>0.200000</td>\n",
              "      <td>2.199888</td>\n",
              "      <td>2.199999</td>\n",
              "    </tr>\n",
              "    <tr>\n",
              "      <th>Topic1</th>\n",
              "      <td>0.200000</td>\n",
              "      <td>0.2</td>\n",
              "      <td>0.200000</td>\n",
              "      <td>4.2</td>\n",
              "      <td>5.199928</td>\n",
              "      <td>2.199522</td>\n",
              "      <td>4.006388</td>\n",
              "      <td>0.201354</td>\n",
              "      <td>1.200031</td>\n",
              "      <td>0.200000</td>\n",
              "      <td>...</td>\n",
              "      <td>0.200000</td>\n",
              "      <td>0.200000</td>\n",
              "      <td>0.210364</td>\n",
              "      <td>3.198691</td>\n",
              "      <td>0.200000</td>\n",
              "      <td>0.200000</td>\n",
              "      <td>0.200000</td>\n",
              "      <td>0.200000</td>\n",
              "      <td>0.200000</td>\n",
              "      <td>0.200000</td>\n",
              "    </tr>\n",
              "    <tr>\n",
              "      <th>Topic2</th>\n",
              "      <td>0.200000</td>\n",
              "      <td>0.2</td>\n",
              "      <td>2.153185</td>\n",
              "      <td>0.2</td>\n",
              "      <td>0.200000</td>\n",
              "      <td>0.200000</td>\n",
              "      <td>5.024028</td>\n",
              "      <td>0.200420</td>\n",
              "      <td>2.404513</td>\n",
              "      <td>0.200233</td>\n",
              "      <td>...</td>\n",
              "      <td>0.200000</td>\n",
              "      <td>0.200431</td>\n",
              "      <td>0.200000</td>\n",
              "      <td>0.200274</td>\n",
              "      <td>0.200000</td>\n",
              "      <td>2.195944</td>\n",
              "      <td>2.195983</td>\n",
              "      <td>1.883514</td>\n",
              "      <td>0.205865</td>\n",
              "      <td>0.200000</td>\n",
              "    </tr>\n",
              "    <tr>\n",
              "      <th>Topic3</th>\n",
              "      <td>1.199966</td>\n",
              "      <td>0.2</td>\n",
              "      <td>0.200000</td>\n",
              "      <td>0.2</td>\n",
              "      <td>0.200000</td>\n",
              "      <td>0.200478</td>\n",
              "      <td>5.226272</td>\n",
              "      <td>4.518362</td>\n",
              "      <td>0.203294</td>\n",
              "      <td>0.200000</td>\n",
              "      <td>...</td>\n",
              "      <td>5.199975</td>\n",
              "      <td>0.200523</td>\n",
              "      <td>3.181236</td>\n",
              "      <td>0.200000</td>\n",
              "      <td>2.199999</td>\n",
              "      <td>0.204016</td>\n",
              "      <td>0.204016</td>\n",
              "      <td>2.516484</td>\n",
              "      <td>9.194246</td>\n",
              "      <td>0.200000</td>\n",
              "    </tr>\n",
              "    <tr>\n",
              "      <th>Topic4</th>\n",
              "      <td>0.200000</td>\n",
              "      <td>3.2</td>\n",
              "      <td>0.245409</td>\n",
              "      <td>0.2</td>\n",
              "      <td>1.199949</td>\n",
              "      <td>0.200000</td>\n",
              "      <td>2.331284</td>\n",
              "      <td>4.200241</td>\n",
              "      <td>1.200070</td>\n",
              "      <td>0.200000</td>\n",
              "      <td>...</td>\n",
              "      <td>2.200025</td>\n",
              "      <td>0.200000</td>\n",
              "      <td>0.200000</td>\n",
              "      <td>0.200000</td>\n",
              "      <td>0.200000</td>\n",
              "      <td>1.200039</td>\n",
              "      <td>0.200000</td>\n",
              "      <td>0.200000</td>\n",
              "      <td>0.200001</td>\n",
              "      <td>0.200000</td>\n",
              "    </tr>\n",
              "  </tbody>\n",
              "</table>\n",
              "<p>5 rows × 4000 columns</p>\n",
              "</div>\n",
              "      <button class=\"colab-df-convert\" onclick=\"convertToInteractive('df-b6667022-3474-4efd-a3e2-44f920c0b3a5')\"\n",
              "              title=\"Convert this dataframe to an interactive table.\"\n",
              "              style=\"display:none;\">\n",
              "        \n",
              "  <svg xmlns=\"http://www.w3.org/2000/svg\" height=\"24px\"viewBox=\"0 0 24 24\"\n",
              "       width=\"24px\">\n",
              "    <path d=\"M0 0h24v24H0V0z\" fill=\"none\"/>\n",
              "    <path d=\"M18.56 5.44l.94 2.06.94-2.06 2.06-.94-2.06-.94-.94-2.06-.94 2.06-2.06.94zm-11 1L8.5 8.5l.94-2.06 2.06-.94-2.06-.94L8.5 2.5l-.94 2.06-2.06.94zm10 10l.94 2.06.94-2.06 2.06-.94-2.06-.94-.94-2.06-.94 2.06-2.06.94z\"/><path d=\"M17.41 7.96l-1.37-1.37c-.4-.4-.92-.59-1.43-.59-.52 0-1.04.2-1.43.59L10.3 9.45l-7.72 7.72c-.78.78-.78 2.05 0 2.83L4 21.41c.39.39.9.59 1.41.59.51 0 1.02-.2 1.41-.59l7.78-7.78 2.81-2.81c.8-.78.8-2.07 0-2.86zM5.41 20L4 18.59l7.72-7.72 1.47 1.35L5.41 20z\"/>\n",
              "  </svg>\n",
              "      </button>\n",
              "      \n",
              "  <style>\n",
              "    .colab-df-container {\n",
              "      display:flex;\n",
              "      flex-wrap:wrap;\n",
              "      gap: 12px;\n",
              "    }\n",
              "\n",
              "    .colab-df-convert {\n",
              "      background-color: #E8F0FE;\n",
              "      border: none;\n",
              "      border-radius: 50%;\n",
              "      cursor: pointer;\n",
              "      display: none;\n",
              "      fill: #1967D2;\n",
              "      height: 32px;\n",
              "      padding: 0 0 0 0;\n",
              "      width: 32px;\n",
              "    }\n",
              "\n",
              "    .colab-df-convert:hover {\n",
              "      background-color: #E2EBFA;\n",
              "      box-shadow: 0px 1px 2px rgba(60, 64, 67, 0.3), 0px 1px 3px 1px rgba(60, 64, 67, 0.15);\n",
              "      fill: #174EA6;\n",
              "    }\n",
              "\n",
              "    [theme=dark] .colab-df-convert {\n",
              "      background-color: #3B4455;\n",
              "      fill: #D2E3FC;\n",
              "    }\n",
              "\n",
              "    [theme=dark] .colab-df-convert:hover {\n",
              "      background-color: #434B5C;\n",
              "      box-shadow: 0px 1px 3px 1px rgba(0, 0, 0, 0.15);\n",
              "      filter: drop-shadow(0px 1px 2px rgba(0, 0, 0, 0.3));\n",
              "      fill: #FFFFFF;\n",
              "    }\n",
              "  </style>\n",
              "\n",
              "      <script>\n",
              "        const buttonEl =\n",
              "          document.querySelector('#df-b6667022-3474-4efd-a3e2-44f920c0b3a5 button.colab-df-convert');\n",
              "        buttonEl.style.display =\n",
              "          google.colab.kernel.accessAllowed ? 'block' : 'none';\n",
              "\n",
              "        async function convertToInteractive(key) {\n",
              "          const element = document.querySelector('#df-b6667022-3474-4efd-a3e2-44f920c0b3a5');\n",
              "          const dataTable =\n",
              "            await google.colab.kernel.invokeFunction('convertToInteractive',\n",
              "                                                     [key], {});\n",
              "          if (!dataTable) return;\n",
              "\n",
              "          const docLinkHtml = 'Like what you see? Visit the ' +\n",
              "            '<a target=\"_blank\" href=https://colab.research.google.com/notebooks/data_table.ipynb>data table notebook</a>'\n",
              "            + ' to learn more about interactive tables.';\n",
              "          element.innerHTML = '';\n",
              "          dataTable['output_type'] = 'display_data';\n",
              "          await google.colab.output.renderOutput(dataTable, element);\n",
              "          const docLink = document.createElement('div');\n",
              "          docLink.innerHTML = docLinkHtml;\n",
              "          element.appendChild(docLink);\n",
              "        }\n",
              "      </script>\n",
              "    </div>\n",
              "  </div>\n",
              "  "
            ],
            "text/plain": [
              "              00  005        02  049        05   09mindf        10       100  \\\n",
              "Topic0  2.200033  0.2  0.201405  0.2  0.200122  0.200000  1.412028  1.879623   \n",
              "Topic1  0.200000  0.2  0.200000  4.2  5.199928  2.199522  4.006388  0.201354   \n",
              "Topic2  0.200000  0.2  2.153185  0.2  0.200000  0.200000  5.024028  0.200420   \n",
              "Topic3  1.199966  0.2  0.200000  0.2  0.200000  0.200478  5.226272  4.518362   \n",
              "Topic4  0.200000  3.2  0.245409  0.2  1.199949  0.200000  2.331284  4.200241   \n",
              "\n",
              "            1000       10k  ...    zscore       zwx        γu        θt  \\\n",
              "Topic0  0.992092  4.199767  ...  0.200000  3.199046  0.208400  0.201035   \n",
              "Topic1  1.200031  0.200000  ...  0.200000  0.200000  0.210364  3.198691   \n",
              "Topic2  2.404513  0.200233  ...  0.200000  0.200431  0.200000  0.200274   \n",
              "Topic3  0.203294  0.200000  ...  5.199975  0.200523  3.181236  0.200000   \n",
              "Topic4  1.200070  0.200000  ...  2.200025  0.200000  0.200000  0.200000   \n",
              "\n",
              "             θx1        μ1        μ2        σ1        σ2        σz  \n",
              "Topic0  0.200000  0.200000  0.200000  0.200000  2.199888  2.199999  \n",
              "Topic1  0.200000  0.200000  0.200000  0.200000  0.200000  0.200000  \n",
              "Topic2  0.200000  2.195944  2.195983  1.883514  0.205865  0.200000  \n",
              "Topic3  2.199999  0.204016  0.204016  2.516484  9.194246  0.200000  \n",
              "Topic4  0.200000  1.200039  0.200000  0.200000  0.200001  0.200000  \n",
              "\n",
              "[5 rows x 4000 columns]"
            ]
          },
          "metadata": {},
          "execution_count": 38
        }
      ]
    },
    {
      "cell_type": "markdown",
      "source": [
        "Get the top 15 keywords each topic"
      ],
      "metadata": {
        "id": "pSNGBPIQvkux"
      }
    },
    {
      "cell_type": "code",
      "source": [
        "# Show top n keywords for each topic\n",
        "def show_topics(vectorizer=count_vectorizer, lda_model=best_lda_model, n_words=15):\n",
        "    keywords = np.array(vectorizer.get_feature_names())\n",
        "    topic_keywords = []\n",
        "    for topic_weights in lda_model.components_:\n",
        "        top_keyword_locs = (-topic_weights).argsort()[:n_words]\n",
        "        topic_keywords.append(keywords.take(top_keyword_locs))\n",
        "    return topic_keywords\n",
        "\n",
        "topic_keywords = show_topics(vectorizer=count_vectorizer, lda_model=best_lda_model, n_words=15)        \n",
        "\n",
        "# Topic - Keywords Dataframe\n",
        "df_topic_keywords = pd.DataFrame(topic_keywords)\n",
        "df_topic_keywords.columns = ['Word '+str(i) for i in range(df_topic_keywords.shape[1])]\n",
        "df_topic_keywords.index = ['Topic '+str(i) for i in range(df_topic_keywords.shape[0])]\n",
        "df_topic_keywords"
      ],
      "metadata": {
        "id": "ZXAbFZabvm5q",
        "colab": {
          "base_uri": "https://localhost:8080/",
          "height": 409
        },
        "outputId": "ccaa04ab-d48f-45ff-e64a-a8e3d1a445b4"
      },
      "execution_count": 39,
      "outputs": [
        {
          "output_type": "stream",
          "name": "stderr",
          "text": [
            "/usr/local/lib/python3.7/dist-packages/sklearn/utils/deprecation.py:87: FutureWarning: Function get_feature_names is deprecated; get_feature_names is deprecated in 1.0 and will be removed in 1.2. Please use get_feature_names_out instead.\n",
            "  warnings.warn(msg, category=FutureWarning)\n"
          ]
        },
        {
          "output_type": "execute_result",
          "data": {
            "text/html": [
              "\n",
              "  <div id=\"df-0886b5af-0565-471f-84c4-6b2325de8ace\">\n",
              "    <div class=\"colab-df-container\">\n",
              "      <div>\n",
              "<style scoped>\n",
              "    .dataframe tbody tr th:only-of-type {\n",
              "        vertical-align: middle;\n",
              "    }\n",
              "\n",
              "    .dataframe tbody tr th {\n",
              "        vertical-align: top;\n",
              "    }\n",
              "\n",
              "    .dataframe thead th {\n",
              "        text-align: right;\n",
              "    }\n",
              "</style>\n",
              "<table border=\"1\" class=\"dataframe\">\n",
              "  <thead>\n",
              "    <tr style=\"text-align: right;\">\n",
              "      <th></th>\n",
              "      <th>Word 0</th>\n",
              "      <th>Word 1</th>\n",
              "      <th>Word 2</th>\n",
              "      <th>Word 3</th>\n",
              "      <th>Word 4</th>\n",
              "      <th>Word 5</th>\n",
              "      <th>Word 6</th>\n",
              "      <th>Word 7</th>\n",
              "      <th>Word 8</th>\n",
              "      <th>Word 9</th>\n",
              "      <th>Word 10</th>\n",
              "      <th>Word 11</th>\n",
              "      <th>Word 12</th>\n",
              "      <th>Word 13</th>\n",
              "      <th>Word 14</th>\n",
              "    </tr>\n",
              "  </thead>\n",
              "  <tbody>\n",
              "    <tr>\n",
              "      <th>Topic 0</th>\n",
              "      <td>matrix</td>\n",
              "      <td>data</td>\n",
              "      <td>layer</td>\n",
              "      <td>vector</td>\n",
              "      <td>function</td>\n",
              "      <td>model</td>\n",
              "      <td>network</td>\n",
              "      <td>list</td>\n",
              "      <td>learning</td>\n",
              "      <td>means</td>\n",
              "      <td>input</td>\n",
              "      <td>neural</td>\n",
              "      <td>set</td>\n",
              "      <td>used</td>\n",
              "      <td>linear</td>\n",
              "    </tr>\n",
              "    <tr>\n",
              "      <th>Topic 1</th>\n",
              "      <td>import</td>\n",
              "      <td>word</td>\n",
              "      <td>model</td>\n",
              "      <td>time</td>\n",
              "      <td>data</td>\n",
              "      <td>words</td>\n",
              "      <td>decision</td>\n",
              "      <td>text</td>\n",
              "      <td>used</td>\n",
              "      <td>series</td>\n",
              "      <td>multiple</td>\n",
              "      <td>node</td>\n",
              "      <td>tree</td>\n",
              "      <td>called</td>\n",
              "      <td>value</td>\n",
              "    </tr>\n",
              "    <tr>\n",
              "      <th>Topic 2</th>\n",
              "      <td>data</td>\n",
              "      <td>model</td>\n",
              "      <td>learning</td>\n",
              "      <td>table</td>\n",
              "      <td>set</td>\n",
              "      <td>different</td>\n",
              "      <td>training</td>\n",
              "      <td>function</td>\n",
              "      <td>values</td>\n",
              "      <td>ml</td>\n",
              "      <td>plot</td>\n",
              "      <td>column</td>\n",
              "      <td>error</td>\n",
              "      <td>image</td>\n",
              "      <td>analysis</td>\n",
              "    </tr>\n",
              "    <tr>\n",
              "      <th>Topic 3</th>\n",
              "      <td>data</td>\n",
              "      <td>distribution</td>\n",
              "      <td>random</td>\n",
              "      <td>file</td>\n",
              "      <td>probability</td>\n",
              "      <td>python</td>\n",
              "      <td>used</td>\n",
              "      <td>mean</td>\n",
              "      <td>function</td>\n",
              "      <td>sample</td>\n",
              "      <td>import</td>\n",
              "      <td>table</td>\n",
              "      <td>number</td>\n",
              "      <td>variables</td>\n",
              "      <td>population</td>\n",
              "    </tr>\n",
              "    <tr>\n",
              "      <th>Topic 4</th>\n",
              "      <td>regression</td>\n",
              "      <td>data</td>\n",
              "      <td>model</td>\n",
              "      <td>docker</td>\n",
              "      <td>hypothesis</td>\n",
              "      <td>test</td>\n",
              "      <td>linear</td>\n",
              "      <td>error</td>\n",
              "      <td>tableau</td>\n",
              "      <td>value</td>\n",
              "      <td>performance</td>\n",
              "      <td>indicators</td>\n",
              "      <td>line</td>\n",
              "      <td>null</td>\n",
              "      <td>values</td>\n",
              "    </tr>\n",
              "  </tbody>\n",
              "</table>\n",
              "</div>\n",
              "      <button class=\"colab-df-convert\" onclick=\"convertToInteractive('df-0886b5af-0565-471f-84c4-6b2325de8ace')\"\n",
              "              title=\"Convert this dataframe to an interactive table.\"\n",
              "              style=\"display:none;\">\n",
              "        \n",
              "  <svg xmlns=\"http://www.w3.org/2000/svg\" height=\"24px\"viewBox=\"0 0 24 24\"\n",
              "       width=\"24px\">\n",
              "    <path d=\"M0 0h24v24H0V0z\" fill=\"none\"/>\n",
              "    <path d=\"M18.56 5.44l.94 2.06.94-2.06 2.06-.94-2.06-.94-.94-2.06-.94 2.06-2.06.94zm-11 1L8.5 8.5l.94-2.06 2.06-.94-2.06-.94L8.5 2.5l-.94 2.06-2.06.94zm10 10l.94 2.06.94-2.06 2.06-.94-2.06-.94-.94-2.06-.94 2.06-2.06.94z\"/><path d=\"M17.41 7.96l-1.37-1.37c-.4-.4-.92-.59-1.43-.59-.52 0-1.04.2-1.43.59L10.3 9.45l-7.72 7.72c-.78.78-.78 2.05 0 2.83L4 21.41c.39.39.9.59 1.41.59.51 0 1.02-.2 1.41-.59l7.78-7.78 2.81-2.81c.8-.78.8-2.07 0-2.86zM5.41 20L4 18.59l7.72-7.72 1.47 1.35L5.41 20z\"/>\n",
              "  </svg>\n",
              "      </button>\n",
              "      \n",
              "  <style>\n",
              "    .colab-df-container {\n",
              "      display:flex;\n",
              "      flex-wrap:wrap;\n",
              "      gap: 12px;\n",
              "    }\n",
              "\n",
              "    .colab-df-convert {\n",
              "      background-color: #E8F0FE;\n",
              "      border: none;\n",
              "      border-radius: 50%;\n",
              "      cursor: pointer;\n",
              "      display: none;\n",
              "      fill: #1967D2;\n",
              "      height: 32px;\n",
              "      padding: 0 0 0 0;\n",
              "      width: 32px;\n",
              "    }\n",
              "\n",
              "    .colab-df-convert:hover {\n",
              "      background-color: #E2EBFA;\n",
              "      box-shadow: 0px 1px 2px rgba(60, 64, 67, 0.3), 0px 1px 3px 1px rgba(60, 64, 67, 0.15);\n",
              "      fill: #174EA6;\n",
              "    }\n",
              "\n",
              "    [theme=dark] .colab-df-convert {\n",
              "      background-color: #3B4455;\n",
              "      fill: #D2E3FC;\n",
              "    }\n",
              "\n",
              "    [theme=dark] .colab-df-convert:hover {\n",
              "      background-color: #434B5C;\n",
              "      box-shadow: 0px 1px 3px 1px rgba(0, 0, 0, 0.15);\n",
              "      filter: drop-shadow(0px 1px 2px rgba(0, 0, 0, 0.3));\n",
              "      fill: #FFFFFF;\n",
              "    }\n",
              "  </style>\n",
              "\n",
              "      <script>\n",
              "        const buttonEl =\n",
              "          document.querySelector('#df-0886b5af-0565-471f-84c4-6b2325de8ace button.colab-df-convert');\n",
              "        buttonEl.style.display =\n",
              "          google.colab.kernel.accessAllowed ? 'block' : 'none';\n",
              "\n",
              "        async function convertToInteractive(key) {\n",
              "          const element = document.querySelector('#df-0886b5af-0565-471f-84c4-6b2325de8ace');\n",
              "          const dataTable =\n",
              "            await google.colab.kernel.invokeFunction('convertToInteractive',\n",
              "                                                     [key], {});\n",
              "          if (!dataTable) return;\n",
              "\n",
              "          const docLinkHtml = 'Like what you see? Visit the ' +\n",
              "            '<a target=\"_blank\" href=https://colab.research.google.com/notebooks/data_table.ipynb>data table notebook</a>'\n",
              "            + ' to learn more about interactive tables.';\n",
              "          element.innerHTML = '';\n",
              "          dataTable['output_type'] = 'display_data';\n",
              "          await google.colab.output.renderOutput(dataTable, element);\n",
              "          const docLink = document.createElement('div');\n",
              "          docLink.innerHTML = docLinkHtml;\n",
              "          element.appendChild(docLink);\n",
              "        }\n",
              "      </script>\n",
              "    </div>\n",
              "  </div>\n",
              "  "
            ],
            "text/plain": [
              "             Word 0        Word 1    Word 2  Word 3       Word 4     Word 5  \\\n",
              "Topic 0      matrix          data     layer  vector     function      model   \n",
              "Topic 1      import          word     model    time         data      words   \n",
              "Topic 2        data         model  learning   table          set  different   \n",
              "Topic 3        data  distribution    random    file  probability     python   \n",
              "Topic 4  regression          data     model  docker   hypothesis       test   \n",
              "\n",
              "           Word 6    Word 7    Word 8  Word 9      Word 10     Word 11  \\\n",
              "Topic 0   network      list  learning   means        input      neural   \n",
              "Topic 1  decision      text      used  series     multiple        node   \n",
              "Topic 2  training  function    values      ml         plot      column   \n",
              "Topic 3      used      mean  function  sample       import       table   \n",
              "Topic 4    linear     error   tableau   value  performance  indicators   \n",
              "\n",
              "        Word 12    Word 13     Word 14  \n",
              "Topic 0     set       used      linear  \n",
              "Topic 1    tree     called       value  \n",
              "Topic 2   error      image    analysis  \n",
              "Topic 3  number  variables  population  \n",
              "Topic 4    line       null      values  "
            ]
          },
          "metadata": {},
          "execution_count": 39
        }
      ]
    },
    {
      "cell_type": "markdown",
      "source": [
        "# **Building of Question-Answering Model**"
      ],
      "metadata": {
        "id": "s4pBO25KZcFF"
      }
    },
    {
      "cell_type": "code",
      "source": [
        "ques_ans_pipeline = pipeline(\"question-answering\")"
      ],
      "metadata": {
        "colab": {
          "base_uri": "https://localhost:8080/"
        },
        "id": "c4zpcYKvbPCb",
        "outputId": "2bb0a918-5158-4090-c1ce-be765794c0d8"
      },
      "execution_count": 40,
      "outputs": [
        {
          "output_type": "stream",
          "name": "stderr",
          "text": [
            "No model was supplied, defaulted to distilbert-base-cased-distilled-squad (https://huggingface.co/distilbert-base-cased-distilled-squad)\n"
          ]
        }
      ]
    },
    {
      "cell_type": "code",
      "source": [
        "question=\"who is the father of machine learning?\"\n",
        "question_words = text_process(question).split()\n",
        "question_words"
      ],
      "metadata": {
        "id": "gnc0wxkaduuu",
        "colab": {
          "base_uri": "https://localhost:8080/"
        },
        "outputId": "f1c4865f-1a00-4083-dc0b-88059945f992"
      },
      "execution_count": 41,
      "outputs": [
        {
          "output_type": "execute_result",
          "data": {
            "text/plain": [
              "['father', 'machine', 'learning']"
            ]
          },
          "metadata": {},
          "execution_count": 41
        }
      ]
    },
    {
      "cell_type": "code",
      "source": [
        "# vectorization of top_5_words and question\n",
        "count_vectorizer = CountVectorizer(stop_words='english', max_features=4000)\n",
        "text_sample = list(data_science_df_clean['top_5_words_joined'].values)\n",
        "text_sample.append(question)\n",
        "print('Document before vectorization: {}'.format(text_sample[94]))\n",
        "\n",
        "document_term_matrix = count_vectorizer.fit_transform(text_sample)\n",
        "\n",
        "print('Document after vectorization: \\n{}'.format(document_term_matrix[94]))"
      ],
      "metadata": {
        "colab": {
          "base_uri": "https://localhost:8080/"
        },
        "id": "Fxn4rUXtpOU-",
        "outputId": "4aa83da5-4a7f-4b31-f6ac-eae08c12fdf0"
      },
      "execution_count": 42,
      "outputs": [
        {
          "output_type": "stream",
          "name": "stdout",
          "text": [
            "Document before vectorization: who is the father of machine learning?\n",
            "Document after vectorization: \n",
            "  (0, 143)\t1\n",
            "  (0, 96)\t1\n",
            "  (0, 153)\t1\n"
          ]
        }
      ]
    },
    {
      "cell_type": "code",
      "source": [
        "# # vectorization of top_5_words and question\n",
        "\n",
        "# text_sample = data_science_df_clean['top_5_words_joined']\n",
        "\n",
        "# print('Document before vectorization: {}'.format(text_sample[93]))\n",
        "# model = Word2Vec(sentences=text_sample, size=5, window=2, min_count=2, workers=4, sg=0)\n",
        "# document_term_matrix = text_sample.apply(model.vectorize)\n",
        "\n",
        "# print('Document after vectorization: \\n{}'.format(document_term_matrix[93]))"
      ],
      "metadata": {
        "id": "aJvOMpb6y_qr"
      },
      "execution_count": 43,
      "outputs": []
    },
    {
      "cell_type": "code",
      "source": [
        "word_match=[]\n",
        "vec_1=document_term_matrix[94]     # Question vector\n",
        "for k in range(len(data_science_df_clean.documents)):\n",
        "  vec_2=document_term_matrix[k]     # Individual document vector\n",
        "  word_match.append(cosine_similarity(vec_1 , vec_2)[0][0])\n",
        "try:\n",
        "  if max(word_match)<=0.25:\n",
        "    print(\"Sorry ! I have no experience for this question.\")\n",
        "    \n",
        "  else:\n",
        "    context=data_science_df_clean.documents[word_match.index(max(word_match))]\n",
        "    \n",
        "    ans = ques_ans_pipeline(question=question, context=context)\n",
        "    print(f\"\\nAnswer: {ans['answer']}\")\n",
        "    print(f\"\\nMatching of question with context: {round(max(word_match),2)}\")\n",
        "        \n",
        "except:\n",
        "  print(\"There is an exception\")  "
      ],
      "metadata": {
        "colab": {
          "base_uri": "https://localhost:8080/"
        },
        "id": "z_E1nUOFtAkI",
        "outputId": "70079a28-486f-4222-856a-007096dd0795"
      },
      "execution_count": 44,
      "outputs": [
        {
          "output_type": "stream",
          "name": "stderr",
          "text": [
            "/usr/local/lib/python3.7/dist-packages/transformers/tokenization_utils_base.py:708: VisibleDeprecationWarning: Creating an ndarray from ragged nested sequences (which is a list-or-tuple of lists-or-tuples-or ndarrays with different lengths or shapes) is deprecated. If you meant to do this, you must specify 'dtype=object' when creating the ndarray.\n",
            "  tensor = as_tensor(value)\n",
            "/usr/local/lib/python3.7/dist-packages/transformers/pipelines/question_answering.py:301: VisibleDeprecationWarning: Creating an ndarray from ragged nested sequences (which is a list-or-tuple of lists-or-tuples-or ndarrays with different lengths or shapes) is deprecated. If you meant to do this, you must specify 'dtype=object' when creating the ndarray.\n",
            "  for span_id in range(num_spans)\n"
          ]
        },
        {
          "output_type": "stream",
          "name": "stdout",
          "text": [
            "\n",
            "Answer: Geoffrey Everest Hinton\n",
            "\n",
            "Matching of question with context: 0.26\n"
          ]
        }
      ]
    },
    {
      "cell_type": "code",
      "source": [
        "# from transformers import BertForQuestionAnswering, AutoTokenizer\n",
        "\n",
        "# modelname = 'deepset/bert-base-cased-squad2'\n",
        "\n",
        "# model = BertForQuestionAnswering.from_pretrained(modelname)\n",
        "# tokenizer = AutoTokenizer.from_pretrained(modelname)"
      ],
      "metadata": {
        "id": "JK9PDeYVi-_d"
      },
      "execution_count": 45,
      "outputs": []
    },
    {
      "cell_type": "code",
      "source": [
        "# import streamlit as st\n",
        "# from transformers import pipeline\n",
        "\n",
        "# @st.cache(allow_output_mutation=True)\n",
        "# def load_qa_model():\n",
        "#     model = pipeline(\"question-answering\")\n",
        "#     return model\n",
        "\n",
        "# qa = load_qa_model()\n",
        "# st.title(\"Ask Questions about your Text\")\n",
        "# sentence = st.text_area('Please paste your article :', height=30)\n",
        "# question = st.text_input(\"Questions from this article?\")\n",
        "# button = st.button(\"Get me Answers\")\n",
        "# max = st.sidebar.slider('Select max', 50, 500, step=10, value=150)\n",
        "# min = st.sidebar.slider('Select min', 10, 450, step=10, value=50)\n",
        "# do_sample = st.sidebar.checkbox(\"Do sample\", value=False)\n",
        "# with st.spinner(\"Discovering Answers..\"):\n",
        "#     if button and sentence:\n",
        "#         answers = qa(question=question, context=sentence)\n",
        "#         st.write(answers['answer'])"
      ],
      "metadata": {
        "id": "tkmkXLLDWl7g"
      },
      "execution_count": 46,
      "outputs": []
    },
    {
      "cell_type": "markdown",
      "source": [
        "# **Conclusion**"
      ],
      "metadata": {
        "id": "wwzxBHrW2Hyu"
      }
    },
    {
      "cell_type": "markdown",
      "source": [
        ""
      ],
      "metadata": {
        "id": "XIFv-wVy2Mgf"
      }
    }
  ]
}