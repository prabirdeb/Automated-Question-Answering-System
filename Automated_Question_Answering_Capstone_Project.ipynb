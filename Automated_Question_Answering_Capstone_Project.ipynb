{
  "nbformat": 4,
  "nbformat_minor": 0,
  "metadata": {
    "kernelspec": {
      "display_name": "Python 3",
      "language": "python",
      "name": "python3"
    },
    "language_info": {
      "codemirror_mode": {
        "name": "ipython",
        "version": 3
      },
      "file_extension": ".py",
      "mimetype": "text/x-python",
      "name": "python",
      "nbconvert_exporter": "python",
      "pygments_lexer": "ipython3",
      "version": "3.6.6"
    },
    "colab": {
      "name": "Automated Question-Answering - Capstone Project.ipynb",
      "provenance": [],
      "collapsed_sections": [
        "aI1H31mBem8_",
        "3ZDd7c1HfmU8",
        "zCASSXmAkfv7",
        "lUqQZ84FgEDT",
        "8Q9wdD2ogsaT",
        "Yx-a7-CHqXNY"
      ],
      "include_colab_link": true
    }
  },
  "cells": [
    {
      "cell_type": "markdown",
      "metadata": {
        "id": "view-in-github",
        "colab_type": "text"
      },
      "source": [
        "<a href=\"https://colab.research.google.com/github/prabirdeb/Automated-Question-Answering-System/blob/main/Automated_Question_Answering_Capstone_Project.ipynb\" target=\"_parent\"><img src=\"https://colab.research.google.com/assets/colab-badge.svg\" alt=\"Open In Colab\"/></a>"
      ]
    },
    {
      "cell_type": "markdown",
      "source": [
        "**Project: Automated Question-Answering**"
      ],
      "metadata": {
        "id": "Bp63SZWFbQec"
      }
    },
    {
      "cell_type": "markdown",
      "source": [
        "## <b> Problem Description </b>\n",
        "\n",
        "### In this project, at first our task is to create a dataset of datascience documents and then extract the topics of the documents and finally build a automated question answering model which will  retrieve the relevant document and generate the answer for the question"
      ],
      "metadata": {
        "id": "R42TYXgJbc8Q"
      }
    },
    {
      "cell_type": "markdown",
      "source": [
        "# **Exploration and Pre-processing of Data**\n",
        "\n",
        "This involves following steps to transform raw data into quality data for the deep learning model "
      ],
      "metadata": {
        "id": "b1ZCkRmTb0g7"
      }
    },
    {
      "cell_type": "markdown",
      "source": [
        "## **1. Connection with the Data**\n",
        "\n",
        "Here, the dataset is the gist of my learning experiences in Almabetter stored in an excel file.\n",
        "\n",
        "At first, we import the libraries or functions for **making our journey easy** and then **get connected** to the set of experiences."
      ],
      "metadata": {
        "id": "aI1H31mBem8_"
      }
    },
    {
      "cell_type": "code",
      "source": [
        "# Importing libraries\n",
        "\n",
        "# Data handling\n",
        "import numpy as np\n",
        "import pandas as pd\n",
        "\n",
        "# machine learning\n",
        "from sklearn.decomposition import LatentDirichletAllocation, TruncatedSVD\n",
        "from sklearn.feature_extraction.text import CountVectorizer, TfidfVectorizer\n",
        "from sklearn.model_selection import GridSearchCV\n",
        "from sklearn.metrics.pairwise import cosine_similarity\n",
        "\n",
        "# Plotting\n",
        "import matplotlib.pyplot as plt\n",
        "%matplotlib inline\n",
        "\n",
        "# Text processing\n",
        "import nltk\n",
        "nltk.download('stopwords')\n",
        "from nltk.corpus import stopwords\n",
        "from nltk.stem.snowball import SnowballStemmer\n",
        "import string"
      ],
      "metadata": {
        "id": "WpBTrM4bPF07",
        "colab": {
          "base_uri": "https://localhost:8080/"
        },
        "outputId": "6e2dc8ff-0dc4-441a-87a1-efd785e0c1c8"
      },
      "execution_count": 206,
      "outputs": [
        {
          "output_type": "stream",
          "name": "stdout",
          "text": [
            "[nltk_data] Downloading package stopwords to /root/nltk_data...\n",
            "[nltk_data]   Package stopwords is already up-to-date!\n"
          ]
        }
      ]
    },
    {
      "cell_type": "code",
      "source": [
        "# Importing deep learning libraries"
      ],
      "metadata": {
        "id": "ccy7zNjMZcvJ"
      },
      "execution_count": 207,
      "outputs": []
    },
    {
      "cell_type": "code",
      "source": [
        "# !pip install streamlit"
      ],
      "metadata": {
        "id": "EpjkmN-HXEZb"
      },
      "execution_count": 208,
      "outputs": []
    },
    {
      "cell_type": "code",
      "source": [
        "!pip install transformers"
      ],
      "metadata": {
        "colab": {
          "base_uri": "https://localhost:8080/"
        },
        "id": "zBeno8S8XatE",
        "outputId": "357ae089-568b-4587-aaf8-6febbf76daf6"
      },
      "execution_count": 209,
      "outputs": [
        {
          "output_type": "stream",
          "name": "stdout",
          "text": [
            "Requirement already satisfied: transformers in /usr/local/lib/python3.7/dist-packages (4.17.0)\n",
            "Requirement already satisfied: importlib-metadata in /usr/local/lib/python3.7/dist-packages (from transformers) (4.11.2)\n",
            "Requirement already satisfied: packaging>=20.0 in /usr/local/lib/python3.7/dist-packages (from transformers) (21.3)\n",
            "Requirement already satisfied: tqdm>=4.27 in /usr/local/lib/python3.7/dist-packages (from transformers) (4.63.0)\n",
            "Requirement already satisfied: huggingface-hub<1.0,>=0.1.0 in /usr/local/lib/python3.7/dist-packages (from transformers) (0.4.0)\n",
            "Requirement already satisfied: sacremoses in /usr/local/lib/python3.7/dist-packages (from transformers) (0.0.47)\n",
            "Requirement already satisfied: numpy>=1.17 in /usr/local/lib/python3.7/dist-packages (from transformers) (1.21.5)\n",
            "Requirement already satisfied: pyyaml>=5.1 in /usr/local/lib/python3.7/dist-packages (from transformers) (6.0)\n",
            "Requirement already satisfied: regex!=2019.12.17 in /usr/local/lib/python3.7/dist-packages (from transformers) (2019.12.20)\n",
            "Requirement already satisfied: tokenizers!=0.11.3,>=0.11.1 in /usr/local/lib/python3.7/dist-packages (from transformers) (0.11.6)\n",
            "Requirement already satisfied: filelock in /usr/local/lib/python3.7/dist-packages (from transformers) (3.6.0)\n",
            "Requirement already satisfied: requests in /usr/local/lib/python3.7/dist-packages (from transformers) (2.23.0)\n",
            "Requirement already satisfied: typing-extensions>=3.7.4.3 in /usr/local/lib/python3.7/dist-packages (from huggingface-hub<1.0,>=0.1.0->transformers) (3.10.0.2)\n",
            "Requirement already satisfied: pyparsing!=3.0.5,>=2.0.2 in /usr/local/lib/python3.7/dist-packages (from packaging>=20.0->transformers) (3.0.7)\n",
            "Requirement already satisfied: zipp>=0.5 in /usr/local/lib/python3.7/dist-packages (from importlib-metadata->transformers) (3.7.0)\n",
            "Requirement already satisfied: certifi>=2017.4.17 in /usr/local/lib/python3.7/dist-packages (from requests->transformers) (2021.10.8)\n",
            "Requirement already satisfied: idna<3,>=2.5 in /usr/local/lib/python3.7/dist-packages (from requests->transformers) (2.10)\n",
            "Requirement already satisfied: urllib3!=1.25.0,!=1.25.1,<1.26,>=1.21.1 in /usr/local/lib/python3.7/dist-packages (from requests->transformers) (1.24.3)\n",
            "Requirement already satisfied: chardet<4,>=3.0.2 in /usr/local/lib/python3.7/dist-packages (from requests->transformers) (3.0.4)\n",
            "Requirement already satisfied: joblib in /usr/local/lib/python3.7/dist-packages (from sacremoses->transformers) (1.1.0)\n",
            "Requirement already satisfied: six in /usr/local/lib/python3.7/dist-packages (from sacremoses->transformers) (1.15.0)\n",
            "Requirement already satisfied: click in /usr/local/lib/python3.7/dist-packages (from sacremoses->transformers) (7.1.2)\n"
          ]
        }
      ]
    },
    {
      "cell_type": "code",
      "source": [
        "from transformers import pipeline\n",
        "ques_ans_pipeline = pipeline(\"question-answering\")"
      ],
      "metadata": {
        "id": "s1jJUWLEZndu",
        "colab": {
          "base_uri": "https://localhost:8080/"
        },
        "outputId": "b21abfb7-d6d5-4276-e497-1589c2821300"
      },
      "execution_count": 210,
      "outputs": [
        {
          "output_type": "stream",
          "name": "stderr",
          "text": [
            "No model was supplied, defaulted to distilbert-base-cased-distilled-squad (https://huggingface.co/distilbert-base-cased-distilled-squad)\n"
          ]
        }
      ]
    },
    {
      "cell_type": "code",
      "source": [
        "!pip install pyLDAvis"
      ],
      "metadata": {
        "colab": {
          "base_uri": "https://localhost:8080/"
        },
        "id": "R5qPSDlIrXr9",
        "outputId": "cffd8ccf-c9ab-4361-e96e-d1fd9dda179e"
      },
      "execution_count": 211,
      "outputs": [
        {
          "output_type": "stream",
          "name": "stdout",
          "text": [
            "Requirement already satisfied: pyLDAvis in /usr/local/lib/python3.7/dist-packages (3.3.1)\n",
            "Requirement already satisfied: scipy in /usr/local/lib/python3.7/dist-packages (from pyLDAvis) (1.4.1)\n",
            "Requirement already satisfied: numexpr in /usr/local/lib/python3.7/dist-packages (from pyLDAvis) (2.8.1)\n",
            "Requirement already satisfied: gensim in /usr/local/lib/python3.7/dist-packages (from pyLDAvis) (3.6.0)\n",
            "Requirement already satisfied: pandas>=1.2.0 in /usr/local/lib/python3.7/dist-packages (from pyLDAvis) (1.3.5)\n",
            "Requirement already satisfied: sklearn in /usr/local/lib/python3.7/dist-packages (from pyLDAvis) (0.0)\n",
            "Requirement already satisfied: numpy>=1.20.0 in /usr/local/lib/python3.7/dist-packages (from pyLDAvis) (1.21.5)\n",
            "Requirement already satisfied: funcy in /usr/local/lib/python3.7/dist-packages (from pyLDAvis) (1.17)\n",
            "Requirement already satisfied: jinja2 in /usr/local/lib/python3.7/dist-packages (from pyLDAvis) (2.11.3)\n",
            "Requirement already satisfied: joblib in /usr/local/lib/python3.7/dist-packages (from pyLDAvis) (1.1.0)\n",
            "Requirement already satisfied: future in /usr/local/lib/python3.7/dist-packages (from pyLDAvis) (0.16.0)\n",
            "Requirement already satisfied: scikit-learn in /usr/local/lib/python3.7/dist-packages (from pyLDAvis) (1.0.2)\n",
            "Requirement already satisfied: setuptools in /usr/local/lib/python3.7/dist-packages (from pyLDAvis) (57.4.0)\n",
            "Requirement already satisfied: python-dateutil>=2.7.3 in /usr/local/lib/python3.7/dist-packages (from pandas>=1.2.0->pyLDAvis) (2.8.2)\n",
            "Requirement already satisfied: pytz>=2017.3 in /usr/local/lib/python3.7/dist-packages (from pandas>=1.2.0->pyLDAvis) (2018.9)\n",
            "Requirement already satisfied: six>=1.5 in /usr/local/lib/python3.7/dist-packages (from python-dateutil>=2.7.3->pandas>=1.2.0->pyLDAvis) (1.15.0)\n",
            "Requirement already satisfied: smart-open>=1.2.1 in /usr/local/lib/python3.7/dist-packages (from gensim->pyLDAvis) (5.2.1)\n",
            "Requirement already satisfied: MarkupSafe>=0.23 in /usr/local/lib/python3.7/dist-packages (from jinja2->pyLDAvis) (2.0.1)\n",
            "Requirement already satisfied: packaging in /usr/local/lib/python3.7/dist-packages (from numexpr->pyLDAvis) (21.3)\n",
            "Requirement already satisfied: pyparsing!=3.0.5,>=2.0.2 in /usr/local/lib/python3.7/dist-packages (from packaging->numexpr->pyLDAvis) (3.0.7)\n",
            "Requirement already satisfied: threadpoolctl>=2.0.0 in /usr/local/lib/python3.7/dist-packages (from scikit-learn->pyLDAvis) (3.1.0)\n"
          ]
        }
      ]
    },
    {
      "cell_type": "code",
      "source": [
        "import pyLDAvis\n",
        "import pyLDAvis.sklearn\n",
        "\n",
        "pyLDAvis.enable_notebook()"
      ],
      "metadata": {
        "id": "q5dF5n8qw6hz"
      },
      "execution_count": 212,
      "outputs": []
    },
    {
      "cell_type": "code",
      "source": [
        "from google.colab import drive\n",
        "drive.mount('/content/drive')"
      ],
      "metadata": {
        "colab": {
          "base_uri": "https://localhost:8080/"
        },
        "id": "Ml-27Ww0PEGb",
        "outputId": "fd995d49-4653-4dff-edf3-e442dd02693d"
      },
      "execution_count": 213,
      "outputs": [
        {
          "output_type": "stream",
          "name": "stdout",
          "text": [
            "Drive already mounted at /content/drive; to attempt to forcibly remount, call drive.mount(\"/content/drive\", force_remount=True).\n"
          ]
        }
      ]
    },
    {
      "cell_type": "code",
      "source": [
        "# Reading the data as pandas dataframe\n",
        "xls = pd.ExcelFile('/content/drive/MyDrive/Almabetter Assignments/Capstone projects/Automated Question Answering System-Prabir Debnath/data.xlsx')\n",
        "xls.sheet_names"
      ],
      "metadata": {
        "id": "XZD-Of2KPRU6",
        "colab": {
          "base_uri": "https://localhost:8080/"
        },
        "outputId": "e6507579-595b-4b5d-c7b1-a049d8360d6d"
      },
      "execution_count": 214,
      "outputs": [
        {
          "output_type": "execute_result",
          "data": {
            "text/plain": [
              "['Concepts']"
            ]
          },
          "metadata": {},
          "execution_count": 214
        }
      ]
    },
    {
      "cell_type": "code",
      "source": [
        "data_science_df = pd.read_excel(xls, 'Concepts')"
      ],
      "metadata": {
        "id": "mDu-JenYPcNP"
      },
      "execution_count": 215,
      "outputs": []
    },
    {
      "cell_type": "markdown",
      "source": [
        "## **2. First Feelings of the Data**\n",
        "\n",
        "As there is a huge no. of experiences, we cannot see the whole lot of experiences and therefore we find the features on the **data head**."
      ],
      "metadata": {
        "id": "3ZDd7c1HfmU8"
      }
    },
    {
      "cell_type": "code",
      "source": [
        "data_science_df.head(2)"
      ],
      "metadata": {
        "colab": {
          "base_uri": "https://localhost:8080/",
          "height": 0
        },
        "id": "Ui0zEG09P2ID",
        "outputId": "aede6c13-df00-4077-8f1e-736960da9ebc"
      },
      "execution_count": 216,
      "outputs": [
        {
          "output_type": "execute_result",
          "data": {
            "text/html": [
              "\n",
              "  <div id=\"df-660940cc-1435-49fa-927e-0aaef7320503\">\n",
              "    <div class=\"colab-df-container\">\n",
              "      <div>\n",
              "<style scoped>\n",
              "    .dataframe tbody tr th:only-of-type {\n",
              "        vertical-align: middle;\n",
              "    }\n",
              "\n",
              "    .dataframe tbody tr th {\n",
              "        vertical-align: top;\n",
              "    }\n",
              "\n",
              "    .dataframe thead th {\n",
              "        text-align: right;\n",
              "    }\n",
              "</style>\n",
              "<table border=\"1\" class=\"dataframe\">\n",
              "  <thead>\n",
              "    <tr style=\"text-align: right;\">\n",
              "      <th></th>\n",
              "      <th>Concept-1</th>\n",
              "      <th>Concept-2</th>\n",
              "      <th>Concept-3</th>\n",
              "      <th>Concept-4</th>\n",
              "      <th>Concept-5</th>\n",
              "      <th>Concept-6</th>\n",
              "      <th>Concept-7</th>\n",
              "      <th>Concept-8</th>\n",
              "      <th>Concept-9</th>\n",
              "      <th>Concept-10</th>\n",
              "      <th>...</th>\n",
              "      <th>Concept-12</th>\n",
              "      <th>Concept-13</th>\n",
              "      <th>Concept-14</th>\n",
              "      <th>Concept-15</th>\n",
              "      <th>Concept-16</th>\n",
              "      <th>Concept-17</th>\n",
              "      <th>Concept-18</th>\n",
              "      <th>Concept-19</th>\n",
              "      <th>Concept-20</th>\n",
              "      <th>Unnamed: 20</th>\n",
              "    </tr>\n",
              "  </thead>\n",
              "  <tbody>\n",
              "    <tr>\n",
              "      <th>0</th>\n",
              "      <td>Python language was created in 1991\\n\\nLike an...</td>\n",
              "      <td>There are 32 keywords in C++ and 35 keywords i...</td>\n",
              "      <td>data types (Numeric, Boolean, String, Datetime)</td>\n",
              "      <td>Integers or whole numbers (1,2,-5,1000), Float...</td>\n",
              "      <td>Arithmatic Operation (addition[+], subtraction...</td>\n",
              "      <td>In mathematics and computer science, the floor...</td>\n",
              "      <td>Variable is the storing place in computer memo...</td>\n",
              "      <td>Variable name (must start with letter or under...</td>\n",
              "      <td>Boolean Variable (true or false)\\n\\nComparison...</td>\n",
              "      <td>Perfect number, a positive integer that is equ...</td>\n",
              "      <td>...</td>\n",
              "      <td>To get the absolute value\\n\\nabs(5.8-7.8) retu...</td>\n",
              "      <td>The del keyword in python is primarily used to...</td>\n",
              "      <td>What is the order of precedence in python?\\n\\n...</td>\n",
              "      <td>int(True) gives result 1 and int(False) gives 0</td>\n",
              "      <td>An application or app or software or model is ...</td>\n",
              "      <td>a += 2 means first add 2 with \"a\" and then sav...</td>\n",
              "      <td>Four basic answers of any question\\n\\nyes, no,...</td>\n",
              "      <td>\\nlogical resoning\\n\\nStatement: Is buying thi...</td>\n",
              "      <td>The pprint module provides a capability to “pr...</td>\n",
              "      <td>NaN</td>\n",
              "    </tr>\n",
              "    <tr>\n",
              "      <th>1</th>\n",
              "      <td>String can be a word, a phrase, a sentence, a ...</td>\n",
              "      <td>String has sequence and thus indexing</td>\n",
              "      <td>string' or \"string\" \\n\\ndouble quotes are used...</td>\n",
              "      <td>print('Use \\n to print a new line')</td>\n",
              "      <td>string indexing begins from 0</td>\n",
              "      <td>Grabbing the element by index \\n\\nprint(string...</td>\n",
              "      <td>String Slicing, \\n\\n[starting index:ending ind...</td>\n",
              "      <td>string[:]  If you do not specify the starting ...</td>\n",
              "      <td>slicing with step size, string[3:14:2] means f...</td>\n",
              "      <td>str' object does not support item assignment m...</td>\n",
              "      <td>...</td>\n",
              "      <td>String functions, print(), type(), len()\\n\\nor...</td>\n",
              "      <td>String methods \\n\\nstring.lower(), string.uppe...</td>\n",
              "      <td>first_name = 'Rahul'\\nlast_name = 'Modi'\\n\\nfu...</td>\n",
              "      <td>my_string = 'Albert Einstein'   \\n\\n'Albert' i...</td>\n",
              "      <td>String duplication occurs when we multiply str...</td>\n",
              "      <td>Taking user's input\\n\\ninputted_number = int(i...</td>\n",
              "      <td>\\n\\nA string can be called a safe bridge if it...</td>\n",
              "      <td>for color print\\n\\nfrom termcolor import color...</td>\n",
              "      <td>String matching\\n\\nimport re\\n pattern = re.co...</td>\n",
              "      <td>NaN</td>\n",
              "    </tr>\n",
              "  </tbody>\n",
              "</table>\n",
              "<p>2 rows × 21 columns</p>\n",
              "</div>\n",
              "      <button class=\"colab-df-convert\" onclick=\"convertToInteractive('df-660940cc-1435-49fa-927e-0aaef7320503')\"\n",
              "              title=\"Convert this dataframe to an interactive table.\"\n",
              "              style=\"display:none;\">\n",
              "        \n",
              "  <svg xmlns=\"http://www.w3.org/2000/svg\" height=\"24px\"viewBox=\"0 0 24 24\"\n",
              "       width=\"24px\">\n",
              "    <path d=\"M0 0h24v24H0V0z\" fill=\"none\"/>\n",
              "    <path d=\"M18.56 5.44l.94 2.06.94-2.06 2.06-.94-2.06-.94-.94-2.06-.94 2.06-2.06.94zm-11 1L8.5 8.5l.94-2.06 2.06-.94-2.06-.94L8.5 2.5l-.94 2.06-2.06.94zm10 10l.94 2.06.94-2.06 2.06-.94-2.06-.94-.94-2.06-.94 2.06-2.06.94z\"/><path d=\"M17.41 7.96l-1.37-1.37c-.4-.4-.92-.59-1.43-.59-.52 0-1.04.2-1.43.59L10.3 9.45l-7.72 7.72c-.78.78-.78 2.05 0 2.83L4 21.41c.39.39.9.59 1.41.59.51 0 1.02-.2 1.41-.59l7.78-7.78 2.81-2.81c.8-.78.8-2.07 0-2.86zM5.41 20L4 18.59l7.72-7.72 1.47 1.35L5.41 20z\"/>\n",
              "  </svg>\n",
              "      </button>\n",
              "      \n",
              "  <style>\n",
              "    .colab-df-container {\n",
              "      display:flex;\n",
              "      flex-wrap:wrap;\n",
              "      gap: 12px;\n",
              "    }\n",
              "\n",
              "    .colab-df-convert {\n",
              "      background-color: #E8F0FE;\n",
              "      border: none;\n",
              "      border-radius: 50%;\n",
              "      cursor: pointer;\n",
              "      display: none;\n",
              "      fill: #1967D2;\n",
              "      height: 32px;\n",
              "      padding: 0 0 0 0;\n",
              "      width: 32px;\n",
              "    }\n",
              "\n",
              "    .colab-df-convert:hover {\n",
              "      background-color: #E2EBFA;\n",
              "      box-shadow: 0px 1px 2px rgba(60, 64, 67, 0.3), 0px 1px 3px 1px rgba(60, 64, 67, 0.15);\n",
              "      fill: #174EA6;\n",
              "    }\n",
              "\n",
              "    [theme=dark] .colab-df-convert {\n",
              "      background-color: #3B4455;\n",
              "      fill: #D2E3FC;\n",
              "    }\n",
              "\n",
              "    [theme=dark] .colab-df-convert:hover {\n",
              "      background-color: #434B5C;\n",
              "      box-shadow: 0px 1px 3px 1px rgba(0, 0, 0, 0.15);\n",
              "      filter: drop-shadow(0px 1px 2px rgba(0, 0, 0, 0.3));\n",
              "      fill: #FFFFFF;\n",
              "    }\n",
              "  </style>\n",
              "\n",
              "      <script>\n",
              "        const buttonEl =\n",
              "          document.querySelector('#df-660940cc-1435-49fa-927e-0aaef7320503 button.colab-df-convert');\n",
              "        buttonEl.style.display =\n",
              "          google.colab.kernel.accessAllowed ? 'block' : 'none';\n",
              "\n",
              "        async function convertToInteractive(key) {\n",
              "          const element = document.querySelector('#df-660940cc-1435-49fa-927e-0aaef7320503');\n",
              "          const dataTable =\n",
              "            await google.colab.kernel.invokeFunction('convertToInteractive',\n",
              "                                                     [key], {});\n",
              "          if (!dataTable) return;\n",
              "\n",
              "          const docLinkHtml = 'Like what you see? Visit the ' +\n",
              "            '<a target=\"_blank\" href=https://colab.research.google.com/notebooks/data_table.ipynb>data table notebook</a>'\n",
              "            + ' to learn more about interactive tables.';\n",
              "          element.innerHTML = '';\n",
              "          dataTable['output_type'] = 'display_data';\n",
              "          await google.colab.output.renderOutput(dataTable, element);\n",
              "          const docLink = document.createElement('div');\n",
              "          docLink.innerHTML = docLinkHtml;\n",
              "          element.appendChild(docLink);\n",
              "        }\n",
              "      </script>\n",
              "    </div>\n",
              "  </div>\n",
              "  "
            ],
            "text/plain": [
              "                                           Concept-1  \\\n",
              "0  Python language was created in 1991\\n\\nLike an...   \n",
              "1  String can be a word, a phrase, a sentence, a ...   \n",
              "\n",
              "                                           Concept-2  \\\n",
              "0  There are 32 keywords in C++ and 35 keywords i...   \n",
              "1              String has sequence and thus indexing   \n",
              "\n",
              "                                           Concept-3  \\\n",
              "0    data types (Numeric, Boolean, String, Datetime)   \n",
              "1  string' or \"string\" \\n\\ndouble quotes are used...   \n",
              "\n",
              "                                           Concept-4  \\\n",
              "0  Integers or whole numbers (1,2,-5,1000), Float...   \n",
              "1                print('Use \\n to print a new line')   \n",
              "\n",
              "                                           Concept-5  \\\n",
              "0  Arithmatic Operation (addition[+], subtraction...   \n",
              "1                      string indexing begins from 0   \n",
              "\n",
              "                                           Concept-6  \\\n",
              "0  In mathematics and computer science, the floor...   \n",
              "1  Grabbing the element by index \\n\\nprint(string...   \n",
              "\n",
              "                                           Concept-7  \\\n",
              "0  Variable is the storing place in computer memo...   \n",
              "1  String Slicing, \\n\\n[starting index:ending ind...   \n",
              "\n",
              "                                           Concept-8  \\\n",
              "0  Variable name (must start with letter or under...   \n",
              "1  string[:]  If you do not specify the starting ...   \n",
              "\n",
              "                                           Concept-9  \\\n",
              "0  Boolean Variable (true or false)\\n\\nComparison...   \n",
              "1  slicing with step size, string[3:14:2] means f...   \n",
              "\n",
              "                                          Concept-10  ...  \\\n",
              "0  Perfect number, a positive integer that is equ...  ...   \n",
              "1  str' object does not support item assignment m...  ...   \n",
              "\n",
              "                                          Concept-12  \\\n",
              "0  To get the absolute value\\n\\nabs(5.8-7.8) retu...   \n",
              "1  String functions, print(), type(), len()\\n\\nor...   \n",
              "\n",
              "                                          Concept-13  \\\n",
              "0  The del keyword in python is primarily used to...   \n",
              "1  String methods \\n\\nstring.lower(), string.uppe...   \n",
              "\n",
              "                                          Concept-14  \\\n",
              "0  What is the order of precedence in python?\\n\\n...   \n",
              "1  first_name = 'Rahul'\\nlast_name = 'Modi'\\n\\nfu...   \n",
              "\n",
              "                                          Concept-15  \\\n",
              "0    int(True) gives result 1 and int(False) gives 0   \n",
              "1  my_string = 'Albert Einstein'   \\n\\n'Albert' i...   \n",
              "\n",
              "                                          Concept-16  \\\n",
              "0  An application or app or software or model is ...   \n",
              "1  String duplication occurs when we multiply str...   \n",
              "\n",
              "                                          Concept-17  \\\n",
              "0  a += 2 means first add 2 with \"a\" and then sav...   \n",
              "1  Taking user's input\\n\\ninputted_number = int(i...   \n",
              "\n",
              "                                          Concept-18  \\\n",
              "0  Four basic answers of any question\\n\\nyes, no,...   \n",
              "1  \\n\\nA string can be called a safe bridge if it...   \n",
              "\n",
              "                                          Concept-19  \\\n",
              "0  \\nlogical resoning\\n\\nStatement: Is buying thi...   \n",
              "1  for color print\\n\\nfrom termcolor import color...   \n",
              "\n",
              "                                          Concept-20 Unnamed: 20  \n",
              "0  The pprint module provides a capability to “pr...         NaN  \n",
              "1  String matching\\n\\nimport re\\n pattern = re.co...         NaN  \n",
              "\n",
              "[2 rows x 21 columns]"
            ]
          },
          "metadata": {},
          "execution_count": 216
        }
      ]
    },
    {
      "cell_type": "markdown",
      "source": [
        "## **3. Deeper Understanding of the Data**\n",
        "\n",
        "As there is a huge no. of experiences, we take the help of **statistics to measure** each and every features in different dimensions."
      ],
      "metadata": {
        "id": "zCASSXmAkfv7"
      }
    },
    {
      "cell_type": "code",
      "source": [
        "data_science_df.info()"
      ],
      "metadata": {
        "colab": {
          "base_uri": "https://localhost:8080/"
        },
        "id": "fRH0IK9EXWn7",
        "outputId": "bbf4c2a8-96a7-46fe-f0be-2a949c6acad3"
      },
      "execution_count": 217,
      "outputs": [
        {
          "output_type": "stream",
          "name": "stdout",
          "text": [
            "<class 'pandas.core.frame.DataFrame'>\n",
            "RangeIndex: 99 entries, 0 to 98\n",
            "Data columns (total 21 columns):\n",
            " #   Column       Non-Null Count  Dtype \n",
            "---  ------       --------------  ----- \n",
            " 0   Concept-1    99 non-null     object\n",
            " 1   Concept-2    94 non-null     object\n",
            " 2   Concept-3    94 non-null     object\n",
            " 3   Concept-4    92 non-null     object\n",
            " 4   Concept-5    92 non-null     object\n",
            " 5   Concept-6    87 non-null     object\n",
            " 6   Concept-7    86 non-null     object\n",
            " 7   Concept-8    86 non-null     object\n",
            " 8   Concept-9    83 non-null     object\n",
            " 9   Concept-10   80 non-null     object\n",
            " 10  Concept-11   75 non-null     object\n",
            " 11  Concept-12   70 non-null     object\n",
            " 12  Concept-13   64 non-null     object\n",
            " 13  Concept-14   58 non-null     object\n",
            " 14  Concept-15   54 non-null     object\n",
            " 15  Concept-16   44 non-null     object\n",
            " 16  Concept-17   40 non-null     object\n",
            " 17  Concept-18   37 non-null     object\n",
            " 18  Concept-19   30 non-null     object\n",
            " 19  Concept-20   23 non-null     object\n",
            " 20  Unnamed: 20  1 non-null      object\n",
            "dtypes: object(21)\n",
            "memory usage: 16.4+ KB\n"
          ]
        }
      ]
    },
    {
      "cell_type": "markdown",
      "source": [
        "## **4. Cleaning the Data**\n",
        "\n",
        "In this step, we treat null, missing, \"?\" or duplicate values.\n",
        "\n",
        "We check the statistics further on clean data."
      ],
      "metadata": {
        "id": "lUqQZ84FgEDT"
      }
    },
    {
      "cell_type": "markdown",
      "source": [
        "Creating Dataset with Relevant Features"
      ],
      "metadata": {
        "id": "eF73vTrYmpss"
      }
    },
    {
      "cell_type": "code",
      "source": [
        "relevant_features=['Concept-1', 'Concept-2', 'Concept-3', 'Concept-4', 'Concept-5',\n",
        "       'Concept-6', 'Concept-7', 'Concept-8', 'Concept-9', 'Concept-10',\n",
        "       'Concept-11', 'Concept-12', 'Concept-13', 'Concept-14', 'Concept-15',\n",
        "       'Concept-16', 'Concept-17', 'Concept-18', 'Concept-19', 'Concept-20']"
      ],
      "metadata": {
        "id": "XfXrE3Pem53Y"
      },
      "execution_count": 218,
      "outputs": []
    },
    {
      "cell_type": "code",
      "source": [
        "data_science_df_clean=data_science_df[relevant_features]"
      ],
      "metadata": {
        "id": "7dU4cS_Gm7XY"
      },
      "execution_count": 219,
      "outputs": []
    },
    {
      "cell_type": "code",
      "source": [
        "# Creating documents with all individual cell\n",
        "data_science_df_clean=pd.DataFrame(data_science_df_clean.values.flatten(), columns=['documents'])\n",
        "data_science_df_clean.head(2)"
      ],
      "metadata": {
        "colab": {
          "base_uri": "https://localhost:8080/",
          "height": 0
        },
        "id": "rhfaA1civybx",
        "outputId": "f83b78ac-1fe2-48b2-f049-d8e4a0b25e46"
      },
      "execution_count": 220,
      "outputs": [
        {
          "output_type": "execute_result",
          "data": {
            "text/html": [
              "\n",
              "  <div id=\"df-ebeebf95-96d8-48a5-8c99-e82ad10cb590\">\n",
              "    <div class=\"colab-df-container\">\n",
              "      <div>\n",
              "<style scoped>\n",
              "    .dataframe tbody tr th:only-of-type {\n",
              "        vertical-align: middle;\n",
              "    }\n",
              "\n",
              "    .dataframe tbody tr th {\n",
              "        vertical-align: top;\n",
              "    }\n",
              "\n",
              "    .dataframe thead th {\n",
              "        text-align: right;\n",
              "    }\n",
              "</style>\n",
              "<table border=\"1\" class=\"dataframe\">\n",
              "  <thead>\n",
              "    <tr style=\"text-align: right;\">\n",
              "      <th></th>\n",
              "      <th>documents</th>\n",
              "    </tr>\n",
              "  </thead>\n",
              "  <tbody>\n",
              "    <tr>\n",
              "      <th>0</th>\n",
              "      <td>Python language was created in 1991\\n\\nLike an...</td>\n",
              "    </tr>\n",
              "    <tr>\n",
              "      <th>1</th>\n",
              "      <td>There are 32 keywords in C++ and 35 keywords i...</td>\n",
              "    </tr>\n",
              "  </tbody>\n",
              "</table>\n",
              "</div>\n",
              "      <button class=\"colab-df-convert\" onclick=\"convertToInteractive('df-ebeebf95-96d8-48a5-8c99-e82ad10cb590')\"\n",
              "              title=\"Convert this dataframe to an interactive table.\"\n",
              "              style=\"display:none;\">\n",
              "        \n",
              "  <svg xmlns=\"http://www.w3.org/2000/svg\" height=\"24px\"viewBox=\"0 0 24 24\"\n",
              "       width=\"24px\">\n",
              "    <path d=\"M0 0h24v24H0V0z\" fill=\"none\"/>\n",
              "    <path d=\"M18.56 5.44l.94 2.06.94-2.06 2.06-.94-2.06-.94-.94-2.06-.94 2.06-2.06.94zm-11 1L8.5 8.5l.94-2.06 2.06-.94-2.06-.94L8.5 2.5l-.94 2.06-2.06.94zm10 10l.94 2.06.94-2.06 2.06-.94-2.06-.94-.94-2.06-.94 2.06-2.06.94z\"/><path d=\"M17.41 7.96l-1.37-1.37c-.4-.4-.92-.59-1.43-.59-.52 0-1.04.2-1.43.59L10.3 9.45l-7.72 7.72c-.78.78-.78 2.05 0 2.83L4 21.41c.39.39.9.59 1.41.59.51 0 1.02-.2 1.41-.59l7.78-7.78 2.81-2.81c.8-.78.8-2.07 0-2.86zM5.41 20L4 18.59l7.72-7.72 1.47 1.35L5.41 20z\"/>\n",
              "  </svg>\n",
              "      </button>\n",
              "      \n",
              "  <style>\n",
              "    .colab-df-container {\n",
              "      display:flex;\n",
              "      flex-wrap:wrap;\n",
              "      gap: 12px;\n",
              "    }\n",
              "\n",
              "    .colab-df-convert {\n",
              "      background-color: #E8F0FE;\n",
              "      border: none;\n",
              "      border-radius: 50%;\n",
              "      cursor: pointer;\n",
              "      display: none;\n",
              "      fill: #1967D2;\n",
              "      height: 32px;\n",
              "      padding: 0 0 0 0;\n",
              "      width: 32px;\n",
              "    }\n",
              "\n",
              "    .colab-df-convert:hover {\n",
              "      background-color: #E2EBFA;\n",
              "      box-shadow: 0px 1px 2px rgba(60, 64, 67, 0.3), 0px 1px 3px 1px rgba(60, 64, 67, 0.15);\n",
              "      fill: #174EA6;\n",
              "    }\n",
              "\n",
              "    [theme=dark] .colab-df-convert {\n",
              "      background-color: #3B4455;\n",
              "      fill: #D2E3FC;\n",
              "    }\n",
              "\n",
              "    [theme=dark] .colab-df-convert:hover {\n",
              "      background-color: #434B5C;\n",
              "      box-shadow: 0px 1px 3px 1px rgba(0, 0, 0, 0.15);\n",
              "      filter: drop-shadow(0px 1px 2px rgba(0, 0, 0, 0.3));\n",
              "      fill: #FFFFFF;\n",
              "    }\n",
              "  </style>\n",
              "\n",
              "      <script>\n",
              "        const buttonEl =\n",
              "          document.querySelector('#df-ebeebf95-96d8-48a5-8c99-e82ad10cb590 button.colab-df-convert');\n",
              "        buttonEl.style.display =\n",
              "          google.colab.kernel.accessAllowed ? 'block' : 'none';\n",
              "\n",
              "        async function convertToInteractive(key) {\n",
              "          const element = document.querySelector('#df-ebeebf95-96d8-48a5-8c99-e82ad10cb590');\n",
              "          const dataTable =\n",
              "            await google.colab.kernel.invokeFunction('convertToInteractive',\n",
              "                                                     [key], {});\n",
              "          if (!dataTable) return;\n",
              "\n",
              "          const docLinkHtml = 'Like what you see? Visit the ' +\n",
              "            '<a target=\"_blank\" href=https://colab.research.google.com/notebooks/data_table.ipynb>data table notebook</a>'\n",
              "            + ' to learn more about interactive tables.';\n",
              "          element.innerHTML = '';\n",
              "          dataTable['output_type'] = 'display_data';\n",
              "          await google.colab.output.renderOutput(dataTable, element);\n",
              "          const docLink = document.createElement('div');\n",
              "          docLink.innerHTML = docLinkHtml;\n",
              "          element.appendChild(docLink);\n",
              "        }\n",
              "      </script>\n",
              "    </div>\n",
              "  </div>\n",
              "  "
            ],
            "text/plain": [
              "                                           documents\n",
              "0  Python language was created in 1991\\n\\nLike an...\n",
              "1  There are 32 keywords in C++ and 35 keywords i..."
            ]
          },
          "metadata": {},
          "execution_count": 220
        }
      ]
    },
    {
      "cell_type": "code",
      "source": [
        "# Removing null value rows\n",
        "data_science_df_clean.dropna(inplace=True) "
      ],
      "metadata": {
        "id": "PK7PTYSszTmA"
      },
      "execution_count": 221,
      "outputs": []
    },
    {
      "cell_type": "code",
      "source": [
        "data_science_df_clean.info()"
      ],
      "metadata": {
        "colab": {
          "base_uri": "https://localhost:8080/"
        },
        "id": "wrqwrwHoXy-4",
        "outputId": "8e16c42d-b17f-4b5f-e25b-e6c83b18cd35"
      },
      "execution_count": 222,
      "outputs": [
        {
          "output_type": "stream",
          "name": "stdout",
          "text": [
            "<class 'pandas.core.frame.DataFrame'>\n",
            "Int64Index: 1388 entries, 0 to 1971\n",
            "Data columns (total 1 columns):\n",
            " #   Column     Non-Null Count  Dtype \n",
            "---  ------     --------------  ----- \n",
            " 0   documents  1388 non-null   object\n",
            "dtypes: object(1)\n",
            "memory usage: 21.7+ KB\n"
          ]
        }
      ]
    },
    {
      "cell_type": "code",
      "source": [
        "# Checking no data in any row\n",
        "data_science_df_clean[(data_science_df_clean['documents']=='No data')]"
      ],
      "metadata": {
        "colab": {
          "base_uri": "https://localhost:8080/",
          "height": 0
        },
        "id": "VfsQ8hbQy28i",
        "outputId": "44a6691c-eef2-4b27-80ba-aa5af6b9ba1e"
      },
      "execution_count": 223,
      "outputs": [
        {
          "output_type": "execute_result",
          "data": {
            "text/html": [
              "\n",
              "  <div id=\"df-fecc15ee-638e-4ef8-9663-bd393cb0f4bd\">\n",
              "    <div class=\"colab-df-container\">\n",
              "      <div>\n",
              "<style scoped>\n",
              "    .dataframe tbody tr th:only-of-type {\n",
              "        vertical-align: middle;\n",
              "    }\n",
              "\n",
              "    .dataframe tbody tr th {\n",
              "        vertical-align: top;\n",
              "    }\n",
              "\n",
              "    .dataframe thead th {\n",
              "        text-align: right;\n",
              "    }\n",
              "</style>\n",
              "<table border=\"1\" class=\"dataframe\">\n",
              "  <thead>\n",
              "    <tr style=\"text-align: right;\">\n",
              "      <th></th>\n",
              "      <th>documents</th>\n",
              "    </tr>\n",
              "  </thead>\n",
              "  <tbody>\n",
              "    <tr>\n",
              "      <th>480</th>\n",
              "      <td>No data</td>\n",
              "    </tr>\n",
              "    <tr>\n",
              "      <th>760</th>\n",
              "      <td>No data</td>\n",
              "    </tr>\n",
              "    <tr>\n",
              "      <th>1300</th>\n",
              "      <td>No data</td>\n",
              "    </tr>\n",
              "    <tr>\n",
              "      <th>1320</th>\n",
              "      <td>No data</td>\n",
              "    </tr>\n",
              "    <tr>\n",
              "      <th>1420</th>\n",
              "      <td>No data</td>\n",
              "    </tr>\n",
              "  </tbody>\n",
              "</table>\n",
              "</div>\n",
              "      <button class=\"colab-df-convert\" onclick=\"convertToInteractive('df-fecc15ee-638e-4ef8-9663-bd393cb0f4bd')\"\n",
              "              title=\"Convert this dataframe to an interactive table.\"\n",
              "              style=\"display:none;\">\n",
              "        \n",
              "  <svg xmlns=\"http://www.w3.org/2000/svg\" height=\"24px\"viewBox=\"0 0 24 24\"\n",
              "       width=\"24px\">\n",
              "    <path d=\"M0 0h24v24H0V0z\" fill=\"none\"/>\n",
              "    <path d=\"M18.56 5.44l.94 2.06.94-2.06 2.06-.94-2.06-.94-.94-2.06-.94 2.06-2.06.94zm-11 1L8.5 8.5l.94-2.06 2.06-.94-2.06-.94L8.5 2.5l-.94 2.06-2.06.94zm10 10l.94 2.06.94-2.06 2.06-.94-2.06-.94-.94-2.06-.94 2.06-2.06.94z\"/><path d=\"M17.41 7.96l-1.37-1.37c-.4-.4-.92-.59-1.43-.59-.52 0-1.04.2-1.43.59L10.3 9.45l-7.72 7.72c-.78.78-.78 2.05 0 2.83L4 21.41c.39.39.9.59 1.41.59.51 0 1.02-.2 1.41-.59l7.78-7.78 2.81-2.81c.8-.78.8-2.07 0-2.86zM5.41 20L4 18.59l7.72-7.72 1.47 1.35L5.41 20z\"/>\n",
              "  </svg>\n",
              "      </button>\n",
              "      \n",
              "  <style>\n",
              "    .colab-df-container {\n",
              "      display:flex;\n",
              "      flex-wrap:wrap;\n",
              "      gap: 12px;\n",
              "    }\n",
              "\n",
              "    .colab-df-convert {\n",
              "      background-color: #E8F0FE;\n",
              "      border: none;\n",
              "      border-radius: 50%;\n",
              "      cursor: pointer;\n",
              "      display: none;\n",
              "      fill: #1967D2;\n",
              "      height: 32px;\n",
              "      padding: 0 0 0 0;\n",
              "      width: 32px;\n",
              "    }\n",
              "\n",
              "    .colab-df-convert:hover {\n",
              "      background-color: #E2EBFA;\n",
              "      box-shadow: 0px 1px 2px rgba(60, 64, 67, 0.3), 0px 1px 3px 1px rgba(60, 64, 67, 0.15);\n",
              "      fill: #174EA6;\n",
              "    }\n",
              "\n",
              "    [theme=dark] .colab-df-convert {\n",
              "      background-color: #3B4455;\n",
              "      fill: #D2E3FC;\n",
              "    }\n",
              "\n",
              "    [theme=dark] .colab-df-convert:hover {\n",
              "      background-color: #434B5C;\n",
              "      box-shadow: 0px 1px 3px 1px rgba(0, 0, 0, 0.15);\n",
              "      filter: drop-shadow(0px 1px 2px rgba(0, 0, 0, 0.3));\n",
              "      fill: #FFFFFF;\n",
              "    }\n",
              "  </style>\n",
              "\n",
              "      <script>\n",
              "        const buttonEl =\n",
              "          document.querySelector('#df-fecc15ee-638e-4ef8-9663-bd393cb0f4bd button.colab-df-convert');\n",
              "        buttonEl.style.display =\n",
              "          google.colab.kernel.accessAllowed ? 'block' : 'none';\n",
              "\n",
              "        async function convertToInteractive(key) {\n",
              "          const element = document.querySelector('#df-fecc15ee-638e-4ef8-9663-bd393cb0f4bd');\n",
              "          const dataTable =\n",
              "            await google.colab.kernel.invokeFunction('convertToInteractive',\n",
              "                                                     [key], {});\n",
              "          if (!dataTable) return;\n",
              "\n",
              "          const docLinkHtml = 'Like what you see? Visit the ' +\n",
              "            '<a target=\"_blank\" href=https://colab.research.google.com/notebooks/data_table.ipynb>data table notebook</a>'\n",
              "            + ' to learn more about interactive tables.';\n",
              "          element.innerHTML = '';\n",
              "          dataTable['output_type'] = 'display_data';\n",
              "          await google.colab.output.renderOutput(dataTable, element);\n",
              "          const docLink = document.createElement('div');\n",
              "          docLink.innerHTML = docLinkHtml;\n",
              "          element.appendChild(docLink);\n",
              "        }\n",
              "      </script>\n",
              "    </div>\n",
              "  </div>\n",
              "  "
            ],
            "text/plain": [
              "     documents\n",
              "480    No data\n",
              "760    No data\n",
              "1300   No data\n",
              "1320   No data\n",
              "1420   No data"
            ]
          },
          "metadata": {},
          "execution_count": 223
        }
      ]
    },
    {
      "cell_type": "code",
      "source": [
        "# Removing all the rows with no data and reseting index \n",
        "data_science_df_clean=data_science_df_clean[(data_science_df_clean['documents']!='No data')].reset_index()"
      ],
      "metadata": {
        "id": "UPAHu4pJzBZy"
      },
      "execution_count": 224,
      "outputs": []
    },
    {
      "cell_type": "code",
      "source": [
        "data_science_df_clean.drop('index',axis=1, inplace=True)"
      ],
      "metadata": {
        "id": "fJGATT1cfPvD"
      },
      "execution_count": 225,
      "outputs": []
    },
    {
      "cell_type": "code",
      "source": [
        "data_science_df_clean['documents']"
      ],
      "metadata": {
        "colab": {
          "base_uri": "https://localhost:8080/"
        },
        "id": "D1ANxC5TdX5B",
        "outputId": "c07c8f81-cdd0-4d70-a33a-9e9204efb3e0"
      },
      "execution_count": 226,
      "outputs": [
        {
          "output_type": "execute_result",
          "data": {
            "text/plain": [
              "0       Python language was created in 1991\\n\\nLike an...\n",
              "1       There are 32 keywords in C++ and 35 keywords i...\n",
              "2         data types (Numeric, Boolean, String, Datetime)\n",
              "3       Integers or whole numbers (1,2,-5,1000), Float...\n",
              "4       Arithmatic Operation (addition[+], subtraction...\n",
              "                              ...                        \n",
              "1378    Attention model\\n\\nFor long sequence normal ma...\n",
              "1379    Blue Score\\n\\nIt is used to measure the perfor...\n",
              "1380    Audio data for speech recognition\\n\\nThis is a...\n",
              "1381    Basic Rule of CTC based technique\\n\\nCollapse ...\n",
              "1382    Audio Data for Trigger word detection\\n\\ne.g. ...\n",
              "Name: documents, Length: 1383, dtype: object"
            ]
          },
          "metadata": {},
          "execution_count": 226
        }
      ]
    },
    {
      "cell_type": "markdown",
      "source": [
        "Let's develop a list of the top words used across the documents, which gives us a glimpse into the core vocabulary of the source data. Stop words are omitted here to avoid any trivial conjunctions, prepositions, etc."
      ],
      "metadata": {
        "id": "L3TeiFJDrcD7"
      }
    },
    {
      "cell_type": "markdown",
      "source": [
        "Text Pre-processing"
      ],
      "metadata": {
        "id": "bpCQ3-7auCnv"
      }
    },
    {
      "cell_type": "code",
      "source": [
        "# writing text pre-processing function\n",
        "def text_process(text):\n",
        "    text = text.lower()    # converting to lowercase\n",
        "    text =[char for char in text if char not in string.punctuation] # removing punctuations\n",
        "    text=''.join(text) \n",
        "    text=[word for word in text.split() if word not in stopwords.words('english')]  # removing stopwords\n",
        "    stemmer = SnowballStemmer(\"english\") \n",
        "    text=' '.join(text) \n",
        "    text = [stemmer.stem(word) for word in text.split()] # stemming operation\n",
        "    return ' '.join(text)"
      ],
      "metadata": {
        "id": "EHKkL-PQqCBD"
      },
      "execution_count": 227,
      "outputs": []
    },
    {
      "cell_type": "code",
      "source": [
        "text_process('I am Running in the field')"
      ],
      "metadata": {
        "colab": {
          "base_uri": "https://localhost:8080/",
          "height": 0
        },
        "id": "9lSwC5eVUKHL",
        "outputId": "abaacacb-2199-4cae-a4be-37be3a1ba396"
      },
      "execution_count": 228,
      "outputs": [
        {
          "output_type": "execute_result",
          "data": {
            "application/vnd.google.colaboratory.intrinsic+json": {
              "type": "string"
            },
            "text/plain": [
              "'run field'"
            ]
          },
          "metadata": {},
          "execution_count": 228
        }
      ]
    },
    {
      "cell_type": "code",
      "source": [
        "# Wrting top words function\n",
        "def get_top_n_words(n_top_words, count_vectorizer, text_data):\n",
        "    '''\n",
        "    returns a tuple of the top n words in a sample and their \n",
        "    accompanying counts, given a CountVectorizer object and text sample\n",
        "    '''\n",
        "    vectorized_documents = count_vectorizer.fit_transform(text_data.apply(text_process).values) # also performing text processing\n",
        "    vectorized_total = np.sum(vectorized_documents, axis=0)\n",
        "    word_indices = np.flip(np.argsort(vectorized_total)[0,:], 1)\n",
        "    word_values = np.flip(np.sort(vectorized_total)[0,:],1)\n",
        "    \n",
        "    word_vectors = np.zeros((n_top_words, vectorized_documents.shape[1]))\n",
        "    for i in range(n_top_words):\n",
        "        word_vectors[i,word_indices[0,i]] = 1\n",
        "\n",
        "    words = [word[0].encode('ascii').decode('utf-8') for \n",
        "             word in count_vectorizer.inverse_transform(word_vectors)]\n",
        "\n",
        "    return (words, word_values[0,:n_top_words].tolist()[0])"
      ],
      "metadata": {
        "id": "qkAfpbeFrJsy"
      },
      "execution_count": 229,
      "outputs": []
    },
    {
      "cell_type": "code",
      "source": [
        "# Ploting top words in the entire dataset\n",
        "count_vectorizer = CountVectorizer(stop_words='english')\n",
        "words, word_values = get_top_n_words(n_top_words=10,\n",
        "                                     count_vectorizer=count_vectorizer, \n",
        "                                     text_data=data_science_df_clean['documents'])\n",
        "\n",
        "fig, ax = plt.subplots(figsize=(16,8))\n",
        "ax.bar(range(len(words)), word_values)\n",
        "ax.set_xticks(range(len(words)))\n",
        "ax.set_xticklabels(words, rotation='vertical')\n",
        "ax.set_title('Top words in the clean dataset')\n",
        "ax.set_xlabel('Word')\n",
        "ax.set_ylabel('Number of occurences')\n",
        "plt.show()"
      ],
      "metadata": {
        "colab": {
          "base_uri": "https://localhost:8080/",
          "height": 0
        },
        "id": "VrFmrz2kr78S",
        "outputId": "e72538dd-3ad2-4de1-87df-5a6bd45270b9"
      },
      "execution_count": 230,
      "outputs": [
        {
          "output_type": "display_data",
          "data": {
            "image/png": "[encoded data removed]",
            "text/plain": [
              "<Figure size 1152x576 with 1 Axes>"
            ]
          },
          "metadata": {
            "needs_background": "light"
          }
        }
      ]
    },
    {
      "cell_type": "markdown",
      "source": [
        "## **5. Preparation of Input Data**"
      ],
      "metadata": {
        "id": "8Q9wdD2ogsaT"
      }
    },
    {
      "cell_type": "code",
      "source": [
        "# Document processing\n",
        "data_science_df_clean['documents_processed'] = data_science_df_clean['documents'].apply(text_process)"
      ],
      "metadata": {
        "id": "ZoX2Dl5JuLiJ"
      },
      "execution_count": 231,
      "outputs": []
    },
    {
      "cell_type": "code",
      "source": [
        "data_science_df_clean.head(2)"
      ],
      "metadata": {
        "id": "L6gIXJjTboio",
        "colab": {
          "base_uri": "https://localhost:8080/",
          "height": 0
        },
        "outputId": "b71121e4-9f41-43c7-d6b9-f203c2f94eca"
      },
      "execution_count": 232,
      "outputs": [
        {
          "output_type": "execute_result",
          "data": {
            "text/html": [
              "\n",
              "  <div id=\"df-3c5b7487-0f98-4509-b9bd-c6d3378b0ebc\">\n",
              "    <div class=\"colab-df-container\">\n",
              "      <div>\n",
              "<style scoped>\n",
              "    .dataframe tbody tr th:only-of-type {\n",
              "        vertical-align: middle;\n",
              "    }\n",
              "\n",
              "    .dataframe tbody tr th {\n",
              "        vertical-align: top;\n",
              "    }\n",
              "\n",
              "    .dataframe thead th {\n",
              "        text-align: right;\n",
              "    }\n",
              "</style>\n",
              "<table border=\"1\" class=\"dataframe\">\n",
              "  <thead>\n",
              "    <tr style=\"text-align: right;\">\n",
              "      <th></th>\n",
              "      <th>documents</th>\n",
              "      <th>documents_processed</th>\n",
              "    </tr>\n",
              "  </thead>\n",
              "  <tbody>\n",
              "    <tr>\n",
              "      <th>0</th>\n",
              "      <td>Python language was created in 1991\\n\\nLike an...</td>\n",
              "      <td>python languag creat 1991 like comput program ...</td>\n",
              "    </tr>\n",
              "    <tr>\n",
              "      <th>1</th>\n",
              "      <td>There are 32 keywords in C++ and 35 keywords i...</td>\n",
              "      <td>32 keyword c 35 keyword python python keyword ...</td>\n",
              "    </tr>\n",
              "  </tbody>\n",
              "</table>\n",
              "</div>\n",
              "      <button class=\"colab-df-convert\" onclick=\"convertToInteractive('df-3c5b7487-0f98-4509-b9bd-c6d3378b0ebc')\"\n",
              "              title=\"Convert this dataframe to an interactive table.\"\n",
              "              style=\"display:none;\">\n",
              "        \n",
              "  <svg xmlns=\"http://www.w3.org/2000/svg\" height=\"24px\"viewBox=\"0 0 24 24\"\n",
              "       width=\"24px\">\n",
              "    <path d=\"M0 0h24v24H0V0z\" fill=\"none\"/>\n",
              "    <path d=\"M18.56 5.44l.94 2.06.94-2.06 2.06-.94-2.06-.94-.94-2.06-.94 2.06-2.06.94zm-11 1L8.5 8.5l.94-2.06 2.06-.94-2.06-.94L8.5 2.5l-.94 2.06-2.06.94zm10 10l.94 2.06.94-2.06 2.06-.94-2.06-.94-.94-2.06-.94 2.06-2.06.94z\"/><path d=\"M17.41 7.96l-1.37-1.37c-.4-.4-.92-.59-1.43-.59-.52 0-1.04.2-1.43.59L10.3 9.45l-7.72 7.72c-.78.78-.78 2.05 0 2.83L4 21.41c.39.39.9.59 1.41.59.51 0 1.02-.2 1.41-.59l7.78-7.78 2.81-2.81c.8-.78.8-2.07 0-2.86zM5.41 20L4 18.59l7.72-7.72 1.47 1.35L5.41 20z\"/>\n",
              "  </svg>\n",
              "      </button>\n",
              "      \n",
              "  <style>\n",
              "    .colab-df-container {\n",
              "      display:flex;\n",
              "      flex-wrap:wrap;\n",
              "      gap: 12px;\n",
              "    }\n",
              "\n",
              "    .colab-df-convert {\n",
              "      background-color: #E8F0FE;\n",
              "      border: none;\n",
              "      border-radius: 50%;\n",
              "      cursor: pointer;\n",
              "      display: none;\n",
              "      fill: #1967D2;\n",
              "      height: 32px;\n",
              "      padding: 0 0 0 0;\n",
              "      width: 32px;\n",
              "    }\n",
              "\n",
              "    .colab-df-convert:hover {\n",
              "      background-color: #E2EBFA;\n",
              "      box-shadow: 0px 1px 2px rgba(60, 64, 67, 0.3), 0px 1px 3px 1px rgba(60, 64, 67, 0.15);\n",
              "      fill: #174EA6;\n",
              "    }\n",
              "\n",
              "    [theme=dark] .colab-df-convert {\n",
              "      background-color: #3B4455;\n",
              "      fill: #D2E3FC;\n",
              "    }\n",
              "\n",
              "    [theme=dark] .colab-df-convert:hover {\n",
              "      background-color: #434B5C;\n",
              "      box-shadow: 0px 1px 3px 1px rgba(0, 0, 0, 0.15);\n",
              "      filter: drop-shadow(0px 1px 2px rgba(0, 0, 0, 0.3));\n",
              "      fill: #FFFFFF;\n",
              "    }\n",
              "  </style>\n",
              "\n",
              "      <script>\n",
              "        const buttonEl =\n",
              "          document.querySelector('#df-3c5b7487-0f98-4509-b9bd-c6d3378b0ebc button.colab-df-convert');\n",
              "        buttonEl.style.display =\n",
              "          google.colab.kernel.accessAllowed ? 'block' : 'none';\n",
              "\n",
              "        async function convertToInteractive(key) {\n",
              "          const element = document.querySelector('#df-3c5b7487-0f98-4509-b9bd-c6d3378b0ebc');\n",
              "          const dataTable =\n",
              "            await google.colab.kernel.invokeFunction('convertToInteractive',\n",
              "                                                     [key], {});\n",
              "          if (!dataTable) return;\n",
              "\n",
              "          const docLinkHtml = 'Like what you see? Visit the ' +\n",
              "            '<a target=\"_blank\" href=https://colab.research.google.com/notebooks/data_table.ipynb>data table notebook</a>'\n",
              "            + ' to learn more about interactive tables.';\n",
              "          element.innerHTML = '';\n",
              "          dataTable['output_type'] = 'display_data';\n",
              "          await google.colab.output.renderOutput(dataTable, element);\n",
              "          const docLink = document.createElement('div');\n",
              "          docLink.innerHTML = docLinkHtml;\n",
              "          element.appendChild(docLink);\n",
              "        }\n",
              "      </script>\n",
              "    </div>\n",
              "  </div>\n",
              "  "
            ],
            "text/plain": [
              "                                           documents  \\\n",
              "0  Python language was created in 1991\\n\\nLike an...   \n",
              "1  There are 32 keywords in C++ and 35 keywords i...   \n",
              "\n",
              "                                 documents_processed  \n",
              "0  python languag creat 1991 like comput program ...  \n",
              "1  32 keyword c 35 keyword python python keyword ...  "
            ]
          },
          "metadata": {},
          "execution_count": 232
        }
      ]
    },
    {
      "cell_type": "code",
      "source": [
        "# vectorization of documents\n",
        "count_vectorizer = CountVectorizer(stop_words='english', max_features=4000)\n",
        "\n",
        "text_sample = data_science_df_clean.documents_processed.values\n",
        "\n",
        "print('Document before vectorization: {}'.format(text_sample[0]))\n",
        "\n",
        "document_term_matrix = count_vectorizer.fit_transform(text_sample)\n",
        "\n",
        "print('Document after vectorization: \\n{}'.format(document_term_matrix[0]))"
      ],
      "metadata": {
        "id": "yvKcSewstiRL",
        "colab": {
          "base_uri": "https://localhost:8080/"
        },
        "outputId": "893c8f87-c649-4751-a4ba-6893f718e875"
      },
      "execution_count": 233,
      "outputs": [
        {
          "output_type": "stream",
          "name": "stdout",
          "text": [
            "Document before vectorization: python languag creat 1991 like comput program languag python token smallest meaning part statementexpress command keyword basic word languag identifi programm defin word program liter data data structur punctuat etc oper\n",
            "Document after vectorization: \n",
            "  (0, 2432)\t2\n",
            "  (0, 1786)\t3\n",
            "  (0, 1101)\t1\n",
            "  (0, 95)\t1\n",
            "  (0, 1848)\t1\n",
            "  (0, 1036)\t1\n",
            "  (0, 2350)\t2\n",
            "  (0, 3416)\t1\n",
            "  (0, 2986)\t1\n",
            "  (0, 1989)\t1\n",
            "  (0, 3109)\t1\n",
            "  (0, 1018)\t1\n",
            "  (0, 1744)\t1\n",
            "  (0, 700)\t1\n",
            "  (0, 3795)\t2\n",
            "  (0, 1623)\t1\n",
            "  (0, 2351)\t1\n",
            "  (0, 1167)\t1\n",
            "  (0, 1894)\t1\n",
            "  (0, 1135)\t2\n",
            "  (0, 3191)\t1\n",
            "  (0, 2396)\t1\n",
            "  (0, 2174)\t1\n"
          ]
        }
      ]
    },
    {
      "cell_type": "markdown",
      "source": [
        "# **Building of Topic Model**"
      ],
      "metadata": {
        "id": "Yx-a7-CHqXNY"
      }
    },
    {
      "cell_type": "markdown",
      "source": [
        "Building LDA model with sklearn and hyperparameter tuning"
      ],
      "metadata": {
        "id": "y1RAu9SHn7U8"
      }
    },
    {
      "cell_type": "code",
      "source": [
        "lda = LatentDirichletAllocation()\n",
        "\n",
        "grid_params={'n_components': list(range(5,10)), 'learning_decay': [.5, .7, .9]}\n",
        "\n",
        "lda_model = GridSearchCV(lda,param_grid=grid_params)\n",
        "\n",
        "lda_model.fit(document_term_matrix)"
      ],
      "metadata": {
        "id": "R3j1MXHru5UQ",
        "colab": {
          "base_uri": "https://localhost:8080/"
        },
        "outputId": "2875871e-500d-4a86-9eff-8aedae7fcf92"
      },
      "execution_count": 234,
      "outputs": [
        {
          "output_type": "execute_result",
          "data": {
            "text/plain": [
              "GridSearchCV(estimator=LatentDirichletAllocation(),\n",
              "             param_grid={'learning_decay': [0.5, 0.7, 0.9],\n",
              "                         'n_components': [5, 6, 7, 8, 9]})"
            ]
          },
          "metadata": {},
          "execution_count": 234
        }
      ]
    },
    {
      "cell_type": "markdown",
      "source": [
        "Let's see the best topic model and its parameters"
      ],
      "metadata": {
        "id": "r9UbNYRHu79f"
      }
    },
    {
      "cell_type": "code",
      "source": [
        "# Best Model\n",
        "best_lda_model = lda_model.best_estimator_\n",
        "\n",
        "# Model Parameters\n",
        "print(\"Best Model's Params: \", lda_model.best_params_)\n",
        "\n",
        "# Perplexity\n",
        "print(\"Model Perplexity: \", round(best_lda_model.perplexity(document_term_matrix),2))"
      ],
      "metadata": {
        "id": "jUbulJBPvBNx",
        "colab": {
          "base_uri": "https://localhost:8080/"
        },
        "outputId": "8470a59f-8433-416c-dc11-ced80fe66f87"
      },
      "execution_count": 235,
      "outputs": [
        {
          "output_type": "stream",
          "name": "stdout",
          "text": [
            "Best Model's Params:  {'learning_decay': 0.7, 'n_components': 5}\n",
            "Model Perplexity:  1538.45\n"
          ]
        }
      ]
    },
    {
      "cell_type": "markdown",
      "source": [
        "Let's visualize the LDA model with pyLDAvis"
      ],
      "metadata": {
        "id": "EcBuRdBKyE0N"
      }
    },
    {
      "cell_type": "code",
      "source": [
        "lda_panel = pyLDAvis.sklearn.prepare(best_lda_model, document_term_matrix,count_vectorizer,mds='tsne')\n",
        "lda_panel"
      ],
      "metadata": {
        "id": "Q7RRXop8wXzx",
        "colab": {
          "base_uri": "https://localhost:8080/",
          "height": 0
        },
        "outputId": "825f9aa9-e571-4761-9679-14e86399e6cd"
      },
      "execution_count": 236,
      "outputs": [
        {
          "output_type": "stream",
          "name": "stderr",
          "text": [
            "/usr/local/lib/python3.7/dist-packages/sklearn/utils/deprecation.py:87: FutureWarning: Function get_feature_names is deprecated; get_feature_names is deprecated in 1.0 and will be removed in 1.2. Please use get_feature_names_out instead.\n",
            "  warnings.warn(msg, category=FutureWarning)\n",
            "/usr/local/lib/python3.7/dist-packages/pyLDAvis/_prepare.py:247: FutureWarning: In a future version of pandas all arguments of DataFrame.drop except for the argument 'labels' will be keyword-only\n",
            "  by='saliency', ascending=False).head(R).drop('saliency', 1)\n",
            "/usr/local/lib/python3.7/dist-packages/sklearn/manifold/_t_sne.py:783: FutureWarning: The default initialization in TSNE will change from 'random' to 'pca' in 1.2.\n",
            "  FutureWarning,\n",
            "/usr/local/lib/python3.7/dist-packages/sklearn/manifold/_t_sne.py:793: FutureWarning: The default learning rate in TSNE will change from 200.0 to 'auto' in 1.2.\n",
            "  FutureWarning,\n",
            "/usr/local/lib/python3.7/dist-packages/sklearn/manifold/_t_sne.py:827: FutureWarning: 'square_distances' has been introduced in 0.24 to help phase out legacy squaring behavior. The 'legacy' setting will be removed in 1.1 (renaming of 0.26), and the default setting will be changed to True. In 1.3, 'square_distances' will be removed altogether, and distances will be squared by default. Set 'square_distances'=True to silence this warning.\n",
            "  FutureWarning,\n"
          ]
        },
        {
          "output_type": "execute_result",
          "data": {
            "text/html": [
              "\n",
              "<link rel=\"stylesheet\" type=\"text/css\" href=\"https://cdn.jsdelivr.net/gh/bmabey/pyLDAvis@3.3.1/pyLDAvis/js/ldavis.v1.0.0.css\">\n",
              "\n",
              "\n",
              "<div id=\"ldavis_el641404477220357923183282137\"></div>\n",
              "<script type=\"text/javascript\">\n",
              "\n",
              "var ldavis_el641404477220357923183282137_data = {\"mdsDat\": {\"x\": [150.22215270996094, 51.16336441040039, -73.1445541381836, -66.4101333618164, 54.41732406616211], \"y\": [-72.2695541381836, -159.968017578125, 21.523815155029297, -110.60643768310547, 12.44344425201416], \"topics\": [1, 2, 3, 4, 5], \"cluster\": [1, 1, 1, 1, 1], \"Freq\": [24.41957355744832, 20.642071589634593, 20.064663032186118, 17.616978124751018, 17.256713695979954]}, \"tinfo\": {\"Term\": [\"model\", \"tabl\", \"layer\", \"probabl\", \"vector\", \"import\", \"list\", \"variabl\", \"matrix\", \"file\", \"learn\", \"sampl\", \"word\", \"train\", \"random\", \"docker\", \"distribut\", \"network\", \"databas\", \"column\", \"array\", \"input\", \"cluster\", \"imag\", \"plot\", \"mean\", \"valu\", \"featur\", \"set\", \"element\", \"modul\", \"airflow\", \"moment\", \"sigmoid\", \"unsupervis\", \"sklearnmetr\", \"nois\", \"scipystat\", \"break\", \"hierarch\", \"join\", \"discrimin\", \"apach\", \"celeri\", \"mechan\", \"cluster\", \"drift\", \"warn\", \"tanh\", \"prophet\", \"sklearnmodelselect\", \"varchar255\", \"pipelin\", \"gate\", \"blend\", \"sklearnlinearmodel\", \"period\", \"dw\", \"mlflow\", \"inner\", \"boost\", \"kmean\", \"import\", \"isol\", \"approach\", \"db\", \"spark\", \"csv\", \"linear\", \"intellig\", \"algorithm\", \"regress\", \"problem\", \"weight\", \"model\", \"learn\", \"small\", \"predict\", \"equat\", \"class\", \"function\", \"experi\", \"bias\", \"data\", \"hyperparamet\", \"differ\", \"machin\", \"manag\", \"time\", \"gradient\", \"use\", \"point\", \"dataset\", \"featur\", \"ml\", \"code\", \"variabl\", \"file\", \"python\", \"valu\", \"perform\", \"train\", \"array\", \"list\", \"pa\", \"tupl\", \"slice\", \"topic\", \"discret\", \"joint\", \"season\", \"na\", \"covari\", \"px\", \"mutual\", \"exclus\", \"pb\", \"comprehens\", \"index\", \"element\", \"probabl\", \"cumul\", \"revers\", \"min\", \"inplacetru\", \"vif\", \"fxx\", \"arithmet\", \"ls\", \"ndarray\", \"bi\", \"bivari\", \"string\", \"numpi\", \"plot\", \"event\", \"permiss\", \"outcom\", \"identifi\", \"random\", \"variabl\", \"hypothesi\", \"panda\", \"set\", \"null\", \"structur\", \"distribut\", \"continu\", \"column\", \"occur\", \"matrix\", \"condit\", \"number\", \"valu\", \"function\", \"data\", \"use\", \"mean\", \"error\", \"oper\", \"type\", \"convolut\", \"volum\", \"neuron\", \"layer\", \"deviat\", \"demand\", \"x2\", \"bound\", \"pad\", \"trial\", \"x1\", \"grid\", \"mb\", \"th\", \"vector\", \"anchor\", \"chart\", \"hot\", \"draw\", \"lower\", \"stride\", \"scalar\", \"yolo\", \"3x3\", \"softmax\", \"pill\", \"1x1\", \"skew\", \"conv\", \"1d\", \"notat\", \"decreas\", \"minibatch\", \"95\", \"sampl\", \"cnn\", \"hidden\", \"standard\", \"sort\", \"higher\", \"input\", \"increas\", \"popul\", \"factor\", \"mean\", \"matrix\", \"output\", \"size\", \"normal\", \"network\", \"return\", \"valu\", \"filter\", \"neural\", \"denot\", \"measur\", \"result\", \"multipl\", \"classif\", \"featur\", \"use\", \"function\", \"data\", \"number\", \"distribut\", \"observ\", \"like\", \"differ\", \"servic\", \"overfit\", \"azur\", \"parametr\", \"storag\", \"colab\", \"googl\", \"cloud\", \"ip\", \"api\", \"subnod\", \"microservic\", \"databrick\", \"l1\", \"hard\", \"ec\", \"unix\", \"offer\", \"unseen\", \"built\", \"subject\", \"disadvantag\", \"hadoop\", \"sinc\", \"transfer\", \"imposs\", \"child\", \"token\", \"34\", \"xtest\", \"matplotlib\", \"big\", \"collabor\", \"word\", \"embed\", \"split\", \"train\", \"node\", \"applic\", \"recommend\", \"develop\", \"model\", \"level\", \"languag\", \"ml\", \"featur\", \"base\", \"make\", \"learn\", \"network\", \"neural\", \"engin\", \"test\", \"comput\", \"machin\", \"user\", \"use\", \"data\", \"like\", \"techniqu\", \"similar\", \"set\", \"regress\", \"algorithm\", \"docker\", \"databas\", \"tab\", \"tablenam\", \"open\", \"insert\", \"tabl\", \"alter\", \"dag\", \"port\", \"kpis\", \"schema\", \"subdirectori\", \"kpi\", \"convnet\", \"virtual\", \"sheet\", \"display\", \"static\", \"neighbor\", \"strength\", \"epoch\", \"sqlite\", \"html\", \"delet\", \"menu\", \"jupyt\", \"piec\", \"16\", \"content\", \"bash\", \"dashboard\", \"packag\", \"instal\", \"face\", \"directori\", \"indic\", \"web\", \"key\", \"channel\", \"file\", \"imag\", \"contain\", \"sql\", \"view\", \"command\", \"creat\", \"script\", \"code\", \"python\", \"environ\", \"run\", \"user\", \"select\", \"use\", \"data\", \"column\", \"type\", \"object\", \"valu\", \"import\", \"perform\"], \"Freq\": [342.0, 107.0, 108.0, 128.0, 109.0, 207.0, 88.0, 140.0, 134.0, 131.0, 185.0, 96.0, 94.0, 108.0, 104.0, 45.0, 132.0, 89.0, 43.0, 104.0, 43.0, 93.0, 69.0, 90.0, 63.0, 203.0, 219.0, 150.0, 136.0, 49.0, 21.675015596462462, 15.40447519519062, 13.609286331850292, 10.031892655157495, 10.030611051075171, 9.136842105111484, 9.136504138195665, 8.241725389366554, 8.239847763587262, 7.3393507943282, 24.37111065978311, 6.447383838149203, 6.447137948550912, 6.441291234217266, 6.441091810844663, 62.044571865401956, 5.554386756078167, 5.554068620918267, 5.55272728744488, 5.552504913085347, 5.546105051628413, 5.531821924425733, 19.723723965902444, 12.49041065189681, 4.658517828535435, 4.658478823847058, 4.6573988356572995, 4.657225174739493, 4.657036796576743, 4.656936841333072, 10.79061290979667, 10.008630722697072, 161.0778798687854, 6.1445338561134255, 34.25943868723605, 8.972290413715537, 17.138274785415913, 15.554220574839949, 52.20189733553881, 11.485388794230936, 52.49973460501356, 46.57589831587173, 41.93103001687175, 52.04358515413482, 159.1486497716196, 94.11389367316104, 18.61259385526665, 43.28365617809835, 20.979241344739744, 29.141961981960613, 90.12291615414895, 49.04229077235859, 22.88337354131655, 140.20712205171563, 19.795876729135827, 51.90831328789742, 39.9950915320713, 16.11941715045341, 40.45357021670734, 25.504240273085294, 70.80478771475146, 30.41671270576369, 31.68111791421446, 38.76950186225941, 26.159915386853918, 29.64425685918633, 33.302806378195754, 31.288399497847205, 27.966480571335463, 31.16754500101136, 25.54651619172509, 25.633649149641723, 43.05980083874305, 86.23124755182795, 24.689432302619657, 22.06176648173734, 16.80818105567447, 16.806416739602977, 15.057491067777121, 12.430980273078626, 9.800456550975069, 8.930097988230752, 9.72869746522228, 8.054682116108236, 8.05463911851554, 7.178241338742172, 6.303661712382925, 6.303327412598235, 34.361176559926086, 43.69261597067814, 114.3943526017673, 5.4279524516902695, 5.423213499358487, 5.420392716039051, 5.382645984906492, 4.5526718371769626, 4.5525758354003205, 4.551468110143713, 4.551242843084157, 4.550444942995472, 4.550115821705697, 4.549577555807833, 43.0700842139531, 28.039859861908752, 52.952305890554825, 36.06108445787342, 8.9244023848989, 23.631353753710773, 22.62172142483177, 78.0671830731642, 103.16877659084251, 26.528456572905924, 28.9674399224912, 82.97530828874216, 26.544920914473554, 27.435376555371104, 76.83839236054472, 28.51583267634224, 55.284519455076236, 22.38618559247253, 61.60118255597824, 25.461414997103933, 56.96166993730108, 74.0924513768752, 68.84239434572333, 93.42872541252802, 75.98263835556384, 52.39034816211997, 32.64778819136473, 31.58381648324392, 25.23987955403373, 26.43744843039442, 26.223841146112772, 15.057490891369094, 103.42740833913564, 14.180882103404008, 14.179445412068564, 13.304971236553653, 13.304779223410636, 10.68030574797297, 9.805070753996008, 9.80262012175099, 9.793430915750507, 8.930009540960056, 8.92643994619666, 100.73968248333803, 8.053225644457493, 21.654553115148197, 7.177620509064542, 7.17714816996669, 6.293989467337923, 8.560867643382803, 5.427575286129467, 5.426987781555991, 5.42693681662225, 5.426469982245541, 5.426243202700418, 5.425774075162509, 19.399309370308238, 5.416026941267638, 5.403867431150517, 12.930340896509506, 15.860527577344415, 11.433431265543748, 11.398800009194632, 76.94709361767558, 7.645000607755596, 21.0171551805612, 37.09864309605008, 13.251704231433791, 13.19259600877872, 63.423557481113114, 21.001392520598777, 31.262536412382946, 20.99462377174791, 101.65110728858548, 71.95227079419146, 46.69166045537947, 36.598331337239586, 33.536395837885586, 46.97085952419108, 39.50731796993676, 82.40749931149689, 30.524286360652816, 30.774493849240578, 20.948313227792408, 27.505786993126367, 28.496949850860506, 39.09279017036558, 27.49167432608801, 39.366078621117985, 54.666413016616445, 40.289812936815295, 48.58800320151116, 33.461753129358634, 33.610487314932406, 25.063603664818594, 28.050613317266134, 27.09756912886163, 23.700499450711227, 16.68343365968825, 14.142186736541083, 14.13904290140166, 13.26601415220991, 19.880636940461788, 15.261852429341783, 20.085401717740673, 8.021652141578729, 28.739045097507645, 7.159909956559271, 7.159554384385921, 5.4135899137149615, 5.413589793683719, 5.413049752657161, 5.412562087867834, 5.411858815670033, 5.409637912902041, 5.406592700639719, 10.657060187800816, 4.538905060952401, 4.53697712043333, 4.53544966620612, 4.52606112382309, 10.443174868928264, 4.469224100766452, 8.885257708169584, 8.806667394980657, 3.667268942994305, 3.667265965013605, 10.93930604003774, 7.907334811586947, 11.26248710653425, 65.72121757307838, 21.25576629630916, 15.541396997252999, 71.19280429858624, 37.08708919744636, 41.9221789726824, 13.602157402309578, 26.40205332439667, 145.63727065310945, 26.284983777463246, 29.77562148487052, 32.4770781944881, 63.01006940706912, 28.5725752342707, 31.5407714932148, 70.59087121203206, 38.98953857511904, 28.010155084940934, 17.412498372756932, 29.75722118897334, 32.18004835091387, 32.43410857124766, 24.545589176594554, 57.92817358476887, 63.55305658998497, 32.347459246841446, 19.62020101555204, 21.47739681549601, 23.01321386767906, 20.83655713589109, 20.05016069532768, 44.477202386516154, 42.70479284354681, 21.43658294850018, 15.238728165785567, 14.351698929396614, 13.465704846499625, 100.06108964631896, 9.922901147024023, 9.921829953789338, 9.920459526576014, 8.150210694489168, 8.145746357605772, 7.264860983796702, 7.262465765226902, 7.258165619453967, 16.91955594302269, 7.108547280711202, 13.407234503874905, 5.4929987090626256, 5.490417765370395, 5.4861203116660935, 5.474186598756308, 5.469374624078538, 8.571124057543777, 18.48910295904934, 4.606283113182781, 4.6057987655787365, 4.60557312786886, 4.605572031956784, 4.605094325588114, 12.999179104329562, 11.472145139058577, 24.528026504608466, 35.63347919416336, 8.907705127513678, 24.478763417838227, 35.19495373943388, 21.86009250933432, 27.44922383446892, 11.625947642949342, 83.70099622721743, 57.51042293800982, 32.20212647799403, 24.002363460787674, 18.70208309361325, 28.3691726460374, 56.234818018265656, 12.132548277165103, 45.48874402283204, 42.26318298510908, 23.992220571906618, 28.012637802472078, 27.704916676763634, 30.571396961698504, 77.43478998875071, 80.18588665738613, 37.1306078997763, 26.308011101696263, 22.328244681806027, 30.272639654691936, 23.571472359261254, 20.688254357271067], \"Total\": [342.0, 107.0, 108.0, 128.0, 109.0, 207.0, 88.0, 140.0, 134.0, 131.0, 185.0, 96.0, 94.0, 108.0, 104.0, 45.0, 132.0, 89.0, 43.0, 104.0, 43.0, 93.0, 69.0, 90.0, 63.0, 203.0, 219.0, 150.0, 136.0, 49.0, 22.381993480561913, 16.110942470749205, 14.319093186851154, 10.735733889963848, 10.735709396937192, 9.839895357825752, 9.839876277551115, 8.944032847950023, 8.943988493902374, 8.048012624041801, 26.820962208776113, 7.152232129283155, 7.152249060234432, 7.152088118664225, 7.152084237285133, 69.72913634595184, 6.256430424297698, 6.256423198426827, 6.256392454128294, 6.256396348509457, 6.256240509565384, 6.256182538642385, 22.33256523419851, 14.290695615789414, 5.360560927060938, 5.3605604836225895, 5.360535507415829, 5.360533837247524, 5.360536417304185, 5.360543492200288, 12.503975457101628, 11.621207697086408, 207.8886765097923, 7.147071221108349, 43.71294561275127, 10.711923740664972, 21.39382419480577, 19.6435258550177, 75.56673675167605, 14.287004610116917, 81.6879969566638, 74.54721636363902, 66.57773096083488, 86.9935024469586, 342.131796562864, 185.86223920911388, 26.68342427847356, 77.11304152121144, 31.118629924950085, 47.94117546735102, 220.92923489103495, 97.45464402114241, 35.54209226501779, 425.9627939131259, 29.35638528830795, 121.21289545240293, 84.99010631265784, 22.301830907217358, 99.21025126067336, 47.82134318283571, 336.81680266045134, 73.47308328628048, 89.09846223185988, 150.44424768206312, 59.168401548374746, 87.86675127984955, 140.84485111820416, 131.27455745108227, 89.53431933396297, 219.9385833875716, 83.95105930803834, 108.95716124181905, 43.78147198359364, 88.42909233532447, 25.395630062533343, 22.769094493343317, 17.516009738633606, 17.516021024680423, 15.764965254948846, 13.13843774862652, 10.511979783929352, 9.636362232700664, 10.512784757173456, 8.760848543272068, 8.760849502407446, 7.885333842701455, 7.00981752047755, 7.009822054248796, 38.55396094421485, 49.04705627653127, 128.6931609227936, 6.134306385451294, 6.134330782620931, 6.134395012765078, 6.134850096441921, 5.258787868874353, 5.2587900776249015, 5.258800848855373, 5.258817419428546, 5.2587878168998055, 5.258818568449523, 5.258795389653502, 50.85888151527587, 33.37255448241614, 63.986146419928396, 43.931545134984944, 10.509793376176377, 28.922969509118687, 28.03809461180565, 104.35233329917168, 140.84485111820416, 33.259027231630604, 37.83818178967434, 136.7903700206591, 36.86078094555511, 38.611284106806494, 132.66050939831558, 42.226253406498365, 104.81831892122943, 33.415141129434, 134.83110426762838, 40.307794656065695, 129.78070320758758, 219.9385833875716, 220.92923489103495, 425.9627939131259, 336.81680266045134, 203.70242627309347, 73.95608100970038, 87.22472037159656, 74.910439053315, 27.14598768980514, 27.14881385136808, 15.76458143436339, 108.55493530158849, 14.889081158239012, 14.889115721593802, 14.013607587142355, 14.01360613345301, 11.387127819878318, 10.511620314713902, 10.51163701941399, 10.511640587926976, 9.636128767153952, 9.636183961973996, 109.51400035191288, 8.76064740838431, 23.644117798957062, 7.8851544096860255, 7.885154165804458, 7.009672578095577, 9.643634961799378, 6.1341735449379415, 6.134180292091067, 6.134161092451131, 6.134190031724591, 6.134162701579794, 6.134192332673492, 21.934613920914057, 6.134170097177955, 6.134228725808584, 14.918019452182394, 18.41300962757875, 13.161300778169315, 13.135353409086449, 96.287841005864, 8.765527592455285, 25.401701080226395, 46.59316900925673, 15.786208203739632, 15.787895568668976, 93.30515358995142, 27.211524936587512, 44.64762513525482, 28.067355891200254, 203.70242627309347, 134.83110426762838, 81.10214124282211, 60.55647294085921, 54.51370171189607, 89.22545400048544, 72.21904615537538, 219.9385833875716, 53.030462417526415, 59.46826265895003, 33.29028976793295, 53.464439838696485, 57.21989044949115, 110.13848745704574, 60.01698154988914, 150.44424768206312, 336.81680266045134, 220.92923489103495, 425.9627939131259, 129.78070320758758, 132.66050939831558, 57.19594002449993, 100.97129669248834, 121.21289545240293, 24.45725440901428, 17.472722907655555, 14.85181795051153, 14.851877408598476, 13.978688546502292, 20.965063049883483, 16.599901386323026, 21.864197365038397, 8.73982255154789, 31.471261523620043, 7.866494157852606, 7.866495135232545, 6.120173987785125, 6.120173988004053, 6.120181937458552, 6.120182747410972, 6.120208147471897, 6.120195050500669, 6.120239655022464, 12.254665414016271, 5.247035326706751, 5.2470736474753075, 5.247103769869527, 5.247091337044861, 12.24823744414108, 5.248721958194874, 10.48855657074164, 10.488582754884746, 4.373853827148441, 4.373853861759946, 13.129690398111514, 9.627461264258486, 14.009633418439524, 94.3845130319709, 27.965161904471696, 20.10114495591037, 108.95716124181905, 55.993261842492, 68.54712387662221, 18.44899575984815, 41.32508362340789, 342.131796562864, 42.923788564153746, 50.83763064295972, 59.168401548374746, 150.44424768206312, 51.70762278088426, 59.81007709424915, 185.86223920911388, 89.22545400048544, 59.46826265895003, 28.16820612474885, 72.16284682646254, 82.63009469240106, 84.99010631265784, 52.79760860782896, 336.81680266045134, 425.9627939131259, 100.97129669248834, 41.30294331703987, 60.757430617481276, 136.7903700206591, 74.54721636363902, 81.6879969566638, 45.18276156019686, 43.410708664157596, 22.145919618997638, 15.9437408812978, 15.057707231675433, 14.1716701801265, 107.15818115844118, 10.627558787783165, 10.627566290182308, 10.627513172970591, 8.855477310362511, 8.855426080054862, 7.969462995034331, 7.9694324244591295, 7.9693956740842005, 18.612605651910282, 7.971199747590665, 15.046562731848814, 6.197402921413472, 6.197403813134176, 6.1973274979193125, 6.197318959129774, 6.197083631720055, 9.746686877519108, 21.23541372837076, 5.31135689956564, 5.311348076303785, 5.311343730984861, 5.31134842488117, 5.311336783367663, 15.04176017355631, 13.272491341981517, 30.17437241968454, 45.21443069796096, 10.615497542172305, 30.947533478274316, 47.69911361387098, 28.269374689314997, 36.3060483918178, 14.165893646528426, 131.27455745108227, 90.11332194908908, 45.96718387682346, 34.559078963321724, 25.635495960829708, 43.43484784649371, 108.72094408759786, 15.025453754885827, 87.86675127984955, 89.53431933396297, 40.80749709221084, 53.255390682507254, 52.79760860782896, 61.89837412018621, 336.81680266045134, 425.9627939131259, 104.81831892122943, 74.910439053315, 53.072142781989875, 219.9385833875716, 207.8886765097923, 83.95105930803834], \"Category\": [\"Default\", \"Default\", \"Default\", \"Default\", \"Default\", \"Default\", \"Default\", \"Default\", \"Default\", \"Default\", \"Default\", \"Default\", \"Default\", \"Default\", \"Default\", \"Default\", \"Default\", \"Default\", \"Default\", \"Default\", \"Default\", \"Default\", \"Default\", \"Default\", \"Default\", \"Default\", \"Default\", \"Default\", \"Default\", \"Default\", \"Topic1\", \"Topic1\", \"Topic1\", \"Topic1\", \"Topic1\", \"Topic1\", \"Topic1\", \"Topic1\", \"Topic1\", \"Topic1\", \"Topic1\", \"Topic1\", \"Topic1\", \"Topic1\", \"Topic1\", \"Topic1\", \"Topic1\", \"Topic1\", \"Topic1\", \"Topic1\", \"Topic1\", \"Topic1\", \"Topic1\", \"Topic1\", \"Topic1\", \"Topic1\", \"Topic1\", \"Topic1\", \"Topic1\", \"Topic1\", \"Topic1\", \"Topic1\", \"Topic1\", \"Topic1\", \"Topic1\", \"Topic1\", \"Topic1\", \"Topic1\", \"Topic1\", \"Topic1\", \"Topic1\", \"Topic1\", \"Topic1\", \"Topic1\", \"Topic1\", \"Topic1\", \"Topic1\", \"Topic1\", \"Topic1\", \"Topic1\", \"Topic1\", \"Topic1\", \"Topic1\", \"Topic1\", \"Topic1\", \"Topic1\", \"Topic1\", \"Topic1\", \"Topic1\", \"Topic1\", \"Topic1\", \"Topic1\", \"Topic1\", \"Topic1\", \"Topic1\", \"Topic1\", \"Topic1\", \"Topic1\", \"Topic1\", \"Topic1\", \"Topic1\", \"Topic1\", \"Topic2\", \"Topic2\", \"Topic2\", \"Topic2\", \"Topic2\", \"Topic2\", \"Topic2\", \"Topic2\", \"Topic2\", \"Topic2\", \"Topic2\", \"Topic2\", \"Topic2\", \"Topic2\", \"Topic2\", \"Topic2\", \"Topic2\", \"Topic2\", \"Topic2\", \"Topic2\", \"Topic2\", \"Topic2\", \"Topic2\", \"Topic2\", \"Topic2\", \"Topic2\", \"Topic2\", \"Topic2\", \"Topic2\", \"Topic2\", \"Topic2\", \"Topic2\", \"Topic2\", \"Topic2\", \"Topic2\", \"Topic2\", \"Topic2\", \"Topic2\", \"Topic2\", \"Topic2\", \"Topic2\", \"Topic2\", \"Topic2\", \"Topic2\", \"Topic2\", \"Topic2\", \"Topic2\", \"Topic2\", \"Topic2\", \"Topic2\", \"Topic2\", \"Topic2\", \"Topic2\", \"Topic2\", \"Topic2\", \"Topic2\", \"Topic2\", \"Topic2\", \"Topic2\", \"Topic3\", \"Topic3\", \"Topic3\", \"Topic3\", \"Topic3\", \"Topic3\", \"Topic3\", \"Topic3\", \"Topic3\", \"Topic3\", \"Topic3\", \"Topic3\", \"Topic3\", \"Topic3\", \"Topic3\", \"Topic3\", \"Topic3\", \"Topic3\", \"Topic3\", \"Topic3\", \"Topic3\", \"Topic3\", \"Topic3\", \"Topic3\", \"Topic3\", \"Topic3\", \"Topic3\", \"Topic3\", \"Topic3\", \"Topic3\", \"Topic3\", \"Topic3\", \"Topic3\", \"Topic3\", \"Topic3\", \"Topic3\", \"Topic3\", \"Topic3\", \"Topic3\", \"Topic3\", \"Topic3\", \"Topic3\", \"Topic3\", \"Topic3\", \"Topic3\", \"Topic3\", \"Topic3\", \"Topic3\", \"Topic3\", \"Topic3\", \"Topic3\", \"Topic3\", \"Topic3\", \"Topic3\", \"Topic3\", \"Topic3\", \"Topic3\", \"Topic3\", \"Topic3\", \"Topic3\", \"Topic3\", \"Topic3\", \"Topic3\", \"Topic3\", \"Topic3\", \"Topic3\", \"Topic3\", \"Topic3\", \"Topic4\", \"Topic4\", \"Topic4\", \"Topic4\", \"Topic4\", \"Topic4\", \"Topic4\", \"Topic4\", \"Topic4\", \"Topic4\", \"Topic4\", \"Topic4\", \"Topic4\", \"Topic4\", \"Topic4\", \"Topic4\", \"Topic4\", \"Topic4\", \"Topic4\", \"Topic4\", \"Topic4\", \"Topic4\", \"Topic4\", \"Topic4\", \"Topic4\", \"Topic4\", \"Topic4\", \"Topic4\", \"Topic4\", \"Topic4\", \"Topic4\", \"Topic4\", \"Topic4\", \"Topic4\", \"Topic4\", \"Topic4\", \"Topic4\", \"Topic4\", \"Topic4\", \"Topic4\", \"Topic4\", \"Topic4\", \"Topic4\", \"Topic4\", \"Topic4\", \"Topic4\", \"Topic4\", \"Topic4\", \"Topic4\", \"Topic4\", \"Topic4\", \"Topic4\", \"Topic4\", \"Topic4\", \"Topic4\", \"Topic4\", \"Topic4\", \"Topic4\", \"Topic4\", \"Topic4\", \"Topic4\", \"Topic4\", \"Topic4\", \"Topic4\", \"Topic5\", \"Topic5\", \"Topic5\", \"Topic5\", \"Topic5\", \"Topic5\", \"Topic5\", \"Topic5\", \"Topic5\", \"Topic5\", \"Topic5\", \"Topic5\", \"Topic5\", \"Topic5\", \"Topic5\", \"Topic5\", \"Topic5\", \"Topic5\", \"Topic5\", \"Topic5\", \"Topic5\", \"Topic5\", \"Topic5\", \"Topic5\", \"Topic5\", \"Topic5\", \"Topic5\", \"Topic5\", \"Topic5\", \"Topic5\", \"Topic5\", \"Topic5\", \"Topic5\", \"Topic5\", \"Topic5\", \"Topic5\", \"Topic5\", \"Topic5\", \"Topic5\", \"Topic5\", \"Topic5\", \"Topic5\", \"Topic5\", \"Topic5\", \"Topic5\", \"Topic5\", \"Topic5\", \"Topic5\", \"Topic5\", \"Topic5\", \"Topic5\", \"Topic5\", \"Topic5\", \"Topic5\", \"Topic5\", \"Topic5\", \"Topic5\", \"Topic5\", \"Topic5\", \"Topic5\", \"Topic5\", \"Topic5\"], \"logprob\": [30.0, 29.0, 28.0, 27.0, 26.0, 25.0, 24.0, 23.0, 22.0, 21.0, 20.0, 19.0, 18.0, 17.0, 16.0, 15.0, 14.0, 13.0, 12.0, 11.0, 10.0, 9.0, 8.0, 7.0, 6.0, 5.0, 4.0, 3.0, 2.0, 1.0, -5.8176, -6.1591, -6.283, -6.588, -6.5881, -6.6814, -6.6815, -6.7845, -6.7848, -6.9005, -5.7004, -7.0301, -7.0301, -7.031, -7.0311, -4.7659, -7.1792, -7.1792, -7.1795, -7.1795, -7.1807, -7.1832, -5.9119, -6.3688, -7.3551, -7.3551, -7.3553, -7.3553, -7.3554, -7.3554, -6.5151, -6.5903, -3.8119, -7.0782, -5.3598, -6.6996, -6.0524, -6.1494, -4.9386, -6.4527, -4.9329, -5.0527, -5.1577, -4.9417, -3.8239, -4.3492, -5.9699, -5.126, -5.8502, -5.5216, -4.3926, -5.0011, -5.7633, -3.9506, -5.9083, -4.9443, -5.205, -6.1137, -5.1936, -5.6549, -4.6338, -5.4788, -5.438, -5.2361, -5.6295, -5.5045, -5.3881, -5.4505, -5.5627, -5.4544, -5.6533, -5.6498, -4.9631, -4.2687, -5.5193, -5.6319, -5.9038, -5.9039, -6.0138, -6.2055, -6.4433, -6.5363, -6.4506, -6.6394, -6.6395, -6.7546, -6.8846, -6.8846, -5.1888, -4.9485, -3.986, -7.0341, -7.035, -7.0355, -7.0425, -7.21, -7.21, -7.2102, -7.2103, -7.2105, -7.2105, -7.2107, -4.9629, -5.3921, -4.7563, -5.1405, -6.5369, -5.5631, -5.6068, -4.3681, -4.0893, -5.4475, -5.3595, -4.3072, -5.4469, -5.4139, -4.384, -5.3752, -4.7132, -5.6173, -4.605, -5.4885, -4.6833, -4.4204, -4.4939, -4.1885, -4.3952, -4.767, -5.2399, -5.2731, -5.4973, -5.4225, -5.4307, -5.9855, -4.0585, -6.0454, -6.0455, -6.1092, -6.1092, -6.3289, -6.4144, -6.4147, -6.4156, -6.5079, -6.5083, -4.0848, -6.6113, -5.6221, -6.7264, -6.7264, -6.8577, -6.5501, -7.0058, -7.0059, -7.006, -7.006, -7.0061, -7.0062, -5.7321, -7.008, -7.0102, -6.1378, -5.9335, -6.2608, -6.2638, -4.3542, -6.6633, -5.652, -5.0837, -6.1132, -6.1177, -4.5475, -5.6527, -5.2549, -5.6531, -4.0758, -4.4213, -4.8538, -5.0973, -5.1847, -4.8478, -5.0208, -4.2857, -5.2788, -5.2706, -5.6553, -5.3829, -5.3475, -5.0314, -5.3834, -5.0244, -4.6961, -5.0012, -4.814, -5.1869, -5.1825, -5.4759, -5.3633, -5.3979, -5.4017, -5.7528, -5.9181, -5.9183, -5.982, -5.5775, -5.8419, -5.5672, -6.4851, -5.209, -6.5987, -6.5988, -6.8783, -6.8783, -6.8784, -6.8785, -6.8786, -6.879, -6.8796, -6.201, -7.0545, -7.055, -7.0553, -7.0574, -6.2213, -7.07, -6.3828, -6.3917, -7.2678, -7.2678, -6.1749, -6.4994, -6.1458, -4.3818, -5.5106, -5.8237, -4.3018, -4.954, -4.8314, -5.957, -5.2938, -3.5861, -5.2982, -5.1735, -5.0867, -4.4239, -5.2148, -5.1159, -4.3103, -4.9039, -5.2347, -5.71, -5.1742, -5.0959, -5.088, -5.3667, -4.508, -4.4154, -5.0907, -5.5907, -5.5002, -5.4312, -5.5305, -5.569, -4.7516, -4.7923, -5.4815, -5.8227, -5.8827, -5.9464, -3.9408, -6.2517, -6.2518, -6.252, -6.4485, -6.4491, -6.5635, -6.5638, -6.5644, -5.7181, -6.5853, -5.9508, -6.8431, -6.8436, -6.8443, -6.8465, -6.8474, -6.3982, -5.6294, -7.0191, -7.0193, -7.0193, -7.0193, -7.0194, -5.9817, -6.1066, -5.3468, -4.9733, -6.3597, -5.3488, -4.9857, -5.4619, -5.2342, -6.0933, -4.1193, -4.4946, -5.0745, -5.3684, -5.6179, -5.2013, -4.517, -6.0507, -4.7291, -4.8027, -5.3688, -5.2139, -5.225, -5.1265, -4.1971, -4.1622, -4.9321, -5.2767, -5.4407, -5.1363, -5.3865, -5.517], \"loglift\": [30.0, 29.0, 28.0, 27.0, 26.0, 25.0, 24.0, 23.0, 22.0, 21.0, 20.0, 19.0, 18.0, 17.0, 16.0, 15.0, 14.0, 13.0, 12.0, 11.0, 10.0, 9.0, 8.0, 7.0, 6.0, 5.0, 4.0, 3.0, 2.0, 1.0, 1.3777, 1.3649, 1.3589, 1.342, 1.3419, 1.3357, 1.3356, 1.328, 1.3278, 1.3176, 1.314, 1.306, 1.306, 1.3051, 1.3051, 1.293, 1.2908, 1.2907, 1.2905, 1.2904, 1.2893, 1.2867, 1.2856, 1.2751, 1.2694, 1.2694, 1.2692, 1.2691, 1.2691, 1.2691, 1.2624, 1.2604, 1.1547, 1.2586, 1.1661, 1.2326, 1.188, 1.1764, 1.0399, 1.1915, 0.9677, 0.9394, 0.9474, 0.896, 0.6444, 0.7293, 1.0496, 0.8323, 1.0155, 0.912, 0.5131, 0.7231, 0.9695, 0.2986, 1.0157, 0.5617, 0.656, 1.0851, 0.5127, 0.7812, -0.1498, 0.5279, 0.3758, 0.0538, 0.5936, 0.3232, -0.0322, -0.0243, 0.2462, -0.5442, 0.2201, -0.0373, 1.5612, 1.5527, 1.5496, 1.5463, 1.5366, 1.5365, 1.5319, 1.5225, 1.5078, 1.5017, 1.5003, 1.4938, 1.4938, 1.4839, 1.4717, 1.4716, 1.4627, 1.4622, 1.4601, 1.4555, 1.4546, 1.4541, 1.447, 1.4337, 1.4336, 1.4334, 1.4333, 1.4332, 1.4331, 1.433, 1.4116, 1.4037, 1.3886, 1.3804, 1.4143, 1.3758, 1.3632, 1.2876, 1.2665, 1.3517, 1.3107, 1.0779, 1.2495, 1.2361, 1.0317, 1.1853, 0.9381, 1.1773, 0.7945, 1.1185, 0.7544, 0.4898, 0.4118, 0.0607, 0.0888, 0.2199, 0.7601, 0.562, 0.49, 1.5798, 1.5715, 1.5603, 1.5578, 1.5575, 1.5574, 1.5543, 1.5543, 1.5421, 1.5366, 1.5364, 1.5354, 1.5301, 1.5297, 1.5227, 1.522, 1.5183, 1.5122, 1.5121, 1.4985, 1.4871, 1.4838, 1.4837, 1.4837, 1.4836, 1.4836, 1.4835, 1.4834, 1.4817, 1.4794, 1.4632, 1.457, 1.4655, 1.4644, 1.382, 1.4694, 1.4167, 1.3783, 1.4312, 1.4266, 1.2202, 1.3472, 1.2498, 1.3159, 0.9111, 0.9782, 1.0541, 1.1026, 1.1204, 0.9646, 1.003, 0.6245, 1.0539, 0.9475, 1.143, 0.9416, 0.9091, 0.5704, 0.8255, 0.2655, -0.2121, -0.0955, -0.5648, 0.2508, 0.2333, 0.7811, 0.3254, 0.1081, 1.7049, 1.6901, 1.6873, 1.6871, 1.684, 1.6832, 1.6523, 1.6514, 1.6506, 1.6455, 1.6422, 1.6421, 1.6136, 1.6136, 1.6135, 1.6134, 1.6133, 1.6129, 1.6123, 1.5966, 1.5913, 1.5909, 1.5906, 1.5885, 1.5769, 1.5755, 1.5704, 1.5615, 1.5601, 1.5601, 1.5538, 1.5395, 1.518, 1.3744, 1.462, 1.479, 1.3107, 1.3243, 1.2446, 1.4315, 1.2883, 0.8822, 1.2459, 1.2014, 1.1365, 0.866, 1.1431, 1.0964, 0.7682, 0.9084, 0.9834, 1.2553, 0.8505, 0.7933, 0.773, 0.9704, -0.024, -0.1662, 0.598, 0.9919, 0.6964, -0.0461, 0.4616, 0.3316, 1.7412, 1.7406, 1.7244, 1.7117, 1.7089, 1.7059, 1.6884, 1.6884, 1.6883, 1.6881, 1.674, 1.6734, 1.6644, 1.6641, 1.6635, 1.6616, 1.6424, 1.6416, 1.6363, 1.6358, 1.6351, 1.6329, 1.6321, 1.6284, 1.6185, 1.6145, 1.6144, 1.6144, 1.6144, 1.6143, 1.611, 1.6112, 1.5498, 1.5188, 1.5816, 1.5225, 1.453, 1.4999, 1.4773, 1.5594, 1.3069, 1.3079, 1.4011, 1.3925, 1.4416, 1.331, 1.0977, 1.5431, 1.0986, 1.0063, 1.2258, 1.1145, 1.1121, 1.0515, 0.2869, 0.087, 0.7192, 0.7105, 0.8912, -0.2261, -0.42, 0.3563]}, \"token.table\": {\"Topic\": [5, 3, 3, 4, 3, 3, 4, 1, 1, 3, 4, 5, 3, 1, 4, 5, 1, 3, 4, 5, 1, 3, 5, 2, 2, 4, 1, 2, 3, 4, 5, 2, 5, 2, 1, 2, 3, 4, 5, 2, 1, 1, 3, 3, 1, 1, 4, 1, 1, 4, 5, 2, 3, 2, 4, 1, 2, 3, 1, 3, 4, 5, 1, 4, 1, 2, 4, 5, 3, 5, 1, 2, 4, 5, 2, 4, 1, 3, 4, 1, 2, 3, 5, 1, 2, 4, 5, 2, 1, 2, 3, 4, 5, 1, 2, 3, 1, 2, 4, 5, 5, 1, 2, 4, 5, 3, 5, 3, 2, 1, 2, 3, 4, 5, 1, 2, 5, 2, 5, 2, 5, 1, 2, 3, 4, 5, 5, 4, 1, 2, 3, 4, 1, 2, 3, 5, 2, 5, 3, 1, 2, 3, 1, 4, 5, 3, 1, 2, 3, 4, 5, 1, 2, 5, 4, 2, 1, 3, 5, 1, 2, 3, 4, 5, 3, 1, 1, 4, 1, 2, 3, 3, 4, 1, 4, 5, 1, 2, 4, 5, 5, 1, 2, 3, 4, 1, 2, 3, 4, 5, 1, 2, 5, 2, 1, 2, 3, 4, 5, 3, 5, 1, 2, 3, 1, 2, 3, 4, 5, 1, 2, 4, 5, 1, 3, 1, 2, 3, 4, 5, 2, 1, 4, 2, 4, 1, 3, 4, 3, 4, 4, 1, 2, 3, 4, 1, 3, 5, 3, 1, 5, 1, 2, 4, 5, 2, 4, 2, 4, 5, 1, 2, 3, 4, 5, 1, 2, 4, 5, 4, 3, 5, 2, 3, 5, 2, 3, 5, 1, 2, 1, 3, 4, 5, 5, 1, 3, 4, 5, 1, 2, 5, 4, 1, 1, 2, 3, 2, 5, 1, 2, 5, 1, 5, 5, 5, 4, 1, 2, 3, 4, 5, 3, 4, 1, 3, 4, 5, 1, 2, 3, 4, 5, 1, 2, 3, 4, 5, 1, 2, 3, 4, 2, 4, 3, 2, 1, 3, 4, 5, 1, 2, 3, 4, 5, 1, 2, 5, 1, 2, 4, 2, 3, 4, 3, 1, 2, 3, 4, 5, 2, 3, 4, 5, 1, 5, 4, 2, 1, 3, 1, 4, 1, 1, 2, 3, 4, 5, 1, 1, 1, 2, 3, 4, 5, 2, 2, 2, 5, 2, 3, 4, 5, 3, 4, 3, 3, 4, 5, 1, 1, 2, 3, 1, 3, 2, 4, 5, 1, 2, 3, 4, 5, 1, 2, 5, 1, 2, 3, 4, 5, 1, 2, 3, 4, 1, 2, 3, 4, 5, 1, 2, 3, 4, 5, 1, 2, 3, 1, 2, 3, 4, 5, 4, 2, 1, 5, 3, 1, 2, 4, 2, 1, 2, 3, 4, 5, 1, 2, 4, 5, 3, 1, 4, 1, 2, 3, 4, 1, 2, 3, 4, 5, 2, 3, 4, 5, 1, 2, 3, 4, 2, 3, 4, 1, 2, 3, 4, 1, 2, 1, 2, 4, 5, 1, 2, 3, 4, 1, 4, 1, 3, 4, 1, 3, 4, 5, 1, 2, 3, 5, 2, 1, 2, 3, 4, 5, 2, 3, 4, 3, 5, 1, 4, 5, 2, 1, 2, 3, 4, 5, 4, 1, 2, 3, 4, 5, 5, 1, 1, 2, 3, 4, 5, 4, 1, 2, 3, 4, 5, 1, 3, 1, 1, 1, 2, 1, 2, 3, 4, 3, 3, 5, 1, 4, 2, 4, 1, 2, 4, 5, 5, 1, 3, 5, 5, 4, 5, 3, 1, 2, 3, 2, 4, 5, 5, 4, 4, 5, 1, 2, 5, 5, 1, 1, 2, 3, 4, 5, 1, 2, 4, 5, 3, 1, 2, 3, 5, 3, 4, 2, 1, 2, 3, 4, 4, 5, 3, 2, 1, 2, 3, 4, 5, 4, 4, 1, 1, 2, 3, 4, 5, 4, 5, 1, 2, 3, 4, 5, 1, 1, 2, 3, 5, 1, 3, 4, 1, 2, 4, 5, 2, 1, 5, 3, 1, 2, 4, 5, 1, 3, 4, 5, 2, 3, 4, 3, 3, 4, 3], \"Freq\": [0.9413805308982086, 0.8150983967981932, 0.8151032326403805, 0.9145253037886323, 0.8151073838202813, 0.837434643546834, 0.07613042214062127, 0.9310442283084174, 0.6365684303360561, 0.11017530525047124, 0.24483401166771387, 0.9409498643748204, 0.9131745209085417, 0.838896960867766, 0.9214756128614262, 0.06355004226630526, 0.11670803306640815, 0.029177008266602036, 0.6127171735986428, 0.2480045702661173, 0.7778016220000978, 0.13725910976472316, 0.06862955488236158, 0.9507870983721122, 0.9821506233530366, 0.9426455432358575, 0.07735803320431811, 0.23207409961295433, 0.07735803320431811, 0.5608457407313063, 0.07735803320431811, 0.1329631623509087, 0.8642605552809064, 0.9507838946940831, 0.6471200352669639, 0.3094921907798523, 0.0562713074145186, 0.8309563425302616, 0.1038695428162827, 0.9507880853925839, 0.9327382093092589, 0.8797202168013337, 0.07997456516375762, 0.9276698571516614, 0.89445553350768, 0.08160157509125057, 0.8976173260037562, 0.8389158383468859, 0.07059208723094329, 0.07059208723094329, 0.8471050467713195, 0.04229381736729927, 0.930463982080584, 0.09534200375955931, 0.8580780338360339, 0.6049079881186815, 0.1042944807101175, 0.27116564984630553, 0.28325316537068335, 0.4498726744122618, 0.09997170542494707, 0.1499575581374206, 0.04573687217071295, 0.914737443414259, 0.8891548533226518, 0.043023621934967025, 0.028682414623311347, 0.043023621934967025, 0.9126661134334693, 0.11408326417918366, 0.3414260748579638, 0.04552347664772851, 0.09104695329545702, 0.5121391122869458, 0.047698401746784046, 0.9539680349356809, 0.07137945513148095, 0.07137945513148095, 0.7851740064462904, 0.07632253676966494, 0.5247174402914465, 0.03816126838483247, 0.35299173255970034, 0.20720689598839073, 0.046045976886309056, 0.06906896532946358, 0.6446436764083268, 0.8559418418279644, 0.13312341031374367, 0.2057361795757857, 0.09681702568272267, 0.3872681027308907, 0.16942979494476468, 0.02480909731064921, 0.6202274327662303, 0.3225182650384397, 0.06526395021367826, 0.21754650071226084, 0.021754650071226084, 0.6961488022792347, 0.9413825942383078, 0.18945559585849614, 0.6867765349870485, 0.07104584844693605, 0.047363898964624035, 0.8151061872738525, 0.8783602027395134, 0.9577842698928386, 0.951222747443435, 0.15636361643716856, 0.21155077517969864, 0.01839571958084336, 0.0919785979042168, 0.515080148263614, 0.8145177254883188, 0.050907357843019925, 0.10181471568603985, 0.8150880777423307, 0.940949200122887, 0.07534380503507677, 0.8287818553858446, 0.32866720286502926, 0.21832892761748374, 0.11503352100276024, 0.15024786416687053, 0.18780983020858816, 0.9905390011636299, 0.8169702380976732, 0.35915322440388225, 0.25814138004029036, 0.17957661220194113, 0.21324722698980508, 0.8401852195636804, 0.09335391328485337, 0.8689508300715503, 0.10861885375894378, 0.0941822949899948, 0.8476406549099531, 0.9402841822026872, 0.030038789297750584, 0.33042668227525646, 0.6308145752527623, 0.1693886469484352, 0.6291578315227593, 0.19358702508392592, 0.9402863649683962, 0.42899725978758596, 0.18974878798297073, 0.2227485771974004, 0.0742495257324668, 0.08249947303607423, 0.03231275283059364, 0.16156376415296822, 0.7755060679342475, 0.9529121060471126, 0.9514768829123355, 0.8388989467266298, 0.06646036160028206, 0.8639847008036667, 0.15076076588813359, 0.5804289486693143, 0.2562933020098271, 0.015076076588813358, 0.9738227253192333, 0.8877442156244573, 0.9590133020097505, 0.9327429229636861, 0.8169690687937636, 0.020388583452632083, 0.8970976719158116, 0.08155433381052833, 0.21455266450792784, 0.7509343257777474, 0.24850712782344114, 0.6035173104283571, 0.10650305478147477, 0.2695583111883535, 0.024505301017123046, 0.09802120406849218, 0.5881272244109531, 0.8068004943708914, 0.6748369080080471, 0.1285403634301042, 0.16067545428763025, 0.03213509085752605, 0.2569092323524807, 0.44621077198062437, 0.13521538544867404, 0.14873692399354144, 0.013521538544867404, 0.13657612045204146, 0.8194567227122488, 0.02276268674200691, 0.8877239872956163, 0.5027979989272716, 0.24626840763784733, 0.11287302016734668, 0.09235065286419275, 0.05130591825788486, 0.09420189642805614, 0.8478170678525053, 0.07125715752323662, 0.17814289380809156, 0.7482001539939845, 0.2592322445084075, 0.05317584502736564, 0.2592322445084075, 0.41875977959050437, 0.01329396125684141, 0.2361462921827159, 0.10664671259864589, 0.015235244656949413, 0.6398802755918753, 0.41485589597138917, 0.5845696715960483, 0.4073702606374802, 0.3123171998220682, 0.18105344917221344, 0.07694771589819072, 0.018105344917221343, 0.9507890458061824, 0.8397071998889624, 0.06997559999074687, 0.060241321723990424, 0.9036198258598563, 0.5436902911863851, 0.16728932036504157, 0.29275631063882274, 0.9513262859734174, 0.9529066356018204, 0.8169691769124571, 0.0393674422371042, 0.0393674422371042, 0.8267162869791882, 0.0787348844742084, 0.8697799477959222, 0.8234156315169994, 0.1266793279256922, 0.8877441881672332, 0.1025989664556185, 0.9233906981005665, 0.6812827874951481, 0.10219241812427222, 0.13625655749902962, 0.06812827874951481, 0.8118096723623345, 0.1804021494138521, 0.8203125183233984, 0.10699728499870413, 0.07133152333246942, 0.07767996838419472, 0.022194276681198492, 0.1664570751089887, 0.0998742450653932, 0.6436340237547562, 0.7744529557982747, 0.028861600837202784, 0.08177453570540788, 0.11544640334881114, 0.7620902825219701, 0.7717318323371232, 0.22049480923917805, 0.8818808539334222, 0.051875344349024834, 0.051875344349024834, 0.16771800131886702, 0.08385900065943351, 0.7337662557700432, 0.9327412429868562, 0.8150158392459973, 0.2143504322161463, 0.6752038614808609, 0.053587608054036576, 0.04287008644322926, 0.9173230702356043, 0.13270099628326368, 0.02211683271387728, 0.04423366542775456, 0.796205977699582, 0.7699304577959384, 0.06999367798144894, 0.13998735596289788, 0.9153503921636416, 0.8395047166004784, 0.8948224829960402, 0.03728427012483501, 0.03728427012483501, 0.9133505999413415, 0.9413805926798804, 0.11017447993325184, 0.1377180999165648, 0.7436777395494499, 0.8604957643521967, 0.08604957643521967, 0.8783561522544784, 0.9033956860392552, 0.8169702380684489, 0.019670468260473223, 0.13769327782331256, 0.05901140478141967, 0.5901140478141966, 0.177034214344259, 0.948828348649873, 0.04605962857523655, 0.5057509282143129, 0.08608526437690432, 0.3820033606725129, 0.026901645117782598, 0.04659420957241011, 0.23297104786205053, 0.023297104786205055, 0.6057247244413314, 0.09318841914482022, 0.0891342420550448, 0.16836467943730685, 0.2773065308379172, 0.31692174952904817, 0.1386532654189586, 0.6881334597109839, 0.026466671527345536, 0.07940001458203662, 0.19850003645509154, 0.9725306200575562, 0.022616991164129213, 0.8559600941632156, 0.9507841024348265, 0.4706430164100486, 0.023532150820502428, 0.37651441312803885, 0.11766075410251214, 0.21735467719786594, 0.05015877166104599, 0.11703713387577397, 0.5350268977178239, 0.08359795276840998, 0.7174298857598302, 0.08967873571997878, 0.17935747143995756, 0.07616325820933548, 0.07616325820933548, 0.8377958403026903, 0.4598345488362628, 0.534001411551789, 0.0074166862715526255, 0.9339850283733979, 0.09327331219181291, 0.25527432810390904, 0.5007304128192062, 0.0687277037202832, 0.07854594710889509, 0.35537639704677465, 0.5237125851215627, 0.018704020897198668, 0.09352010448599334, 0.8389162936198227, 0.9413790288520995, 0.8898499115124756, 0.8150763016720455, 0.07598033179658828, 0.835783649762471, 0.4394237349600021, 0.540829212258464, 0.9327424740292132, 0.4647331864426258, 0.020459951604392332, 0.0672255552715748, 0.42673613346304007, 0.020459951604392332, 0.9829330000969904, 0.9777155450636938, 0.22698695594262683, 0.21790747770492175, 0.35409965127049786, 0.08171530413934566, 0.11803321709016595, 0.9131534559293174, 0.933962400194838, 0.9507894545453695, 0.8067894477689972, 0.011207564155342482, 0.5267555153010965, 0.4370950020583568, 0.022415128310684963, 0.5212864579176414, 0.4708393813449664, 0.9515000485393943, 0.2500300846802199, 0.6607937952262954, 0.08929645881436425, 0.9146456465649649, 0.18344012029947662, 0.18344012029947662, 0.6236964090182205, 0.06703302695142334, 0.8714293503685033, 0.732485837450924, 0.05425821018154993, 0.21703284072619972, 0.015410611520581364, 0.4392024283365689, 0.25427509008959254, 0.14640080944552297, 0.13869550368523229, 0.11985896980429182, 0.8390127886300427, 0.029964742451072956, 0.22610732054467228, 0.1695804904085042, 0.13189593698439217, 0.05652683013616807, 0.4145300876652325, 0.22728885991613107, 0.2622563768263051, 0.43709396137717516, 0.06993503382034802, 0.1795593194342325, 0.6583841712588525, 0.11970621295615501, 0.8169674264860185, 0.929756422050069, 0.2522220754193896, 0.366868473337294, 0.21782815604401834, 0.10318175812611395, 0.057323198958952194, 0.03457459648756761, 0.8297903157016226, 0.13829838595027044, 0.24660261361188274, 0.024660261361188273, 0.5795161419879244, 0.03699039204178241, 0.11097117612534722, 0.972945092178596, 0.9844213330577286, 0.1657035291556951, 0.8285176457784755, 0.9660030320198466, 0.21142664952741255, 0.7664216045368705, 0.9426417694435532, 0.8559423954293243, 0.30970425167119353, 0.11911701987353597, 0.11911701987353597, 0.21441063577236474, 0.25014574173442555, 0.9327426323513649, 0.8563441428259874, 0.09514934920288749, 0.9413813628425947, 0.8151071699993054, 0.8955531883714557, 0.08955531883714557, 0.04688514886193637, 0.8283042965608759, 0.10939868067785154, 0.01562838295397879, 0.40831279508317375, 0.1633251180332695, 0.21776682404435932, 0.05444170601108983, 0.14971469153049705, 0.22397607867621527, 0.6943258438962673, 0.06719282360286458, 0.9409539030667521, 0.5576229279994359, 0.07780785041852593, 0.15561570083705187, 0.20748760111606918, 0.8858279583978173, 0.06993378618930136, 0.038852103438500755, 0.6308415650979001, 0.015020037264235717, 0.12016029811388573, 0.22530055896353576, 0.9590185253255986, 0.9131535559011158, 0.31272924402943203, 0.08935121257983772, 0.12285791729727687, 0.46909386604414804, 0.08624627466831583, 0.7474677137920704, 0.047914597037953234, 0.11499503289108777, 0.21681396928419716, 0.75884889249469, 0.6304729041891444, 0.08048590266244396, 0.28170065931855387, 0.19224084341283149, 0.4893403286872074, 0.17476440310257407, 0.12233508217180185, 0.1523143905325763, 0.09692733942982129, 0.5538705110275502, 0.20770144163533133, 0.815084836012661, 0.33799395271195415, 0.056332325451992356, 0.03755488363466157, 0.056332325451992356, 0.525768370885262, 0.10385527285206232, 0.7996856009608798, 0.09346974556685608, 0.8151057291370755, 0.903400912353439, 0.8944510978438104, 0.13310746102091325, 0.7986447661254795, 0.9512955889896151, 0.19386615836952292, 0.04846653959238073, 0.11308859238222171, 0.16155513197460245, 0.5008209091212675, 0.9813039353736391, 0.06579410523299814, 0.6067678593709829, 0.1169672981919967, 0.16814049115099525, 0.03655228068499897, 0.8781614087786201, 0.9314686916139344, 0.2633422749677048, 0.08229446092740775, 0.24688338278222324, 0.3456367358951125, 0.04937667655644465, 0.9529088934853531, 0.06605404518698585, 0.1321080903739717, 0.6109999179796191, 0.09908106778047877, 0.0825675564837323, 0.09118008674376778, 0.8662108240657939, 0.9327382864675882, 0.9146438730003591, 0.9590424138628288, 0.9705406798504178, 0.7120525387488575, 0.03747644940783461, 0.14990579763133843, 0.11242934822350382, 0.8151035383874926, 0.8235036452211748, 0.12669286849556535, 0.7946218425094588, 0.18696984529634325, 0.19899363985352853, 0.7959745594141141, 0.17361573803422037, 0.028935956339036725, 0.08680786901711018, 0.6944629521368815, 0.8068311317290076, 0.171698988716793, 0.7941078228151677, 0.021462373589599126, 0.8067895638548583, 0.929987098342843, 0.8067993827466271, 0.9332580542141047, 0.05898674745922059, 0.8454767135821618, 0.07864899661229412, 0.6992774424521243, 0.07769749360579159, 0.2071933162821109, 0.8783527829116728, 0.9529190654674322, 0.8898500220727118, 0.9482559478805918, 0.009331998632203612, 0.046659993161018064, 0.9331998632203612, 0.9408080645361705, 0.9590191222804265, 0.19369079676942863, 0.07263404878853574, 0.19369079676942863, 0.4842269919235716, 0.07263404878853574, 0.18014810351457508, 0.23557828921136742, 0.41572639272594253, 0.166290557090377, 0.933979678627506, 0.40318414167605154, 0.23183088146372965, 0.16127365667042062, 0.20159207083802577, 0.09534176574373499, 0.8580758916936149, 0.970540054504768, 0.23862589391711217, 0.036711675987248026, 0.07342335197449605, 0.6516322487736524, 0.8164440022987536, 0.08164440022987536, 0.951328120746737, 0.9662219991415044, 0.12014346883742799, 0.3337318578817444, 0.10679419452215821, 0.09344492020688844, 0.3470811321970142, 0.816965678212329, 0.8169614723986897, 0.9314708167168642, 0.21079708446604983, 0.2256419495692928, 0.16329351613567242, 0.17220043519761818, 0.22861092258994137, 0.47350629430388513, 0.5303270496203514, 0.1409484389802238, 0.3364575640173084, 0.3728313547218823, 0.00909344767614347, 0.13640171514215205, 0.9590513005239171, 0.23430036481990188, 0.7313011386802998, 0.028400044220594167, 0.007100011055148542, 0.03652501038357085, 0.922256512185164, 0.04565626297946356, 0.03900841245778786, 0.07801682491557572, 0.11702523737336358, 0.7411598366979694, 0.9507894451483653, 0.053727028805199355, 0.913359489688389, 0.9576845656072673, 0.9590144096244474, 0.035373969569194995, 0.17686984784597498, 0.77822733052229, 0.597745791781464, 0.17242667070619155, 0.17242667070619155, 0.04598044552165108, 0.07416470960261126, 0.22249412880783379, 0.6992672619674777, 0.9513266089316967, 0.9276697609206389, 0.9145252965517429, 0.8151048325799308], \"Term\": [\"16\", \"1d\", \"1x1\", \"34\", \"3x3\", \"95\", \"95\", \"airflow\", \"algorithm\", \"algorithm\", \"algorithm\", \"alter\", \"anchor\", \"apach\", \"api\", \"api\", \"applic\", \"applic\", \"applic\", \"applic\", \"approach\", \"approach\", \"approach\", \"arithmet\", \"array\", \"azur\", \"base\", \"base\", \"base\", \"base\", \"base\", \"bash\", \"bash\", \"bi\", \"bias\", \"bias\", \"bias\", \"big\", \"big\", \"bivari\", \"blend\", \"boost\", \"boost\", \"bound\", \"break\", \"built\", \"built\", \"celeri\", \"channel\", \"channel\", \"channel\", \"chart\", \"chart\", \"child\", \"child\", \"class\", \"class\", \"class\", \"classif\", \"classif\", \"classif\", \"classif\", \"cloud\", \"cloud\", \"cluster\", \"cluster\", \"cluster\", \"cluster\", \"cnn\", \"cnn\", \"code\", \"code\", \"code\", \"code\", \"colab\", \"colab\", \"collabor\", \"collabor\", \"collabor\", \"column\", \"column\", \"column\", \"column\", \"command\", \"command\", \"command\", \"command\", \"comprehens\", \"comput\", \"comput\", \"comput\", \"comput\", \"comput\", \"condit\", \"condit\", \"condit\", \"contain\", \"contain\", \"contain\", \"contain\", \"content\", \"continu\", \"continu\", \"continu\", \"continu\", \"conv\", \"convnet\", \"convolut\", \"covari\", \"creat\", \"creat\", \"creat\", \"creat\", \"creat\", \"csv\", \"csv\", \"csv\", \"cumul\", \"dag\", \"dashboard\", \"dashboard\", \"data\", \"data\", \"data\", \"data\", \"data\", \"databas\", \"databrick\", \"dataset\", \"dataset\", \"dataset\", \"dataset\", \"db\", \"db\", \"decreas\", \"decreas\", \"delet\", \"delet\", \"demand\", \"denot\", \"denot\", \"denot\", \"develop\", \"develop\", \"develop\", \"deviat\", \"differ\", \"differ\", \"differ\", \"differ\", \"differ\", \"directori\", \"directori\", \"directori\", \"disadvantag\", \"discret\", \"discrimin\", \"display\", \"display\", \"distribut\", \"distribut\", \"distribut\", \"distribut\", \"docker\", \"draw\", \"drift\", \"dw\", \"ec\", \"element\", \"element\", \"element\", \"embed\", \"embed\", \"engin\", \"engin\", \"engin\", \"environ\", \"environ\", \"environ\", \"environ\", \"epoch\", \"equat\", \"equat\", \"equat\", \"equat\", \"error\", \"error\", \"error\", \"error\", \"error\", \"event\", \"event\", \"event\", \"exclus\", \"experi\", \"experi\", \"experi\", \"experi\", \"experi\", \"face\", \"face\", \"factor\", \"factor\", \"factor\", \"featur\", \"featur\", \"featur\", \"featur\", \"featur\", \"file\", \"file\", \"file\", \"file\", \"filter\", \"filter\", \"function\", \"function\", \"function\", \"function\", \"function\", \"fxx\", \"gate\", \"gate\", \"googl\", \"googl\", \"gradient\", \"gradient\", \"gradient\", \"grid\", \"hadoop\", \"hard\", \"hidden\", \"hidden\", \"hidden\", \"hidden\", \"hierarch\", \"higher\", \"higher\", \"hot\", \"html\", \"html\", \"hyperparamet\", \"hyperparamet\", \"hyperparamet\", \"hyperparamet\", \"hypothesi\", \"hypothesi\", \"identifi\", \"identifi\", \"identifi\", \"imag\", \"imag\", \"imag\", \"imag\", \"imag\", \"import\", \"import\", \"import\", \"import\", \"imposs\", \"increas\", \"increas\", \"index\", \"index\", \"index\", \"indic\", \"indic\", \"indic\", \"inner\", \"inplacetru\", \"input\", \"input\", \"input\", \"input\", \"insert\", \"instal\", \"instal\", \"instal\", \"instal\", \"intellig\", \"intellig\", \"intellig\", \"ip\", \"isol\", \"join\", \"join\", \"join\", \"joint\", \"jupyt\", \"key\", \"key\", \"key\", \"kmean\", \"kmean\", \"kpi\", \"kpis\", \"l1\", \"languag\", \"languag\", \"languag\", \"languag\", \"languag\", \"layer\", \"layer\", \"learn\", \"learn\", \"learn\", \"learn\", \"level\", \"level\", \"level\", \"level\", \"level\", \"like\", \"like\", \"like\", \"like\", \"like\", \"linear\", \"linear\", \"linear\", \"linear\", \"list\", \"list\", \"lower\", \"ls\", \"machin\", \"machin\", \"machin\", \"machin\", \"make\", \"make\", \"make\", \"make\", \"make\", \"manag\", \"manag\", \"manag\", \"matplotlib\", \"matplotlib\", \"matplotlib\", \"matrix\", \"matrix\", \"matrix\", \"mb\", \"mean\", \"mean\", \"mean\", \"mean\", \"mean\", \"measur\", \"measur\", \"measur\", \"measur\", \"mechan\", \"menu\", \"microservic\", \"min\", \"minibatch\", \"minibatch\", \"ml\", \"ml\", \"mlflow\", \"model\", \"model\", \"model\", \"model\", \"model\", \"modul\", \"moment\", \"multipl\", \"multipl\", \"multipl\", \"multipl\", \"multipl\", \"mutual\", \"na\", \"ndarray\", \"neighbor\", \"network\", \"network\", \"network\", \"network\", \"neural\", \"neural\", \"neuron\", \"node\", \"node\", \"node\", \"nois\", \"normal\", \"normal\", \"normal\", \"notat\", \"notat\", \"null\", \"null\", \"null\", \"number\", \"number\", \"number\", \"number\", \"number\", \"numpi\", \"numpi\", \"numpi\", \"object\", \"object\", \"object\", \"object\", \"object\", \"observ\", \"observ\", \"observ\", \"observ\", \"occur\", \"occur\", \"occur\", \"offer\", \"open\", \"oper\", \"oper\", \"oper\", \"oper\", \"oper\", \"outcom\", \"outcom\", \"outcom\", \"output\", \"output\", \"output\", \"output\", \"output\", \"overfit\", \"pa\", \"packag\", \"packag\", \"pad\", \"panda\", \"panda\", \"parametr\", \"pb\", \"perform\", \"perform\", \"perform\", \"perform\", \"perform\", \"period\", \"permiss\", \"permiss\", \"piec\", \"pill\", \"pipelin\", \"pipelin\", \"plot\", \"plot\", \"plot\", \"plot\", \"point\", \"point\", \"point\", \"point\", \"point\", \"popul\", \"popul\", \"popul\", \"port\", \"predict\", \"predict\", \"predict\", \"predict\", \"probabl\", \"probabl\", \"probabl\", \"problem\", \"problem\", \"problem\", \"problem\", \"prophet\", \"px\", \"python\", \"python\", \"python\", \"python\", \"random\", \"random\", \"random\", \"random\", \"recommend\", \"recommend\", \"regress\", \"regress\", \"regress\", \"result\", \"result\", \"result\", \"result\", \"return\", \"return\", \"return\", \"return\", \"revers\", \"run\", \"run\", \"run\", \"run\", \"run\", \"sampl\", \"sampl\", \"sampl\", \"scalar\", \"schema\", \"scipystat\", \"script\", \"script\", \"season\", \"select\", \"select\", \"select\", \"select\", \"select\", \"servic\", \"set\", \"set\", \"set\", \"set\", \"set\", \"sheet\", \"sigmoid\", \"similar\", \"similar\", \"similar\", \"similar\", \"similar\", \"sinc\", \"size\", \"size\", \"size\", \"size\", \"size\", \"skew\", \"skew\", \"sklearnlinearmodel\", \"sklearnmetr\", \"sklearnmodelselect\", \"slice\", \"small\", \"small\", \"small\", \"small\", \"softmax\", \"sort\", \"sort\", \"spark\", \"spark\", \"split\", \"split\", \"sql\", \"sql\", \"sql\", \"sql\", \"sqlite\", \"standard\", \"standard\", \"standard\", \"static\", \"storag\", \"strength\", \"stride\", \"string\", \"string\", \"string\", \"structur\", \"structur\", \"structur\", \"subdirectori\", \"subject\", \"subnod\", \"tab\", \"tabl\", \"tabl\", \"tabl\", \"tablenam\", \"tanh\", \"techniqu\", \"techniqu\", \"techniqu\", \"techniqu\", \"techniqu\", \"test\", \"test\", \"test\", \"test\", \"th\", \"time\", \"time\", \"time\", \"time\", \"token\", \"token\", \"topic\", \"train\", \"train\", \"train\", \"train\", \"transfer\", \"transfer\", \"trial\", \"tupl\", \"type\", \"type\", \"type\", \"type\", \"type\", \"unix\", \"unseen\", \"unsupervis\", \"use\", \"use\", \"use\", \"use\", \"use\", \"user\", \"user\", \"valu\", \"valu\", \"valu\", \"valu\", \"valu\", \"varchar255\", \"variabl\", \"variabl\", \"variabl\", \"variabl\", \"vector\", \"vector\", \"vector\", \"view\", \"view\", \"view\", \"view\", \"vif\", \"virtual\", \"virtual\", \"volum\", \"warn\", \"web\", \"web\", \"web\", \"weight\", \"weight\", \"weight\", \"weight\", \"word\", \"word\", \"word\", \"x1\", \"x2\", \"xtest\", \"yolo\"]}, \"R\": 30, \"lambda.step\": 0.01, \"plot.opts\": {\"xlab\": \"PC1\", \"ylab\": \"PC2\"}, \"topic.order\": [4, 5, 2, 3, 1]};\n",
              "\n",
              "function LDAvis_load_lib(url, callback){\n",
              "  var s = document.createElement('script');\n",
              "  s.src = url;\n",
              "  s.async = true;\n",
              "  s.onreadystatechange = s.onload = callback;\n",
              "  s.onerror = function(){console.warn(\"failed to load library \" + url);};\n",
              "  document.getElementsByTagName(\"head\")[0].appendChild(s);\n",
              "}\n",
              "\n",
              "if(typeof(LDAvis) !== \"undefined\"){\n",
              "   // already loaded: just create the visualization\n",
              "   !function(LDAvis){\n",
              "       new LDAvis(\"#\" + \"ldavis_el641404477220357923183282137\", ldavis_el641404477220357923183282137_data);\n",
              "   }(LDAvis);\n",
              "}else if(typeof define === \"function\" && define.amd){\n",
              "   // require.js is available: use it to load d3/LDAvis\n",
              "   require.config({paths: {d3: \"https://d3js.org/d3.v5\"}});\n",
              "   require([\"d3\"], function(d3){\n",
              "      window.d3 = d3;\n",
              "      LDAvis_load_lib(\"https://cdn.jsdelivr.net/gh/bmabey/pyLDAvis@3.3.1/pyLDAvis/js/ldavis.v3.0.0.js\", function(){\n",
              "        new LDAvis(\"#\" + \"ldavis_el641404477220357923183282137\", ldavis_el641404477220357923183282137_data);\n",
              "      });\n",
              "    });\n",
              "}else{\n",
              "    // require.js not available: dynamically load d3 & LDAvis\n",
              "    LDAvis_load_lib(\"https://d3js.org/d3.v5.js\", function(){\n",
              "         LDAvis_load_lib(\"https://cdn.jsdelivr.net/gh/bmabey/pyLDAvis@3.3.1/pyLDAvis/js/ldavis.v3.0.0.js\", function(){\n",
              "                 new LDAvis(\"#\" + \"ldavis_el641404477220357923183282137\", ldavis_el641404477220357923183282137_data);\n",
              "            })\n",
              "         });\n",
              "}\n",
              "</script>"
            ],
            "text/plain": [
              "PreparedData(topic_coordinates=                x           y  topics  cluster       Freq\n",
              "topic                                                    \n",
              "3      150.222153  -72.269554       1        1  24.419574\n",
              "4       51.163364 -159.968018       2        1  20.642072\n",
              "1      -73.144554   21.523815       3        1  20.064663\n",
              "2      -66.410133 -110.606438       4        1  17.616978\n",
              "0       54.417324   12.443444       5        1  17.256714, topic_info=         Term        Freq       Total Category  logprob  loglift\n",
              "2035    model  342.000000  342.000000  Default  30.0000  30.0000\n",
              "3300     tabl  107.000000  107.000000  Default  29.0000  29.0000\n",
              "1796    layer  108.000000  108.000000  Default  28.0000  28.0000\n",
              "2340  probabl  128.000000  128.000000  Default  27.0000  27.0000\n",
              "3662   vector  109.000000  109.000000  Default  26.0000  26.0000\n",
              "...       ...         ...         ...      ...      ...      ...\n",
              "3520     type   26.308011   74.910439   Topic5  -5.2767   0.7105\n",
              "2156   object   22.328245   53.072143   Topic5  -5.4407   0.8912\n",
              "3625     valu   30.272640  219.938583   Topic5  -5.1363  -0.2261\n",
              "1635   import   23.571472  207.888677   Topic5  -5.3865  -0.4200\n",
              "2247  perform   20.688254   83.951059   Topic5  -5.5170   0.3563\n",
              "\n",
              "[355 rows x 6 columns], token_table=      Topic      Freq   Term\n",
              "term                        \n",
              "73        5  0.941381     16\n",
              "105       3  0.815098     1d\n",
              "131       3  0.815103    1x1\n",
              "219       4  0.914525     34\n",
              "241       3  0.815107    3x3\n",
              "...     ...       ...    ...\n",
              "3795      4  0.699267   word\n",
              "3831      3  0.951327     x1\n",
              "3836      3  0.927670     x2\n",
              "3885      4  0.914525  xtest\n",
              "3927      3  0.815105   yolo\n",
              "\n",
              "[660 rows x 3 columns], R=30, lambda_step=0.01, plot_opts={'xlab': 'PC1', 'ylab': 'PC2'}, topic_order=[4, 5, 2, 3, 1])"
            ]
          },
          "metadata": {},
          "execution_count": 236
        }
      ]
    },
    {
      "cell_type": "markdown",
      "source": [
        "Let's see the dominant topic in each document"
      ],
      "metadata": {
        "id": "4NfuIOSJvMB4"
      }
    },
    {
      "cell_type": "code",
      "source": [
        "# Create Document - Topic Matrix\n",
        "lda_output = best_lda_model.transform(document_term_matrix) # Takes word presence embeding as input and gives contextual embedding as output\n",
        "\n",
        "# column names\n",
        "topicnames = [\"Topic\" + str(i) for i in range(best_lda_model.n_components)]\n",
        "\n",
        "# index names\n",
        "docnames = [\"Doc\" + str(i) for i in range(len(data_science_df_clean['documents']))]\n",
        "\n",
        "# Make the pandas dataframe\n",
        "df_document_topic = pd.DataFrame(np.round(lda_output, 2), columns=topicnames, index=docnames)\n",
        "\n",
        "# Get dominant topic for each document\n",
        "dominant_topic = np.argmax(df_document_topic.values, axis=1)\n",
        "df_document_topic['dominant_topic'] = dominant_topic\n",
        "\n",
        "# Styling\n",
        "def color_green(val):\n",
        "    color = 'green' if val > .1 else 'black'\n",
        "    return 'color: {col}'.format(col=color)\n",
        "\n",
        "def make_bold(val):\n",
        "    weight = 700 if val > .1 else 400\n",
        "    return 'font-weight: {weight}'.format(weight=weight)\n",
        "\n",
        "# Apply Style\n",
        "df_document_topics = df_document_topic.head(15).style.applymap(color_green).applymap(make_bold)\n",
        "df_document_topics"
      ],
      "metadata": {
        "id": "8vdf_Ha4vPTa",
        "colab": {
          "base_uri": "https://localhost:8080/",
          "height": 0
        },
        "outputId": "945ce680-a0eb-4081-8b4c-aeed112e11b5"
      },
      "execution_count": 237,
      "outputs": [
        {
          "output_type": "execute_result",
          "data": {
            "text/html": [
              "<style type=\"text/css\">\n",
              "#T_660dd_row0_col0, #T_660dd_row0_col1, #T_660dd_row0_col3, #T_660dd_row1_col0, #T_660dd_row1_col1, #T_660dd_row1_col2, #T_660dd_row1_col4, #T_660dd_row2_col0, #T_660dd_row2_col1, #T_660dd_row2_col2, #T_660dd_row2_col3, #T_660dd_row3_col0, #T_660dd_row3_col2, #T_660dd_row3_col3, #T_660dd_row3_col4, #T_660dd_row4_col0, #T_660dd_row4_col1, #T_660dd_row4_col2, #T_660dd_row4_col3, #T_660dd_row5_col0, #T_660dd_row5_col2, #T_660dd_row5_col4, #T_660dd_row6_col0, #T_660dd_row6_col1, #T_660dd_row6_col2, #T_660dd_row6_col3, #T_660dd_row7_col0, #T_660dd_row7_col1, #T_660dd_row7_col3, #T_660dd_row8_col0, #T_660dd_row8_col2, #T_660dd_row8_col3, #T_660dd_row9_col0, #T_660dd_row9_col1, #T_660dd_row9_col2, #T_660dd_row9_col3, #T_660dd_row10_col0, #T_660dd_row10_col1, #T_660dd_row10_col2, #T_660dd_row10_col3, #T_660dd_row11_col0, #T_660dd_row11_col3, #T_660dd_row11_col4, #T_660dd_row12_col2, #T_660dd_row12_col3, #T_660dd_row12_col4, #T_660dd_row12_col5, #T_660dd_row13_col0, #T_660dd_row13_col1, #T_660dd_row13_col3, #T_660dd_row13_col4, #T_660dd_row14_col0, #T_660dd_row14_col2, #T_660dd_row14_col3, #T_660dd_row14_col4 {\n",
              "  color: black;\n",
              "  font-weight: 400;\n",
              "}\n",
              "#T_660dd_row0_col2, #T_660dd_row0_col4, #T_660dd_row0_col5, #T_660dd_row1_col3, #T_660dd_row1_col5, #T_660dd_row2_col4, #T_660dd_row2_col5, #T_660dd_row3_col1, #T_660dd_row3_col5, #T_660dd_row4_col4, #T_660dd_row4_col5, #T_660dd_row5_col1, #T_660dd_row5_col3, #T_660dd_row5_col5, #T_660dd_row6_col4, #T_660dd_row6_col5, #T_660dd_row7_col2, #T_660dd_row7_col4, #T_660dd_row7_col5, #T_660dd_row8_col1, #T_660dd_row8_col4, #T_660dd_row8_col5, #T_660dd_row9_col4, #T_660dd_row9_col5, #T_660dd_row10_col4, #T_660dd_row10_col5, #T_660dd_row11_col1, #T_660dd_row11_col2, #T_660dd_row11_col5, #T_660dd_row12_col0, #T_660dd_row12_col1, #T_660dd_row13_col2, #T_660dd_row13_col5, #T_660dd_row14_col1, #T_660dd_row14_col5 {\n",
              "  color: green;\n",
              "  font-weight: 700;\n",
              "}\n",
              "</style>\n",
              "<table id=\"T_660dd_\" class=\"dataframe\">\n",
              "  <thead>\n",
              "    <tr>\n",
              "      <th class=\"blank level0\" >&nbsp;</th>\n",
              "      <th class=\"col_heading level0 col0\" >Topic0</th>\n",
              "      <th class=\"col_heading level0 col1\" >Topic1</th>\n",
              "      <th class=\"col_heading level0 col2\" >Topic2</th>\n",
              "      <th class=\"col_heading level0 col3\" >Topic3</th>\n",
              "      <th class=\"col_heading level0 col4\" >Topic4</th>\n",
              "      <th class=\"col_heading level0 col5\" >dominant_topic</th>\n",
              "    </tr>\n",
              "  </thead>\n",
              "  <tbody>\n",
              "    <tr>\n",
              "      <th id=\"T_660dd_level0_row0\" class=\"row_heading level0 row0\" >Doc0</th>\n",
              "      <td id=\"T_660dd_row0_col0\" class=\"data row0 col0\" >0.010000</td>\n",
              "      <td id=\"T_660dd_row0_col1\" class=\"data row0 col1\" >0.010000</td>\n",
              "      <td id=\"T_660dd_row0_col2\" class=\"data row0 col2\" >0.470000</td>\n",
              "      <td id=\"T_660dd_row0_col3\" class=\"data row0 col3\" >0.010000</td>\n",
              "      <td id=\"T_660dd_row0_col4\" class=\"data row0 col4\" >0.510000</td>\n",
              "      <td id=\"T_660dd_row0_col5\" class=\"data row0 col5\" >4</td>\n",
              "    </tr>\n",
              "    <tr>\n",
              "      <th id=\"T_660dd_level0_row1\" class=\"row_heading level0 row1\" >Doc1</th>\n",
              "      <td id=\"T_660dd_row1_col0\" class=\"data row1 col0\" >0.010000</td>\n",
              "      <td id=\"T_660dd_row1_col1\" class=\"data row1 col1\" >0.010000</td>\n",
              "      <td id=\"T_660dd_row1_col2\" class=\"data row1 col2\" >0.010000</td>\n",
              "      <td id=\"T_660dd_row1_col3\" class=\"data row1 col3\" >0.970000</td>\n",
              "      <td id=\"T_660dd_row1_col4\" class=\"data row1 col4\" >0.010000</td>\n",
              "      <td id=\"T_660dd_row1_col5\" class=\"data row1 col5\" >3</td>\n",
              "    </tr>\n",
              "    <tr>\n",
              "      <th id=\"T_660dd_level0_row2\" class=\"row_heading level0 row2\" >Doc2</th>\n",
              "      <td id=\"T_660dd_row2_col0\" class=\"data row2 col0\" >0.030000</td>\n",
              "      <td id=\"T_660dd_row2_col1\" class=\"data row2 col1\" >0.030000</td>\n",
              "      <td id=\"T_660dd_row2_col2\" class=\"data row2 col2\" >0.030000</td>\n",
              "      <td id=\"T_660dd_row2_col3\" class=\"data row2 col3\" >0.030000</td>\n",
              "      <td id=\"T_660dd_row2_col4\" class=\"data row2 col4\" >0.880000</td>\n",
              "      <td id=\"T_660dd_row2_col5\" class=\"data row2 col5\" >4</td>\n",
              "    </tr>\n",
              "    <tr>\n",
              "      <th id=\"T_660dd_level0_row3\" class=\"row_heading level0 row3\" >Doc3</th>\n",
              "      <td id=\"T_660dd_row3_col0\" class=\"data row3 col0\" >0.010000</td>\n",
              "      <td id=\"T_660dd_row3_col1\" class=\"data row3 col1\" >0.950000</td>\n",
              "      <td id=\"T_660dd_row3_col2\" class=\"data row3 col2\" >0.010000</td>\n",
              "      <td id=\"T_660dd_row3_col3\" class=\"data row3 col3\" >0.010000</td>\n",
              "      <td id=\"T_660dd_row3_col4\" class=\"data row3 col4\" >0.010000</td>\n",
              "      <td id=\"T_660dd_row3_col5\" class=\"data row3 col5\" >1</td>\n",
              "    </tr>\n",
              "    <tr>\n",
              "      <th id=\"T_660dd_level0_row4\" class=\"row_heading level0 row4\" >Doc4</th>\n",
              "      <td id=\"T_660dd_row4_col0\" class=\"data row4 col0\" >0.010000</td>\n",
              "      <td id=\"T_660dd_row4_col1\" class=\"data row4 col1\" >0.010000</td>\n",
              "      <td id=\"T_660dd_row4_col2\" class=\"data row4 col2\" >0.090000</td>\n",
              "      <td id=\"T_660dd_row4_col3\" class=\"data row4 col3\" >0.010000</td>\n",
              "      <td id=\"T_660dd_row4_col4\" class=\"data row4 col4\" >0.880000</td>\n",
              "      <td id=\"T_660dd_row4_col5\" class=\"data row4 col5\" >4</td>\n",
              "    </tr>\n",
              "    <tr>\n",
              "      <th id=\"T_660dd_level0_row5\" class=\"row_heading level0 row5\" >Doc5</th>\n",
              "      <td id=\"T_660dd_row5_col0\" class=\"data row5 col0\" >0.010000</td>\n",
              "      <td id=\"T_660dd_row5_col1\" class=\"data row5 col1\" >0.600000</td>\n",
              "      <td id=\"T_660dd_row5_col2\" class=\"data row5 col2\" >0.010000</td>\n",
              "      <td id=\"T_660dd_row5_col3\" class=\"data row5 col3\" >0.380000</td>\n",
              "      <td id=\"T_660dd_row5_col4\" class=\"data row5 col4\" >0.010000</td>\n",
              "      <td id=\"T_660dd_row5_col5\" class=\"data row5 col5\" >1</td>\n",
              "    </tr>\n",
              "    <tr>\n",
              "      <th id=\"T_660dd_level0_row6\" class=\"row_heading level0 row6\" >Doc6</th>\n",
              "      <td id=\"T_660dd_row6_col0\" class=\"data row6 col0\" >0.010000</td>\n",
              "      <td id=\"T_660dd_row6_col1\" class=\"data row6 col1\" >0.010000</td>\n",
              "      <td id=\"T_660dd_row6_col2\" class=\"data row6 col2\" >0.010000</td>\n",
              "      <td id=\"T_660dd_row6_col3\" class=\"data row6 col3\" >0.010000</td>\n",
              "      <td id=\"T_660dd_row6_col4\" class=\"data row6 col4\" >0.960000</td>\n",
              "      <td id=\"T_660dd_row6_col5\" class=\"data row6 col5\" >4</td>\n",
              "    </tr>\n",
              "    <tr>\n",
              "      <th id=\"T_660dd_level0_row7\" class=\"row_heading level0 row7\" >Doc7</th>\n",
              "      <td id=\"T_660dd_row7_col0\" class=\"data row7 col0\" >0.010000</td>\n",
              "      <td id=\"T_660dd_row7_col1\" class=\"data row7 col1\" >0.010000</td>\n",
              "      <td id=\"T_660dd_row7_col2\" class=\"data row7 col2\" >0.480000</td>\n",
              "      <td id=\"T_660dd_row7_col3\" class=\"data row7 col3\" >0.010000</td>\n",
              "      <td id=\"T_660dd_row7_col4\" class=\"data row7 col4\" >0.480000</td>\n",
              "      <td id=\"T_660dd_row7_col5\" class=\"data row7 col5\" >2</td>\n",
              "    </tr>\n",
              "    <tr>\n",
              "      <th id=\"T_660dd_level0_row8\" class=\"row_heading level0 row8\" >Doc8</th>\n",
              "      <td id=\"T_660dd_row8_col0\" class=\"data row8 col0\" >0.020000</td>\n",
              "      <td id=\"T_660dd_row8_col1\" class=\"data row8 col1\" >0.280000</td>\n",
              "      <td id=\"T_660dd_row8_col2\" class=\"data row8 col2\" >0.020000</td>\n",
              "      <td id=\"T_660dd_row8_col3\" class=\"data row8 col3\" >0.020000</td>\n",
              "      <td id=\"T_660dd_row8_col4\" class=\"data row8 col4\" >0.660000</td>\n",
              "      <td id=\"T_660dd_row8_col5\" class=\"data row8 col5\" >4</td>\n",
              "    </tr>\n",
              "    <tr>\n",
              "      <th id=\"T_660dd_level0_row9\" class=\"row_heading level0 row9\" >Doc9</th>\n",
              "      <td id=\"T_660dd_row9_col0\" class=\"data row9 col0\" >0.020000</td>\n",
              "      <td id=\"T_660dd_row9_col1\" class=\"data row9 col1\" >0.020000</td>\n",
              "      <td id=\"T_660dd_row9_col2\" class=\"data row9 col2\" >0.020000</td>\n",
              "      <td id=\"T_660dd_row9_col3\" class=\"data row9 col3\" >0.020000</td>\n",
              "      <td id=\"T_660dd_row9_col4\" class=\"data row9 col4\" >0.930000</td>\n",
              "      <td id=\"T_660dd_row9_col5\" class=\"data row9 col5\" >4</td>\n",
              "    </tr>\n",
              "    <tr>\n",
              "      <th id=\"T_660dd_level0_row10\" class=\"row_heading level0 row10\" >Doc10</th>\n",
              "      <td id=\"T_660dd_row10_col0\" class=\"data row10 col0\" >0.030000</td>\n",
              "      <td id=\"T_660dd_row10_col1\" class=\"data row10 col1\" >0.030000</td>\n",
              "      <td id=\"T_660dd_row10_col2\" class=\"data row10 col2\" >0.030000</td>\n",
              "      <td id=\"T_660dd_row10_col3\" class=\"data row10 col3\" >0.030000</td>\n",
              "      <td id=\"T_660dd_row10_col4\" class=\"data row10 col4\" >0.900000</td>\n",
              "      <td id=\"T_660dd_row10_col5\" class=\"data row10 col5\" >4</td>\n",
              "    </tr>\n",
              "    <tr>\n",
              "      <th id=\"T_660dd_level0_row11\" class=\"row_heading level0 row11\" >Doc11</th>\n",
              "      <td id=\"T_660dd_row11_col0\" class=\"data row11 col0\" >0.020000</td>\n",
              "      <td id=\"T_660dd_row11_col1\" class=\"data row11 col1\" >0.670000</td>\n",
              "      <td id=\"T_660dd_row11_col2\" class=\"data row11 col2\" >0.270000</td>\n",
              "      <td id=\"T_660dd_row11_col3\" class=\"data row11 col3\" >0.020000</td>\n",
              "      <td id=\"T_660dd_row11_col4\" class=\"data row11 col4\" >0.020000</td>\n",
              "      <td id=\"T_660dd_row11_col5\" class=\"data row11 col5\" >1</td>\n",
              "    </tr>\n",
              "    <tr>\n",
              "      <th id=\"T_660dd_level0_row12\" class=\"row_heading level0 row12\" >Doc12</th>\n",
              "      <td id=\"T_660dd_row12_col0\" class=\"data row12 col0\" >0.560000</td>\n",
              "      <td id=\"T_660dd_row12_col1\" class=\"data row12 col1\" >0.390000</td>\n",
              "      <td id=\"T_660dd_row12_col2\" class=\"data row12 col2\" >0.020000</td>\n",
              "      <td id=\"T_660dd_row12_col3\" class=\"data row12 col3\" >0.020000</td>\n",
              "      <td id=\"T_660dd_row12_col4\" class=\"data row12 col4\" >0.020000</td>\n",
              "      <td id=\"T_660dd_row12_col5\" class=\"data row12 col5\" >0</td>\n",
              "    </tr>\n",
              "    <tr>\n",
              "      <th id=\"T_660dd_level0_row13\" class=\"row_heading level0 row13\" >Doc13</th>\n",
              "      <td id=\"T_660dd_row13_col0\" class=\"data row13 col0\" >0.020000</td>\n",
              "      <td id=\"T_660dd_row13_col1\" class=\"data row13 col1\" >0.020000</td>\n",
              "      <td id=\"T_660dd_row13_col2\" class=\"data row13 col2\" >0.940000</td>\n",
              "      <td id=\"T_660dd_row13_col3\" class=\"data row13 col3\" >0.020000</td>\n",
              "      <td id=\"T_660dd_row13_col4\" class=\"data row13 col4\" >0.020000</td>\n",
              "      <td id=\"T_660dd_row13_col5\" class=\"data row13 col5\" >2</td>\n",
              "    </tr>\n",
              "    <tr>\n",
              "      <th id=\"T_660dd_level0_row14\" class=\"row_heading level0 row14\" >Doc14</th>\n",
              "      <td id=\"T_660dd_row14_col0\" class=\"data row14 col0\" >0.100000</td>\n",
              "      <td id=\"T_660dd_row14_col1\" class=\"data row14 col1\" >0.600000</td>\n",
              "      <td id=\"T_660dd_row14_col2\" class=\"data row14 col2\" >0.100000</td>\n",
              "      <td id=\"T_660dd_row14_col3\" class=\"data row14 col3\" >0.100000</td>\n",
              "      <td id=\"T_660dd_row14_col4\" class=\"data row14 col4\" >0.100000</td>\n",
              "      <td id=\"T_660dd_row14_col5\" class=\"data row14 col5\" >1</td>\n",
              "    </tr>\n",
              "  </tbody>\n",
              "</table>\n"
            ],
            "text/plain": [
              "<pandas.io.formats.style.Styler at 0x7fbc88bc3510>"
            ]
          },
          "metadata": {},
          "execution_count": 237
        }
      ]
    },
    {
      "cell_type": "markdown",
      "source": [
        "Review topics distribution across documents"
      ],
      "metadata": {
        "id": "wxkxlUDjvTRX"
      }
    },
    {
      "cell_type": "code",
      "source": [
        "df_topic_distribution = df_document_topic['dominant_topic'].value_counts().reset_index(name=\"Num Documents\")\n",
        "df_topic_distribution.columns = ['Topic Num', 'Num Documents']\n",
        "df_topic_distribution"
      ],
      "metadata": {
        "id": "1NDRWS1mvWGA",
        "colab": {
          "base_uri": "https://localhost:8080/",
          "height": 0
        },
        "outputId": "d5db2946-9fc1-4de7-8f85-0c9b625bd242"
      },
      "execution_count": 238,
      "outputs": [
        {
          "output_type": "execute_result",
          "data": {
            "text/html": [
              "\n",
              "  <div id=\"df-9b036548-b850-4e91-8d37-2c2f85a50f1f\">\n",
              "    <div class=\"colab-df-container\">\n",
              "      <div>\n",
              "<style scoped>\n",
              "    .dataframe tbody tr th:only-of-type {\n",
              "        vertical-align: middle;\n",
              "    }\n",
              "\n",
              "    .dataframe tbody tr th {\n",
              "        vertical-align: top;\n",
              "    }\n",
              "\n",
              "    .dataframe thead th {\n",
              "        text-align: right;\n",
              "    }\n",
              "</style>\n",
              "<table border=\"1\" class=\"dataframe\">\n",
              "  <thead>\n",
              "    <tr style=\"text-align: right;\">\n",
              "      <th></th>\n",
              "      <th>Topic Num</th>\n",
              "      <th>Num Documents</th>\n",
              "    </tr>\n",
              "  </thead>\n",
              "  <tbody>\n",
              "    <tr>\n",
              "      <th>0</th>\n",
              "      <td>3</td>\n",
              "      <td>340</td>\n",
              "    </tr>\n",
              "    <tr>\n",
              "      <th>1</th>\n",
              "      <td>4</td>\n",
              "      <td>320</td>\n",
              "    </tr>\n",
              "    <tr>\n",
              "      <th>2</th>\n",
              "      <td>1</td>\n",
              "      <td>267</td>\n",
              "    </tr>\n",
              "    <tr>\n",
              "      <th>3</th>\n",
              "      <td>0</td>\n",
              "      <td>239</td>\n",
              "    </tr>\n",
              "    <tr>\n",
              "      <th>4</th>\n",
              "      <td>2</td>\n",
              "      <td>217</td>\n",
              "    </tr>\n",
              "  </tbody>\n",
              "</table>\n",
              "</div>\n",
              "      <button class=\"colab-df-convert\" onclick=\"convertToInteractive('df-9b036548-b850-4e91-8d37-2c2f85a50f1f')\"\n",
              "              title=\"Convert this dataframe to an interactive table.\"\n",
              "              style=\"display:none;\">\n",
              "        \n",
              "  <svg xmlns=\"http://www.w3.org/2000/svg\" height=\"24px\"viewBox=\"0 0 24 24\"\n",
              "       width=\"24px\">\n",
              "    <path d=\"M0 0h24v24H0V0z\" fill=\"none\"/>\n",
              "    <path d=\"M18.56 5.44l.94 2.06.94-2.06 2.06-.94-2.06-.94-.94-2.06-.94 2.06-2.06.94zm-11 1L8.5 8.5l.94-2.06 2.06-.94-2.06-.94L8.5 2.5l-.94 2.06-2.06.94zm10 10l.94 2.06.94-2.06 2.06-.94-2.06-.94-.94-2.06-.94 2.06-2.06.94z\"/><path d=\"M17.41 7.96l-1.37-1.37c-.4-.4-.92-.59-1.43-.59-.52 0-1.04.2-1.43.59L10.3 9.45l-7.72 7.72c-.78.78-.78 2.05 0 2.83L4 21.41c.39.39.9.59 1.41.59.51 0 1.02-.2 1.41-.59l7.78-7.78 2.81-2.81c.8-.78.8-2.07 0-2.86zM5.41 20L4 18.59l7.72-7.72 1.47 1.35L5.41 20z\"/>\n",
              "  </svg>\n",
              "      </button>\n",
              "      \n",
              "  <style>\n",
              "    .colab-df-container {\n",
              "      display:flex;\n",
              "      flex-wrap:wrap;\n",
              "      gap: 12px;\n",
              "    }\n",
              "\n",
              "    .colab-df-convert {\n",
              "      background-color: #E8F0FE;\n",
              "      border: none;\n",
              "      border-radius: 50%;\n",
              "      cursor: pointer;\n",
              "      display: none;\n",
              "      fill: #1967D2;\n",
              "      height: 32px;\n",
              "      padding: 0 0 0 0;\n",
              "      width: 32px;\n",
              "    }\n",
              "\n",
              "    .colab-df-convert:hover {\n",
              "      background-color: #E2EBFA;\n",
              "      box-shadow: 0px 1px 2px rgba(60, 64, 67, 0.3), 0px 1px 3px 1px rgba(60, 64, 67, 0.15);\n",
              "      fill: #174EA6;\n",
              "    }\n",
              "\n",
              "    [theme=dark] .colab-df-convert {\n",
              "      background-color: #3B4455;\n",
              "      fill: #D2E3FC;\n",
              "    }\n",
              "\n",
              "    [theme=dark] .colab-df-convert:hover {\n",
              "      background-color: #434B5C;\n",
              "      box-shadow: 0px 1px 3px 1px rgba(0, 0, 0, 0.15);\n",
              "      filter: drop-shadow(0px 1px 2px rgba(0, 0, 0, 0.3));\n",
              "      fill: #FFFFFF;\n",
              "    }\n",
              "  </style>\n",
              "\n",
              "      <script>\n",
              "        const buttonEl =\n",
              "          document.querySelector('#df-9b036548-b850-4e91-8d37-2c2f85a50f1f button.colab-df-convert');\n",
              "        buttonEl.style.display =\n",
              "          google.colab.kernel.accessAllowed ? 'block' : 'none';\n",
              "\n",
              "        async function convertToInteractive(key) {\n",
              "          const element = document.querySelector('#df-9b036548-b850-4e91-8d37-2c2f85a50f1f');\n",
              "          const dataTable =\n",
              "            await google.colab.kernel.invokeFunction('convertToInteractive',\n",
              "                                                     [key], {});\n",
              "          if (!dataTable) return;\n",
              "\n",
              "          const docLinkHtml = 'Like what you see? Visit the ' +\n",
              "            '<a target=\"_blank\" href=https://colab.research.google.com/notebooks/data_table.ipynb>data table notebook</a>'\n",
              "            + ' to learn more about interactive tables.';\n",
              "          element.innerHTML = '';\n",
              "          dataTable['output_type'] = 'display_data';\n",
              "          await google.colab.output.renderOutput(dataTable, element);\n",
              "          const docLink = document.createElement('div');\n",
              "          docLink.innerHTML = docLinkHtml;\n",
              "          element.appendChild(docLink);\n",
              "        }\n",
              "      </script>\n",
              "    </div>\n",
              "  </div>\n",
              "  "
            ],
            "text/plain": [
              "   Topic Num  Num Documents\n",
              "0          3            340\n",
              "1          4            320\n",
              "2          1            267\n",
              "3          0            239\n",
              "4          2            217"
            ]
          },
          "metadata": {},
          "execution_count": 238
        }
      ]
    },
    {
      "cell_type": "markdown",
      "source": [
        "Let's see the Topic’s keywords"
      ],
      "metadata": {
        "id": "B-I-MI2NveKu"
      }
    },
    {
      "cell_type": "code",
      "source": [
        "# Topic-Keyword Matrix\n",
        "df_topic_keywords = pd.DataFrame(best_lda_model.components_)\n",
        "\n",
        "# Assign Column and Index\n",
        "df_topic_keywords.columns = count_vectorizer.get_feature_names()\n",
        "df_topic_keywords.index = topicnames\n",
        "\n",
        "# View\n",
        "df_topic_keywords.head()"
      ],
      "metadata": {
        "id": "joFtxhLrviab",
        "colab": {
          "base_uri": "https://localhost:8080/",
          "height": 0
        },
        "outputId": "fe471884-d3e0-4b72-9753-c1057464e27c"
      },
      "execution_count": 239,
      "outputs": [
        {
          "output_type": "stream",
          "name": "stderr",
          "text": [
            "/usr/local/lib/python3.7/dist-packages/sklearn/utils/deprecation.py:87: FutureWarning: Function get_feature_names is deprecated; get_feature_names is deprecated in 1.0 and will be removed in 1.2. Please use get_feature_names_out instead.\n",
            "  warnings.warn(msg, category=FutureWarning)\n"
          ]
        },
        {
          "output_type": "execute_result",
          "data": {
            "text/html": [
              "\n",
              "  <div id=\"df-44a1c525-d2ec-46b5-b976-cbfba2f25fda\">\n",
              "    <div class=\"colab-df-container\">\n",
              "      <div>\n",
              "<style scoped>\n",
              "    .dataframe tbody tr th:only-of-type {\n",
              "        vertical-align: middle;\n",
              "    }\n",
              "\n",
              "    .dataframe tbody tr th {\n",
              "        vertical-align: top;\n",
              "    }\n",
              "\n",
              "    .dataframe thead th {\n",
              "        text-align: right;\n",
              "    }\n",
              "</style>\n",
              "<table border=\"1\" class=\"dataframe\">\n",
              "  <thead>\n",
              "    <tr style=\"text-align: right;\">\n",
              "      <th></th>\n",
              "      <th>00</th>\n",
              "      <th>000</th>\n",
              "      <th>000000</th>\n",
              "      <th>000001</th>\n",
              "      <th>001</th>\n",
              "      <th>001z</th>\n",
              "      <th>0025n1</th>\n",
              "      <th>005</th>\n",
              "      <th>01</th>\n",
              "      <th>012</th>\n",
              "      <th>...</th>\n",
              "      <th>μ1</th>\n",
              "      <th>μ2</th>\n",
              "      <th>μ2sp</th>\n",
              "      <th>σ1</th>\n",
              "      <th>σ12σ22</th>\n",
              "      <th>σ2</th>\n",
              "      <th>σ2n</th>\n",
              "      <th>σp</th>\n",
              "      <th>σytest</th>\n",
              "      <th>σz</th>\n",
              "    </tr>\n",
              "  </thead>\n",
              "  <tbody>\n",
              "    <tr>\n",
              "      <th>Topic0</th>\n",
              "      <td>0.200003</td>\n",
              "      <td>0.200003</td>\n",
              "      <td>0.200002</td>\n",
              "      <td>0.200002</td>\n",
              "      <td>0.200002</td>\n",
              "      <td>0.200007</td>\n",
              "      <td>0.200009</td>\n",
              "      <td>0.204464</td>\n",
              "      <td>0.200001</td>\n",
              "      <td>0.200004</td>\n",
              "      <td>...</td>\n",
              "      <td>0.200002</td>\n",
              "      <td>0.200002</td>\n",
              "      <td>0.200005</td>\n",
              "      <td>0.200003</td>\n",
              "      <td>0.200005</td>\n",
              "      <td>0.200004</td>\n",
              "      <td>0.200001</td>\n",
              "      <td>0.200002</td>\n",
              "      <td>0.200002</td>\n",
              "      <td>0.200001</td>\n",
              "    </tr>\n",
              "    <tr>\n",
              "      <th>Topic1</th>\n",
              "      <td>1.199691</td>\n",
              "      <td>0.208203</td>\n",
              "      <td>0.200001</td>\n",
              "      <td>0.200001</td>\n",
              "      <td>0.200002</td>\n",
              "      <td>0.205114</td>\n",
              "      <td>0.210894</td>\n",
              "      <td>0.200726</td>\n",
              "      <td>1.198673</td>\n",
              "      <td>0.202147</td>\n",
              "      <td>...</td>\n",
              "      <td>3.198672</td>\n",
              "      <td>2.199994</td>\n",
              "      <td>0.213656</td>\n",
              "      <td>4.199749</td>\n",
              "      <td>1.199981</td>\n",
              "      <td>9.017811</td>\n",
              "      <td>1.199997</td>\n",
              "      <td>1.199994</td>\n",
              "      <td>0.201201</td>\n",
              "      <td>0.200825</td>\n",
              "    </tr>\n",
              "    <tr>\n",
              "      <th>Topic2</th>\n",
              "      <td>0.200003</td>\n",
              "      <td>0.200003</td>\n",
              "      <td>0.200002</td>\n",
              "      <td>0.200002</td>\n",
              "      <td>0.200002</td>\n",
              "      <td>0.200006</td>\n",
              "      <td>0.200008</td>\n",
              "      <td>3.190740</td>\n",
              "      <td>0.200002</td>\n",
              "      <td>0.200004</td>\n",
              "      <td>...</td>\n",
              "      <td>0.201323</td>\n",
              "      <td>0.200002</td>\n",
              "      <td>1.186331</td>\n",
              "      <td>0.200002</td>\n",
              "      <td>0.200005</td>\n",
              "      <td>0.201732</td>\n",
              "      <td>0.200001</td>\n",
              "      <td>0.200002</td>\n",
              "      <td>0.200002</td>\n",
              "      <td>0.200001</td>\n",
              "    </tr>\n",
              "    <tr>\n",
              "      <th>Topic3</th>\n",
              "      <td>2.200300</td>\n",
              "      <td>1.189311</td>\n",
              "      <td>0.200001</td>\n",
              "      <td>0.200001</td>\n",
              "      <td>1.199993</td>\n",
              "      <td>1.194867</td>\n",
              "      <td>1.189081</td>\n",
              "      <td>0.200002</td>\n",
              "      <td>0.201323</td>\n",
              "      <td>1.191830</td>\n",
              "      <td>...</td>\n",
              "      <td>0.200001</td>\n",
              "      <td>0.200001</td>\n",
              "      <td>0.200004</td>\n",
              "      <td>0.200002</td>\n",
              "      <td>0.200004</td>\n",
              "      <td>0.200969</td>\n",
              "      <td>0.200001</td>\n",
              "      <td>0.200001</td>\n",
              "      <td>1.198794</td>\n",
              "      <td>2.199171</td>\n",
              "    </tr>\n",
              "    <tr>\n",
              "      <th>Topic4</th>\n",
              "      <td>0.200003</td>\n",
              "      <td>0.202481</td>\n",
              "      <td>1.199994</td>\n",
              "      <td>1.199994</td>\n",
              "      <td>0.200002</td>\n",
              "      <td>0.200006</td>\n",
              "      <td>0.200008</td>\n",
              "      <td>0.204069</td>\n",
              "      <td>0.200001</td>\n",
              "      <td>0.206015</td>\n",
              "      <td>...</td>\n",
              "      <td>0.200002</td>\n",
              "      <td>0.200001</td>\n",
              "      <td>0.200005</td>\n",
              "      <td>0.200245</td>\n",
              "      <td>0.200004</td>\n",
              "      <td>2.379484</td>\n",
              "      <td>0.200001</td>\n",
              "      <td>0.200002</td>\n",
              "      <td>0.200002</td>\n",
              "      <td>0.200001</td>\n",
              "    </tr>\n",
              "  </tbody>\n",
              "</table>\n",
              "<p>5 rows × 4000 columns</p>\n",
              "</div>\n",
              "      <button class=\"colab-df-convert\" onclick=\"convertToInteractive('df-44a1c525-d2ec-46b5-b976-cbfba2f25fda')\"\n",
              "              title=\"Convert this dataframe to an interactive table.\"\n",
              "              style=\"display:none;\">\n",
              "        \n",
              "  <svg xmlns=\"http://www.w3.org/2000/svg\" height=\"24px\"viewBox=\"0 0 24 24\"\n",
              "       width=\"24px\">\n",
              "    <path d=\"M0 0h24v24H0V0z\" fill=\"none\"/>\n",
              "    <path d=\"M18.56 5.44l.94 2.06.94-2.06 2.06-.94-2.06-.94-.94-2.06-.94 2.06-2.06.94zm-11 1L8.5 8.5l.94-2.06 2.06-.94-2.06-.94L8.5 2.5l-.94 2.06-2.06.94zm10 10l.94 2.06.94-2.06 2.06-.94-2.06-.94-.94-2.06-.94 2.06-2.06.94z\"/><path d=\"M17.41 7.96l-1.37-1.37c-.4-.4-.92-.59-1.43-.59-.52 0-1.04.2-1.43.59L10.3 9.45l-7.72 7.72c-.78.78-.78 2.05 0 2.83L4 21.41c.39.39.9.59 1.41.59.51 0 1.02-.2 1.41-.59l7.78-7.78 2.81-2.81c.8-.78.8-2.07 0-2.86zM5.41 20L4 18.59l7.72-7.72 1.47 1.35L5.41 20z\"/>\n",
              "  </svg>\n",
              "      </button>\n",
              "      \n",
              "  <style>\n",
              "    .colab-df-container {\n",
              "      display:flex;\n",
              "      flex-wrap:wrap;\n",
              "      gap: 12px;\n",
              "    }\n",
              "\n",
              "    .colab-df-convert {\n",
              "      background-color: #E8F0FE;\n",
              "      border: none;\n",
              "      border-radius: 50%;\n",
              "      cursor: pointer;\n",
              "      display: none;\n",
              "      fill: #1967D2;\n",
              "      height: 32px;\n",
              "      padding: 0 0 0 0;\n",
              "      width: 32px;\n",
              "    }\n",
              "\n",
              "    .colab-df-convert:hover {\n",
              "      background-color: #E2EBFA;\n",
              "      box-shadow: 0px 1px 2px rgba(60, 64, 67, 0.3), 0px 1px 3px 1px rgba(60, 64, 67, 0.15);\n",
              "      fill: #174EA6;\n",
              "    }\n",
              "\n",
              "    [theme=dark] .colab-df-convert {\n",
              "      background-color: #3B4455;\n",
              "      fill: #D2E3FC;\n",
              "    }\n",
              "\n",
              "    [theme=dark] .colab-df-convert:hover {\n",
              "      background-color: #434B5C;\n",
              "      box-shadow: 0px 1px 3px 1px rgba(0, 0, 0, 0.15);\n",
              "      filter: drop-shadow(0px 1px 2px rgba(0, 0, 0, 0.3));\n",
              "      fill: #FFFFFF;\n",
              "    }\n",
              "  </style>\n",
              "\n",
              "      <script>\n",
              "        const buttonEl =\n",
              "          document.querySelector('#df-44a1c525-d2ec-46b5-b976-cbfba2f25fda button.colab-df-convert');\n",
              "        buttonEl.style.display =\n",
              "          google.colab.kernel.accessAllowed ? 'block' : 'none';\n",
              "\n",
              "        async function convertToInteractive(key) {\n",
              "          const element = document.querySelector('#df-44a1c525-d2ec-46b5-b976-cbfba2f25fda');\n",
              "          const dataTable =\n",
              "            await google.colab.kernel.invokeFunction('convertToInteractive',\n",
              "                                                     [key], {});\n",
              "          if (!dataTable) return;\n",
              "\n",
              "          const docLinkHtml = 'Like what you see? Visit the ' +\n",
              "            '<a target=\"_blank\" href=https://colab.research.google.com/notebooks/data_table.ipynb>data table notebook</a>'\n",
              "            + ' to learn more about interactive tables.';\n",
              "          element.innerHTML = '';\n",
              "          dataTable['output_type'] = 'display_data';\n",
              "          await google.colab.output.renderOutput(dataTable, element);\n",
              "          const docLink = document.createElement('div');\n",
              "          docLink.innerHTML = docLinkHtml;\n",
              "          element.appendChild(docLink);\n",
              "        }\n",
              "      </script>\n",
              "    </div>\n",
              "  </div>\n",
              "  "
            ],
            "text/plain": [
              "              00       000    000000    000001       001      001z    0025n1  \\\n",
              "Topic0  0.200003  0.200003  0.200002  0.200002  0.200002  0.200007  0.200009   \n",
              "Topic1  1.199691  0.208203  0.200001  0.200001  0.200002  0.205114  0.210894   \n",
              "Topic2  0.200003  0.200003  0.200002  0.200002  0.200002  0.200006  0.200008   \n",
              "Topic3  2.200300  1.189311  0.200001  0.200001  1.199993  1.194867  1.189081   \n",
              "Topic4  0.200003  0.202481  1.199994  1.199994  0.200002  0.200006  0.200008   \n",
              "\n",
              "             005        01       012  ...        μ1        μ2      μ2sp  \\\n",
              "Topic0  0.204464  0.200001  0.200004  ...  0.200002  0.200002  0.200005   \n",
              "Topic1  0.200726  1.198673  0.202147  ...  3.198672  2.199994  0.213656   \n",
              "Topic2  3.190740  0.200002  0.200004  ...  0.201323  0.200002  1.186331   \n",
              "Topic3  0.200002  0.201323  1.191830  ...  0.200001  0.200001  0.200004   \n",
              "Topic4  0.204069  0.200001  0.206015  ...  0.200002  0.200001  0.200005   \n",
              "\n",
              "              σ1    σ12σ22        σ2       σ2n        σp    σytest        σz  \n",
              "Topic0  0.200003  0.200005  0.200004  0.200001  0.200002  0.200002  0.200001  \n",
              "Topic1  4.199749  1.199981  9.017811  1.199997  1.199994  0.201201  0.200825  \n",
              "Topic2  0.200002  0.200005  0.201732  0.200001  0.200002  0.200002  0.200001  \n",
              "Topic3  0.200002  0.200004  0.200969  0.200001  0.200001  1.198794  2.199171  \n",
              "Topic4  0.200245  0.200004  2.379484  0.200001  0.200002  0.200002  0.200001  \n",
              "\n",
              "[5 rows x 4000 columns]"
            ]
          },
          "metadata": {},
          "execution_count": 239
        }
      ]
    },
    {
      "cell_type": "markdown",
      "source": [
        "Get the top 15 keywords each topic"
      ],
      "metadata": {
        "id": "pSNGBPIQvkux"
      }
    },
    {
      "cell_type": "code",
      "source": [
        "# Show top n keywords for each topic\n",
        "def show_topics(vectorizer=count_vectorizer, lda_model=best_lda_model, n_words=15):\n",
        "    keywords = np.array(vectorizer.get_feature_names())\n",
        "    topic_keywords = []\n",
        "    for topic_weights in lda_model.components_:\n",
        "        top_keyword_locs = (-topic_weights).argsort()[:n_words]\n",
        "        topic_keywords.append(keywords.take(top_keyword_locs))\n",
        "    return topic_keywords\n",
        "\n",
        "topic_keywords = show_topics(vectorizer=count_vectorizer, lda_model=best_lda_model, n_words=15)        \n",
        "\n",
        "# Topic - Keywords Dataframe\n",
        "df_topic_keywords = pd.DataFrame(topic_keywords)\n",
        "df_topic_keywords.columns = ['Word '+str(i) for i in range(df_topic_keywords.shape[1])]\n",
        "df_topic_keywords.index = ['Topic '+str(i) for i in range(df_topic_keywords.shape[0])]\n",
        "df_topic_keywords"
      ],
      "metadata": {
        "id": "ZXAbFZabvm5q",
        "colab": {
          "base_uri": "https://localhost:8080/",
          "height": 0
        },
        "outputId": "a9186225-862e-44fb-e582-236062941428"
      },
      "execution_count": 240,
      "outputs": [
        {
          "output_type": "stream",
          "name": "stderr",
          "text": [
            "/usr/local/lib/python3.7/dist-packages/sklearn/utils/deprecation.py:87: FutureWarning: Function get_feature_names is deprecated; get_feature_names is deprecated in 1.0 and will be removed in 1.2. Please use get_feature_names_out instead.\n",
            "  warnings.warn(msg, category=FutureWarning)\n"
          ]
        },
        {
          "output_type": "execute_result",
          "data": {
            "text/html": [
              "\n",
              "  <div id=\"df-0ab8078b-a44e-4176-a2e1-b6740473dbe1\">\n",
              "    <div class=\"colab-df-container\">\n",
              "      <div>\n",
              "<style scoped>\n",
              "    .dataframe tbody tr th:only-of-type {\n",
              "        vertical-align: middle;\n",
              "    }\n",
              "\n",
              "    .dataframe tbody tr th {\n",
              "        vertical-align: top;\n",
              "    }\n",
              "\n",
              "    .dataframe thead th {\n",
              "        text-align: right;\n",
              "    }\n",
              "</style>\n",
              "<table border=\"1\" class=\"dataframe\">\n",
              "  <thead>\n",
              "    <tr style=\"text-align: right;\">\n",
              "      <th></th>\n",
              "      <th>Word 0</th>\n",
              "      <th>Word 1</th>\n",
              "      <th>Word 2</th>\n",
              "      <th>Word 3</th>\n",
              "      <th>Word 4</th>\n",
              "      <th>Word 5</th>\n",
              "      <th>Word 6</th>\n",
              "      <th>Word 7</th>\n",
              "      <th>Word 8</th>\n",
              "      <th>Word 9</th>\n",
              "      <th>Word 10</th>\n",
              "      <th>Word 11</th>\n",
              "      <th>Word 12</th>\n",
              "      <th>Word 13</th>\n",
              "      <th>Word 14</th>\n",
              "    </tr>\n",
              "  </thead>\n",
              "  <tbody>\n",
              "    <tr>\n",
              "      <th>Topic 0</th>\n",
              "      <td>tabl</td>\n",
              "      <td>file</td>\n",
              "      <td>data</td>\n",
              "      <td>use</td>\n",
              "      <td>imag</td>\n",
              "      <td>creat</td>\n",
              "      <td>code</td>\n",
              "      <td>docker</td>\n",
              "      <td>databas</td>\n",
              "      <td>python</td>\n",
              "      <td>column</td>\n",
              "      <td>instal</td>\n",
              "      <td>indic</td>\n",
              "      <td>contain</td>\n",
              "      <td>select</td>\n",
              "    </tr>\n",
              "    <tr>\n",
              "      <th>Topic 1</th>\n",
              "      <td>layer</td>\n",
              "      <td>mean</td>\n",
              "      <td>vector</td>\n",
              "      <td>valu</td>\n",
              "      <td>sampl</td>\n",
              "      <td>matrix</td>\n",
              "      <td>input</td>\n",
              "      <td>use</td>\n",
              "      <td>data</td>\n",
              "      <td>network</td>\n",
              "      <td>output</td>\n",
              "      <td>function</td>\n",
              "      <td>return</td>\n",
              "      <td>featur</td>\n",
              "      <td>multipl</td>\n",
              "    </tr>\n",
              "    <tr>\n",
              "      <th>Topic 2</th>\n",
              "      <td>model</td>\n",
              "      <td>train</td>\n",
              "      <td>learn</td>\n",
              "      <td>word</td>\n",
              "      <td>data</td>\n",
              "      <td>featur</td>\n",
              "      <td>use</td>\n",
              "      <td>applic</td>\n",
              "      <td>network</td>\n",
              "      <td>node</td>\n",
              "      <td>ml</td>\n",
              "      <td>machin</td>\n",
              "      <td>like</td>\n",
              "      <td>comput</td>\n",
              "      <td>make</td>\n",
              "    </tr>\n",
              "    <tr>\n",
              "      <th>Topic 3</th>\n",
              "      <td>import</td>\n",
              "      <td>model</td>\n",
              "      <td>data</td>\n",
              "      <td>learn</td>\n",
              "      <td>function</td>\n",
              "      <td>use</td>\n",
              "      <td>cluster</td>\n",
              "      <td>algorithm</td>\n",
              "      <td>linear</td>\n",
              "      <td>weight</td>\n",
              "      <td>differ</td>\n",
              "      <td>experi</td>\n",
              "      <td>regress</td>\n",
              "      <td>predict</td>\n",
              "      <td>problem</td>\n",
              "    </tr>\n",
              "    <tr>\n",
              "      <th>Topic 4</th>\n",
              "      <td>probabl</td>\n",
              "      <td>variabl</td>\n",
              "      <td>data</td>\n",
              "      <td>list</td>\n",
              "      <td>set</td>\n",
              "      <td>random</td>\n",
              "      <td>distribut</td>\n",
              "      <td>use</td>\n",
              "      <td>valu</td>\n",
              "      <td>function</td>\n",
              "      <td>matrix</td>\n",
              "      <td>number</td>\n",
              "      <td>column</td>\n",
              "      <td>plot</td>\n",
              "      <td>mean</td>\n",
              "    </tr>\n",
              "  </tbody>\n",
              "</table>\n",
              "</div>\n",
              "      <button class=\"colab-df-convert\" onclick=\"convertToInteractive('df-0ab8078b-a44e-4176-a2e1-b6740473dbe1')\"\n",
              "              title=\"Convert this dataframe to an interactive table.\"\n",
              "              style=\"display:none;\">\n",
              "        \n",
              "  <svg xmlns=\"http://www.w3.org/2000/svg\" height=\"24px\"viewBox=\"0 0 24 24\"\n",
              "       width=\"24px\">\n",
              "    <path d=\"M0 0h24v24H0V0z\" fill=\"none\"/>\n",
              "    <path d=\"M18.56 5.44l.94 2.06.94-2.06 2.06-.94-2.06-.94-.94-2.06-.94 2.06-2.06.94zm-11 1L8.5 8.5l.94-2.06 2.06-.94-2.06-.94L8.5 2.5l-.94 2.06-2.06.94zm10 10l.94 2.06.94-2.06 2.06-.94-2.06-.94-.94-2.06-.94 2.06-2.06.94z\"/><path d=\"M17.41 7.96l-1.37-1.37c-.4-.4-.92-.59-1.43-.59-.52 0-1.04.2-1.43.59L10.3 9.45l-7.72 7.72c-.78.78-.78 2.05 0 2.83L4 21.41c.39.39.9.59 1.41.59.51 0 1.02-.2 1.41-.59l7.78-7.78 2.81-2.81c.8-.78.8-2.07 0-2.86zM5.41 20L4 18.59l7.72-7.72 1.47 1.35L5.41 20z\"/>\n",
              "  </svg>\n",
              "      </button>\n",
              "      \n",
              "  <style>\n",
              "    .colab-df-container {\n",
              "      display:flex;\n",
              "      flex-wrap:wrap;\n",
              "      gap: 12px;\n",
              "    }\n",
              "\n",
              "    .colab-df-convert {\n",
              "      background-color: #E8F0FE;\n",
              "      border: none;\n",
              "      border-radius: 50%;\n",
              "      cursor: pointer;\n",
              "      display: none;\n",
              "      fill: #1967D2;\n",
              "      height: 32px;\n",
              "      padding: 0 0 0 0;\n",
              "      width: 32px;\n",
              "    }\n",
              "\n",
              "    .colab-df-convert:hover {\n",
              "      background-color: #E2EBFA;\n",
              "      box-shadow: 0px 1px 2px rgba(60, 64, 67, 0.3), 0px 1px 3px 1px rgba(60, 64, 67, 0.15);\n",
              "      fill: #174EA6;\n",
              "    }\n",
              "\n",
              "    [theme=dark] .colab-df-convert {\n",
              "      background-color: #3B4455;\n",
              "      fill: #D2E3FC;\n",
              "    }\n",
              "\n",
              "    [theme=dark] .colab-df-convert:hover {\n",
              "      background-color: #434B5C;\n",
              "      box-shadow: 0px 1px 3px 1px rgba(0, 0, 0, 0.15);\n",
              "      filter: drop-shadow(0px 1px 2px rgba(0, 0, 0, 0.3));\n",
              "      fill: #FFFFFF;\n",
              "    }\n",
              "  </style>\n",
              "\n",
              "      <script>\n",
              "        const buttonEl =\n",
              "          document.querySelector('#df-0ab8078b-a44e-4176-a2e1-b6740473dbe1 button.colab-df-convert');\n",
              "        buttonEl.style.display =\n",
              "          google.colab.kernel.accessAllowed ? 'block' : 'none';\n",
              "\n",
              "        async function convertToInteractive(key) {\n",
              "          const element = document.querySelector('#df-0ab8078b-a44e-4176-a2e1-b6740473dbe1');\n",
              "          const dataTable =\n",
              "            await google.colab.kernel.invokeFunction('convertToInteractive',\n",
              "                                                     [key], {});\n",
              "          if (!dataTable) return;\n",
              "\n",
              "          const docLinkHtml = 'Like what you see? Visit the ' +\n",
              "            '<a target=\"_blank\" href=https://colab.research.google.com/notebooks/data_table.ipynb>data table notebook</a>'\n",
              "            + ' to learn more about interactive tables.';\n",
              "          element.innerHTML = '';\n",
              "          dataTable['output_type'] = 'display_data';\n",
              "          await google.colab.output.renderOutput(dataTable, element);\n",
              "          const docLink = document.createElement('div');\n",
              "          docLink.innerHTML = docLinkHtml;\n",
              "          element.appendChild(docLink);\n",
              "        }\n",
              "      </script>\n",
              "    </div>\n",
              "  </div>\n",
              "  "
            ],
            "text/plain": [
              "          Word 0   Word 1  Word 2 Word 3    Word 4  Word 5     Word 6  \\\n",
              "Topic 0     tabl     file    data    use      imag   creat       code   \n",
              "Topic 1    layer     mean  vector   valu     sampl  matrix      input   \n",
              "Topic 2    model    train   learn   word      data  featur        use   \n",
              "Topic 3   import    model    data  learn  function     use    cluster   \n",
              "Topic 4  probabl  variabl    data   list       set  random  distribut   \n",
              "\n",
              "            Word 7   Word 8    Word 9 Word 10   Word 11  Word 12  Word 13  \\\n",
              "Topic 0     docker  databas    python  column    instal    indic  contain   \n",
              "Topic 1        use     data   network  output  function   return   featur   \n",
              "Topic 2     applic  network      node      ml    machin     like   comput   \n",
              "Topic 3  algorithm   linear    weight  differ    experi  regress  predict   \n",
              "Topic 4        use     valu  function  matrix    number   column     plot   \n",
              "\n",
              "         Word 14  \n",
              "Topic 0   select  \n",
              "Topic 1  multipl  \n",
              "Topic 2     make  \n",
              "Topic 3  problem  \n",
              "Topic 4     mean  "
            ]
          },
          "metadata": {},
          "execution_count": 240
        }
      ]
    },
    {
      "cell_type": "markdown",
      "source": [
        "# **Building of Question-Answering Model**"
      ],
      "metadata": {
        "id": "s4pBO25KZcFF"
      }
    },
    {
      "cell_type": "code",
      "source": [
        "# Taking question as user input\n",
        "question=\"TfidfVectorizer?\"\n",
        "question_processed = text_process(question)\n",
        "question_processed"
      ],
      "metadata": {
        "id": "gnc0wxkaduuu",
        "colab": {
          "base_uri": "https://localhost:8080/",
          "height": 35
        },
        "outputId": "9f3a1332-6651-4642-cb15-44b57c13afd3"
      },
      "execution_count": 241,
      "outputs": [
        {
          "output_type": "execute_result",
          "data": {
            "application/vnd.google.colaboratory.intrinsic+json": {
              "type": "string"
            },
            "text/plain": [
              "'tfidfvector'"
            ]
          },
          "metadata": {},
          "execution_count": 241
        }
      ]
    },
    {
      "cell_type": "code",
      "source": [
        "# Appending question in the dataset to match the dimension of question and document vector\n",
        "data_science_df_clean=data_science_df_clean[(data_science_df_clean.documents!=data_science_df_clean.documents_processed)]\n",
        "data_science_df_clean.loc[(data_science_df_clean.index.max()+1)] = question_processed\n",
        "data_science_df_clean.tail(2)"
      ],
      "metadata": {
        "colab": {
          "base_uri": "https://localhost:8080/",
          "height": 156
        },
        "id": "LorqdkffSR_Q",
        "outputId": "6ac6a005-4046-4bdb-bd83-f0747afd5bd1"
      },
      "execution_count": 242,
      "outputs": [
        {
          "output_type": "execute_result",
          "data": {
            "text/html": [
              "\n",
              "  <div id=\"df-46c6bc98-cb92-4ed5-87f7-4e2f6b386a54\">\n",
              "    <div class=\"colab-df-container\">\n",
              "      <div>\n",
              "<style scoped>\n",
              "    .dataframe tbody tr th:only-of-type {\n",
              "        vertical-align: middle;\n",
              "    }\n",
              "\n",
              "    .dataframe tbody tr th {\n",
              "        vertical-align: top;\n",
              "    }\n",
              "\n",
              "    .dataframe thead th {\n",
              "        text-align: right;\n",
              "    }\n",
              "</style>\n",
              "<table border=\"1\" class=\"dataframe\">\n",
              "  <thead>\n",
              "    <tr style=\"text-align: right;\">\n",
              "      <th></th>\n",
              "      <th>documents</th>\n",
              "      <th>documents_processed</th>\n",
              "    </tr>\n",
              "  </thead>\n",
              "  <tbody>\n",
              "    <tr>\n",
              "      <th>1382</th>\n",
              "      <td>Audio Data for Trigger word detection\\n\\ne.g. ...</td>\n",
              "      <td>audio data trigger word detect eg alexa okay g...</td>\n",
              "    </tr>\n",
              "    <tr>\n",
              "      <th>1383</th>\n",
              "      <td>tfidfvector</td>\n",
              "      <td>tfidfvector</td>\n",
              "    </tr>\n",
              "  </tbody>\n",
              "</table>\n",
              "</div>\n",
              "      <button class=\"colab-df-convert\" onclick=\"convertToInteractive('df-46c6bc98-cb92-4ed5-87f7-4e2f6b386a54')\"\n",
              "              title=\"Convert this dataframe to an interactive table.\"\n",
              "              style=\"display:none;\">\n",
              "        \n",
              "  <svg xmlns=\"http://www.w3.org/2000/svg\" height=\"24px\"viewBox=\"0 0 24 24\"\n",
              "       width=\"24px\">\n",
              "    <path d=\"M0 0h24v24H0V0z\" fill=\"none\"/>\n",
              "    <path d=\"M18.56 5.44l.94 2.06.94-2.06 2.06-.94-2.06-.94-.94-2.06-.94 2.06-2.06.94zm-11 1L8.5 8.5l.94-2.06 2.06-.94-2.06-.94L8.5 2.5l-.94 2.06-2.06.94zm10 10l.94 2.06.94-2.06 2.06-.94-2.06-.94-.94-2.06-.94 2.06-2.06.94z\"/><path d=\"M17.41 7.96l-1.37-1.37c-.4-.4-.92-.59-1.43-.59-.52 0-1.04.2-1.43.59L10.3 9.45l-7.72 7.72c-.78.78-.78 2.05 0 2.83L4 21.41c.39.39.9.59 1.41.59.51 0 1.02-.2 1.41-.59l7.78-7.78 2.81-2.81c.8-.78.8-2.07 0-2.86zM5.41 20L4 18.59l7.72-7.72 1.47 1.35L5.41 20z\"/>\n",
              "  </svg>\n",
              "      </button>\n",
              "      \n",
              "  <style>\n",
              "    .colab-df-container {\n",
              "      display:flex;\n",
              "      flex-wrap:wrap;\n",
              "      gap: 12px;\n",
              "    }\n",
              "\n",
              "    .colab-df-convert {\n",
              "      background-color: #E8F0FE;\n",
              "      border: none;\n",
              "      border-radius: 50%;\n",
              "      cursor: pointer;\n",
              "      display: none;\n",
              "      fill: #1967D2;\n",
              "      height: 32px;\n",
              "      padding: 0 0 0 0;\n",
              "      width: 32px;\n",
              "    }\n",
              "\n",
              "    .colab-df-convert:hover {\n",
              "      background-color: #E2EBFA;\n",
              "      box-shadow: 0px 1px 2px rgba(60, 64, 67, 0.3), 0px 1px 3px 1px rgba(60, 64, 67, 0.15);\n",
              "      fill: #174EA6;\n",
              "    }\n",
              "\n",
              "    [theme=dark] .colab-df-convert {\n",
              "      background-color: #3B4455;\n",
              "      fill: #D2E3FC;\n",
              "    }\n",
              "\n",
              "    [theme=dark] .colab-df-convert:hover {\n",
              "      background-color: #434B5C;\n",
              "      box-shadow: 0px 1px 3px 1px rgba(0, 0, 0, 0.15);\n",
              "      filter: drop-shadow(0px 1px 2px rgba(0, 0, 0, 0.3));\n",
              "      fill: #FFFFFF;\n",
              "    }\n",
              "  </style>\n",
              "\n",
              "      <script>\n",
              "        const buttonEl =\n",
              "          document.querySelector('#df-46c6bc98-cb92-4ed5-87f7-4e2f6b386a54 button.colab-df-convert');\n",
              "        buttonEl.style.display =\n",
              "          google.colab.kernel.accessAllowed ? 'block' : 'none';\n",
              "\n",
              "        async function convertToInteractive(key) {\n",
              "          const element = document.querySelector('#df-46c6bc98-cb92-4ed5-87f7-4e2f6b386a54');\n",
              "          const dataTable =\n",
              "            await google.colab.kernel.invokeFunction('convertToInteractive',\n",
              "                                                     [key], {});\n",
              "          if (!dataTable) return;\n",
              "\n",
              "          const docLinkHtml = 'Like what you see? Visit the ' +\n",
              "            '<a target=\"_blank\" href=https://colab.research.google.com/notebooks/data_table.ipynb>data table notebook</a>'\n",
              "            + ' to learn more about interactive tables.';\n",
              "          element.innerHTML = '';\n",
              "          dataTable['output_type'] = 'display_data';\n",
              "          await google.colab.output.renderOutput(dataTable, element);\n",
              "          const docLink = document.createElement('div');\n",
              "          docLink.innerHTML = docLinkHtml;\n",
              "          element.appendChild(docLink);\n",
              "        }\n",
              "      </script>\n",
              "    </div>\n",
              "  </div>\n",
              "  "
            ],
            "text/plain": [
              "                                              documents  \\\n",
              "1382  Audio Data for Trigger word detection\\n\\ne.g. ...   \n",
              "1383                                        tfidfvector   \n",
              "\n",
              "                                    documents_processed  \n",
              "1382  audio data trigger word detect eg alexa okay g...  \n",
              "1383                                        tfidfvector  "
            ]
          },
          "metadata": {},
          "execution_count": 242
        }
      ]
    },
    {
      "cell_type": "code",
      "source": [
        "# vectorization of text samples\n",
        "count_vectorizer_model = CountVectorizer(stop_words='english', max_features=4000) # Downloading pre-trained vectorization model (CountVectorizer)\n",
        "document_term_matrix = count_vectorizer_model.fit_transform(data_science_df_clean.documents_processed.values)\n",
        "print('Document after vectorization: \\n{}'.format(document_term_matrix[-1:])) # Checking the vector for the question"
      ],
      "metadata": {
        "colab": {
          "base_uri": "https://localhost:8080/"
        },
        "id": "re97pVYPAV_W",
        "outputId": "a62ea54a-a176-4c9a-d592-f13cc8f508ee"
      },
      "execution_count": 243,
      "outputs": [
        {
          "output_type": "stream",
          "name": "stdout",
          "text": [
            "Document after vectorization: \n",
            "  (0, 3372)\t1\n"
          ]
        }
      ]
    },
    {
      "cell_type": "markdown",
      "source": [
        "CountVec and Question-Answering Model"
      ],
      "metadata": {
        "id": "GJmPNjOMFCak"
      }
    },
    {
      "cell_type": "code",
      "source": [
        "# Checking the answering ability with score by hugging face 'question-answering' model"
      ],
      "metadata": {
        "id": "XJ_KalCmd1Aj"
      },
      "execution_count": 244,
      "outputs": []
    },
    {
      "cell_type": "code",
      "source": [
        "question='what is the daily task of a data scientist?'\n",
        "context='the task of human being is to be honest.'\n",
        "ans = ques_ans_pipeline(question=question, context=context)\n",
        "print(ans)"
      ],
      "metadata": {
        "colab": {
          "base_uri": "https://localhost:8080/"
        },
        "id": "sfd8oVk6cXeh",
        "outputId": "d15afd8a-69eb-46fc-a2d3-930927d840f4"
      },
      "execution_count": 245,
      "outputs": [
        {
          "output_type": "stream",
          "name": "stdout",
          "text": [
            "{'score': 0.5999396443367004, 'start': 33, 'end': 39, 'answer': 'honest'}\n"
          ]
        }
      ]
    },
    {
      "cell_type": "code",
      "source": [
        "question='what is the daily task of a data scientist'\n",
        "context='the role of data scientist is to analyse data.'\n",
        "ans = ques_ans_pipeline(question=question, context=context)\n",
        "print(ans)"
      ],
      "metadata": {
        "colab": {
          "base_uri": "https://localhost:8080/"
        },
        "id": "MMUEAnegbJ8q",
        "outputId": "0d5bb001-8f66-4098-f368-2c0e4579b1f5"
      },
      "execution_count": 246,
      "outputs": [
        {
          "output_type": "stream",
          "name": "stdout",
          "text": [
            "{'score': 0.485635370016098, 'start': 30, 'end': 45, 'answer': 'to analyse data'}\n"
          ]
        }
      ]
    },
    {
      "cell_type": "markdown",
      "source": [
        "Thus, bad question, context pair gives bad result by 'question-answering' model "
      ],
      "metadata": {
        "id": "eqSdI1TZgXc2"
      }
    },
    {
      "cell_type": "code",
      "source": [
        "# CountVec question-answering model\n",
        "topic_match=[]\n",
        "short_answer_dict={}\n",
        "long_answer_dict={}\n",
        "vec_1=document_term_matrix[-1:]     # Question vector\n",
        "\n",
        "for k in range(len(data_science_df_clean.documents[:-1])):\n",
        "  vec_2=document_term_matrix[k:(k+1)]     # Individual document vector\n",
        "  topic_match.append(cosine_similarity(vec_1 , vec_2)[0][0])\n",
        "  \n",
        "try:\n",
        "  \n",
        "  if max(topic_match)==0:\n",
        "    print(\"Sorry ! I have no experience for this question.\")\n",
        "            \n",
        "  else:\n",
        "    for i in topic_match:\n",
        "      if i>0.7*max(topic_match): # Deciding the margins through hit and trial for perfect answer\n",
        "        context=data_science_df_clean.documents[topic_match.index(i)]\n",
        "        ans = ques_ans_pipeline(question=question, context=context)\n",
        "        short_answer_dict[ans['score']] =ans['answer']\n",
        "        long_answer_dict[ans['score']]=data_science_df_clean.documents[topic_match.index(i)]\n",
        "                 \n",
        "    if max(list(short_answer_dict.keys()))>0.01: # Deciding the margins through hit and trial for perfect answer\n",
        "      print(f\"Long Answer:\\n{long_answer_dict.get(max(list(long_answer_dict.keys())))}\")\n",
        "    elif min(list(long_answer_dict.keys()))!=max(list(long_answer_dict.keys())):\n",
        "      print(f\"MAY BE WORTH READING...\\n{long_answer_dict.get(min(list(long_answer_dict.keys())))}\")\n",
        "      print(short_answer_dict)\n",
        "      \n",
        "    else:\n",
        "      print(\"Sorry ! I have no experience for this question.\")\n",
        "      print(short_answer_dict)  \n",
        "  \n",
        "except:\n",
        "  print(\"There is an exception\")\n",
        "  print(topic_match)  "
      ],
      "metadata": {
        "colab": {
          "base_uri": "https://localhost:8080/"
        },
        "id": "ZKhKykUlC7-P",
        "outputId": "64ef11f7-98db-43bd-e191-3ebcdc731059"
      },
      "execution_count": 247,
      "outputs": [
        {
          "output_type": "stream",
          "name": "stdout",
          "text": [
            "Long Answer:\n",
            "Implementation of SVD\n",
            "\n",
            "from sklearn.feature_extraction.text import TfidfVectorizer\n",
            "\n",
            "from scipy.sparse.linalg import svds\n"
          ]
        }
      ]
    },
    {
      "cell_type": "code",
      "source": [
        "# 'glove-wiki-gigaword-300' word embeddings are not able to convert all the words of our dataset. Thus not used."
      ],
      "metadata": {
        "id": "HBVk57C1intQ"
      },
      "execution_count": 248,
      "outputs": []
    },
    {
      "cell_type": "markdown",
      "source": [
        "TFIDF and Question-Answering Model"
      ],
      "metadata": {
        "id": "weV_RkIJKSh_"
      }
    },
    {
      "cell_type": "code",
      "source": [
        "# vectorization of text samples\n",
        "tfidf_vectorizer = TfidfVectorizer(max_df = 0.9,min_df = 10)\n",
        "document_tfidf_matrix=tfidf_vectorizer.fit_transform(data_science_df_clean.documents_processed.values)\n",
        "print(f\"Document after vectorization: \\n{document_tfidf_matrix.todense()}\") # Checking the vector for the question"
      ],
      "metadata": {
        "colab": {
          "base_uri": "https://localhost:8080/"
        },
        "id": "pO5RGVfDKDpd",
        "outputId": "64c322f4-c86b-4374-c2a1-9711b405e5c2"
      },
      "execution_count": 249,
      "outputs": [
        {
          "output_type": "stream",
          "name": "stdout",
          "text": [
            "Document after vectorization: \n",
            "[[0. 0. 0. ... 0. 0. 0.]\n",
            " [0. 0. 0. ... 0. 0. 0.]\n",
            " [0. 0. 0. ... 0. 0. 0.]\n",
            " ...\n",
            " [0. 0. 0. ... 0. 0. 0.]\n",
            " [0. 0. 0. ... 0. 0. 0.]\n",
            " [0. 0. 0. ... 0. 0. 0.]]\n"
          ]
        }
      ]
    },
    {
      "cell_type": "code",
      "source": [
        "# tfidf question-answering model\n",
        "topic_match=[]\n",
        "short_answer_dict={}\n",
        "long_answer_dict={}\n",
        "vec_1=document_tfidf_matrix[-1:]     # Question vector\n",
        "\n",
        "for k in range(len(data_science_df_clean.documents[:-1])):\n",
        "  vec_2=document_tfidf_matrix[k:(k+1)]     # Individual document vector\n",
        "  topic_match.append(cosine_similarity(vec_1 , vec_2)[0][0])\n",
        "  \n",
        "try:\n",
        "  \n",
        "  if max(topic_match)==0:\n",
        "    print(\"Sorry ! I have no experience for this question.\")\n",
        "            \n",
        "  else:\n",
        "    for i in topic_match:\n",
        "      if i>0.7*max(topic_match): # Deciding the margins through hit and trial for perfect answer\n",
        "        context=data_science_df_clean.documents[topic_match.index(i)]\n",
        "        ans = ques_ans_pipeline(question=question, context=context)\n",
        "        short_answer_dict[ans['score']] =ans['answer']\n",
        "        long_answer_dict[ans['score']]=data_science_df_clean.documents[topic_match.index(i)]\n",
        "                 \n",
        "    if max(list(short_answer_dict.keys()))>0.01: # Deciding the margins through hit and trial for perfect answer\n",
        "      print(f\"Long Answer:\\n{long_answer_dict.get(max(list(long_answer_dict.keys())))}\")\n",
        "    elif min(list(long_answer_dict.keys()))!=max(list(long_answer_dict.keys())):\n",
        "      print(f\"MAY BE WORTH READING...\\n{long_answer_dict.get(min(list(long_answer_dict.keys())))}\")\n",
        "      print(short_answer_dict)\n",
        "      \n",
        "    else:\n",
        "      print(\"Sorry ! I have no experience for this question.\")\n",
        "      print(short_answer_dict)  \n",
        "  \n",
        "except:\n",
        "  print(\"There is an exception\")\n",
        "  print(topic_match)  "
      ],
      "metadata": {
        "colab": {
          "base_uri": "https://localhost:8080/"
        },
        "id": "2dk8qjbNLGrT",
        "outputId": "a988b4a0-5c01-41a4-9575-de769b54c171"
      },
      "execution_count": 250,
      "outputs": [
        {
          "output_type": "stream",
          "name": "stdout",
          "text": [
            "Sorry ! I have no experience for this question.\n"
          ]
        }
      ]
    },
    {
      "cell_type": "markdown",
      "source": [
        "Here, countvec question-answering model is giving better answer than tfidf model"
      ],
      "metadata": {
        "id": "M0YPY_-IQWzI"
      }
    },
    {
      "cell_type": "markdown",
      "source": [
        "LDA and Question-Answering Model"
      ],
      "metadata": {
        "id": "4QbDa-aYD4y3"
      }
    },
    {
      "cell_type": "code",
      "source": [
        "document_lda_matrix=best_lda_model.transform(document_term_matrix)\n",
        "document_lda_matrix[0]"
      ],
      "metadata": {
        "id": "7ojfBuGJD6IB",
        "colab": {
          "base_uri": "https://localhost:8080/"
        },
        "outputId": "432373a7-abcf-4390-d552-16bbbaddda97"
      },
      "execution_count": 251,
      "outputs": [
        {
          "output_type": "execute_result",
          "data": {
            "text/plain": [
              "array([0.00692576, 0.00673997, 0.47267711, 0.00684419, 0.50681298])"
            ]
          },
          "metadata": {},
          "execution_count": 251
        }
      ]
    },
    {
      "cell_type": "code",
      "source": [
        "# LDA question-answering model\n",
        "topic_match=[]\n",
        "short_answer_dict={}\n",
        "long_answer_dict={}\n",
        "vec_1=document_lda_matrix[-1:]     # Question vector\n",
        "\n",
        "for k in range(len(data_science_df_clean.documents[:-1])):\n",
        "  vec_2=document_lda_matrix[k:(k+1)]     # Individual document vector\n",
        "  topic_match.append(cosine_similarity(vec_1 , vec_2)[0][0])\n",
        "  \n",
        "try:\n",
        "  \n",
        "  if max(topic_match)==0:\n",
        "    print(\"Sorry ! I have no experience for this question.\")\n",
        "            \n",
        "  else:\n",
        "    for i in topic_match:\n",
        "      if i>0.7*max(topic_match): # Deciding the margins through hit and trial for perfect answer\n",
        "        context=data_science_df_clean.documents[topic_match.index(i)]\n",
        "        ans = ques_ans_pipeline(question=question, context=context)\n",
        "        short_answer_dict[ans['score']] =ans['answer']\n",
        "        long_answer_dict[ans['score']]=data_science_df_clean.documents[topic_match.index(i)]\n",
        "                 \n",
        "    if max(list(short_answer_dict.keys()))>0.01: # Deciding the margins through hit and trial for perfect answer\n",
        "      print(f\"Long Answer:\\n{long_answer_dict.get(max(list(long_answer_dict.keys())))}\")\n",
        "    elif min(list(long_answer_dict.keys()))!=max(list(long_answer_dict.keys())):\n",
        "      print(f\"MAY BE WORTH READING...\\n{long_answer_dict.get(min(list(long_answer_dict.keys())))}\")\n",
        "      print(short_answer_dict)\n",
        "      \n",
        "    else:\n",
        "      print(\"Sorry ! I have no experience for this question.\")\n",
        "      print(short_answer_dict)  \n",
        "  \n",
        "except:\n",
        "  print(\"There is an exception\")\n",
        "  print(topic_match)  "
      ],
      "metadata": {
        "id": "ozIJgqAH7k39",
        "colab": {
          "base_uri": "https://localhost:8080/"
        },
        "outputId": "c25e9f44-eecd-4fb3-83c8-0402c93a39f2"
      },
      "execution_count": 252,
      "outputs": [
        {
          "output_type": "stream",
          "name": "stdout",
          "text": [
            "Long Answer:\n",
            "some popular categories of Python modules are 1. operating system\n",
            "2. math\n",
            "3. time\n",
            "4. data visualization \n"
          ]
        }
      ]
    },
    {
      "cell_type": "markdown",
      "source": [
        "Here, countvec question-answering model is also giving better answer than lda model"
      ],
      "metadata": {
        "id": "0zAB_nf9DIs0"
      }
    },
    {
      "cell_type": "code",
      "source": [
        "# from transformers import BertForQuestionAnswering, AutoTokenizer\n",
        "\n",
        "# modelname = 'deepset/bert-base-cased-squad2'\n",
        "\n",
        "# model = BertForQuestionAnswering.from_pretrained(modelname)\n",
        "# tokenizer = AutoTokenizer.from_pretrained(modelname)"
      ],
      "metadata": {
        "id": "JK9PDeYVi-_d"
      },
      "execution_count": 253,
      "outputs": []
    },
    {
      "cell_type": "code",
      "source": [
        "# import streamlit as st\n",
        "# from transformers import pipeline\n",
        "\n",
        "# @st.cache(allow_output_mutation=True)\n",
        "# def load_qa_model():\n",
        "#     model = pipeline(\"question-answering\")\n",
        "#     return model\n",
        "\n",
        "# qa = load_qa_model()\n",
        "# st.title(\"Ask Questions about your Text\")\n",
        "# sentence = st.text_area('Please paste your article :', height=30)\n",
        "# question = st.text_input(\"Questions from this article?\")\n",
        "# button = st.button(\"Get me Answers\")\n",
        "# max = st.sidebar.slider('Select max', 50, 500, step=10, value=150)\n",
        "# min = st.sidebar.slider('Select min', 10, 450, step=10, value=50)\n",
        "# do_sample = st.sidebar.checkbox(\"Do sample\", value=False)\n",
        "# with st.spinner(\"Discovering Answers..\"):\n",
        "#     if button and sentence:\n",
        "#         answers = qa(question=question, context=sentence)\n",
        "#         st.write(answers['answer'])"
      ],
      "metadata": {
        "id": "tkmkXLLDWl7g"
      },
      "execution_count": 254,
      "outputs": []
    },
    {
      "cell_type": "markdown",
      "source": [
        "# **Conclusion**"
      ],
      "metadata": {
        "id": "wwzxBHrW2Hyu"
      }
    },
    {
      "cell_type": "markdown",
      "source": [
        ""
      ],
      "metadata": {
        "id": "XIFv-wVy2Mgf"
      }
    }
  ]
}